{
 "cells": [
  {
   "cell_type": "code",
   "execution_count": 1,
   "metadata": {},
   "outputs": [],
   "source": [
    "# imports\n",
    "import pandas as pd\n",
    "import numpy as np\n",
    "import plotly.express as px\n",
    "import plotly.graph_objects as go\n",
    "pd.options.plotting.backend = 'plotly'"
   ]
  },
  {
   "cell_type": "markdown",
   "metadata": {},
   "source": [
    "# data\n",
    "## stores"
   ]
  },
  {
   "cell_type": "code",
   "execution_count": 2,
   "metadata": {},
   "outputs": [
    {
     "data": {
      "text/html": [
       "<div>\n",
       "<style scoped>\n",
       "    .dataframe tbody tr th:only-of-type {\n",
       "        vertical-align: middle;\n",
       "    }\n",
       "\n",
       "    .dataframe tbody tr th {\n",
       "        vertical-align: top;\n",
       "    }\n",
       "\n",
       "    .dataframe thead th {\n",
       "        text-align: right;\n",
       "    }\n",
       "</style>\n",
       "<table border=\"1\" class=\"dataframe\">\n",
       "  <thead>\n",
       "    <tr style=\"text-align: right;\">\n",
       "      <th></th>\n",
       "      <th>sales_daily_mean</th>\n",
       "      <th>store_level</th>\n",
       "      <th>store_group</th>\n",
       "      <th>store_format</th>\n",
       "      <th>store_segment</th>\n",
       "      <th>opening_date</th>\n",
       "      <th>status</th>\n",
       "      <th>store_area</th>\n",
       "      <th>number_of_staff</th>\n",
       "      <th>province</th>\n",
       "      <th>channel</th>\n",
       "      <th>oper_duration</th>\n",
       "    </tr>\n",
       "  </thead>\n",
       "  <tbody>\n",
       "    <tr>\n",
       "      <th>store_307222</th>\n",
       "      <td>24.748964</td>\n",
       "      <td>A</td>\n",
       "      <td>Trực thuộc</td>\n",
       "      <td>Phố</td>\n",
       "      <td>Mainstream</td>\n",
       "      <td>2011-01-11</td>\n",
       "      <td>Active</td>\n",
       "      <td>112.0</td>\n",
       "      <td>6.0</td>\n",
       "      <td>Hồ Chí Minh</td>\n",
       "      <td>Retail</td>\n",
       "      <td>1274</td>\n",
       "    </tr>\n",
       "    <tr>\n",
       "      <th>store_307244</th>\n",
       "      <td>19.275418</td>\n",
       "      <td>A</td>\n",
       "      <td>Trực thuộc</td>\n",
       "      <td>Phố</td>\n",
       "      <td>Mainstream</td>\n",
       "      <td>2013-04-25</td>\n",
       "      <td>Active</td>\n",
       "      <td>170.0</td>\n",
       "      <td>5.0</td>\n",
       "      <td>Hồ Chí Minh</td>\n",
       "      <td>Retail</td>\n",
       "      <td>1271</td>\n",
       "    </tr>\n",
       "    <tr>\n",
       "      <th>store_307248</th>\n",
       "      <td>16.027751</td>\n",
       "      <td>B</td>\n",
       "      <td>Trực thuộc</td>\n",
       "      <td>Phố</td>\n",
       "      <td>Mass</td>\n",
       "      <td>2013-11-07</td>\n",
       "      <td>Active</td>\n",
       "      <td>78.0</td>\n",
       "      <td>4.0</td>\n",
       "      <td>Hồ Chí Minh</td>\n",
       "      <td>Retail</td>\n",
       "      <td>1264</td>\n",
       "    </tr>\n",
       "    <tr>\n",
       "      <th>store_320264</th>\n",
       "      <td>14.814896</td>\n",
       "      <td>B</td>\n",
       "      <td>Trực thuộc</td>\n",
       "      <td>Phố</td>\n",
       "      <td>Mass</td>\n",
       "      <td>2013-10-01</td>\n",
       "      <td>Active</td>\n",
       "      <td>120.0</td>\n",
       "      <td>5.0</td>\n",
       "      <td>Hồ Chí Minh</td>\n",
       "      <td>Retail</td>\n",
       "      <td>1256</td>\n",
       "    </tr>\n",
       "    <tr>\n",
       "      <th>store_328165</th>\n",
       "      <td>44.437752</td>\n",
       "      <td>A</td>\n",
       "      <td>Trực thuộc</td>\n",
       "      <td>Mall</td>\n",
       "      <td>Flagship</td>\n",
       "      <td>2019-04-25</td>\n",
       "      <td>Active</td>\n",
       "      <td>380.0</td>\n",
       "      <td>14.0</td>\n",
       "      <td>Hồ Chí Minh</td>\n",
       "      <td>Retail</td>\n",
       "      <td>1272</td>\n",
       "    </tr>\n",
       "  </tbody>\n",
       "</table>\n",
       "</div>"
      ],
      "text/plain": [
       "              sales_daily_mean store_level store_group store_format  \\\n",
       "store_307222         24.748964           A  Trực thuộc          Phố   \n",
       "store_307244         19.275418           A  Trực thuộc          Phố   \n",
       "store_307248         16.027751           B  Trực thuộc          Phố   \n",
       "store_320264         14.814896           B  Trực thuộc          Phố   \n",
       "store_328165         44.437752           A  Trực thuộc         Mall   \n",
       "\n",
       "             store_segment opening_date  status  store_area  number_of_staff  \\\n",
       "store_307222    Mainstream   2011-01-11  Active       112.0              6.0   \n",
       "store_307244    Mainstream   2013-04-25  Active       170.0              5.0   \n",
       "store_307248          Mass   2013-11-07  Active        78.0              4.0   \n",
       "store_320264          Mass   2013-10-01  Active       120.0              5.0   \n",
       "store_328165      Flagship   2019-04-25  Active       380.0             14.0   \n",
       "\n",
       "                 province channel  oper_duration  \n",
       "store_307222  Hồ Chí Minh  Retail           1274  \n",
       "store_307244  Hồ Chí Minh  Retail           1271  \n",
       "store_307248  Hồ Chí Minh  Retail           1264  \n",
       "store_320264  Hồ Chí Minh  Retail           1256  \n",
       "store_328165  Hồ Chí Minh  Retail           1272  "
      ]
     },
     "execution_count": 2,
     "metadata": {},
     "output_type": "execute_result"
    }
   ],
   "source": [
    "\n",
    "df_store = pd.read_pickle(\"data/df_daily.pkl\")\n",
    "\n",
    "# store_id as index\n",
    "# mean sales\n",
    "# drop promo_count\n",
    "df_store_1 = df_store.groupby(\"store_id\").mean().drop(\"promo_count\", axis=1)[[\"sales\"]]\n",
    "\n",
    "# keep the rest\n",
    "df_store_2 = df_store.groupby(\"store_id\").first().loc[:, \"store_level\":]\n",
    "\n",
    "# count number of operating days\n",
    "df_store_3 = df_store.groupby(\"store_id\").count()[[\"date\"]]\n",
    "\n",
    "# join\n",
    "df = df_store_1.join(df_store_2).join(df_store_3)\n",
    "df[\"sales\"] = df[\"sales\"] / 1e6\n",
    "df = df.rename(columns={\n",
    "    \"sales\": \"sales_daily_mean\", \n",
    "    \"date\": \"oper_duration\",\n",
    "    })\n",
    "\n",
    "idx = []\n",
    "for i in df.index:\n",
    "    idx.append('store_' + str(i))\n",
    "\n",
    "df.index = idx\n",
    "df.head()\n"
   ]
  },
  {
   "cell_type": "markdown",
   "metadata": {},
   "source": [
    "## scores"
   ]
  },
  {
   "cell_type": "code",
   "execution_count": 8,
   "metadata": {},
   "outputs": [],
   "source": [
    "\n",
    "SNAIVE = []\n",
    "for i in [7,14,21,28]:\n",
    "    p = \"results/f8/SNAIVE_result_\" + str(i) + \".pkl\"\n",
    "    SNAIVE.append(pd.read_pickle(p).set_index(\"store\"))\n",
    "SNAIVE = pd.concat(SNAIVE, axis=1, keys=['7','14','21','28'])\n",
    "\n",
    "ARIMA = []\n",
    "for i in [7,14,21,28]:\n",
    "    p = \"results/f8/ARIMA_result_\" + str(i) + \".pkl\"\n",
    "    ARIMA.append(pd.read_pickle(p).set_index(\"store\"))\n",
    "ARIMA = pd.concat(ARIMA, axis=1, keys=['7','14','21','28'])\n",
    "\n",
    "PROPHET = []\n",
    "for i in [7,14,21,28]:\n",
    "    p = \"results/f8/PROPHET_result_\" + str(i) + \".pkl\"\n",
    "    PROPHET.append(pd.read_pickle(p).set_index(\"store\"))\n",
    "PROPHET = pd.concat(PROPHET, axis=1, keys=['7','14','21','28'])\n",
    "\n",
    "RF = []\n",
    "for i in [7,14,21,28]:\n",
    "    p = \"results/f8/RF_result_\" + str(i) + \".pkl\"\n",
    "    RF.append(pd.read_pickle(p).set_index(\"store\"))\n",
    "RF = pd.concat(RF, axis=1, keys=['7','14','21','28'])\n",
    "\n",
    "XGB = []\n",
    "for i in [7,14,21,28]:\n",
    "    p = \"results/f8/XGB_result_\" + str(i) + \".pkl\"\n",
    "    XGB.append(pd.read_pickle(p).set_index(\"store\"))\n",
    "XGB = pd.concat(XGB, axis=1, keys=['7','14','21','28'])\n"
   ]
  },
  {
   "cell_type": "code",
   "execution_count": 33,
   "metadata": {},
   "outputs": [
    {
     "data": {
      "text/html": [
       "<div>\n",
       "<style scoped>\n",
       "    .dataframe tbody tr th:only-of-type {\n",
       "        vertical-align: middle;\n",
       "    }\n",
       "\n",
       "    .dataframe tbody tr th {\n",
       "        vertical-align: top;\n",
       "    }\n",
       "\n",
       "    .dataframe thead tr th {\n",
       "        text-align: left;\n",
       "    }\n",
       "\n",
       "    .dataframe thead tr:last-of-type th {\n",
       "        text-align: right;\n",
       "    }\n",
       "</style>\n",
       "<table border=\"1\" class=\"dataframe\">\n",
       "  <thead>\n",
       "    <tr>\n",
       "      <th></th>\n",
       "      <th colspan=\"6\" halign=\"left\">7</th>\n",
       "      <th colspan=\"4\" halign=\"left\">14</th>\n",
       "      <th>...</th>\n",
       "      <th colspan=\"5\" halign=\"left\">21</th>\n",
       "      <th colspan=\"5\" halign=\"left\">28</th>\n",
       "    </tr>\n",
       "    <tr>\n",
       "      <th></th>\n",
       "      <th>sales</th>\n",
       "      <th>mae_SNAIVE</th>\n",
       "      <th>rmse_SNAIVE</th>\n",
       "      <th>mape_SNAIVE</th>\n",
       "      <th>mase_SNAIVE</th>\n",
       "      <th>fc_SNAIVE</th>\n",
       "      <th>sales</th>\n",
       "      <th>mae_SNAIVE</th>\n",
       "      <th>rmse_SNAIVE</th>\n",
       "      <th>mape_SNAIVE</th>\n",
       "      <th>...</th>\n",
       "      <th>mae_XGB</th>\n",
       "      <th>rmse_XGB</th>\n",
       "      <th>mape_XGB</th>\n",
       "      <th>mase_XGB</th>\n",
       "      <th>fc_XGB</th>\n",
       "      <th>mae_XGB</th>\n",
       "      <th>rmse_XGB</th>\n",
       "      <th>mape_XGB</th>\n",
       "      <th>mase_XGB</th>\n",
       "      <th>fc_XGB</th>\n",
       "    </tr>\n",
       "    <tr>\n",
       "      <th>store</th>\n",
       "      <th></th>\n",
       "      <th></th>\n",
       "      <th></th>\n",
       "      <th></th>\n",
       "      <th></th>\n",
       "      <th></th>\n",
       "      <th></th>\n",
       "      <th></th>\n",
       "      <th></th>\n",
       "      <th></th>\n",
       "      <th></th>\n",
       "      <th></th>\n",
       "      <th></th>\n",
       "      <th></th>\n",
       "      <th></th>\n",
       "      <th></th>\n",
       "      <th></th>\n",
       "      <th></th>\n",
       "      <th></th>\n",
       "      <th></th>\n",
       "      <th></th>\n",
       "    </tr>\n",
       "  </thead>\n",
       "  <tbody>\n",
       "    <tr>\n",
       "      <th>store_307222</th>\n",
       "      <td>date\n",
       "2021-01-25    24.848540\n",
       "2021-01-26    18....</td>\n",
       "      <td>7.82875</td>\n",
       "      <td>10.07600</td>\n",
       "      <td>0.2515</td>\n",
       "      <td>0.50900</td>\n",
       "      <td>2021-01-25    17.433143\n",
       "2021-01-26    19.11446...</td>\n",
       "      <td>date\n",
       "2021-01-18    18.799600\n",
       "2021-01-19    27....</td>\n",
       "      <td>7.8180</td>\n",
       "      <td>10.00625</td>\n",
       "      <td>0.2885</td>\n",
       "      <td>...</td>\n",
       "      <td>2.18950</td>\n",
       "      <td>3.09975</td>\n",
       "      <td>0.07925</td>\n",
       "      <td>0.2240</td>\n",
       "      <td>date\n",
       "2021-01-11    15.724278\n",
       "2021-01-12    21....</td>\n",
       "      <td>3.51325</td>\n",
       "      <td>4.52325</td>\n",
       "      <td>0.12975</td>\n",
       "      <td>0.3605</td>\n",
       "      <td>date\n",
       "2021-01-04    14.784580\n",
       "2021-01-05    18....</td>\n",
       "    </tr>\n",
       "    <tr>\n",
       "      <th>store_307244</th>\n",
       "      <td>date\n",
       "2021-01-25    17.889600\n",
       "2021-01-26    18....</td>\n",
       "      <td>5.05825</td>\n",
       "      <td>6.30275</td>\n",
       "      <td>0.2595</td>\n",
       "      <td>0.39525</td>\n",
       "      <td>2021-01-25    14.368380\n",
       "2021-01-26    14.75122...</td>\n",
       "      <td>date\n",
       "2021-01-18    10.078400\n",
       "2021-01-19    17....</td>\n",
       "      <td>5.4435</td>\n",
       "      <td>6.82700</td>\n",
       "      <td>0.2950</td>\n",
       "      <td>...</td>\n",
       "      <td>1.52925</td>\n",
       "      <td>2.07575</td>\n",
       "      <td>0.06825</td>\n",
       "      <td>0.1965</td>\n",
       "      <td>date\n",
       "2021-01-11     9.004819\n",
       "2021-01-12    15....</td>\n",
       "      <td>1.96375</td>\n",
       "      <td>2.89650</td>\n",
       "      <td>0.09775</td>\n",
       "      <td>0.2520</td>\n",
       "      <td>date\n",
       "2021-01-04    12.348523\n",
       "2021-01-05    12....</td>\n",
       "    </tr>\n",
       "  </tbody>\n",
       "</table>\n",
       "<p>2 rows × 104 columns</p>\n",
       "</div>"
      ],
      "text/plain": [
       "                                                              7             \\\n",
       "                                                          sales mae_SNAIVE   \n",
       "store                                                                        \n",
       "store_307222  date\n",
       "2021-01-25    24.848540\n",
       "2021-01-26    18....    7.82875   \n",
       "store_307244  date\n",
       "2021-01-25    17.889600\n",
       "2021-01-26    18....    5.05825   \n",
       "\n",
       "                                                  \\\n",
       "             rmse_SNAIVE mape_SNAIVE mase_SNAIVE   \n",
       "store                                              \n",
       "store_307222    10.07600      0.2515     0.50900   \n",
       "store_307244     6.30275      0.2595     0.39525   \n",
       "\n",
       "                                                                 \\\n",
       "                                                      fc_SNAIVE   \n",
       "store                                                             \n",
       "store_307222  2021-01-25    17.433143\n",
       "2021-01-26    19.11446...   \n",
       "store_307244  2021-01-25    14.368380\n",
       "2021-01-26    14.75122...   \n",
       "\n",
       "                                                             14             \\\n",
       "                                                          sales mae_SNAIVE   \n",
       "store                                                                        \n",
       "store_307222  date\n",
       "2021-01-18    18.799600\n",
       "2021-01-19    27....     7.8180   \n",
       "store_307244  date\n",
       "2021-01-18    10.078400\n",
       "2021-01-19    17....     5.4435   \n",
       "\n",
       "                                      ...       21                             \\\n",
       "             rmse_SNAIVE mape_SNAIVE  ...  mae_XGB rmse_XGB mape_XGB mase_XGB   \n",
       "store                                 ...                                       \n",
       "store_307222    10.00625      0.2885  ...  2.18950  3.09975  0.07925   0.2240   \n",
       "store_307244     6.82700      0.2950  ...  1.52925  2.07575  0.06825   0.1965   \n",
       "\n",
       "                                                                      28  \\\n",
       "                                                         fc_XGB  mae_XGB   \n",
       "store                                                                      \n",
       "store_307222  date\n",
       "2021-01-11    15.724278\n",
       "2021-01-12    21....  3.51325   \n",
       "store_307244  date\n",
       "2021-01-11     9.004819\n",
       "2021-01-12    15....  1.96375   \n",
       "\n",
       "                                         \\\n",
       "             rmse_XGB mape_XGB mase_XGB   \n",
       "store                                     \n",
       "store_307222  4.52325  0.12975   0.3605   \n",
       "store_307244  2.89650  0.09775   0.2520   \n",
       "\n",
       "                                                                 \n",
       "                                                         fc_XGB  \n",
       "store                                                            \n",
       "store_307222  date\n",
       "2021-01-04    14.784580\n",
       "2021-01-05    18....  \n",
       "store_307244  date\n",
       "2021-01-04    12.348523\n",
       "2021-01-05    12....  \n",
       "\n",
       "[2 rows x 104 columns]"
      ]
     },
     "execution_count": 33,
     "metadata": {},
     "output_type": "execute_result"
    }
   ],
   "source": [
    "df_score = pd.concat([SNAIVE, ARIMA, PROPHET, RF, XGB], axis=1)\n",
    "df_score.head(2)"
   ]
  },
  {
   "cell_type": "markdown",
   "metadata": {},
   "source": [
    "# horizon = 7"
   ]
  },
  {
   "cell_type": "code",
   "execution_count": 370,
   "metadata": {},
   "outputs": [
    {
     "data": {
      "text/html": [
       "<div>\n",
       "<style scoped>\n",
       "    .dataframe tbody tr th:only-of-type {\n",
       "        vertical-align: middle;\n",
       "    }\n",
       "\n",
       "    .dataframe tbody tr th {\n",
       "        vertical-align: top;\n",
       "    }\n",
       "\n",
       "    .dataframe thead th {\n",
       "        text-align: right;\n",
       "    }\n",
       "</style>\n",
       "<table border=\"1\" class=\"dataframe\">\n",
       "  <thead>\n",
       "    <tr style=\"text-align: right;\">\n",
       "      <th></th>\n",
       "      <th>sales</th>\n",
       "      <th>mae_SNAIVE</th>\n",
       "      <th>rmse_SNAIVE</th>\n",
       "      <th>mape_SNAIVE</th>\n",
       "      <th>mase_SNAIVE</th>\n",
       "      <th>fc_SNAIVE</th>\n",
       "      <th>mae_ARIMA</th>\n",
       "      <th>rmse_ARIMA</th>\n",
       "      <th>mape_ARIMA</th>\n",
       "      <th>mase_ARIMA</th>\n",
       "      <th>...</th>\n",
       "      <th>store_group</th>\n",
       "      <th>store_format</th>\n",
       "      <th>store_segment</th>\n",
       "      <th>opening_date</th>\n",
       "      <th>status</th>\n",
       "      <th>store_area</th>\n",
       "      <th>number_of_staff</th>\n",
       "      <th>province</th>\n",
       "      <th>channel</th>\n",
       "      <th>oper_duration</th>\n",
       "    </tr>\n",
       "    <tr>\n",
       "      <th>store</th>\n",
       "      <th></th>\n",
       "      <th></th>\n",
       "      <th></th>\n",
       "      <th></th>\n",
       "      <th></th>\n",
       "      <th></th>\n",
       "      <th></th>\n",
       "      <th></th>\n",
       "      <th></th>\n",
       "      <th></th>\n",
       "      <th></th>\n",
       "      <th></th>\n",
       "      <th></th>\n",
       "      <th></th>\n",
       "      <th></th>\n",
       "      <th></th>\n",
       "      <th></th>\n",
       "      <th></th>\n",
       "      <th></th>\n",
       "      <th></th>\n",
       "      <th></th>\n",
       "    </tr>\n",
       "  </thead>\n",
       "  <tbody>\n",
       "    <tr>\n",
       "      <th>store_307222</th>\n",
       "      <td>date\n",
       "2021-01-25    24.848540\n",
       "2021-01-26    18....</td>\n",
       "      <td>7.82875</td>\n",
       "      <td>10.07600</td>\n",
       "      <td>0.2515</td>\n",
       "      <td>0.50900</td>\n",
       "      <td>2021-01-25    17.433143\n",
       "2021-01-26    19.11446...</td>\n",
       "      <td>7.91225</td>\n",
       "      <td>9.09375</td>\n",
       "      <td>0.2810</td>\n",
       "      <td>0.80050</td>\n",
       "      <td>...</td>\n",
       "      <td>Trực thuộc</td>\n",
       "      <td>Phố</td>\n",
       "      <td>Mainstream</td>\n",
       "      <td>2011-01-11</td>\n",
       "      <td>Active</td>\n",
       "      <td>112.0</td>\n",
       "      <td>6.0</td>\n",
       "      <td>Hồ Chí Minh</td>\n",
       "      <td>Retail</td>\n",
       "      <td>1274</td>\n",
       "    </tr>\n",
       "    <tr>\n",
       "      <th>store_307244</th>\n",
       "      <td>date\n",
       "2021-01-25    17.889600\n",
       "2021-01-26    18....</td>\n",
       "      <td>5.05825</td>\n",
       "      <td>6.30275</td>\n",
       "      <td>0.2595</td>\n",
       "      <td>0.39525</td>\n",
       "      <td>2021-01-25    14.368380\n",
       "2021-01-26    14.75122...</td>\n",
       "      <td>6.67450</td>\n",
       "      <td>7.74325</td>\n",
       "      <td>0.3455</td>\n",
       "      <td>0.85575</td>\n",
       "      <td>...</td>\n",
       "      <td>Trực thuộc</td>\n",
       "      <td>Phố</td>\n",
       "      <td>Mainstream</td>\n",
       "      <td>2013-04-25</td>\n",
       "      <td>Active</td>\n",
       "      <td>170.0</td>\n",
       "      <td>5.0</td>\n",
       "      <td>Hồ Chí Minh</td>\n",
       "      <td>Retail</td>\n",
       "      <td>1271</td>\n",
       "    </tr>\n",
       "    <tr>\n",
       "      <th>store_307248</th>\n",
       "      <td>date\n",
       "2021-01-25    21.487100\n",
       "2021-01-26    23....</td>\n",
       "      <td>7.88775</td>\n",
       "      <td>9.26900</td>\n",
       "      <td>0.3830</td>\n",
       "      <td>0.75725</td>\n",
       "      <td>2021-01-25    12.218554\n",
       "2021-01-26    12.39495...</td>\n",
       "      <td>7.31325</td>\n",
       "      <td>8.78150</td>\n",
       "      <td>0.3630</td>\n",
       "      <td>1.06350</td>\n",
       "      <td>...</td>\n",
       "      <td>Trực thuộc</td>\n",
       "      <td>Phố</td>\n",
       "      <td>Mass</td>\n",
       "      <td>2013-11-07</td>\n",
       "      <td>Active</td>\n",
       "      <td>78.0</td>\n",
       "      <td>4.0</td>\n",
       "      <td>Hồ Chí Minh</td>\n",
       "      <td>Retail</td>\n",
       "      <td>1264</td>\n",
       "    </tr>\n",
       "  </tbody>\n",
       "</table>\n",
       "<p>3 rows × 38 columns</p>\n",
       "</div>"
      ],
      "text/plain": [
       "                                                          sales  mae_SNAIVE  \\\n",
       "store                                                                         \n",
       "store_307222  date\n",
       "2021-01-25    24.848540\n",
       "2021-01-26    18....     7.82875   \n",
       "store_307244  date\n",
       "2021-01-25    17.889600\n",
       "2021-01-26    18....     5.05825   \n",
       "store_307248  date\n",
       "2021-01-25    21.487100\n",
       "2021-01-26    23....     7.88775   \n",
       "\n",
       "              rmse_SNAIVE  mape_SNAIVE  mase_SNAIVE  \\\n",
       "store                                                 \n",
       "store_307222     10.07600       0.2515      0.50900   \n",
       "store_307244      6.30275       0.2595      0.39525   \n",
       "store_307248      9.26900       0.3830      0.75725   \n",
       "\n",
       "                                                      fc_SNAIVE  mae_ARIMA  \\\n",
       "store                                                                        \n",
       "store_307222  2021-01-25    17.433143\n",
       "2021-01-26    19.11446...    7.91225   \n",
       "store_307244  2021-01-25    14.368380\n",
       "2021-01-26    14.75122...    6.67450   \n",
       "store_307248  2021-01-25    12.218554\n",
       "2021-01-26    12.39495...    7.31325   \n",
       "\n",
       "              rmse_ARIMA  mape_ARIMA  mase_ARIMA  ... store_group  \\\n",
       "store                                             ...               \n",
       "store_307222     9.09375      0.2810     0.80050  ...  Trực thuộc   \n",
       "store_307244     7.74325      0.3455     0.85575  ...  Trực thuộc   \n",
       "store_307248     8.78150      0.3630     1.06350  ...  Trực thuộc   \n",
       "\n",
       "              store_format  store_segment  opening_date  status store_area  \\\n",
       "store                                                                        \n",
       "store_307222           Phố     Mainstream    2011-01-11  Active      112.0   \n",
       "store_307244           Phố     Mainstream    2013-04-25  Active      170.0   \n",
       "store_307248           Phố           Mass    2013-11-07  Active       78.0   \n",
       "\n",
       "              number_of_staff     province  channel  oper_duration  \n",
       "store                                                               \n",
       "store_307222              6.0  Hồ Chí Minh   Retail           1274  \n",
       "store_307244              5.0  Hồ Chí Minh   Retail           1271  \n",
       "store_307248              4.0  Hồ Chí Minh   Retail           1264  \n",
       "\n",
       "[3 rows x 38 columns]"
      ]
     },
     "execution_count": 370,
     "metadata": {},
     "output_type": "execute_result"
    }
   ],
   "source": [
    "# load data\n",
    "score_SNAIVE_7 = pd.read_pickle(\"results/f8/SNAIVE_result_7.pkl\").set_index(\"store\")\n",
    "score_ARIMA_7 = pd.read_pickle(\"results/f8/ARIMA_result_7.pkl\").set_index(\"store\")\n",
    "score_PROPHET_7 = pd.read_pickle(\"results/f8/PROPHET_result_7.pkl\").set_index(\"store\")\n",
    "score_RF_7 = pd.read_pickle(\"results/f8/RF_result_7.pkl\").set_index(\"store\")\n",
    "score_XGB_7 = pd.read_pickle(\"results/f8/XGB_result_7.pkl\").set_index(\"store\")\n",
    "\n",
    "score_ALL_7 = score_SNAIVE_7.join(score_ARIMA_7).join(score_PROPHET_7).join(score_RF_7).join(score_XGB_7).join(df)\n",
    "score_ALL_7.head(3)"
   ]
  },
  {
   "cell_type": "code",
   "execution_count": 336,
   "metadata": {},
   "outputs": [
    {
     "data": {
      "text/plain": [
       "Index(['sales', 'mae_SNAIVE', 'rmse_SNAIVE', 'mape_SNAIVE', 'mase_SNAIVE',\n",
       "       'fc_SNAIVE', 'mae_ARIMA', 'rmse_ARIMA', 'mape_ARIMA', 'mase_ARIMA',\n",
       "       'fc_ARIMA', 'mae_PROPHET', 'rmse_PROPHET', 'mape_PROPHET',\n",
       "       'mase_PROPHET', 'fc_PROPHET', 'mae_RF', 'rmse_RF', 'mape_RF', 'mase_RF',\n",
       "       'fc_RF', 'mae_XGB', 'rmse_XGB', 'mape_XGB', 'mase_XGB', 'fc_XGB',\n",
       "       'sales_daily_mean', 'store_level', 'store_group', 'store_format',\n",
       "       'store_segment', 'opening_date', 'status', 'store_area',\n",
       "       'number_of_staff', 'province', 'channel', 'oper_duration'],\n",
       "      dtype='object')"
      ]
     },
     "execution_count": 336,
     "metadata": {},
     "output_type": "execute_result"
    }
   ],
   "source": [
    "score_ALL_7.columns"
   ]
  },
  {
   "cell_type": "markdown",
   "metadata": {},
   "source": [
    "## MAPE & MASE"
   ]
  },
  {
   "cell_type": "code",
   "execution_count": 334,
   "metadata": {},
   "outputs": [
    {
     "data": {
      "text/html": [
       "<div>\n",
       "<style scoped>\n",
       "    .dataframe tbody tr th:only-of-type {\n",
       "        vertical-align: middle;\n",
       "    }\n",
       "\n",
       "    .dataframe tbody tr th {\n",
       "        vertical-align: top;\n",
       "    }\n",
       "\n",
       "    .dataframe thead th {\n",
       "        text-align: right;\n",
       "    }\n",
       "</style>\n",
       "<table border=\"1\" class=\"dataframe\">\n",
       "  <thead>\n",
       "    <tr style=\"text-align: right;\">\n",
       "      <th></th>\n",
       "      <th>mape_SNAIVE</th>\n",
       "      <th>mape_ARIMA</th>\n",
       "      <th>mape_PROPHET</th>\n",
       "      <th>mape_RF</th>\n",
       "      <th>mape_XGB</th>\n",
       "    </tr>\n",
       "  </thead>\n",
       "  <tbody>\n",
       "    <tr>\n",
       "      <th>mean</th>\n",
       "      <td>0.418559</td>\n",
       "      <td>0.428039</td>\n",
       "      <td>0.338375</td>\n",
       "      <td>0.106066</td>\n",
       "      <td>0.108197</td>\n",
       "    </tr>\n",
       "    <tr>\n",
       "      <th>std</th>\n",
       "      <td>0.114154</td>\n",
       "      <td>0.092490</td>\n",
       "      <td>0.098701</td>\n",
       "      <td>0.043175</td>\n",
       "      <td>0.040826</td>\n",
       "    </tr>\n",
       "  </tbody>\n",
       "</table>\n",
       "</div>"
      ],
      "text/plain": [
       "      mape_SNAIVE  mape_ARIMA  mape_PROPHET   mape_RF  mape_XGB\n",
       "mean     0.418559    0.428039      0.338375  0.106066  0.108197\n",
       "std      0.114154    0.092490      0.098701  0.043175  0.040826"
      ]
     },
     "execution_count": 334,
     "metadata": {},
     "output_type": "execute_result"
    }
   ],
   "source": [
    "# mape\n",
    "score_ALL_7.describe().filter(items=['mean','std'], axis=0).filter(like='mape', axis=1)\n"
   ]
  },
  {
   "cell_type": "code",
   "execution_count": 335,
   "metadata": {},
   "outputs": [
    {
     "data": {
      "text/html": [
       "<div>\n",
       "<style scoped>\n",
       "    .dataframe tbody tr th:only-of-type {\n",
       "        vertical-align: middle;\n",
       "    }\n",
       "\n",
       "    .dataframe tbody tr th {\n",
       "        vertical-align: top;\n",
       "    }\n",
       "\n",
       "    .dataframe thead th {\n",
       "        text-align: right;\n",
       "    }\n",
       "</style>\n",
       "<table border=\"1\" class=\"dataframe\">\n",
       "  <thead>\n",
       "    <tr style=\"text-align: right;\">\n",
       "      <th></th>\n",
       "      <th>mase_SNAIVE</th>\n",
       "      <th>mase_ARIMA</th>\n",
       "      <th>mase_PROPHET</th>\n",
       "      <th>mase_RF</th>\n",
       "      <th>mase_XGB</th>\n",
       "    </tr>\n",
       "  </thead>\n",
       "  <tbody>\n",
       "    <tr>\n",
       "      <th>mean</th>\n",
       "      <td>0.898513</td>\n",
       "      <td>1.298664</td>\n",
       "      <td>0.951572</td>\n",
       "      <td>0.298632</td>\n",
       "      <td>0.271566</td>\n",
       "    </tr>\n",
       "    <tr>\n",
       "      <th>std</th>\n",
       "      <td>0.437712</td>\n",
       "      <td>0.338098</td>\n",
       "      <td>0.203832</td>\n",
       "      <td>0.149338</td>\n",
       "      <td>0.095334</td>\n",
       "    </tr>\n",
       "  </tbody>\n",
       "</table>\n",
       "</div>"
      ],
      "text/plain": [
       "      mase_SNAIVE  mase_ARIMA  mase_PROPHET   mase_RF  mase_XGB\n",
       "mean     0.898513    1.298664      0.951572  0.298632  0.271566\n",
       "std      0.437712    0.338098      0.203832  0.149338  0.095334"
      ]
     },
     "execution_count": 335,
     "metadata": {},
     "output_type": "execute_result"
    }
   ],
   "source": [
    "# mase\n",
    "score_ALL_7.describe().filter(items=['mean','std'], axis=0).filter(like='mase', axis=1)\n"
   ]
  },
  {
   "cell_type": "markdown",
   "metadata": {},
   "source": [
    "## Visualize"
   ]
  },
  {
   "cell_type": "markdown",
   "metadata": {},
   "source": [
    "### Scores"
   ]
  },
  {
   "cell_type": "code",
   "execution_count": 351,
   "metadata": {},
   "outputs": [
    {
     "data": {
      "application/vnd.plotly.v1+json": {
       "config": {
        "plotlyServerURL": "https://plot.ly"
       },
       "data": [
        {
         "hovertemplate": "variable=mae_SNAIVE<br>store=%{x}<br>value=%{y}<extra></extra>",
         "legendgroup": "mae_SNAIVE",
         "line": {
          "color": "#636efa",
          "dash": "solid"
         },
         "marker": {
          "symbol": "circle"
         },
         "mode": "lines",
         "name": "mae_SNAIVE",
         "orientation": "v",
         "showlegend": true,
         "type": "scatter",
         "x": [
          "store_354468",
          "store_350056",
          "store_464495",
          "store_412585",
          "store_476061",
          "store_536898",
          "store_566792",
          "store_536902",
          "store_350026",
          "store_387240",
          "store_350046",
          "store_441997",
          "store_471477",
          "store_350028",
          "store_461349",
          "store_349998",
          "store_349978",
          "store_350016",
          "store_349962",
          "store_350054",
          "store_320264",
          "store_349952",
          "store_452387",
          "store_307248",
          "store_349924",
          "store_480733",
          "store_350040",
          "store_349972",
          "store_350060",
          "store_307244",
          "store_349958",
          "store_349980",
          "store_307222",
          "store_350018",
          "store_528854",
          "store_349920",
          "store_566790",
          "store_328165"
         ],
         "xaxis": "x",
         "y": [
          3.4637499999999997,
          3.739,
          3.35375,
          5.21475,
          2.9655,
          3.3914999999999997,
          3.3137499999999998,
          4.668500000000001,
          4.54425,
          3.37975,
          3.01775,
          3.71425,
          5.74825,
          2.8145000000000002,
          3.6267500000000004,
          5.5875,
          4.404,
          14.527999999999999,
          3.52325,
          10.98725,
          5.3755,
          9.83625,
          11.468,
          7.8877500000000005,
          8.486,
          12.04925,
          5.41375,
          11.504249999999999,
          11.408249999999999,
          5.05825,
          12.33625,
          11.66,
          7.82875,
          38.767,
          14.931000000000001,
          19.201,
          16.796499999999998,
          32.496750000000006
         ],
         "yaxis": "y"
        },
        {
         "hovertemplate": "variable=mae_ARIMA<br>store=%{x}<br>value=%{y}<extra></extra>",
         "legendgroup": "mae_ARIMA",
         "line": {
          "color": "#EF553B",
          "dash": "solid"
         },
         "marker": {
          "symbol": "circle"
         },
         "mode": "lines",
         "name": "mae_ARIMA",
         "orientation": "v",
         "showlegend": true,
         "type": "scatter",
         "x": [
          "store_354468",
          "store_350056",
          "store_464495",
          "store_412585",
          "store_476061",
          "store_536898",
          "store_566792",
          "store_536902",
          "store_350026",
          "store_387240",
          "store_350046",
          "store_441997",
          "store_471477",
          "store_350028",
          "store_461349",
          "store_349998",
          "store_349978",
          "store_350016",
          "store_349962",
          "store_350054",
          "store_320264",
          "store_349952",
          "store_452387",
          "store_307248",
          "store_349924",
          "store_480733",
          "store_350040",
          "store_349972",
          "store_350060",
          "store_307244",
          "store_349958",
          "store_349980",
          "store_307222",
          "store_350018",
          "store_528854",
          "store_349920",
          "store_566790",
          "store_328165"
         ],
         "xaxis": "x",
         "y": [
          4.153,
          3.92575,
          4.25775,
          5.54575,
          2.8605,
          4.494,
          6.30575,
          4.8492500000000005,
          4.0115,
          6.57475,
          4.52825,
          3.9355,
          4.25475,
          3.9495,
          5.67075,
          7.281750000000001,
          5.82625,
          10.04175,
          5.553,
          11.165500000000002,
          9.5075,
          10.136000000000001,
          7.5329999999999995,
          7.625750000000001,
          11.817250000000001,
          9.122,
          12.617750000000001,
          10.964000000000002,
          11.449,
          7.5565,
          11.1595,
          10.622,
          11.27125,
          31.644,
          16.058500000000002,
          20.69925,
          18.02025,
          44.94324999999999
         ],
         "yaxis": "y"
        },
        {
         "hovertemplate": "variable=mae_PROPHET<br>store=%{x}<br>value=%{y}<extra></extra>",
         "legendgroup": "mae_PROPHET",
         "line": {
          "color": "#00cc96",
          "dash": "solid"
         },
         "marker": {
          "symbol": "circle"
         },
         "mode": "lines",
         "name": "mae_PROPHET",
         "orientation": "v",
         "showlegend": true,
         "type": "scatter",
         "x": [
          "store_354468",
          "store_350056",
          "store_464495",
          "store_412585",
          "store_476061",
          "store_536898",
          "store_566792",
          "store_536902",
          "store_350026",
          "store_387240",
          "store_350046",
          "store_441997",
          "store_471477",
          "store_350028",
          "store_461349",
          "store_349998",
          "store_349978",
          "store_350016",
          "store_349962",
          "store_350054",
          "store_320264",
          "store_349952",
          "store_452387",
          "store_307248",
          "store_349924",
          "store_480733",
          "store_350040",
          "store_349972",
          "store_350060",
          "store_307244",
          "store_349958",
          "store_349980",
          "store_307222",
          "store_350018",
          "store_528854",
          "store_349920",
          "store_566790",
          "store_328165"
         ],
         "xaxis": "x",
         "y": [
          3.726,
          3.163,
          3.539,
          4.4952499999999995,
          2.9475,
          3.36475,
          4.5112499999999995,
          3.81075,
          3.33125,
          4.00125,
          2.8735,
          3.112,
          3.34125,
          3.59875,
          4.16075,
          5.58925,
          4.734,
          6.8870000000000005,
          4.024,
          7.2802500000000006,
          4.6427499999999995,
          6.47575,
          7.8229999999999995,
          5.43775,
          6.589500000000001,
          7.195499999999999,
          7.15225,
          8.34525,
          7.48225,
          6.4875,
          9.44725,
          8.3595,
          7.07675,
          22.05725,
          10.65725,
          13.523,
          17.926000000000002,
          27.242250000000002
         ],
         "yaxis": "y"
        },
        {
         "hovertemplate": "variable=mae_RF<br>store=%{x}<br>value=%{y}<extra></extra>",
         "legendgroup": "mae_RF",
         "line": {
          "color": "#ab63fa",
          "dash": "solid"
         },
         "marker": {
          "symbol": "circle"
         },
         "mode": "lines",
         "name": "mae_RF",
         "orientation": "v",
         "showlegend": true,
         "type": "scatter",
         "x": [
          "store_354468",
          "store_350056",
          "store_464495",
          "store_412585",
          "store_476061",
          "store_536898",
          "store_566792",
          "store_536902",
          "store_350026",
          "store_387240",
          "store_350046",
          "store_441997",
          "store_471477",
          "store_350028",
          "store_461349",
          "store_349998",
          "store_349978",
          "store_350016",
          "store_349962",
          "store_350054",
          "store_320264",
          "store_349952",
          "store_452387",
          "store_307248",
          "store_349924",
          "store_480733",
          "store_350040",
          "store_349972",
          "store_350060",
          "store_307244",
          "store_349958",
          "store_349980",
          "store_307222",
          "store_350018",
          "store_528854",
          "store_349920",
          "store_566790",
          "store_328165"
         ],
         "xaxis": "x",
         "y": [
          1.0695,
          0.9909999999999999,
          0.6160000000000001,
          1.6640000000000001,
          0.46599999999999997,
          1.0825,
          0.7190000000000001,
          1.1252499999999999,
          0.6205,
          1.41425,
          0.90925,
          1.002,
          1.02975,
          0.7272500000000001,
          1.18075,
          1.1545,
          0.7687499999999999,
          3.9422500000000005,
          0.62875,
          2.88325,
          1.7237500000000001,
          2.20925,
          2.0825,
          1.43825,
          1.7887499999999998,
          2.2242499999999996,
          1.8437500000000002,
          2.0700000000000003,
          2.382,
          1.1887499999999998,
          1.7400000000000002,
          2.46375,
          1.30575,
          7.8004999999999995,
          4.50075,
          3.3165000000000004,
          5.813750000000001,
          8.406500000000001
         ],
         "yaxis": "y"
        },
        {
         "hovertemplate": "variable=mae_XGB<br>store=%{x}<br>value=%{y}<extra></extra>",
         "legendgroup": "mae_XGB",
         "line": {
          "color": "#FFA15A",
          "dash": "solid"
         },
         "marker": {
          "symbol": "circle"
         },
         "mode": "lines",
         "name": "mae_XGB",
         "orientation": "v",
         "showlegend": true,
         "type": "scatter",
         "x": [
          "store_354468",
          "store_350056",
          "store_464495",
          "store_412585",
          "store_476061",
          "store_536898",
          "store_566792",
          "store_536902",
          "store_350026",
          "store_387240",
          "store_350046",
          "store_441997",
          "store_471477",
          "store_350028",
          "store_461349",
          "store_349998",
          "store_349978",
          "store_350016",
          "store_349962",
          "store_350054",
          "store_320264",
          "store_349952",
          "store_452387",
          "store_307248",
          "store_349924",
          "store_480733",
          "store_350040",
          "store_349972",
          "store_350060",
          "store_307244",
          "store_349958",
          "store_349980",
          "store_307222",
          "store_350018",
          "store_528854",
          "store_349920",
          "store_566790",
          "store_328165"
         ],
         "xaxis": "x",
         "y": [
          1.13075,
          0.8107500000000001,
          0.92925,
          1.6912500000000001,
          0.6255000000000001,
          1.11425,
          0.91075,
          1.3165,
          0.9235,
          0.962,
          1.051,
          1.06825,
          0.91325,
          0.7942499999999999,
          1.08075,
          1.0085000000000002,
          1.17225,
          3.31175,
          1.14325,
          2.4545,
          1.7395,
          2.40925,
          1.9200000000000002,
          1.5117500000000001,
          1.8485,
          2.3922499999999998,
          1.9682499999999998,
          2.0397499999999997,
          1.98025,
          1.0547499999999999,
          2.02775,
          2.67325,
          1.3765,
          5.664750000000001,
          3.922,
          4.023000000000001,
          4.3245000000000005,
          5.7725
         ],
         "yaxis": "y"
        },
        {
         "hovertemplate": "variable=sales_daily_mean<br>store=%{x}<br>value=%{y}<extra></extra>",
         "legendgroup": "sales_daily_mean",
         "line": {
          "color": "#19d3f3",
          "dash": "solid"
         },
         "marker": {
          "symbol": "circle"
         },
         "mode": "lines",
         "name": "sales_daily_mean",
         "orientation": "v",
         "showlegend": true,
         "type": "scatter",
         "x": [
          "store_354468",
          "store_350056",
          "store_464495",
          "store_412585",
          "store_476061",
          "store_536898",
          "store_566792",
          "store_536902",
          "store_350026",
          "store_387240",
          "store_350046",
          "store_441997",
          "store_471477",
          "store_350028",
          "store_461349",
          "store_349998",
          "store_349978",
          "store_350016",
          "store_349962",
          "store_350054",
          "store_320264",
          "store_349952",
          "store_452387",
          "store_307248",
          "store_349924",
          "store_480733",
          "store_350040",
          "store_349972",
          "store_350060",
          "store_307244",
          "store_349958",
          "store_349980",
          "store_307222",
          "store_350018",
          "store_528854",
          "store_349920",
          "store_566790",
          "store_328165"
         ],
         "xaxis": "x",
         "y": [
          5.3949370732099755,
          5.644423141719746,
          6.131559306613227,
          6.65232694806338,
          6.802493379733879,
          7.689827226076555,
          7.918151231065469,
          8.128634006188118,
          8.595752274742676,
          8.865777858482524,
          8.889248126205787,
          9.093525323639774,
          9.497864512948208,
          9.561699235154395,
          9.700862558116233,
          11.690823179343475,
          11.87946448101266,
          12.810065702531645,
          13.203898593824228,
          13.379235831858407,
          14.814896284235669,
          15.223177735294119,
          15.289330993288592,
          16.02775148575949,
          16.074383460443038,
          16.752596425531916,
          16.9676528,
          18.191460238057328,
          18.407776163103723,
          19.27541778678206,
          21.31322546123418,
          22.365404250989705,
          24.74896448822606,
          26.589623412183546,
          29.003780686114354,
          29.50304635233571,
          29.721143125166446,
          44.43775212264151
         ],
         "yaxis": "y"
        }
       ],
       "layout": {
        "legend": {
         "title": {
          "text": "variable"
         },
         "tracegroupgap": 0
        },
        "margin": {
         "t": 60
        },
        "template": {
         "data": {
          "bar": [
           {
            "error_x": {
             "color": "#2a3f5f"
            },
            "error_y": {
             "color": "#2a3f5f"
            },
            "marker": {
             "line": {
              "color": "#E5ECF6",
              "width": 0.5
             },
             "pattern": {
              "fillmode": "overlay",
              "size": 10,
              "solidity": 0.2
             }
            },
            "type": "bar"
           }
          ],
          "barpolar": [
           {
            "marker": {
             "line": {
              "color": "#E5ECF6",
              "width": 0.5
             },
             "pattern": {
              "fillmode": "overlay",
              "size": 10,
              "solidity": 0.2
             }
            },
            "type": "barpolar"
           }
          ],
          "carpet": [
           {
            "aaxis": {
             "endlinecolor": "#2a3f5f",
             "gridcolor": "white",
             "linecolor": "white",
             "minorgridcolor": "white",
             "startlinecolor": "#2a3f5f"
            },
            "baxis": {
             "endlinecolor": "#2a3f5f",
             "gridcolor": "white",
             "linecolor": "white",
             "minorgridcolor": "white",
             "startlinecolor": "#2a3f5f"
            },
            "type": "carpet"
           }
          ],
          "choropleth": [
           {
            "colorbar": {
             "outlinewidth": 0,
             "ticks": ""
            },
            "type": "choropleth"
           }
          ],
          "contour": [
           {
            "colorbar": {
             "outlinewidth": 0,
             "ticks": ""
            },
            "colorscale": [
             [
              0,
              "#0d0887"
             ],
             [
              0.1111111111111111,
              "#46039f"
             ],
             [
              0.2222222222222222,
              "#7201a8"
             ],
             [
              0.3333333333333333,
              "#9c179e"
             ],
             [
              0.4444444444444444,
              "#bd3786"
             ],
             [
              0.5555555555555556,
              "#d8576b"
             ],
             [
              0.6666666666666666,
              "#ed7953"
             ],
             [
              0.7777777777777778,
              "#fb9f3a"
             ],
             [
              0.8888888888888888,
              "#fdca26"
             ],
             [
              1,
              "#f0f921"
             ]
            ],
            "type": "contour"
           }
          ],
          "contourcarpet": [
           {
            "colorbar": {
             "outlinewidth": 0,
             "ticks": ""
            },
            "type": "contourcarpet"
           }
          ],
          "heatmap": [
           {
            "colorbar": {
             "outlinewidth": 0,
             "ticks": ""
            },
            "colorscale": [
             [
              0,
              "#0d0887"
             ],
             [
              0.1111111111111111,
              "#46039f"
             ],
             [
              0.2222222222222222,
              "#7201a8"
             ],
             [
              0.3333333333333333,
              "#9c179e"
             ],
             [
              0.4444444444444444,
              "#bd3786"
             ],
             [
              0.5555555555555556,
              "#d8576b"
             ],
             [
              0.6666666666666666,
              "#ed7953"
             ],
             [
              0.7777777777777778,
              "#fb9f3a"
             ],
             [
              0.8888888888888888,
              "#fdca26"
             ],
             [
              1,
              "#f0f921"
             ]
            ],
            "type": "heatmap"
           }
          ],
          "heatmapgl": [
           {
            "colorbar": {
             "outlinewidth": 0,
             "ticks": ""
            },
            "colorscale": [
             [
              0,
              "#0d0887"
             ],
             [
              0.1111111111111111,
              "#46039f"
             ],
             [
              0.2222222222222222,
              "#7201a8"
             ],
             [
              0.3333333333333333,
              "#9c179e"
             ],
             [
              0.4444444444444444,
              "#bd3786"
             ],
             [
              0.5555555555555556,
              "#d8576b"
             ],
             [
              0.6666666666666666,
              "#ed7953"
             ],
             [
              0.7777777777777778,
              "#fb9f3a"
             ],
             [
              0.8888888888888888,
              "#fdca26"
             ],
             [
              1,
              "#f0f921"
             ]
            ],
            "type": "heatmapgl"
           }
          ],
          "histogram": [
           {
            "marker": {
             "pattern": {
              "fillmode": "overlay",
              "size": 10,
              "solidity": 0.2
             }
            },
            "type": "histogram"
           }
          ],
          "histogram2d": [
           {
            "colorbar": {
             "outlinewidth": 0,
             "ticks": ""
            },
            "colorscale": [
             [
              0,
              "#0d0887"
             ],
             [
              0.1111111111111111,
              "#46039f"
             ],
             [
              0.2222222222222222,
              "#7201a8"
             ],
             [
              0.3333333333333333,
              "#9c179e"
             ],
             [
              0.4444444444444444,
              "#bd3786"
             ],
             [
              0.5555555555555556,
              "#d8576b"
             ],
             [
              0.6666666666666666,
              "#ed7953"
             ],
             [
              0.7777777777777778,
              "#fb9f3a"
             ],
             [
              0.8888888888888888,
              "#fdca26"
             ],
             [
              1,
              "#f0f921"
             ]
            ],
            "type": "histogram2d"
           }
          ],
          "histogram2dcontour": [
           {
            "colorbar": {
             "outlinewidth": 0,
             "ticks": ""
            },
            "colorscale": [
             [
              0,
              "#0d0887"
             ],
             [
              0.1111111111111111,
              "#46039f"
             ],
             [
              0.2222222222222222,
              "#7201a8"
             ],
             [
              0.3333333333333333,
              "#9c179e"
             ],
             [
              0.4444444444444444,
              "#bd3786"
             ],
             [
              0.5555555555555556,
              "#d8576b"
             ],
             [
              0.6666666666666666,
              "#ed7953"
             ],
             [
              0.7777777777777778,
              "#fb9f3a"
             ],
             [
              0.8888888888888888,
              "#fdca26"
             ],
             [
              1,
              "#f0f921"
             ]
            ],
            "type": "histogram2dcontour"
           }
          ],
          "mesh3d": [
           {
            "colorbar": {
             "outlinewidth": 0,
             "ticks": ""
            },
            "type": "mesh3d"
           }
          ],
          "parcoords": [
           {
            "line": {
             "colorbar": {
              "outlinewidth": 0,
              "ticks": ""
             }
            },
            "type": "parcoords"
           }
          ],
          "pie": [
           {
            "automargin": true,
            "type": "pie"
           }
          ],
          "scatter": [
           {
            "marker": {
             "colorbar": {
              "outlinewidth": 0,
              "ticks": ""
             }
            },
            "type": "scatter"
           }
          ],
          "scatter3d": [
           {
            "line": {
             "colorbar": {
              "outlinewidth": 0,
              "ticks": ""
             }
            },
            "marker": {
             "colorbar": {
              "outlinewidth": 0,
              "ticks": ""
             }
            },
            "type": "scatter3d"
           }
          ],
          "scattercarpet": [
           {
            "marker": {
             "colorbar": {
              "outlinewidth": 0,
              "ticks": ""
             }
            },
            "type": "scattercarpet"
           }
          ],
          "scattergeo": [
           {
            "marker": {
             "colorbar": {
              "outlinewidth": 0,
              "ticks": ""
             }
            },
            "type": "scattergeo"
           }
          ],
          "scattergl": [
           {
            "marker": {
             "colorbar": {
              "outlinewidth": 0,
              "ticks": ""
             }
            },
            "type": "scattergl"
           }
          ],
          "scattermapbox": [
           {
            "marker": {
             "colorbar": {
              "outlinewidth": 0,
              "ticks": ""
             }
            },
            "type": "scattermapbox"
           }
          ],
          "scatterpolar": [
           {
            "marker": {
             "colorbar": {
              "outlinewidth": 0,
              "ticks": ""
             }
            },
            "type": "scatterpolar"
           }
          ],
          "scatterpolargl": [
           {
            "marker": {
             "colorbar": {
              "outlinewidth": 0,
              "ticks": ""
             }
            },
            "type": "scatterpolargl"
           }
          ],
          "scatterternary": [
           {
            "marker": {
             "colorbar": {
              "outlinewidth": 0,
              "ticks": ""
             }
            },
            "type": "scatterternary"
           }
          ],
          "surface": [
           {
            "colorbar": {
             "outlinewidth": 0,
             "ticks": ""
            },
            "colorscale": [
             [
              0,
              "#0d0887"
             ],
             [
              0.1111111111111111,
              "#46039f"
             ],
             [
              0.2222222222222222,
              "#7201a8"
             ],
             [
              0.3333333333333333,
              "#9c179e"
             ],
             [
              0.4444444444444444,
              "#bd3786"
             ],
             [
              0.5555555555555556,
              "#d8576b"
             ],
             [
              0.6666666666666666,
              "#ed7953"
             ],
             [
              0.7777777777777778,
              "#fb9f3a"
             ],
             [
              0.8888888888888888,
              "#fdca26"
             ],
             [
              1,
              "#f0f921"
             ]
            ],
            "type": "surface"
           }
          ],
          "table": [
           {
            "cells": {
             "fill": {
              "color": "#EBF0F8"
             },
             "line": {
              "color": "white"
             }
            },
            "header": {
             "fill": {
              "color": "#C8D4E3"
             },
             "line": {
              "color": "white"
             }
            },
            "type": "table"
           }
          ]
         },
         "layout": {
          "annotationdefaults": {
           "arrowcolor": "#2a3f5f",
           "arrowhead": 0,
           "arrowwidth": 1
          },
          "autotypenumbers": "strict",
          "coloraxis": {
           "colorbar": {
            "outlinewidth": 0,
            "ticks": ""
           }
          },
          "colorscale": {
           "diverging": [
            [
             0,
             "#8e0152"
            ],
            [
             0.1,
             "#c51b7d"
            ],
            [
             0.2,
             "#de77ae"
            ],
            [
             0.3,
             "#f1b6da"
            ],
            [
             0.4,
             "#fde0ef"
            ],
            [
             0.5,
             "#f7f7f7"
            ],
            [
             0.6,
             "#e6f5d0"
            ],
            [
             0.7,
             "#b8e186"
            ],
            [
             0.8,
             "#7fbc41"
            ],
            [
             0.9,
             "#4d9221"
            ],
            [
             1,
             "#276419"
            ]
           ],
           "sequential": [
            [
             0,
             "#0d0887"
            ],
            [
             0.1111111111111111,
             "#46039f"
            ],
            [
             0.2222222222222222,
             "#7201a8"
            ],
            [
             0.3333333333333333,
             "#9c179e"
            ],
            [
             0.4444444444444444,
             "#bd3786"
            ],
            [
             0.5555555555555556,
             "#d8576b"
            ],
            [
             0.6666666666666666,
             "#ed7953"
            ],
            [
             0.7777777777777778,
             "#fb9f3a"
            ],
            [
             0.8888888888888888,
             "#fdca26"
            ],
            [
             1,
             "#f0f921"
            ]
           ],
           "sequentialminus": [
            [
             0,
             "#0d0887"
            ],
            [
             0.1111111111111111,
             "#46039f"
            ],
            [
             0.2222222222222222,
             "#7201a8"
            ],
            [
             0.3333333333333333,
             "#9c179e"
            ],
            [
             0.4444444444444444,
             "#bd3786"
            ],
            [
             0.5555555555555556,
             "#d8576b"
            ],
            [
             0.6666666666666666,
             "#ed7953"
            ],
            [
             0.7777777777777778,
             "#fb9f3a"
            ],
            [
             0.8888888888888888,
             "#fdca26"
            ],
            [
             1,
             "#f0f921"
            ]
           ]
          },
          "colorway": [
           "#636efa",
           "#EF553B",
           "#00cc96",
           "#ab63fa",
           "#FFA15A",
           "#19d3f3",
           "#FF6692",
           "#B6E880",
           "#FF97FF",
           "#FECB52"
          ],
          "font": {
           "color": "#2a3f5f"
          },
          "geo": {
           "bgcolor": "white",
           "lakecolor": "white",
           "landcolor": "#E5ECF6",
           "showlakes": true,
           "showland": true,
           "subunitcolor": "white"
          },
          "hoverlabel": {
           "align": "left"
          },
          "hovermode": "closest",
          "mapbox": {
           "style": "light"
          },
          "paper_bgcolor": "white",
          "plot_bgcolor": "#E5ECF6",
          "polar": {
           "angularaxis": {
            "gridcolor": "white",
            "linecolor": "white",
            "ticks": ""
           },
           "bgcolor": "#E5ECF6",
           "radialaxis": {
            "gridcolor": "white",
            "linecolor": "white",
            "ticks": ""
           }
          },
          "scene": {
           "xaxis": {
            "backgroundcolor": "#E5ECF6",
            "gridcolor": "white",
            "gridwidth": 2,
            "linecolor": "white",
            "showbackground": true,
            "ticks": "",
            "zerolinecolor": "white"
           },
           "yaxis": {
            "backgroundcolor": "#E5ECF6",
            "gridcolor": "white",
            "gridwidth": 2,
            "linecolor": "white",
            "showbackground": true,
            "ticks": "",
            "zerolinecolor": "white"
           },
           "zaxis": {
            "backgroundcolor": "#E5ECF6",
            "gridcolor": "white",
            "gridwidth": 2,
            "linecolor": "white",
            "showbackground": true,
            "ticks": "",
            "zerolinecolor": "white"
           }
          },
          "shapedefaults": {
           "line": {
            "color": "#2a3f5f"
           }
          },
          "ternary": {
           "aaxis": {
            "gridcolor": "white",
            "linecolor": "white",
            "ticks": ""
           },
           "baxis": {
            "gridcolor": "white",
            "linecolor": "white",
            "ticks": ""
           },
           "bgcolor": "#E5ECF6",
           "caxis": {
            "gridcolor": "white",
            "linecolor": "white",
            "ticks": ""
           }
          },
          "title": {
           "x": 0.05
          },
          "xaxis": {
           "automargin": true,
           "gridcolor": "white",
           "linecolor": "white",
           "ticks": "",
           "title": {
            "standoff": 15
           },
           "zerolinecolor": "white",
           "zerolinewidth": 2
          },
          "yaxis": {
           "automargin": true,
           "gridcolor": "white",
           "linecolor": "white",
           "ticks": "",
           "title": {
            "standoff": 15
           },
           "zerolinecolor": "white",
           "zerolinewidth": 2
          }
         }
        },
        "xaxis": {
         "anchor": "y",
         "domain": [
          0,
          1
         ],
         "title": {
          "text": "store"
         }
        },
        "yaxis": {
         "anchor": "x",
         "domain": [
          0,
          1
         ],
         "title": {
          "text": "value"
         }
        }
       }
      }
     },
     "metadata": {},
     "output_type": "display_data"
    }
   ],
   "source": [
    "score_ALL_7.filter(like='mae', axis=1).join(score_ALL_7[['sales_daily_mean']]).sort_values('sales_daily_mean').plot()\n"
   ]
  },
  {
   "cell_type": "code",
   "execution_count": 342,
   "metadata": {},
   "outputs": [
    {
     "data": {
      "application/vnd.plotly.v1+json": {
       "config": {
        "plotlyServerURL": "https://plot.ly"
       },
       "data": [
        {
         "hovertemplate": "variable=mae_SNAIVE<br>store=%{x}<br>value=%{y}<extra></extra>",
         "legendgroup": "mae_SNAIVE",
         "line": {
          "color": "#636efa",
          "dash": "solid"
         },
         "marker": {
          "symbol": "circle"
         },
         "mode": "lines",
         "name": "mae_SNAIVE",
         "orientation": "v",
         "showlegend": true,
         "type": "scatter",
         "x": [
          "store_307222",
          "store_307244",
          "store_307248",
          "store_320264",
          "store_328165",
          "store_349920",
          "store_349924",
          "store_349952",
          "store_349958",
          "store_349962",
          "store_349972",
          "store_349978",
          "store_349980",
          "store_349998",
          "store_350016",
          "store_350018",
          "store_350026",
          "store_350028",
          "store_350040",
          "store_350046",
          "store_350054",
          "store_350056",
          "store_350060",
          "store_354468",
          "store_387240",
          "store_412585",
          "store_441997",
          "store_452387",
          "store_461349",
          "store_464495",
          "store_471477",
          "store_476061",
          "store_480733",
          "store_528854",
          "store_536898",
          "store_536902",
          "store_566790",
          "store_566792"
         ],
         "xaxis": "x",
         "y": [
          7.82875,
          5.05825,
          7.8877500000000005,
          5.3755,
          32.496750000000006,
          19.201,
          8.486,
          9.83625,
          12.33625,
          3.52325,
          11.504249999999999,
          4.404,
          11.66,
          5.5875,
          14.527999999999999,
          38.767,
          4.54425,
          2.8145000000000002,
          5.41375,
          3.01775,
          10.98725,
          3.739,
          11.408249999999999,
          3.4637499999999997,
          3.37975,
          5.21475,
          3.71425,
          11.468,
          3.6267500000000004,
          3.35375,
          5.74825,
          2.9655,
          12.04925,
          14.931000000000001,
          3.3914999999999997,
          4.668500000000001,
          16.796499999999998,
          3.3137499999999998
         ],
         "yaxis": "y"
        },
        {
         "hovertemplate": "variable=mae_ARIMA<br>store=%{x}<br>value=%{y}<extra></extra>",
         "legendgroup": "mae_ARIMA",
         "line": {
          "color": "#EF553B",
          "dash": "solid"
         },
         "marker": {
          "symbol": "circle"
         },
         "mode": "lines",
         "name": "mae_ARIMA",
         "orientation": "v",
         "showlegend": true,
         "type": "scatter",
         "x": [
          "store_307222",
          "store_307244",
          "store_307248",
          "store_320264",
          "store_328165",
          "store_349920",
          "store_349924",
          "store_349952",
          "store_349958",
          "store_349962",
          "store_349972",
          "store_349978",
          "store_349980",
          "store_349998",
          "store_350016",
          "store_350018",
          "store_350026",
          "store_350028",
          "store_350040",
          "store_350046",
          "store_350054",
          "store_350056",
          "store_350060",
          "store_354468",
          "store_387240",
          "store_412585",
          "store_441997",
          "store_452387",
          "store_461349",
          "store_464495",
          "store_471477",
          "store_476061",
          "store_480733",
          "store_528854",
          "store_536898",
          "store_536902",
          "store_566790",
          "store_566792"
         ],
         "xaxis": "x",
         "y": [
          11.27125,
          7.5565,
          7.625750000000001,
          9.5075,
          44.94324999999999,
          20.69925,
          11.817250000000001,
          10.136000000000001,
          11.1595,
          5.553,
          10.964000000000002,
          5.82625,
          10.622,
          7.281750000000001,
          10.04175,
          31.644,
          4.0115,
          3.9495,
          12.617750000000001,
          4.52825,
          11.165500000000002,
          3.92575,
          11.449,
          4.153,
          6.57475,
          5.54575,
          3.9355,
          7.5329999999999995,
          5.67075,
          4.25775,
          4.25475,
          2.8605,
          9.122,
          16.058500000000002,
          4.494,
          4.8492500000000005,
          18.02025,
          6.30575
         ],
         "yaxis": "y"
        },
        {
         "hovertemplate": "variable=mae_PROPHET<br>store=%{x}<br>value=%{y}<extra></extra>",
         "legendgroup": "mae_PROPHET",
         "line": {
          "color": "#00cc96",
          "dash": "solid"
         },
         "marker": {
          "symbol": "circle"
         },
         "mode": "lines",
         "name": "mae_PROPHET",
         "orientation": "v",
         "showlegend": true,
         "type": "scatter",
         "x": [
          "store_307222",
          "store_307244",
          "store_307248",
          "store_320264",
          "store_328165",
          "store_349920",
          "store_349924",
          "store_349952",
          "store_349958",
          "store_349962",
          "store_349972",
          "store_349978",
          "store_349980",
          "store_349998",
          "store_350016",
          "store_350018",
          "store_350026",
          "store_350028",
          "store_350040",
          "store_350046",
          "store_350054",
          "store_350056",
          "store_350060",
          "store_354468",
          "store_387240",
          "store_412585",
          "store_441997",
          "store_452387",
          "store_461349",
          "store_464495",
          "store_471477",
          "store_476061",
          "store_480733",
          "store_528854",
          "store_536898",
          "store_536902",
          "store_566790",
          "store_566792"
         ],
         "xaxis": "x",
         "y": [
          7.07675,
          6.4875,
          5.43775,
          4.6427499999999995,
          27.242250000000002,
          13.523,
          6.589500000000001,
          6.47575,
          9.44725,
          4.024,
          8.34525,
          4.734,
          8.3595,
          5.58925,
          6.8870000000000005,
          22.05725,
          3.33125,
          3.59875,
          7.15225,
          2.8735,
          7.2802500000000006,
          3.163,
          7.48225,
          3.726,
          4.00125,
          4.4952499999999995,
          3.112,
          7.8229999999999995,
          4.16075,
          3.539,
          3.34125,
          2.9475,
          7.195499999999999,
          10.65725,
          3.36475,
          3.81075,
          17.926000000000002,
          4.5112499999999995
         ],
         "yaxis": "y"
        },
        {
         "hovertemplate": "variable=mae_RF<br>store=%{x}<br>value=%{y}<extra></extra>",
         "legendgroup": "mae_RF",
         "line": {
          "color": "#ab63fa",
          "dash": "solid"
         },
         "marker": {
          "symbol": "circle"
         },
         "mode": "lines",
         "name": "mae_RF",
         "orientation": "v",
         "showlegend": true,
         "type": "scatter",
         "x": [
          "store_307222",
          "store_307244",
          "store_307248",
          "store_320264",
          "store_328165",
          "store_349920",
          "store_349924",
          "store_349952",
          "store_349958",
          "store_349962",
          "store_349972",
          "store_349978",
          "store_349980",
          "store_349998",
          "store_350016",
          "store_350018",
          "store_350026",
          "store_350028",
          "store_350040",
          "store_350046",
          "store_350054",
          "store_350056",
          "store_350060",
          "store_354468",
          "store_387240",
          "store_412585",
          "store_441997",
          "store_452387",
          "store_461349",
          "store_464495",
          "store_471477",
          "store_476061",
          "store_480733",
          "store_528854",
          "store_536898",
          "store_536902",
          "store_566790",
          "store_566792"
         ],
         "xaxis": "x",
         "y": [
          1.30575,
          1.1887499999999998,
          1.43825,
          1.7237500000000001,
          8.406500000000001,
          3.3165000000000004,
          1.7887499999999998,
          2.20925,
          1.7400000000000002,
          0.62875,
          2.0700000000000003,
          0.7687499999999999,
          2.46375,
          1.1545,
          3.9422500000000005,
          7.8004999999999995,
          0.6205,
          0.7272500000000001,
          1.8437500000000002,
          0.90925,
          2.88325,
          0.9909999999999999,
          2.382,
          1.0695,
          1.41425,
          1.6640000000000001,
          1.002,
          2.0825,
          1.18075,
          0.6160000000000001,
          1.02975,
          0.46599999999999997,
          2.2242499999999996,
          4.50075,
          1.0825,
          1.1252499999999999,
          5.813750000000001,
          0.7190000000000001
         ],
         "yaxis": "y"
        },
        {
         "hovertemplate": "variable=mae_XGB<br>store=%{x}<br>value=%{y}<extra></extra>",
         "legendgroup": "mae_XGB",
         "line": {
          "color": "#FFA15A",
          "dash": "solid"
         },
         "marker": {
          "symbol": "circle"
         },
         "mode": "lines",
         "name": "mae_XGB",
         "orientation": "v",
         "showlegend": true,
         "type": "scatter",
         "x": [
          "store_307222",
          "store_307244",
          "store_307248",
          "store_320264",
          "store_328165",
          "store_349920",
          "store_349924",
          "store_349952",
          "store_349958",
          "store_349962",
          "store_349972",
          "store_349978",
          "store_349980",
          "store_349998",
          "store_350016",
          "store_350018",
          "store_350026",
          "store_350028",
          "store_350040",
          "store_350046",
          "store_350054",
          "store_350056",
          "store_350060",
          "store_354468",
          "store_387240",
          "store_412585",
          "store_441997",
          "store_452387",
          "store_461349",
          "store_464495",
          "store_471477",
          "store_476061",
          "store_480733",
          "store_528854",
          "store_536898",
          "store_536902",
          "store_566790",
          "store_566792"
         ],
         "xaxis": "x",
         "y": [
          1.3765,
          1.0547499999999999,
          1.5117500000000001,
          1.7395,
          5.7725,
          4.023000000000001,
          1.8485,
          2.40925,
          2.02775,
          1.14325,
          2.0397499999999997,
          1.17225,
          2.67325,
          1.0085000000000002,
          3.31175,
          5.664750000000001,
          0.9235,
          0.7942499999999999,
          1.9682499999999998,
          1.051,
          2.4545,
          0.8107500000000001,
          1.98025,
          1.13075,
          0.962,
          1.6912500000000001,
          1.06825,
          1.9200000000000002,
          1.08075,
          0.92925,
          0.91325,
          0.6255000000000001,
          2.3922499999999998,
          3.922,
          1.11425,
          1.3165,
          4.3245000000000005,
          0.91075
         ],
         "yaxis": "y"
        }
       ],
       "layout": {
        "legend": {
         "title": {
          "text": "variable"
         },
         "tracegroupgap": 0
        },
        "margin": {
         "t": 60
        },
        "template": {
         "data": {
          "bar": [
           {
            "error_x": {
             "color": "#2a3f5f"
            },
            "error_y": {
             "color": "#2a3f5f"
            },
            "marker": {
             "line": {
              "color": "#E5ECF6",
              "width": 0.5
             },
             "pattern": {
              "fillmode": "overlay",
              "size": 10,
              "solidity": 0.2
             }
            },
            "type": "bar"
           }
          ],
          "barpolar": [
           {
            "marker": {
             "line": {
              "color": "#E5ECF6",
              "width": 0.5
             },
             "pattern": {
              "fillmode": "overlay",
              "size": 10,
              "solidity": 0.2
             }
            },
            "type": "barpolar"
           }
          ],
          "carpet": [
           {
            "aaxis": {
             "endlinecolor": "#2a3f5f",
             "gridcolor": "white",
             "linecolor": "white",
             "minorgridcolor": "white",
             "startlinecolor": "#2a3f5f"
            },
            "baxis": {
             "endlinecolor": "#2a3f5f",
             "gridcolor": "white",
             "linecolor": "white",
             "minorgridcolor": "white",
             "startlinecolor": "#2a3f5f"
            },
            "type": "carpet"
           }
          ],
          "choropleth": [
           {
            "colorbar": {
             "outlinewidth": 0,
             "ticks": ""
            },
            "type": "choropleth"
           }
          ],
          "contour": [
           {
            "colorbar": {
             "outlinewidth": 0,
             "ticks": ""
            },
            "colorscale": [
             [
              0,
              "#0d0887"
             ],
             [
              0.1111111111111111,
              "#46039f"
             ],
             [
              0.2222222222222222,
              "#7201a8"
             ],
             [
              0.3333333333333333,
              "#9c179e"
             ],
             [
              0.4444444444444444,
              "#bd3786"
             ],
             [
              0.5555555555555556,
              "#d8576b"
             ],
             [
              0.6666666666666666,
              "#ed7953"
             ],
             [
              0.7777777777777778,
              "#fb9f3a"
             ],
             [
              0.8888888888888888,
              "#fdca26"
             ],
             [
              1,
              "#f0f921"
             ]
            ],
            "type": "contour"
           }
          ],
          "contourcarpet": [
           {
            "colorbar": {
             "outlinewidth": 0,
             "ticks": ""
            },
            "type": "contourcarpet"
           }
          ],
          "heatmap": [
           {
            "colorbar": {
             "outlinewidth": 0,
             "ticks": ""
            },
            "colorscale": [
             [
              0,
              "#0d0887"
             ],
             [
              0.1111111111111111,
              "#46039f"
             ],
             [
              0.2222222222222222,
              "#7201a8"
             ],
             [
              0.3333333333333333,
              "#9c179e"
             ],
             [
              0.4444444444444444,
              "#bd3786"
             ],
             [
              0.5555555555555556,
              "#d8576b"
             ],
             [
              0.6666666666666666,
              "#ed7953"
             ],
             [
              0.7777777777777778,
              "#fb9f3a"
             ],
             [
              0.8888888888888888,
              "#fdca26"
             ],
             [
              1,
              "#f0f921"
             ]
            ],
            "type": "heatmap"
           }
          ],
          "heatmapgl": [
           {
            "colorbar": {
             "outlinewidth": 0,
             "ticks": ""
            },
            "colorscale": [
             [
              0,
              "#0d0887"
             ],
             [
              0.1111111111111111,
              "#46039f"
             ],
             [
              0.2222222222222222,
              "#7201a8"
             ],
             [
              0.3333333333333333,
              "#9c179e"
             ],
             [
              0.4444444444444444,
              "#bd3786"
             ],
             [
              0.5555555555555556,
              "#d8576b"
             ],
             [
              0.6666666666666666,
              "#ed7953"
             ],
             [
              0.7777777777777778,
              "#fb9f3a"
             ],
             [
              0.8888888888888888,
              "#fdca26"
             ],
             [
              1,
              "#f0f921"
             ]
            ],
            "type": "heatmapgl"
           }
          ],
          "histogram": [
           {
            "marker": {
             "pattern": {
              "fillmode": "overlay",
              "size": 10,
              "solidity": 0.2
             }
            },
            "type": "histogram"
           }
          ],
          "histogram2d": [
           {
            "colorbar": {
             "outlinewidth": 0,
             "ticks": ""
            },
            "colorscale": [
             [
              0,
              "#0d0887"
             ],
             [
              0.1111111111111111,
              "#46039f"
             ],
             [
              0.2222222222222222,
              "#7201a8"
             ],
             [
              0.3333333333333333,
              "#9c179e"
             ],
             [
              0.4444444444444444,
              "#bd3786"
             ],
             [
              0.5555555555555556,
              "#d8576b"
             ],
             [
              0.6666666666666666,
              "#ed7953"
             ],
             [
              0.7777777777777778,
              "#fb9f3a"
             ],
             [
              0.8888888888888888,
              "#fdca26"
             ],
             [
              1,
              "#f0f921"
             ]
            ],
            "type": "histogram2d"
           }
          ],
          "histogram2dcontour": [
           {
            "colorbar": {
             "outlinewidth": 0,
             "ticks": ""
            },
            "colorscale": [
             [
              0,
              "#0d0887"
             ],
             [
              0.1111111111111111,
              "#46039f"
             ],
             [
              0.2222222222222222,
              "#7201a8"
             ],
             [
              0.3333333333333333,
              "#9c179e"
             ],
             [
              0.4444444444444444,
              "#bd3786"
             ],
             [
              0.5555555555555556,
              "#d8576b"
             ],
             [
              0.6666666666666666,
              "#ed7953"
             ],
             [
              0.7777777777777778,
              "#fb9f3a"
             ],
             [
              0.8888888888888888,
              "#fdca26"
             ],
             [
              1,
              "#f0f921"
             ]
            ],
            "type": "histogram2dcontour"
           }
          ],
          "mesh3d": [
           {
            "colorbar": {
             "outlinewidth": 0,
             "ticks": ""
            },
            "type": "mesh3d"
           }
          ],
          "parcoords": [
           {
            "line": {
             "colorbar": {
              "outlinewidth": 0,
              "ticks": ""
             }
            },
            "type": "parcoords"
           }
          ],
          "pie": [
           {
            "automargin": true,
            "type": "pie"
           }
          ],
          "scatter": [
           {
            "marker": {
             "colorbar": {
              "outlinewidth": 0,
              "ticks": ""
             }
            },
            "type": "scatter"
           }
          ],
          "scatter3d": [
           {
            "line": {
             "colorbar": {
              "outlinewidth": 0,
              "ticks": ""
             }
            },
            "marker": {
             "colorbar": {
              "outlinewidth": 0,
              "ticks": ""
             }
            },
            "type": "scatter3d"
           }
          ],
          "scattercarpet": [
           {
            "marker": {
             "colorbar": {
              "outlinewidth": 0,
              "ticks": ""
             }
            },
            "type": "scattercarpet"
           }
          ],
          "scattergeo": [
           {
            "marker": {
             "colorbar": {
              "outlinewidth": 0,
              "ticks": ""
             }
            },
            "type": "scattergeo"
           }
          ],
          "scattergl": [
           {
            "marker": {
             "colorbar": {
              "outlinewidth": 0,
              "ticks": ""
             }
            },
            "type": "scattergl"
           }
          ],
          "scattermapbox": [
           {
            "marker": {
             "colorbar": {
              "outlinewidth": 0,
              "ticks": ""
             }
            },
            "type": "scattermapbox"
           }
          ],
          "scatterpolar": [
           {
            "marker": {
             "colorbar": {
              "outlinewidth": 0,
              "ticks": ""
             }
            },
            "type": "scatterpolar"
           }
          ],
          "scatterpolargl": [
           {
            "marker": {
             "colorbar": {
              "outlinewidth": 0,
              "ticks": ""
             }
            },
            "type": "scatterpolargl"
           }
          ],
          "scatterternary": [
           {
            "marker": {
             "colorbar": {
              "outlinewidth": 0,
              "ticks": ""
             }
            },
            "type": "scatterternary"
           }
          ],
          "surface": [
           {
            "colorbar": {
             "outlinewidth": 0,
             "ticks": ""
            },
            "colorscale": [
             [
              0,
              "#0d0887"
             ],
             [
              0.1111111111111111,
              "#46039f"
             ],
             [
              0.2222222222222222,
              "#7201a8"
             ],
             [
              0.3333333333333333,
              "#9c179e"
             ],
             [
              0.4444444444444444,
              "#bd3786"
             ],
             [
              0.5555555555555556,
              "#d8576b"
             ],
             [
              0.6666666666666666,
              "#ed7953"
             ],
             [
              0.7777777777777778,
              "#fb9f3a"
             ],
             [
              0.8888888888888888,
              "#fdca26"
             ],
             [
              1,
              "#f0f921"
             ]
            ],
            "type": "surface"
           }
          ],
          "table": [
           {
            "cells": {
             "fill": {
              "color": "#EBF0F8"
             },
             "line": {
              "color": "white"
             }
            },
            "header": {
             "fill": {
              "color": "#C8D4E3"
             },
             "line": {
              "color": "white"
             }
            },
            "type": "table"
           }
          ]
         },
         "layout": {
          "annotationdefaults": {
           "arrowcolor": "#2a3f5f",
           "arrowhead": 0,
           "arrowwidth": 1
          },
          "autotypenumbers": "strict",
          "coloraxis": {
           "colorbar": {
            "outlinewidth": 0,
            "ticks": ""
           }
          },
          "colorscale": {
           "diverging": [
            [
             0,
             "#8e0152"
            ],
            [
             0.1,
             "#c51b7d"
            ],
            [
             0.2,
             "#de77ae"
            ],
            [
             0.3,
             "#f1b6da"
            ],
            [
             0.4,
             "#fde0ef"
            ],
            [
             0.5,
             "#f7f7f7"
            ],
            [
             0.6,
             "#e6f5d0"
            ],
            [
             0.7,
             "#b8e186"
            ],
            [
             0.8,
             "#7fbc41"
            ],
            [
             0.9,
             "#4d9221"
            ],
            [
             1,
             "#276419"
            ]
           ],
           "sequential": [
            [
             0,
             "#0d0887"
            ],
            [
             0.1111111111111111,
             "#46039f"
            ],
            [
             0.2222222222222222,
             "#7201a8"
            ],
            [
             0.3333333333333333,
             "#9c179e"
            ],
            [
             0.4444444444444444,
             "#bd3786"
            ],
            [
             0.5555555555555556,
             "#d8576b"
            ],
            [
             0.6666666666666666,
             "#ed7953"
            ],
            [
             0.7777777777777778,
             "#fb9f3a"
            ],
            [
             0.8888888888888888,
             "#fdca26"
            ],
            [
             1,
             "#f0f921"
            ]
           ],
           "sequentialminus": [
            [
             0,
             "#0d0887"
            ],
            [
             0.1111111111111111,
             "#46039f"
            ],
            [
             0.2222222222222222,
             "#7201a8"
            ],
            [
             0.3333333333333333,
             "#9c179e"
            ],
            [
             0.4444444444444444,
             "#bd3786"
            ],
            [
             0.5555555555555556,
             "#d8576b"
            ],
            [
             0.6666666666666666,
             "#ed7953"
            ],
            [
             0.7777777777777778,
             "#fb9f3a"
            ],
            [
             0.8888888888888888,
             "#fdca26"
            ],
            [
             1,
             "#f0f921"
            ]
           ]
          },
          "colorway": [
           "#636efa",
           "#EF553B",
           "#00cc96",
           "#ab63fa",
           "#FFA15A",
           "#19d3f3",
           "#FF6692",
           "#B6E880",
           "#FF97FF",
           "#FECB52"
          ],
          "font": {
           "color": "#2a3f5f"
          },
          "geo": {
           "bgcolor": "white",
           "lakecolor": "white",
           "landcolor": "#E5ECF6",
           "showlakes": true,
           "showland": true,
           "subunitcolor": "white"
          },
          "hoverlabel": {
           "align": "left"
          },
          "hovermode": "closest",
          "mapbox": {
           "style": "light"
          },
          "paper_bgcolor": "white",
          "plot_bgcolor": "#E5ECF6",
          "polar": {
           "angularaxis": {
            "gridcolor": "white",
            "linecolor": "white",
            "ticks": ""
           },
           "bgcolor": "#E5ECF6",
           "radialaxis": {
            "gridcolor": "white",
            "linecolor": "white",
            "ticks": ""
           }
          },
          "scene": {
           "xaxis": {
            "backgroundcolor": "#E5ECF6",
            "gridcolor": "white",
            "gridwidth": 2,
            "linecolor": "white",
            "showbackground": true,
            "ticks": "",
            "zerolinecolor": "white"
           },
           "yaxis": {
            "backgroundcolor": "#E5ECF6",
            "gridcolor": "white",
            "gridwidth": 2,
            "linecolor": "white",
            "showbackground": true,
            "ticks": "",
            "zerolinecolor": "white"
           },
           "zaxis": {
            "backgroundcolor": "#E5ECF6",
            "gridcolor": "white",
            "gridwidth": 2,
            "linecolor": "white",
            "showbackground": true,
            "ticks": "",
            "zerolinecolor": "white"
           }
          },
          "shapedefaults": {
           "line": {
            "color": "#2a3f5f"
           }
          },
          "ternary": {
           "aaxis": {
            "gridcolor": "white",
            "linecolor": "white",
            "ticks": ""
           },
           "baxis": {
            "gridcolor": "white",
            "linecolor": "white",
            "ticks": ""
           },
           "bgcolor": "#E5ECF6",
           "caxis": {
            "gridcolor": "white",
            "linecolor": "white",
            "ticks": ""
           }
          },
          "title": {
           "x": 0.05
          },
          "xaxis": {
           "automargin": true,
           "gridcolor": "white",
           "linecolor": "white",
           "ticks": "",
           "title": {
            "standoff": 15
           },
           "zerolinecolor": "white",
           "zerolinewidth": 2
          },
          "yaxis": {
           "automargin": true,
           "gridcolor": "white",
           "linecolor": "white",
           "ticks": "",
           "title": {
            "standoff": 15
           },
           "zerolinecolor": "white",
           "zerolinewidth": 2
          }
         }
        },
        "xaxis": {
         "anchor": "y",
         "domain": [
          0,
          1
         ],
         "title": {
          "text": ""
         }
        },
        "yaxis": {
         "anchor": "x",
         "domain": [
          0,
          1
         ],
         "title": {
          "text": "MAE"
         }
        }
       }
      }
     },
     "metadata": {},
     "output_type": "display_data"
    }
   ],
   "source": [
    "fig = score_ALL_7.filter(like='mae', axis=1).plot()\n",
    "# fig.update_traces(marker=dict(color=\"RoyalBlue\"))\n",
    "fig.update_xaxes(title_text='')\n",
    "fig.update_yaxes(title_text='MAE')\n"
   ]
  },
  {
   "cell_type": "code",
   "execution_count": 279,
   "metadata": {},
   "outputs": [
    {
     "data": {
      "text/plain": [
       "plotly.graph_objs._figure.Figure"
      ]
     },
     "execution_count": 279,
     "metadata": {},
     "output_type": "execute_result"
    }
   ],
   "source": [
    "type(fig)"
   ]
  },
  {
   "cell_type": "code",
   "execution_count": 271,
   "metadata": {},
   "outputs": [
    {
     "data": {
      "application/vnd.plotly.v1+json": {
       "config": {
        "plotlyServerURL": "https://plot.ly"
       },
       "data": [
        {
         "hovertemplate": "variable=rmse_SNAIVE<br>store=%{x}<br>value=%{y}<extra></extra>",
         "legendgroup": "rmse_SNAIVE",
         "line": {
          "color": "#636efa",
          "dash": "solid"
         },
         "marker": {
          "symbol": "circle"
         },
         "mode": "lines",
         "name": "rmse_SNAIVE",
         "orientation": "v",
         "showlegend": true,
         "type": "scatter",
         "x": [
          "store_307222",
          "store_307244",
          "store_307248",
          "store_320264",
          "store_328165",
          "store_349920",
          "store_349924",
          "store_349952",
          "store_349958",
          "store_349962",
          "store_349972",
          "store_349978",
          "store_349980",
          "store_349998",
          "store_350016",
          "store_350018",
          "store_350026",
          "store_350028",
          "store_350040",
          "store_350046",
          "store_350054",
          "store_350056",
          "store_350060",
          "store_354468",
          "store_387240",
          "store_412585",
          "store_441997",
          "store_452387",
          "store_461349",
          "store_464495",
          "store_471477",
          "store_476061",
          "store_480733",
          "store_528854",
          "store_536898",
          "store_536902",
          "store_566790",
          "store_566792"
         ],
         "xaxis": "x",
         "y": [
          10.076,
          6.30275,
          9.269,
          7.824249999999999,
          45.409499999999994,
          24.18425,
          10.356,
          11.47625,
          14.927,
          4.66375,
          13.83575,
          5.52475,
          14.216999999999999,
          7.186999999999999,
          17.27,
          48.55925,
          5.239750000000001,
          3.54375,
          6.655500000000001,
          3.88475,
          14.442999999999998,
          4.833,
          14.00825,
          4.7155000000000005,
          3.9570000000000007,
          6.637499999999999,
          4.89625,
          13.57225,
          5.1695,
          4.2387500000000005,
          6.55125,
          3.58875,
          13.883500000000002,
          19.3375,
          4.42225,
          5.953,
          22.681,
          3.94375
         ],
         "yaxis": "y"
        },
        {
         "hovertemplate": "variable=rmse_ARIMA<br>store=%{x}<br>value=%{y}<extra></extra>",
         "legendgroup": "rmse_ARIMA",
         "line": {
          "color": "#EF553B",
          "dash": "solid"
         },
         "marker": {
          "symbol": "circle"
         },
         "mode": "lines",
         "name": "rmse_ARIMA",
         "orientation": "v",
         "showlegend": true,
         "type": "scatter",
         "x": [
          "store_307222",
          "store_307244",
          "store_307248",
          "store_320264",
          "store_328165",
          "store_349920",
          "store_349924",
          "store_349952",
          "store_349958",
          "store_349962",
          "store_349972",
          "store_349978",
          "store_349980",
          "store_349998",
          "store_350016",
          "store_350018",
          "store_350026",
          "store_350028",
          "store_350040",
          "store_350046",
          "store_350054",
          "store_350056",
          "store_350060",
          "store_354468",
          "store_387240",
          "store_412585",
          "store_441997",
          "store_452387",
          "store_461349",
          "store_464495",
          "store_471477",
          "store_476061",
          "store_480733",
          "store_528854",
          "store_536898",
          "store_536902",
          "store_566790",
          "store_566792"
         ],
         "xaxis": "x",
         "y": [
          13.6105,
          9.543,
          8.43425,
          11.30125,
          50.0105,
          24.47825,
          13.543,
          12.399750000000001,
          12.2675,
          6.61275,
          12.515,
          6.8149999999999995,
          12.20125,
          8.14,
          12.4555,
          36.791,
          4.602250000000001,
          4.72775,
          14.342250000000002,
          5.365,
          12.810500000000001,
          4.6075,
          12.766750000000002,
          4.683,
          7.085500000000001,
          6.316000000000001,
          4.964,
          9.2705,
          6.4357500000000005,
          5.28375,
          5.19575,
          3.516,
          10.93125,
          18.04,
          5.09675,
          5.3665,
          22.23825,
          7.4582500000000005
         ],
         "yaxis": "y"
        },
        {
         "hovertemplate": "variable=rmse_PROPHET<br>store=%{x}<br>value=%{y}<extra></extra>",
         "legendgroup": "rmse_PROPHET",
         "line": {
          "color": "#00cc96",
          "dash": "solid"
         },
         "marker": {
          "symbol": "circle"
         },
         "mode": "lines",
         "name": "rmse_PROPHET",
         "orientation": "v",
         "showlegend": true,
         "type": "scatter",
         "x": [
          "store_307222",
          "store_307244",
          "store_307248",
          "store_320264",
          "store_328165",
          "store_349920",
          "store_349924",
          "store_349952",
          "store_349958",
          "store_349962",
          "store_349972",
          "store_349978",
          "store_349980",
          "store_349998",
          "store_350016",
          "store_350018",
          "store_350026",
          "store_350028",
          "store_350040",
          "store_350046",
          "store_350054",
          "store_350056",
          "store_350060",
          "store_354468",
          "store_387240",
          "store_412585",
          "store_441997",
          "store_452387",
          "store_461349",
          "store_464495",
          "store_471477",
          "store_476061",
          "store_480733",
          "store_528854",
          "store_536898",
          "store_536902",
          "store_566790",
          "store_566792"
         ],
         "xaxis": "x",
         "y": [
          8.798,
          8.065750000000001,
          6.6715,
          7.1855,
          36.934000000000005,
          18.42375,
          8.252500000000001,
          8.483,
          10.852,
          5.0440000000000005,
          9.732999999999999,
          6.06975,
          9.825500000000002,
          6.498749999999999,
          9.564000000000002,
          31.582,
          3.81175,
          4.519,
          8.68925,
          3.7730000000000006,
          8.880749999999999,
          3.9502499999999996,
          8.331000000000001,
          4.170999999999999,
          4.53625,
          5.513,
          4.18125,
          9.666,
          4.99475,
          4.184,
          4.04125,
          3.7707499999999996,
          8.432500000000001,
          14.297250000000002,
          4.38525,
          4.672750000000001,
          20.76,
          5.545
         ],
         "yaxis": "y"
        },
        {
         "hovertemplate": "variable=rmse_RF<br>store=%{x}<br>value=%{y}<extra></extra>",
         "legendgroup": "rmse_RF",
         "line": {
          "color": "#ab63fa",
          "dash": "solid"
         },
         "marker": {
          "symbol": "circle"
         },
         "mode": "lines",
         "name": "rmse_RF",
         "orientation": "v",
         "showlegend": true,
         "type": "scatter",
         "x": [
          "store_307222",
          "store_307244",
          "store_307248",
          "store_320264",
          "store_328165",
          "store_349920",
          "store_349924",
          "store_349952",
          "store_349958",
          "store_349962",
          "store_349972",
          "store_349978",
          "store_349980",
          "store_349998",
          "store_350016",
          "store_350018",
          "store_350026",
          "store_350028",
          "store_350040",
          "store_350046",
          "store_350054",
          "store_350056",
          "store_350060",
          "store_354468",
          "store_387240",
          "store_412585",
          "store_441997",
          "store_452387",
          "store_461349",
          "store_464495",
          "store_471477",
          "store_476061",
          "store_480733",
          "store_528854",
          "store_536898",
          "store_536902",
          "store_566790",
          "store_566792"
         ],
         "xaxis": "x",
         "y": [
          1.5067499999999998,
          1.343,
          1.6797499999999999,
          2.3310000000000004,
          9.615499999999999,
          4.20925,
          2.1845,
          2.48725,
          2.2575,
          0.82725,
          2.38,
          0.8922500000000001,
          2.9055,
          1.3319999999999999,
          4.91075,
          8.844999999999999,
          0.7157499999999999,
          0.807,
          2.06925,
          1.13475,
          3.33125,
          1.2872499999999998,
          2.6614999999999998,
          1.1492499999999999,
          1.5145000000000002,
          2.162,
          1.13775,
          2.4887499999999996,
          1.8247499999999999,
          0.66775,
          1.2494999999999998,
          0.5137499999999999,
          2.6537499999999996,
          5.1785,
          1.26475,
          1.192,
          6.60325,
          0.8107500000000001
         ],
         "yaxis": "y"
        },
        {
         "hovertemplate": "variable=rmse_XGB<br>store=%{x}<br>value=%{y}<extra></extra>",
         "legendgroup": "rmse_XGB",
         "line": {
          "color": "#FFA15A",
          "dash": "solid"
         },
         "marker": {
          "symbol": "circle"
         },
         "mode": "lines",
         "name": "rmse_XGB",
         "orientation": "v",
         "showlegend": true,
         "type": "scatter",
         "x": [
          "store_307222",
          "store_307244",
          "store_307248",
          "store_320264",
          "store_328165",
          "store_349920",
          "store_349924",
          "store_349952",
          "store_349958",
          "store_349962",
          "store_349972",
          "store_349978",
          "store_349980",
          "store_349998",
          "store_350016",
          "store_350018",
          "store_350026",
          "store_350028",
          "store_350040",
          "store_350046",
          "store_350054",
          "store_350056",
          "store_350060",
          "store_354468",
          "store_387240",
          "store_412585",
          "store_441997",
          "store_452387",
          "store_461349",
          "store_464495",
          "store_471477",
          "store_476061",
          "store_480733",
          "store_528854",
          "store_536898",
          "store_536902",
          "store_566790",
          "store_566792"
         ],
         "xaxis": "x",
         "y": [
          1.6302500000000002,
          1.2795,
          1.764,
          2.4517499999999997,
          6.8495,
          4.651,
          2.3575,
          2.8907499999999997,
          2.7052500000000004,
          1.32225,
          2.5242499999999994,
          1.378,
          3.0942499999999997,
          1.16275,
          4.23725,
          6.9005,
          1.06725,
          0.89775,
          2.2845,
          1.31675,
          3.0655,
          1.067,
          2.2920000000000003,
          1.31225,
          1.18975,
          2.1197500000000002,
          1.22625,
          2.335,
          1.7994999999999999,
          1.0274999999999999,
          1.1885000000000001,
          0.6890000000000001,
          2.8975,
          4.905749999999999,
          1.39725,
          1.47075,
          5.054500000000001,
          1.05125
         ],
         "yaxis": "y"
        }
       ],
       "layout": {
        "legend": {
         "title": {
          "text": "variable"
         },
         "tracegroupgap": 0
        },
        "margin": {
         "t": 60
        },
        "template": {
         "data": {
          "bar": [
           {
            "error_x": {
             "color": "#2a3f5f"
            },
            "error_y": {
             "color": "#2a3f5f"
            },
            "marker": {
             "line": {
              "color": "#E5ECF6",
              "width": 0.5
             },
             "pattern": {
              "fillmode": "overlay",
              "size": 10,
              "solidity": 0.2
             }
            },
            "type": "bar"
           }
          ],
          "barpolar": [
           {
            "marker": {
             "line": {
              "color": "#E5ECF6",
              "width": 0.5
             },
             "pattern": {
              "fillmode": "overlay",
              "size": 10,
              "solidity": 0.2
             }
            },
            "type": "barpolar"
           }
          ],
          "carpet": [
           {
            "aaxis": {
             "endlinecolor": "#2a3f5f",
             "gridcolor": "white",
             "linecolor": "white",
             "minorgridcolor": "white",
             "startlinecolor": "#2a3f5f"
            },
            "baxis": {
             "endlinecolor": "#2a3f5f",
             "gridcolor": "white",
             "linecolor": "white",
             "minorgridcolor": "white",
             "startlinecolor": "#2a3f5f"
            },
            "type": "carpet"
           }
          ],
          "choropleth": [
           {
            "colorbar": {
             "outlinewidth": 0,
             "ticks": ""
            },
            "type": "choropleth"
           }
          ],
          "contour": [
           {
            "colorbar": {
             "outlinewidth": 0,
             "ticks": ""
            },
            "colorscale": [
             [
              0,
              "#0d0887"
             ],
             [
              0.1111111111111111,
              "#46039f"
             ],
             [
              0.2222222222222222,
              "#7201a8"
             ],
             [
              0.3333333333333333,
              "#9c179e"
             ],
             [
              0.4444444444444444,
              "#bd3786"
             ],
             [
              0.5555555555555556,
              "#d8576b"
             ],
             [
              0.6666666666666666,
              "#ed7953"
             ],
             [
              0.7777777777777778,
              "#fb9f3a"
             ],
             [
              0.8888888888888888,
              "#fdca26"
             ],
             [
              1,
              "#f0f921"
             ]
            ],
            "type": "contour"
           }
          ],
          "contourcarpet": [
           {
            "colorbar": {
             "outlinewidth": 0,
             "ticks": ""
            },
            "type": "contourcarpet"
           }
          ],
          "heatmap": [
           {
            "colorbar": {
             "outlinewidth": 0,
             "ticks": ""
            },
            "colorscale": [
             [
              0,
              "#0d0887"
             ],
             [
              0.1111111111111111,
              "#46039f"
             ],
             [
              0.2222222222222222,
              "#7201a8"
             ],
             [
              0.3333333333333333,
              "#9c179e"
             ],
             [
              0.4444444444444444,
              "#bd3786"
             ],
             [
              0.5555555555555556,
              "#d8576b"
             ],
             [
              0.6666666666666666,
              "#ed7953"
             ],
             [
              0.7777777777777778,
              "#fb9f3a"
             ],
             [
              0.8888888888888888,
              "#fdca26"
             ],
             [
              1,
              "#f0f921"
             ]
            ],
            "type": "heatmap"
           }
          ],
          "heatmapgl": [
           {
            "colorbar": {
             "outlinewidth": 0,
             "ticks": ""
            },
            "colorscale": [
             [
              0,
              "#0d0887"
             ],
             [
              0.1111111111111111,
              "#46039f"
             ],
             [
              0.2222222222222222,
              "#7201a8"
             ],
             [
              0.3333333333333333,
              "#9c179e"
             ],
             [
              0.4444444444444444,
              "#bd3786"
             ],
             [
              0.5555555555555556,
              "#d8576b"
             ],
             [
              0.6666666666666666,
              "#ed7953"
             ],
             [
              0.7777777777777778,
              "#fb9f3a"
             ],
             [
              0.8888888888888888,
              "#fdca26"
             ],
             [
              1,
              "#f0f921"
             ]
            ],
            "type": "heatmapgl"
           }
          ],
          "histogram": [
           {
            "marker": {
             "pattern": {
              "fillmode": "overlay",
              "size": 10,
              "solidity": 0.2
             }
            },
            "type": "histogram"
           }
          ],
          "histogram2d": [
           {
            "colorbar": {
             "outlinewidth": 0,
             "ticks": ""
            },
            "colorscale": [
             [
              0,
              "#0d0887"
             ],
             [
              0.1111111111111111,
              "#46039f"
             ],
             [
              0.2222222222222222,
              "#7201a8"
             ],
             [
              0.3333333333333333,
              "#9c179e"
             ],
             [
              0.4444444444444444,
              "#bd3786"
             ],
             [
              0.5555555555555556,
              "#d8576b"
             ],
             [
              0.6666666666666666,
              "#ed7953"
             ],
             [
              0.7777777777777778,
              "#fb9f3a"
             ],
             [
              0.8888888888888888,
              "#fdca26"
             ],
             [
              1,
              "#f0f921"
             ]
            ],
            "type": "histogram2d"
           }
          ],
          "histogram2dcontour": [
           {
            "colorbar": {
             "outlinewidth": 0,
             "ticks": ""
            },
            "colorscale": [
             [
              0,
              "#0d0887"
             ],
             [
              0.1111111111111111,
              "#46039f"
             ],
             [
              0.2222222222222222,
              "#7201a8"
             ],
             [
              0.3333333333333333,
              "#9c179e"
             ],
             [
              0.4444444444444444,
              "#bd3786"
             ],
             [
              0.5555555555555556,
              "#d8576b"
             ],
             [
              0.6666666666666666,
              "#ed7953"
             ],
             [
              0.7777777777777778,
              "#fb9f3a"
             ],
             [
              0.8888888888888888,
              "#fdca26"
             ],
             [
              1,
              "#f0f921"
             ]
            ],
            "type": "histogram2dcontour"
           }
          ],
          "mesh3d": [
           {
            "colorbar": {
             "outlinewidth": 0,
             "ticks": ""
            },
            "type": "mesh3d"
           }
          ],
          "parcoords": [
           {
            "line": {
             "colorbar": {
              "outlinewidth": 0,
              "ticks": ""
             }
            },
            "type": "parcoords"
           }
          ],
          "pie": [
           {
            "automargin": true,
            "type": "pie"
           }
          ],
          "scatter": [
           {
            "marker": {
             "colorbar": {
              "outlinewidth": 0,
              "ticks": ""
             }
            },
            "type": "scatter"
           }
          ],
          "scatter3d": [
           {
            "line": {
             "colorbar": {
              "outlinewidth": 0,
              "ticks": ""
             }
            },
            "marker": {
             "colorbar": {
              "outlinewidth": 0,
              "ticks": ""
             }
            },
            "type": "scatter3d"
           }
          ],
          "scattercarpet": [
           {
            "marker": {
             "colorbar": {
              "outlinewidth": 0,
              "ticks": ""
             }
            },
            "type": "scattercarpet"
           }
          ],
          "scattergeo": [
           {
            "marker": {
             "colorbar": {
              "outlinewidth": 0,
              "ticks": ""
             }
            },
            "type": "scattergeo"
           }
          ],
          "scattergl": [
           {
            "marker": {
             "colorbar": {
              "outlinewidth": 0,
              "ticks": ""
             }
            },
            "type": "scattergl"
           }
          ],
          "scattermapbox": [
           {
            "marker": {
             "colorbar": {
              "outlinewidth": 0,
              "ticks": ""
             }
            },
            "type": "scattermapbox"
           }
          ],
          "scatterpolar": [
           {
            "marker": {
             "colorbar": {
              "outlinewidth": 0,
              "ticks": ""
             }
            },
            "type": "scatterpolar"
           }
          ],
          "scatterpolargl": [
           {
            "marker": {
             "colorbar": {
              "outlinewidth": 0,
              "ticks": ""
             }
            },
            "type": "scatterpolargl"
           }
          ],
          "scatterternary": [
           {
            "marker": {
             "colorbar": {
              "outlinewidth": 0,
              "ticks": ""
             }
            },
            "type": "scatterternary"
           }
          ],
          "surface": [
           {
            "colorbar": {
             "outlinewidth": 0,
             "ticks": ""
            },
            "colorscale": [
             [
              0,
              "#0d0887"
             ],
             [
              0.1111111111111111,
              "#46039f"
             ],
             [
              0.2222222222222222,
              "#7201a8"
             ],
             [
              0.3333333333333333,
              "#9c179e"
             ],
             [
              0.4444444444444444,
              "#bd3786"
             ],
             [
              0.5555555555555556,
              "#d8576b"
             ],
             [
              0.6666666666666666,
              "#ed7953"
             ],
             [
              0.7777777777777778,
              "#fb9f3a"
             ],
             [
              0.8888888888888888,
              "#fdca26"
             ],
             [
              1,
              "#f0f921"
             ]
            ],
            "type": "surface"
           }
          ],
          "table": [
           {
            "cells": {
             "fill": {
              "color": "#EBF0F8"
             },
             "line": {
              "color": "white"
             }
            },
            "header": {
             "fill": {
              "color": "#C8D4E3"
             },
             "line": {
              "color": "white"
             }
            },
            "type": "table"
           }
          ]
         },
         "layout": {
          "annotationdefaults": {
           "arrowcolor": "#2a3f5f",
           "arrowhead": 0,
           "arrowwidth": 1
          },
          "autotypenumbers": "strict",
          "coloraxis": {
           "colorbar": {
            "outlinewidth": 0,
            "ticks": ""
           }
          },
          "colorscale": {
           "diverging": [
            [
             0,
             "#8e0152"
            ],
            [
             0.1,
             "#c51b7d"
            ],
            [
             0.2,
             "#de77ae"
            ],
            [
             0.3,
             "#f1b6da"
            ],
            [
             0.4,
             "#fde0ef"
            ],
            [
             0.5,
             "#f7f7f7"
            ],
            [
             0.6,
             "#e6f5d0"
            ],
            [
             0.7,
             "#b8e186"
            ],
            [
             0.8,
             "#7fbc41"
            ],
            [
             0.9,
             "#4d9221"
            ],
            [
             1,
             "#276419"
            ]
           ],
           "sequential": [
            [
             0,
             "#0d0887"
            ],
            [
             0.1111111111111111,
             "#46039f"
            ],
            [
             0.2222222222222222,
             "#7201a8"
            ],
            [
             0.3333333333333333,
             "#9c179e"
            ],
            [
             0.4444444444444444,
             "#bd3786"
            ],
            [
             0.5555555555555556,
             "#d8576b"
            ],
            [
             0.6666666666666666,
             "#ed7953"
            ],
            [
             0.7777777777777778,
             "#fb9f3a"
            ],
            [
             0.8888888888888888,
             "#fdca26"
            ],
            [
             1,
             "#f0f921"
            ]
           ],
           "sequentialminus": [
            [
             0,
             "#0d0887"
            ],
            [
             0.1111111111111111,
             "#46039f"
            ],
            [
             0.2222222222222222,
             "#7201a8"
            ],
            [
             0.3333333333333333,
             "#9c179e"
            ],
            [
             0.4444444444444444,
             "#bd3786"
            ],
            [
             0.5555555555555556,
             "#d8576b"
            ],
            [
             0.6666666666666666,
             "#ed7953"
            ],
            [
             0.7777777777777778,
             "#fb9f3a"
            ],
            [
             0.8888888888888888,
             "#fdca26"
            ],
            [
             1,
             "#f0f921"
            ]
           ]
          },
          "colorway": [
           "#636efa",
           "#EF553B",
           "#00cc96",
           "#ab63fa",
           "#FFA15A",
           "#19d3f3",
           "#FF6692",
           "#B6E880",
           "#FF97FF",
           "#FECB52"
          ],
          "font": {
           "color": "#2a3f5f"
          },
          "geo": {
           "bgcolor": "white",
           "lakecolor": "white",
           "landcolor": "#E5ECF6",
           "showlakes": true,
           "showland": true,
           "subunitcolor": "white"
          },
          "hoverlabel": {
           "align": "left"
          },
          "hovermode": "closest",
          "mapbox": {
           "style": "light"
          },
          "paper_bgcolor": "white",
          "plot_bgcolor": "#E5ECF6",
          "polar": {
           "angularaxis": {
            "gridcolor": "white",
            "linecolor": "white",
            "ticks": ""
           },
           "bgcolor": "#E5ECF6",
           "radialaxis": {
            "gridcolor": "white",
            "linecolor": "white",
            "ticks": ""
           }
          },
          "scene": {
           "xaxis": {
            "backgroundcolor": "#E5ECF6",
            "gridcolor": "white",
            "gridwidth": 2,
            "linecolor": "white",
            "showbackground": true,
            "ticks": "",
            "zerolinecolor": "white"
           },
           "yaxis": {
            "backgroundcolor": "#E5ECF6",
            "gridcolor": "white",
            "gridwidth": 2,
            "linecolor": "white",
            "showbackground": true,
            "ticks": "",
            "zerolinecolor": "white"
           },
           "zaxis": {
            "backgroundcolor": "#E5ECF6",
            "gridcolor": "white",
            "gridwidth": 2,
            "linecolor": "white",
            "showbackground": true,
            "ticks": "",
            "zerolinecolor": "white"
           }
          },
          "shapedefaults": {
           "line": {
            "color": "#2a3f5f"
           }
          },
          "ternary": {
           "aaxis": {
            "gridcolor": "white",
            "linecolor": "white",
            "ticks": ""
           },
           "baxis": {
            "gridcolor": "white",
            "linecolor": "white",
            "ticks": ""
           },
           "bgcolor": "#E5ECF6",
           "caxis": {
            "gridcolor": "white",
            "linecolor": "white",
            "ticks": ""
           }
          },
          "title": {
           "x": 0.05
          },
          "xaxis": {
           "automargin": true,
           "gridcolor": "white",
           "linecolor": "white",
           "ticks": "",
           "title": {
            "standoff": 15
           },
           "zerolinecolor": "white",
           "zerolinewidth": 2
          },
          "yaxis": {
           "automargin": true,
           "gridcolor": "white",
           "linecolor": "white",
           "ticks": "",
           "title": {
            "standoff": 15
           },
           "zerolinecolor": "white",
           "zerolinewidth": 2
          }
         }
        },
        "xaxis": {
         "anchor": "y",
         "domain": [
          0,
          1
         ],
         "title": {
          "text": ""
         }
        },
        "yaxis": {
         "anchor": "x",
         "domain": [
          0,
          1
         ],
         "title": {
          "text": "RMSE"
         }
        }
       }
      }
     },
     "metadata": {},
     "output_type": "display_data"
    }
   ],
   "source": [
    "fig = score_ALL_7.filter(like='rmse', axis=1).plot()\n",
    "fig.update_xaxes(title_text='')\n",
    "fig.update_yaxes(title_text='RMSE')\n"
   ]
  },
  {
   "cell_type": "code",
   "execution_count": 272,
   "metadata": {},
   "outputs": [
    {
     "data": {
      "application/vnd.plotly.v1+json": {
       "config": {
        "plotlyServerURL": "https://plot.ly"
       },
       "data": [
        {
         "hovertemplate": "variable=mape_SNAIVE<br>store=%{x}<br>value=%{y}<extra></extra>",
         "legendgroup": "mape_SNAIVE",
         "line": {
          "color": "#636efa",
          "dash": "solid"
         },
         "marker": {
          "symbol": "circle"
         },
         "mode": "lines",
         "name": "mape_SNAIVE",
         "orientation": "v",
         "showlegend": true,
         "type": "scatter",
         "x": [
          "store_307222",
          "store_307244",
          "store_307248",
          "store_320264",
          "store_328165",
          "store_349920",
          "store_349924",
          "store_349952",
          "store_349958",
          "store_349962",
          "store_349972",
          "store_349978",
          "store_349980",
          "store_349998",
          "store_350016",
          "store_350018",
          "store_350026",
          "store_350028",
          "store_350040",
          "store_350046",
          "store_350054",
          "store_350056",
          "store_350060",
          "store_354468",
          "store_387240",
          "store_412585",
          "store_441997",
          "store_452387",
          "store_461349",
          "store_464495",
          "store_471477",
          "store_476061",
          "store_480733",
          "store_528854",
          "store_536898",
          "store_536902",
          "store_566790",
          "store_566792"
         ],
         "xaxis": "x",
         "y": [
          0.2515,
          0.2595,
          0.383,
          0.3055,
          0.44300000000000006,
          0.45449999999999996,
          0.38225,
          0.4635,
          0.42374999999999996,
          0.22824999999999998,
          0.4225,
          0.398,
          0.38375000000000004,
          0.34299999999999997,
          0.6675,
          0.7882499999999999,
          0.40575,
          0.30224999999999996,
          0.32,
          0.30574999999999997,
          0.501,
          0.48425,
          0.4275,
          0.5015000000000001,
          0.3514999999999999,
          0.5485,
          0.32875,
          0.49724999999999997,
          0.296,
          0.4365,
          0.46125000000000005,
          0.6132500000000001,
          0.5077499999999999,
          0.36125,
          0.35025,
          0.422,
          0.39049999999999996,
          0.49475
         ],
         "yaxis": "y"
        },
        {
         "hovertemplate": "variable=mape_ARIMA<br>store=%{x}<br>value=%{y}<extra></extra>",
         "legendgroup": "mape_ARIMA",
         "line": {
          "color": "#EF553B",
          "dash": "solid"
         },
         "marker": {
          "symbol": "circle"
         },
         "mode": "lines",
         "name": "mape_ARIMA",
         "orientation": "v",
         "showlegend": true,
         "type": "scatter",
         "x": [
          "store_307222",
          "store_307244",
          "store_307248",
          "store_320264",
          "store_328165",
          "store_349920",
          "store_349924",
          "store_349952",
          "store_349958",
          "store_349962",
          "store_349972",
          "store_349978",
          "store_349980",
          "store_349998",
          "store_350016",
          "store_350018",
          "store_350026",
          "store_350028",
          "store_350040",
          "store_350046",
          "store_350054",
          "store_350056",
          "store_350060",
          "store_354468",
          "store_387240",
          "store_412585",
          "store_441997",
          "store_452387",
          "store_461349",
          "store_464495",
          "store_471477",
          "store_476061",
          "store_480733",
          "store_528854",
          "store_536898",
          "store_536902",
          "store_566790",
          "store_566792"
         ],
         "xaxis": "x",
         "y": [
          0.3555,
          0.357,
          0.32725,
          0.48525,
          0.5595,
          0.40775,
          0.43,
          0.37775,
          0.35975,
          0.35375,
          0.39449999999999996,
          0.49124999999999996,
          0.31575000000000003,
          0.42925,
          0.351,
          0.46775,
          0.3315,
          0.38275000000000003,
          0.5985,
          0.437,
          0.42825,
          0.4445,
          0.378,
          0.57075,
          0.5555,
          0.52425,
          0.31675,
          0.304,
          0.45725,
          0.5025000000000001,
          0.32949999999999996,
          0.5954999999999999,
          0.34325000000000006,
          0.374,
          0.43025,
          0.383,
          0.43474999999999997,
          0.68075
         ],
         "yaxis": "y"
        },
        {
         "hovertemplate": "variable=mape_PROPHET<br>store=%{x}<br>value=%{y}<extra></extra>",
         "legendgroup": "mape_PROPHET",
         "line": {
          "color": "#00cc96",
          "dash": "solid"
         },
         "marker": {
          "symbol": "circle"
         },
         "mode": "lines",
         "name": "mape_PROPHET",
         "orientation": "v",
         "showlegend": true,
         "type": "scatter",
         "x": [
          "store_307222",
          "store_307244",
          "store_307248",
          "store_320264",
          "store_328165",
          "store_349920",
          "store_349924",
          "store_349952",
          "store_349958",
          "store_349962",
          "store_349972",
          "store_349978",
          "store_349980",
          "store_349998",
          "store_350016",
          "store_350018",
          "store_350026",
          "store_350028",
          "store_350040",
          "store_350046",
          "store_350054",
          "store_350056",
          "store_350060",
          "store_354468",
          "store_387240",
          "store_412585",
          "store_441997",
          "store_452387",
          "store_461349",
          "store_464495",
          "store_471477",
          "store_476061",
          "store_480733",
          "store_528854",
          "store_536898",
          "store_536902",
          "store_566790",
          "store_566792"
         ],
         "xaxis": "x",
         "y": [
          0.23399999999999999,
          0.30899999999999994,
          0.239,
          0.26875,
          0.357,
          0.272,
          0.25625000000000003,
          0.2645,
          0.3135,
          0.258,
          0.30675,
          0.40399999999999997,
          0.26,
          0.3555,
          0.25025,
          0.31425,
          0.277,
          0.35175,
          0.41125,
          0.296,
          0.29500000000000004,
          0.38625,
          0.2615,
          0.53225,
          0.39375000000000004,
          0.4625,
          0.263,
          0.317,
          0.34225000000000005,
          0.4575,
          0.25325000000000003,
          0.6469999999999999,
          0.2895,
          0.2485,
          0.365,
          0.31000000000000005,
          0.43525,
          0.6000000000000001
         ],
         "yaxis": "y"
        },
        {
         "hovertemplate": "variable=mape_RF<br>store=%{x}<br>value=%{y}<extra></extra>",
         "legendgroup": "mape_RF",
         "line": {
          "color": "#ab63fa",
          "dash": "solid"
         },
         "marker": {
          "symbol": "circle"
         },
         "mode": "lines",
         "name": "mape_RF",
         "orientation": "v",
         "showlegend": true,
         "type": "scatter",
         "x": [
          "store_307222",
          "store_307244",
          "store_307248",
          "store_320264",
          "store_328165",
          "store_349920",
          "store_349924",
          "store_349952",
          "store_349958",
          "store_349962",
          "store_349972",
          "store_349978",
          "store_349980",
          "store_349998",
          "store_350016",
          "store_350018",
          "store_350026",
          "store_350028",
          "store_350040",
          "store_350046",
          "store_350054",
          "store_350056",
          "store_350060",
          "store_354468",
          "store_387240",
          "store_412585",
          "store_441997",
          "store_452387",
          "store_461349",
          "store_464495",
          "store_471477",
          "store_476061",
          "store_480733",
          "store_528854",
          "store_536898",
          "store_536902",
          "store_566790",
          "store_566792"
         ],
         "xaxis": "x",
         "y": [
          0.0475,
          0.0645,
          0.0655,
          0.09925,
          0.14325000000000002,
          0.0775,
          0.07725,
          0.09975,
          0.053250000000000006,
          0.036,
          0.075,
          0.07525000000000001,
          0.07550000000000001,
          0.07799999999999999,
          0.1555,
          0.1565,
          0.051000000000000004,
          0.082,
          0.11750000000000001,
          0.084,
          0.1275,
          0.1305,
          0.09325,
          0.17425000000000002,
          0.18475,
          0.18225000000000002,
          0.09599999999999999,
          0.08775000000000001,
          0.0875,
          0.0995,
          0.068,
          0.18575,
          0.08600000000000001,
          0.108,
          0.134,
          0.1125,
          0.179,
          0.18
         ],
         "yaxis": "y"
        },
        {
         "hovertemplate": "variable=mape_XGB<br>store=%{x}<br>value=%{y}<extra></extra>",
         "legendgroup": "mape_XGB",
         "line": {
          "color": "#FFA15A",
          "dash": "solid"
         },
         "marker": {
          "symbol": "circle"
         },
         "mode": "lines",
         "name": "mape_XGB",
         "orientation": "v",
         "showlegend": true,
         "type": "scatter",
         "x": [
          "store_307222",
          "store_307244",
          "store_307248",
          "store_320264",
          "store_328165",
          "store_349920",
          "store_349924",
          "store_349952",
          "store_349958",
          "store_349962",
          "store_349972",
          "store_349978",
          "store_349980",
          "store_349998",
          "store_350016",
          "store_350018",
          "store_350026",
          "store_350028",
          "store_350040",
          "store_350046",
          "store_350054",
          "store_350056",
          "store_350060",
          "store_354468",
          "store_387240",
          "store_412585",
          "store_441997",
          "store_452387",
          "store_461349",
          "store_464495",
          "store_471477",
          "store_476061",
          "store_480733",
          "store_528854",
          "store_536898",
          "store_536902",
          "store_566790",
          "store_566792"
         ],
         "xaxis": "x",
         "y": [
          0.051000000000000004,
          0.0625,
          0.0725,
          0.0995,
          0.11249999999999999,
          0.10025,
          0.08574999999999999,
          0.112,
          0.05875,
          0.0785,
          0.07675,
          0.11524999999999999,
          0.08375,
          0.07200000000000001,
          0.14024999999999999,
          0.106,
          0.0765,
          0.098,
          0.1405,
          0.096,
          0.10975000000000001,
          0.1065,
          0.08075,
          0.20925,
          0.12175,
          0.18525000000000003,
          0.10275000000000001,
          0.086,
          0.07275000000000001,
          0.1465,
          0.0645,
          0.20900000000000002,
          0.09475,
          0.094,
          0.11374999999999999,
          0.12,
          0.146,
          0.21
         ],
         "yaxis": "y"
        }
       ],
       "layout": {
        "legend": {
         "title": {
          "text": "variable"
         },
         "tracegroupgap": 0
        },
        "margin": {
         "t": 60
        },
        "template": {
         "data": {
          "bar": [
           {
            "error_x": {
             "color": "#2a3f5f"
            },
            "error_y": {
             "color": "#2a3f5f"
            },
            "marker": {
             "line": {
              "color": "#E5ECF6",
              "width": 0.5
             },
             "pattern": {
              "fillmode": "overlay",
              "size": 10,
              "solidity": 0.2
             }
            },
            "type": "bar"
           }
          ],
          "barpolar": [
           {
            "marker": {
             "line": {
              "color": "#E5ECF6",
              "width": 0.5
             },
             "pattern": {
              "fillmode": "overlay",
              "size": 10,
              "solidity": 0.2
             }
            },
            "type": "barpolar"
           }
          ],
          "carpet": [
           {
            "aaxis": {
             "endlinecolor": "#2a3f5f",
             "gridcolor": "white",
             "linecolor": "white",
             "minorgridcolor": "white",
             "startlinecolor": "#2a3f5f"
            },
            "baxis": {
             "endlinecolor": "#2a3f5f",
             "gridcolor": "white",
             "linecolor": "white",
             "minorgridcolor": "white",
             "startlinecolor": "#2a3f5f"
            },
            "type": "carpet"
           }
          ],
          "choropleth": [
           {
            "colorbar": {
             "outlinewidth": 0,
             "ticks": ""
            },
            "type": "choropleth"
           }
          ],
          "contour": [
           {
            "colorbar": {
             "outlinewidth": 0,
             "ticks": ""
            },
            "colorscale": [
             [
              0,
              "#0d0887"
             ],
             [
              0.1111111111111111,
              "#46039f"
             ],
             [
              0.2222222222222222,
              "#7201a8"
             ],
             [
              0.3333333333333333,
              "#9c179e"
             ],
             [
              0.4444444444444444,
              "#bd3786"
             ],
             [
              0.5555555555555556,
              "#d8576b"
             ],
             [
              0.6666666666666666,
              "#ed7953"
             ],
             [
              0.7777777777777778,
              "#fb9f3a"
             ],
             [
              0.8888888888888888,
              "#fdca26"
             ],
             [
              1,
              "#f0f921"
             ]
            ],
            "type": "contour"
           }
          ],
          "contourcarpet": [
           {
            "colorbar": {
             "outlinewidth": 0,
             "ticks": ""
            },
            "type": "contourcarpet"
           }
          ],
          "heatmap": [
           {
            "colorbar": {
             "outlinewidth": 0,
             "ticks": ""
            },
            "colorscale": [
             [
              0,
              "#0d0887"
             ],
             [
              0.1111111111111111,
              "#46039f"
             ],
             [
              0.2222222222222222,
              "#7201a8"
             ],
             [
              0.3333333333333333,
              "#9c179e"
             ],
             [
              0.4444444444444444,
              "#bd3786"
             ],
             [
              0.5555555555555556,
              "#d8576b"
             ],
             [
              0.6666666666666666,
              "#ed7953"
             ],
             [
              0.7777777777777778,
              "#fb9f3a"
             ],
             [
              0.8888888888888888,
              "#fdca26"
             ],
             [
              1,
              "#f0f921"
             ]
            ],
            "type": "heatmap"
           }
          ],
          "heatmapgl": [
           {
            "colorbar": {
             "outlinewidth": 0,
             "ticks": ""
            },
            "colorscale": [
             [
              0,
              "#0d0887"
             ],
             [
              0.1111111111111111,
              "#46039f"
             ],
             [
              0.2222222222222222,
              "#7201a8"
             ],
             [
              0.3333333333333333,
              "#9c179e"
             ],
             [
              0.4444444444444444,
              "#bd3786"
             ],
             [
              0.5555555555555556,
              "#d8576b"
             ],
             [
              0.6666666666666666,
              "#ed7953"
             ],
             [
              0.7777777777777778,
              "#fb9f3a"
             ],
             [
              0.8888888888888888,
              "#fdca26"
             ],
             [
              1,
              "#f0f921"
             ]
            ],
            "type": "heatmapgl"
           }
          ],
          "histogram": [
           {
            "marker": {
             "pattern": {
              "fillmode": "overlay",
              "size": 10,
              "solidity": 0.2
             }
            },
            "type": "histogram"
           }
          ],
          "histogram2d": [
           {
            "colorbar": {
             "outlinewidth": 0,
             "ticks": ""
            },
            "colorscale": [
             [
              0,
              "#0d0887"
             ],
             [
              0.1111111111111111,
              "#46039f"
             ],
             [
              0.2222222222222222,
              "#7201a8"
             ],
             [
              0.3333333333333333,
              "#9c179e"
             ],
             [
              0.4444444444444444,
              "#bd3786"
             ],
             [
              0.5555555555555556,
              "#d8576b"
             ],
             [
              0.6666666666666666,
              "#ed7953"
             ],
             [
              0.7777777777777778,
              "#fb9f3a"
             ],
             [
              0.8888888888888888,
              "#fdca26"
             ],
             [
              1,
              "#f0f921"
             ]
            ],
            "type": "histogram2d"
           }
          ],
          "histogram2dcontour": [
           {
            "colorbar": {
             "outlinewidth": 0,
             "ticks": ""
            },
            "colorscale": [
             [
              0,
              "#0d0887"
             ],
             [
              0.1111111111111111,
              "#46039f"
             ],
             [
              0.2222222222222222,
              "#7201a8"
             ],
             [
              0.3333333333333333,
              "#9c179e"
             ],
             [
              0.4444444444444444,
              "#bd3786"
             ],
             [
              0.5555555555555556,
              "#d8576b"
             ],
             [
              0.6666666666666666,
              "#ed7953"
             ],
             [
              0.7777777777777778,
              "#fb9f3a"
             ],
             [
              0.8888888888888888,
              "#fdca26"
             ],
             [
              1,
              "#f0f921"
             ]
            ],
            "type": "histogram2dcontour"
           }
          ],
          "mesh3d": [
           {
            "colorbar": {
             "outlinewidth": 0,
             "ticks": ""
            },
            "type": "mesh3d"
           }
          ],
          "parcoords": [
           {
            "line": {
             "colorbar": {
              "outlinewidth": 0,
              "ticks": ""
             }
            },
            "type": "parcoords"
           }
          ],
          "pie": [
           {
            "automargin": true,
            "type": "pie"
           }
          ],
          "scatter": [
           {
            "marker": {
             "colorbar": {
              "outlinewidth": 0,
              "ticks": ""
             }
            },
            "type": "scatter"
           }
          ],
          "scatter3d": [
           {
            "line": {
             "colorbar": {
              "outlinewidth": 0,
              "ticks": ""
             }
            },
            "marker": {
             "colorbar": {
              "outlinewidth": 0,
              "ticks": ""
             }
            },
            "type": "scatter3d"
           }
          ],
          "scattercarpet": [
           {
            "marker": {
             "colorbar": {
              "outlinewidth": 0,
              "ticks": ""
             }
            },
            "type": "scattercarpet"
           }
          ],
          "scattergeo": [
           {
            "marker": {
             "colorbar": {
              "outlinewidth": 0,
              "ticks": ""
             }
            },
            "type": "scattergeo"
           }
          ],
          "scattergl": [
           {
            "marker": {
             "colorbar": {
              "outlinewidth": 0,
              "ticks": ""
             }
            },
            "type": "scattergl"
           }
          ],
          "scattermapbox": [
           {
            "marker": {
             "colorbar": {
              "outlinewidth": 0,
              "ticks": ""
             }
            },
            "type": "scattermapbox"
           }
          ],
          "scatterpolar": [
           {
            "marker": {
             "colorbar": {
              "outlinewidth": 0,
              "ticks": ""
             }
            },
            "type": "scatterpolar"
           }
          ],
          "scatterpolargl": [
           {
            "marker": {
             "colorbar": {
              "outlinewidth": 0,
              "ticks": ""
             }
            },
            "type": "scatterpolargl"
           }
          ],
          "scatterternary": [
           {
            "marker": {
             "colorbar": {
              "outlinewidth": 0,
              "ticks": ""
             }
            },
            "type": "scatterternary"
           }
          ],
          "surface": [
           {
            "colorbar": {
             "outlinewidth": 0,
             "ticks": ""
            },
            "colorscale": [
             [
              0,
              "#0d0887"
             ],
             [
              0.1111111111111111,
              "#46039f"
             ],
             [
              0.2222222222222222,
              "#7201a8"
             ],
             [
              0.3333333333333333,
              "#9c179e"
             ],
             [
              0.4444444444444444,
              "#bd3786"
             ],
             [
              0.5555555555555556,
              "#d8576b"
             ],
             [
              0.6666666666666666,
              "#ed7953"
             ],
             [
              0.7777777777777778,
              "#fb9f3a"
             ],
             [
              0.8888888888888888,
              "#fdca26"
             ],
             [
              1,
              "#f0f921"
             ]
            ],
            "type": "surface"
           }
          ],
          "table": [
           {
            "cells": {
             "fill": {
              "color": "#EBF0F8"
             },
             "line": {
              "color": "white"
             }
            },
            "header": {
             "fill": {
              "color": "#C8D4E3"
             },
             "line": {
              "color": "white"
             }
            },
            "type": "table"
           }
          ]
         },
         "layout": {
          "annotationdefaults": {
           "arrowcolor": "#2a3f5f",
           "arrowhead": 0,
           "arrowwidth": 1
          },
          "autotypenumbers": "strict",
          "coloraxis": {
           "colorbar": {
            "outlinewidth": 0,
            "ticks": ""
           }
          },
          "colorscale": {
           "diverging": [
            [
             0,
             "#8e0152"
            ],
            [
             0.1,
             "#c51b7d"
            ],
            [
             0.2,
             "#de77ae"
            ],
            [
             0.3,
             "#f1b6da"
            ],
            [
             0.4,
             "#fde0ef"
            ],
            [
             0.5,
             "#f7f7f7"
            ],
            [
             0.6,
             "#e6f5d0"
            ],
            [
             0.7,
             "#b8e186"
            ],
            [
             0.8,
             "#7fbc41"
            ],
            [
             0.9,
             "#4d9221"
            ],
            [
             1,
             "#276419"
            ]
           ],
           "sequential": [
            [
             0,
             "#0d0887"
            ],
            [
             0.1111111111111111,
             "#46039f"
            ],
            [
             0.2222222222222222,
             "#7201a8"
            ],
            [
             0.3333333333333333,
             "#9c179e"
            ],
            [
             0.4444444444444444,
             "#bd3786"
            ],
            [
             0.5555555555555556,
             "#d8576b"
            ],
            [
             0.6666666666666666,
             "#ed7953"
            ],
            [
             0.7777777777777778,
             "#fb9f3a"
            ],
            [
             0.8888888888888888,
             "#fdca26"
            ],
            [
             1,
             "#f0f921"
            ]
           ],
           "sequentialminus": [
            [
             0,
             "#0d0887"
            ],
            [
             0.1111111111111111,
             "#46039f"
            ],
            [
             0.2222222222222222,
             "#7201a8"
            ],
            [
             0.3333333333333333,
             "#9c179e"
            ],
            [
             0.4444444444444444,
             "#bd3786"
            ],
            [
             0.5555555555555556,
             "#d8576b"
            ],
            [
             0.6666666666666666,
             "#ed7953"
            ],
            [
             0.7777777777777778,
             "#fb9f3a"
            ],
            [
             0.8888888888888888,
             "#fdca26"
            ],
            [
             1,
             "#f0f921"
            ]
           ]
          },
          "colorway": [
           "#636efa",
           "#EF553B",
           "#00cc96",
           "#ab63fa",
           "#FFA15A",
           "#19d3f3",
           "#FF6692",
           "#B6E880",
           "#FF97FF",
           "#FECB52"
          ],
          "font": {
           "color": "#2a3f5f"
          },
          "geo": {
           "bgcolor": "white",
           "lakecolor": "white",
           "landcolor": "#E5ECF6",
           "showlakes": true,
           "showland": true,
           "subunitcolor": "white"
          },
          "hoverlabel": {
           "align": "left"
          },
          "hovermode": "closest",
          "mapbox": {
           "style": "light"
          },
          "paper_bgcolor": "white",
          "plot_bgcolor": "#E5ECF6",
          "polar": {
           "angularaxis": {
            "gridcolor": "white",
            "linecolor": "white",
            "ticks": ""
           },
           "bgcolor": "#E5ECF6",
           "radialaxis": {
            "gridcolor": "white",
            "linecolor": "white",
            "ticks": ""
           }
          },
          "scene": {
           "xaxis": {
            "backgroundcolor": "#E5ECF6",
            "gridcolor": "white",
            "gridwidth": 2,
            "linecolor": "white",
            "showbackground": true,
            "ticks": "",
            "zerolinecolor": "white"
           },
           "yaxis": {
            "backgroundcolor": "#E5ECF6",
            "gridcolor": "white",
            "gridwidth": 2,
            "linecolor": "white",
            "showbackground": true,
            "ticks": "",
            "zerolinecolor": "white"
           },
           "zaxis": {
            "backgroundcolor": "#E5ECF6",
            "gridcolor": "white",
            "gridwidth": 2,
            "linecolor": "white",
            "showbackground": true,
            "ticks": "",
            "zerolinecolor": "white"
           }
          },
          "shapedefaults": {
           "line": {
            "color": "#2a3f5f"
           }
          },
          "ternary": {
           "aaxis": {
            "gridcolor": "white",
            "linecolor": "white",
            "ticks": ""
           },
           "baxis": {
            "gridcolor": "white",
            "linecolor": "white",
            "ticks": ""
           },
           "bgcolor": "#E5ECF6",
           "caxis": {
            "gridcolor": "white",
            "linecolor": "white",
            "ticks": ""
           }
          },
          "title": {
           "x": 0.05
          },
          "xaxis": {
           "automargin": true,
           "gridcolor": "white",
           "linecolor": "white",
           "ticks": "",
           "title": {
            "standoff": 15
           },
           "zerolinecolor": "white",
           "zerolinewidth": 2
          },
          "yaxis": {
           "automargin": true,
           "gridcolor": "white",
           "linecolor": "white",
           "ticks": "",
           "title": {
            "standoff": 15
           },
           "zerolinecolor": "white",
           "zerolinewidth": 2
          }
         }
        },
        "xaxis": {
         "anchor": "y",
         "domain": [
          0,
          1
         ],
         "title": {
          "text": ""
         }
        },
        "yaxis": {
         "anchor": "x",
         "domain": [
          0,
          1
         ],
         "title": {
          "text": "MAPE"
         }
        }
       }
      }
     },
     "metadata": {},
     "output_type": "display_data"
    }
   ],
   "source": [
    "fig = score_ALL_7.filter(like='mape', axis=1).plot()\n",
    "fig.update_xaxes(title_text='')\n",
    "fig.update_yaxes(title_text='MAPE')\n"
   ]
  },
  {
   "cell_type": "code",
   "execution_count": 273,
   "metadata": {},
   "outputs": [
    {
     "data": {
      "application/vnd.plotly.v1+json": {
       "config": {
        "plotlyServerURL": "https://plot.ly"
       },
       "data": [
        {
         "hovertemplate": "variable=mase_SNAIVE<br>store=%{x}<br>value=%{y}<extra></extra>",
         "legendgroup": "mase_SNAIVE",
         "line": {
          "color": "#636efa",
          "dash": "solid"
         },
         "marker": {
          "symbol": "circle"
         },
         "mode": "lines",
         "name": "mase_SNAIVE",
         "orientation": "v",
         "showlegend": true,
         "type": "scatter",
         "x": [
          "store_307222",
          "store_307244",
          "store_307248",
          "store_320264",
          "store_328165",
          "store_349920",
          "store_349924",
          "store_349952",
          "store_349958",
          "store_349962",
          "store_349972",
          "store_349978",
          "store_349980",
          "store_349998",
          "store_350016",
          "store_350018",
          "store_350026",
          "store_350028",
          "store_350040",
          "store_350046",
          "store_350054",
          "store_350056",
          "store_350060",
          "store_354468",
          "store_387240",
          "store_412585",
          "store_441997",
          "store_452387",
          "store_461349",
          "store_464495",
          "store_471477",
          "store_476061",
          "store_480733",
          "store_528854",
          "store_536898",
          "store_536902",
          "store_566790",
          "store_566792"
         ],
         "xaxis": "x",
         "y": [
          0.509,
          0.39525,
          0.75725,
          0.539,
          1.3275,
          1.2305,
          0.796,
          0.94025,
          0.89325,
          0.4365,
          0.99525,
          0.5815,
          0.8492500000000001,
          0.7739999999999999,
          2.0627500000000003,
          2.65825,
          0.8314999999999999,
          0.468,
          0.5905,
          0.53725,
          1.33875,
          0.8592500000000001,
          1.145,
          0.8167500000000001,
          0.5855,
          1.15075,
          0.6,
          1.159,
          0.55875,
          0.754,
          1.0502500000000001,
          0.6517499999999999,
          1.1480000000000001,
          0.8937499999999999,
          0.637,
          0.8065,
          1.10625,
          0.7095
         ],
         "yaxis": "y"
        },
        {
         "hovertemplate": "variable=mase_ARIMA<br>store=%{x}<br>value=%{y}<extra></extra>",
         "legendgroup": "mase_ARIMA",
         "line": {
          "color": "#EF553B",
          "dash": "solid"
         },
         "marker": {
          "symbol": "circle"
         },
         "mode": "lines",
         "name": "mase_ARIMA",
         "orientation": "v",
         "showlegend": true,
         "type": "scatter",
         "x": [
          "store_307222",
          "store_307244",
          "store_307248",
          "store_320264",
          "store_328165",
          "store_349920",
          "store_349924",
          "store_349952",
          "store_349958",
          "store_349962",
          "store_349972",
          "store_349978",
          "store_349980",
          "store_349998",
          "store_350016",
          "store_350018",
          "store_350026",
          "store_350028",
          "store_350040",
          "store_350046",
          "store_350054",
          "store_350056",
          "store_350060",
          "store_354468",
          "store_387240",
          "store_412585",
          "store_441997",
          "store_452387",
          "store_461349",
          "store_464495",
          "store_471477",
          "store_476061",
          "store_480733",
          "store_528854",
          "store_536898",
          "store_536902",
          "store_566790",
          "store_566792"
         ],
         "xaxis": "x",
         "y": [
          1.14025,
          0.96875,
          1.1095000000000002,
          1.40275,
          2.04875,
          1.3935,
          1.61525,
          1.4755,
          1.2734999999999999,
          0.81125,
          1.38025,
          1.101,
          1.1744999999999999,
          1.3605,
          1.8907500000000002,
          2.2037500000000003,
          0.94575,
          0.862,
          1.5899999999999999,
          1.07325,
          1.885,
          1.2272500000000002,
          1.63425,
          1.21725,
          1.5350000000000001,
          1.6225,
          0.84625,
          1.11025,
          1.2245,
          1.2229999999999999,
          0.92175,
          0.7765000000000001,
          1.3255,
          1.4195,
          1.1412499999999999,
          1.0685,
          1.134,
          1.21625
         ],
         "yaxis": "y"
        },
        {
         "hovertemplate": "variable=mase_PROPHET<br>store=%{x}<br>value=%{y}<extra></extra>",
         "legendgroup": "mase_PROPHET",
         "line": {
          "color": "#00cc96",
          "dash": "solid"
         },
         "marker": {
          "symbol": "circle"
         },
         "mode": "lines",
         "name": "mase_PROPHET",
         "orientation": "v",
         "showlegend": true,
         "type": "scatter",
         "x": [
          "store_307222",
          "store_307244",
          "store_307248",
          "store_320264",
          "store_328165",
          "store_349920",
          "store_349924",
          "store_349952",
          "store_349958",
          "store_349962",
          "store_349972",
          "store_349978",
          "store_349980",
          "store_349998",
          "store_350016",
          "store_350018",
          "store_350026",
          "store_350028",
          "store_350040",
          "store_350046",
          "store_350054",
          "store_350056",
          "store_350060",
          "store_354468",
          "store_387240",
          "store_412585",
          "store_441997",
          "store_452387",
          "store_461349",
          "store_464495",
          "store_471477",
          "store_476061",
          "store_480733",
          "store_528854",
          "store_536898",
          "store_536902",
          "store_566790",
          "store_566792"
         ],
         "xaxis": "x",
         "y": [
          0.716,
          0.8320000000000001,
          0.7909999999999999,
          0.685,
          1.24275,
          0.91,
          0.9007499999999999,
          0.942,
          1.07775,
          0.588,
          1.05125,
          0.8947499999999999,
          0.9239999999999999,
          1.0445,
          1.29775,
          1.539,
          0.7855000000000001,
          0.7855,
          0.9025000000000001,
          0.68175,
          1.23,
          0.989,
          1.0685,
          1.09225,
          0.9335,
          1.31575,
          0.66925,
          1.1520000000000001,
          0.89825,
          1.0165,
          0.724,
          0.8002499999999999,
          1.046,
          0.94225,
          0.854,
          0.83925,
          1.127,
          0.87025
         ],
         "yaxis": "y"
        },
        {
         "hovertemplate": "variable=mase_RF<br>store=%{x}<br>value=%{y}<extra></extra>",
         "legendgroup": "mase_RF",
         "line": {
          "color": "#ab63fa",
          "dash": "solid"
         },
         "marker": {
          "symbol": "circle"
         },
         "mode": "lines",
         "name": "mase_RF",
         "orientation": "v",
         "showlegend": true,
         "type": "scatter",
         "x": [
          "store_307222",
          "store_307244",
          "store_307248",
          "store_320264",
          "store_328165",
          "store_349920",
          "store_349924",
          "store_349952",
          "store_349958",
          "store_349962",
          "store_349972",
          "store_349978",
          "store_349980",
          "store_349998",
          "store_350016",
          "store_350018",
          "store_350026",
          "store_350028",
          "store_350040",
          "store_350046",
          "store_350054",
          "store_350056",
          "store_350060",
          "store_354468",
          "store_387240",
          "store_412585",
          "store_441997",
          "store_452387",
          "store_461349",
          "store_464495",
          "store_471477",
          "store_476061",
          "store_480733",
          "store_528854",
          "store_536898",
          "store_536902",
          "store_566790",
          "store_566792"
         ],
         "xaxis": "x",
         "y": [
          0.1365,
          0.15125,
          0.21575,
          0.258,
          0.46475,
          0.27925,
          0.2515,
          0.32525000000000004,
          0.20224999999999999,
          0.109,
          0.27649999999999997,
          0.14825,
          0.29,
          0.22499999999999998,
          0.7995000000000001,
          0.67475,
          0.1515,
          0.16875,
          0.25899999999999995,
          0.22050000000000003,
          0.517,
          0.312,
          0.359,
          0.3185,
          0.339,
          0.50075,
          0.224,
          0.319,
          0.267,
          0.18275000000000002,
          0.24375000000000002,
          0.13974999999999999,
          0.35024999999999995,
          0.44125000000000003,
          0.29075,
          0.252,
          0.50525,
          0.17875000000000002
         ],
         "yaxis": "y"
        },
        {
         "hovertemplate": "variable=mase_XGB<br>store=%{x}<br>value=%{y}<extra></extra>",
         "legendgroup": "mase_XGB",
         "line": {
          "color": "#FFA15A",
          "dash": "solid"
         },
         "marker": {
          "symbol": "circle"
         },
         "mode": "lines",
         "name": "mase_XGB",
         "orientation": "v",
         "showlegend": true,
         "type": "scatter",
         "x": [
          "store_307222",
          "store_307244",
          "store_307248",
          "store_320264",
          "store_328165",
          "store_349920",
          "store_349924",
          "store_349952",
          "store_349958",
          "store_349962",
          "store_349972",
          "store_349978",
          "store_349980",
          "store_349998",
          "store_350016",
          "store_350018",
          "store_350026",
          "store_350028",
          "store_350040",
          "store_350046",
          "store_350054",
          "store_350056",
          "store_350060",
          "store_354468",
          "store_387240",
          "store_412585",
          "store_441997",
          "store_452387",
          "store_461349",
          "store_464495",
          "store_471477",
          "store_476061",
          "store_480733",
          "store_528854",
          "store_536898",
          "store_536902",
          "store_566790",
          "store_566792"
         ],
         "xaxis": "x",
         "y": [
          0.139,
          0.1345,
          0.21925,
          0.25675000000000003,
          0.26275000000000004,
          0.2695,
          0.25175000000000003,
          0.35025,
          0.2305,
          0.16649999999999998,
          0.256,
          0.221,
          0.29425,
          0.18774999999999997,
          0.62175,
          0.39325,
          0.217,
          0.17275,
          0.24749999999999997,
          0.249,
          0.41275,
          0.25275,
          0.28175000000000006,
          0.33,
          0.22674999999999998,
          0.5005000000000001,
          0.23374999999999999,
          0.28475,
          0.2475,
          0.27275000000000005,
          0.20400000000000001,
          0.18225,
          0.35500000000000004,
          0.35050000000000003,
          0.29625,
          0.29225,
          0.277,
          0.17800000000000002
         ],
         "yaxis": "y"
        }
       ],
       "layout": {
        "legend": {
         "title": {
          "text": "variable"
         },
         "tracegroupgap": 0
        },
        "margin": {
         "t": 60
        },
        "template": {
         "data": {
          "bar": [
           {
            "error_x": {
             "color": "#2a3f5f"
            },
            "error_y": {
             "color": "#2a3f5f"
            },
            "marker": {
             "line": {
              "color": "#E5ECF6",
              "width": 0.5
             },
             "pattern": {
              "fillmode": "overlay",
              "size": 10,
              "solidity": 0.2
             }
            },
            "type": "bar"
           }
          ],
          "barpolar": [
           {
            "marker": {
             "line": {
              "color": "#E5ECF6",
              "width": 0.5
             },
             "pattern": {
              "fillmode": "overlay",
              "size": 10,
              "solidity": 0.2
             }
            },
            "type": "barpolar"
           }
          ],
          "carpet": [
           {
            "aaxis": {
             "endlinecolor": "#2a3f5f",
             "gridcolor": "white",
             "linecolor": "white",
             "minorgridcolor": "white",
             "startlinecolor": "#2a3f5f"
            },
            "baxis": {
             "endlinecolor": "#2a3f5f",
             "gridcolor": "white",
             "linecolor": "white",
             "minorgridcolor": "white",
             "startlinecolor": "#2a3f5f"
            },
            "type": "carpet"
           }
          ],
          "choropleth": [
           {
            "colorbar": {
             "outlinewidth": 0,
             "ticks": ""
            },
            "type": "choropleth"
           }
          ],
          "contour": [
           {
            "colorbar": {
             "outlinewidth": 0,
             "ticks": ""
            },
            "colorscale": [
             [
              0,
              "#0d0887"
             ],
             [
              0.1111111111111111,
              "#46039f"
             ],
             [
              0.2222222222222222,
              "#7201a8"
             ],
             [
              0.3333333333333333,
              "#9c179e"
             ],
             [
              0.4444444444444444,
              "#bd3786"
             ],
             [
              0.5555555555555556,
              "#d8576b"
             ],
             [
              0.6666666666666666,
              "#ed7953"
             ],
             [
              0.7777777777777778,
              "#fb9f3a"
             ],
             [
              0.8888888888888888,
              "#fdca26"
             ],
             [
              1,
              "#f0f921"
             ]
            ],
            "type": "contour"
           }
          ],
          "contourcarpet": [
           {
            "colorbar": {
             "outlinewidth": 0,
             "ticks": ""
            },
            "type": "contourcarpet"
           }
          ],
          "heatmap": [
           {
            "colorbar": {
             "outlinewidth": 0,
             "ticks": ""
            },
            "colorscale": [
             [
              0,
              "#0d0887"
             ],
             [
              0.1111111111111111,
              "#46039f"
             ],
             [
              0.2222222222222222,
              "#7201a8"
             ],
             [
              0.3333333333333333,
              "#9c179e"
             ],
             [
              0.4444444444444444,
              "#bd3786"
             ],
             [
              0.5555555555555556,
              "#d8576b"
             ],
             [
              0.6666666666666666,
              "#ed7953"
             ],
             [
              0.7777777777777778,
              "#fb9f3a"
             ],
             [
              0.8888888888888888,
              "#fdca26"
             ],
             [
              1,
              "#f0f921"
             ]
            ],
            "type": "heatmap"
           }
          ],
          "heatmapgl": [
           {
            "colorbar": {
             "outlinewidth": 0,
             "ticks": ""
            },
            "colorscale": [
             [
              0,
              "#0d0887"
             ],
             [
              0.1111111111111111,
              "#46039f"
             ],
             [
              0.2222222222222222,
              "#7201a8"
             ],
             [
              0.3333333333333333,
              "#9c179e"
             ],
             [
              0.4444444444444444,
              "#bd3786"
             ],
             [
              0.5555555555555556,
              "#d8576b"
             ],
             [
              0.6666666666666666,
              "#ed7953"
             ],
             [
              0.7777777777777778,
              "#fb9f3a"
             ],
             [
              0.8888888888888888,
              "#fdca26"
             ],
             [
              1,
              "#f0f921"
             ]
            ],
            "type": "heatmapgl"
           }
          ],
          "histogram": [
           {
            "marker": {
             "pattern": {
              "fillmode": "overlay",
              "size": 10,
              "solidity": 0.2
             }
            },
            "type": "histogram"
           }
          ],
          "histogram2d": [
           {
            "colorbar": {
             "outlinewidth": 0,
             "ticks": ""
            },
            "colorscale": [
             [
              0,
              "#0d0887"
             ],
             [
              0.1111111111111111,
              "#46039f"
             ],
             [
              0.2222222222222222,
              "#7201a8"
             ],
             [
              0.3333333333333333,
              "#9c179e"
             ],
             [
              0.4444444444444444,
              "#bd3786"
             ],
             [
              0.5555555555555556,
              "#d8576b"
             ],
             [
              0.6666666666666666,
              "#ed7953"
             ],
             [
              0.7777777777777778,
              "#fb9f3a"
             ],
             [
              0.8888888888888888,
              "#fdca26"
             ],
             [
              1,
              "#f0f921"
             ]
            ],
            "type": "histogram2d"
           }
          ],
          "histogram2dcontour": [
           {
            "colorbar": {
             "outlinewidth": 0,
             "ticks": ""
            },
            "colorscale": [
             [
              0,
              "#0d0887"
             ],
             [
              0.1111111111111111,
              "#46039f"
             ],
             [
              0.2222222222222222,
              "#7201a8"
             ],
             [
              0.3333333333333333,
              "#9c179e"
             ],
             [
              0.4444444444444444,
              "#bd3786"
             ],
             [
              0.5555555555555556,
              "#d8576b"
             ],
             [
              0.6666666666666666,
              "#ed7953"
             ],
             [
              0.7777777777777778,
              "#fb9f3a"
             ],
             [
              0.8888888888888888,
              "#fdca26"
             ],
             [
              1,
              "#f0f921"
             ]
            ],
            "type": "histogram2dcontour"
           }
          ],
          "mesh3d": [
           {
            "colorbar": {
             "outlinewidth": 0,
             "ticks": ""
            },
            "type": "mesh3d"
           }
          ],
          "parcoords": [
           {
            "line": {
             "colorbar": {
              "outlinewidth": 0,
              "ticks": ""
             }
            },
            "type": "parcoords"
           }
          ],
          "pie": [
           {
            "automargin": true,
            "type": "pie"
           }
          ],
          "scatter": [
           {
            "marker": {
             "colorbar": {
              "outlinewidth": 0,
              "ticks": ""
             }
            },
            "type": "scatter"
           }
          ],
          "scatter3d": [
           {
            "line": {
             "colorbar": {
              "outlinewidth": 0,
              "ticks": ""
             }
            },
            "marker": {
             "colorbar": {
              "outlinewidth": 0,
              "ticks": ""
             }
            },
            "type": "scatter3d"
           }
          ],
          "scattercarpet": [
           {
            "marker": {
             "colorbar": {
              "outlinewidth": 0,
              "ticks": ""
             }
            },
            "type": "scattercarpet"
           }
          ],
          "scattergeo": [
           {
            "marker": {
             "colorbar": {
              "outlinewidth": 0,
              "ticks": ""
             }
            },
            "type": "scattergeo"
           }
          ],
          "scattergl": [
           {
            "marker": {
             "colorbar": {
              "outlinewidth": 0,
              "ticks": ""
             }
            },
            "type": "scattergl"
           }
          ],
          "scattermapbox": [
           {
            "marker": {
             "colorbar": {
              "outlinewidth": 0,
              "ticks": ""
             }
            },
            "type": "scattermapbox"
           }
          ],
          "scatterpolar": [
           {
            "marker": {
             "colorbar": {
              "outlinewidth": 0,
              "ticks": ""
             }
            },
            "type": "scatterpolar"
           }
          ],
          "scatterpolargl": [
           {
            "marker": {
             "colorbar": {
              "outlinewidth": 0,
              "ticks": ""
             }
            },
            "type": "scatterpolargl"
           }
          ],
          "scatterternary": [
           {
            "marker": {
             "colorbar": {
              "outlinewidth": 0,
              "ticks": ""
             }
            },
            "type": "scatterternary"
           }
          ],
          "surface": [
           {
            "colorbar": {
             "outlinewidth": 0,
             "ticks": ""
            },
            "colorscale": [
             [
              0,
              "#0d0887"
             ],
             [
              0.1111111111111111,
              "#46039f"
             ],
             [
              0.2222222222222222,
              "#7201a8"
             ],
             [
              0.3333333333333333,
              "#9c179e"
             ],
             [
              0.4444444444444444,
              "#bd3786"
             ],
             [
              0.5555555555555556,
              "#d8576b"
             ],
             [
              0.6666666666666666,
              "#ed7953"
             ],
             [
              0.7777777777777778,
              "#fb9f3a"
             ],
             [
              0.8888888888888888,
              "#fdca26"
             ],
             [
              1,
              "#f0f921"
             ]
            ],
            "type": "surface"
           }
          ],
          "table": [
           {
            "cells": {
             "fill": {
              "color": "#EBF0F8"
             },
             "line": {
              "color": "white"
             }
            },
            "header": {
             "fill": {
              "color": "#C8D4E3"
             },
             "line": {
              "color": "white"
             }
            },
            "type": "table"
           }
          ]
         },
         "layout": {
          "annotationdefaults": {
           "arrowcolor": "#2a3f5f",
           "arrowhead": 0,
           "arrowwidth": 1
          },
          "autotypenumbers": "strict",
          "coloraxis": {
           "colorbar": {
            "outlinewidth": 0,
            "ticks": ""
           }
          },
          "colorscale": {
           "diverging": [
            [
             0,
             "#8e0152"
            ],
            [
             0.1,
             "#c51b7d"
            ],
            [
             0.2,
             "#de77ae"
            ],
            [
             0.3,
             "#f1b6da"
            ],
            [
             0.4,
             "#fde0ef"
            ],
            [
             0.5,
             "#f7f7f7"
            ],
            [
             0.6,
             "#e6f5d0"
            ],
            [
             0.7,
             "#b8e186"
            ],
            [
             0.8,
             "#7fbc41"
            ],
            [
             0.9,
             "#4d9221"
            ],
            [
             1,
             "#276419"
            ]
           ],
           "sequential": [
            [
             0,
             "#0d0887"
            ],
            [
             0.1111111111111111,
             "#46039f"
            ],
            [
             0.2222222222222222,
             "#7201a8"
            ],
            [
             0.3333333333333333,
             "#9c179e"
            ],
            [
             0.4444444444444444,
             "#bd3786"
            ],
            [
             0.5555555555555556,
             "#d8576b"
            ],
            [
             0.6666666666666666,
             "#ed7953"
            ],
            [
             0.7777777777777778,
             "#fb9f3a"
            ],
            [
             0.8888888888888888,
             "#fdca26"
            ],
            [
             1,
             "#f0f921"
            ]
           ],
           "sequentialminus": [
            [
             0,
             "#0d0887"
            ],
            [
             0.1111111111111111,
             "#46039f"
            ],
            [
             0.2222222222222222,
             "#7201a8"
            ],
            [
             0.3333333333333333,
             "#9c179e"
            ],
            [
             0.4444444444444444,
             "#bd3786"
            ],
            [
             0.5555555555555556,
             "#d8576b"
            ],
            [
             0.6666666666666666,
             "#ed7953"
            ],
            [
             0.7777777777777778,
             "#fb9f3a"
            ],
            [
             0.8888888888888888,
             "#fdca26"
            ],
            [
             1,
             "#f0f921"
            ]
           ]
          },
          "colorway": [
           "#636efa",
           "#EF553B",
           "#00cc96",
           "#ab63fa",
           "#FFA15A",
           "#19d3f3",
           "#FF6692",
           "#B6E880",
           "#FF97FF",
           "#FECB52"
          ],
          "font": {
           "color": "#2a3f5f"
          },
          "geo": {
           "bgcolor": "white",
           "lakecolor": "white",
           "landcolor": "#E5ECF6",
           "showlakes": true,
           "showland": true,
           "subunitcolor": "white"
          },
          "hoverlabel": {
           "align": "left"
          },
          "hovermode": "closest",
          "mapbox": {
           "style": "light"
          },
          "paper_bgcolor": "white",
          "plot_bgcolor": "#E5ECF6",
          "polar": {
           "angularaxis": {
            "gridcolor": "white",
            "linecolor": "white",
            "ticks": ""
           },
           "bgcolor": "#E5ECF6",
           "radialaxis": {
            "gridcolor": "white",
            "linecolor": "white",
            "ticks": ""
           }
          },
          "scene": {
           "xaxis": {
            "backgroundcolor": "#E5ECF6",
            "gridcolor": "white",
            "gridwidth": 2,
            "linecolor": "white",
            "showbackground": true,
            "ticks": "",
            "zerolinecolor": "white"
           },
           "yaxis": {
            "backgroundcolor": "#E5ECF6",
            "gridcolor": "white",
            "gridwidth": 2,
            "linecolor": "white",
            "showbackground": true,
            "ticks": "",
            "zerolinecolor": "white"
           },
           "zaxis": {
            "backgroundcolor": "#E5ECF6",
            "gridcolor": "white",
            "gridwidth": 2,
            "linecolor": "white",
            "showbackground": true,
            "ticks": "",
            "zerolinecolor": "white"
           }
          },
          "shapedefaults": {
           "line": {
            "color": "#2a3f5f"
           }
          },
          "ternary": {
           "aaxis": {
            "gridcolor": "white",
            "linecolor": "white",
            "ticks": ""
           },
           "baxis": {
            "gridcolor": "white",
            "linecolor": "white",
            "ticks": ""
           },
           "bgcolor": "#E5ECF6",
           "caxis": {
            "gridcolor": "white",
            "linecolor": "white",
            "ticks": ""
           }
          },
          "title": {
           "x": 0.05
          },
          "xaxis": {
           "automargin": true,
           "gridcolor": "white",
           "linecolor": "white",
           "ticks": "",
           "title": {
            "standoff": 15
           },
           "zerolinecolor": "white",
           "zerolinewidth": 2
          },
          "yaxis": {
           "automargin": true,
           "gridcolor": "white",
           "linecolor": "white",
           "ticks": "",
           "title": {
            "standoff": 15
           },
           "zerolinecolor": "white",
           "zerolinewidth": 2
          }
         }
        },
        "xaxis": {
         "anchor": "y",
         "domain": [
          0,
          1
         ],
         "title": {
          "text": ""
         }
        },
        "yaxis": {
         "anchor": "x",
         "domain": [
          0,
          1
         ],
         "title": {
          "text": "MASE"
         }
        }
       }
      }
     },
     "metadata": {},
     "output_type": "display_data"
    }
   ],
   "source": [
    "fig = score_ALL_7.filter(like='mase', axis=1).plot()\n",
    "fig.update_xaxes(title_text='')\n",
    "fig.update_yaxes(title_text='MASE')\n"
   ]
  },
  {
   "cell_type": "markdown",
   "metadata": {},
   "source": [
    "### Forecasts"
   ]
  },
  {
   "cell_type": "code",
   "execution_count": 274,
   "metadata": {},
   "outputs": [
    {
     "data": {
      "text/html": [
       "<div>\n",
       "<style scoped>\n",
       "    .dataframe tbody tr th:only-of-type {\n",
       "        vertical-align: middle;\n",
       "    }\n",
       "\n",
       "    .dataframe tbody tr th {\n",
       "        vertical-align: top;\n",
       "    }\n",
       "\n",
       "    .dataframe thead th {\n",
       "        text-align: right;\n",
       "    }\n",
       "</style>\n",
       "<table border=\"1\" class=\"dataframe\">\n",
       "  <thead>\n",
       "    <tr style=\"text-align: right;\">\n",
       "      <th></th>\n",
       "      <th>fc_SNAIVE</th>\n",
       "      <th>fc_ARIMA</th>\n",
       "      <th>fc_PROPHET</th>\n",
       "      <th>fc_RF</th>\n",
       "      <th>fc_XGB</th>\n",
       "      <th>sales</th>\n",
       "    </tr>\n",
       "    <tr>\n",
       "      <th>store</th>\n",
       "      <th></th>\n",
       "      <th></th>\n",
       "      <th></th>\n",
       "      <th></th>\n",
       "      <th></th>\n",
       "      <th></th>\n",
       "    </tr>\n",
       "  </thead>\n",
       "  <tbody>\n",
       "    <tr>\n",
       "      <th>store_307222</th>\n",
       "      <td>2021-01-25    17.433143\n",
       "2021-01-26    19.11446...</td>\n",
       "      <td>[48.20032137436968, 42.39733446660982, 38.4800...</td>\n",
       "      <td>ds      trend  yhat_lower  yhat_uppe...</td>\n",
       "      <td>date\n",
       "2021-01-25    28.435211\n",
       "2021-01-26    17....</td>\n",
       "      <td>date\n",
       "2021-01-25    27.353668\n",
       "2021-01-26    18....</td>\n",
       "      <td>[24.84854, 18.834033, 31.418629, 27.555219, 35...</td>\n",
       "    </tr>\n",
       "    <tr>\n",
       "      <th>store_350018</th>\n",
       "      <td>2021-01-25    16.534347\n",
       "2021-01-26    15.54449...</td>\n",
       "      <td>[75.80788006524239, 67.12306191270103, 65.1767...</td>\n",
       "      <td>ds      trend  yhat_lower  yhat_uppe...</td>\n",
       "      <td>date\n",
       "2021-01-25     39.526892\n",
       "2021-01-26     4...</td>\n",
       "      <td>date\n",
       "2021-01-25     40.666094\n",
       "2021-01-26     4...</td>\n",
       "      <td>[47.7719, 38.8677, 30.6969, 47.07535, 56.7408,...</td>\n",
       "    </tr>\n",
       "    <tr>\n",
       "      <th>store_566790</th>\n",
       "      <td>2021-01-25    17.134802\n",
       "2021-01-26    16.46452...</td>\n",
       "      <td>[30.710727370440367, 25.258218878968346, 22.29...</td>\n",
       "      <td>ds      trend  yhat_lower  yhat_uppe...</td>\n",
       "      <td>date\n",
       "2021-01-25    30.229686\n",
       "2021-01-26    14....</td>\n",
       "      <td>date\n",
       "2021-01-25    28.866780\n",
       "2021-01-26    19....</td>\n",
       "      <td>[26.1868, 19.6689, 26.766327, 34.1142, 44.4857...</td>\n",
       "    </tr>\n",
       "  </tbody>\n",
       "</table>\n",
       "</div>"
      ],
      "text/plain": [
       "                                                      fc_SNAIVE  \\\n",
       "store                                                             \n",
       "store_307222  2021-01-25    17.433143\n",
       "2021-01-26    19.11446...   \n",
       "store_350018  2021-01-25    16.534347\n",
       "2021-01-26    15.54449...   \n",
       "store_566790  2021-01-25    17.134802\n",
       "2021-01-26    16.46452...   \n",
       "\n",
       "                                                       fc_ARIMA  \\\n",
       "store                                                             \n",
       "store_307222  [48.20032137436968, 42.39733446660982, 38.4800...   \n",
       "store_350018  [75.80788006524239, 67.12306191270103, 65.1767...   \n",
       "store_566790  [30.710727370440367, 25.258218878968346, 22.29...   \n",
       "\n",
       "                                                     fc_PROPHET  \\\n",
       "store                                                             \n",
       "store_307222            ds      trend  yhat_lower  yhat_uppe...   \n",
       "store_350018            ds      trend  yhat_lower  yhat_uppe...   \n",
       "store_566790            ds      trend  yhat_lower  yhat_uppe...   \n",
       "\n",
       "                                                          fc_RF  \\\n",
       "store                                                             \n",
       "store_307222  date\n",
       "2021-01-25    28.435211\n",
       "2021-01-26    17....   \n",
       "store_350018  date\n",
       "2021-01-25     39.526892\n",
       "2021-01-26     4...   \n",
       "store_566790  date\n",
       "2021-01-25    30.229686\n",
       "2021-01-26    14....   \n",
       "\n",
       "                                                         fc_XGB  \\\n",
       "store                                                             \n",
       "store_307222  date\n",
       "2021-01-25    27.353668\n",
       "2021-01-26    18....   \n",
       "store_350018  date\n",
       "2021-01-25     40.666094\n",
       "2021-01-26     4...   \n",
       "store_566790  date\n",
       "2021-01-25    28.866780\n",
       "2021-01-26    19....   \n",
       "\n",
       "                                                          sales  \n",
       "store                                                            \n",
       "store_307222  [24.84854, 18.834033, 31.418629, 27.555219, 35...  \n",
       "store_350018  [47.7719, 38.8677, 30.6969, 47.07535, 56.7408,...  \n",
       "store_566790  [26.1868, 19.6689, 26.766327, 34.1142, 44.4857...  "
      ]
     },
     "execution_count": 274,
     "metadata": {},
     "output_type": "execute_result"
    }
   ],
   "source": [
    "sample_ls = ['store_307222', 'store_350018', 'store_566790']\n",
    "\n",
    "y_true = [df_store.loc[df_store['store_id']==307222, 'sales'][-7:].values,\n",
    "          df_store.loc[df_store['store_id']==350018, 'sales'][-7:].values,\n",
    "          df_store.loc[df_store['store_id']==566790, 'sales'][-7:].values]\n",
    "y_true=pd.DataFrame({'sales':y_true}, index=sample_ls)\n",
    "\n",
    "sample_fc = score_ALL_7.filter(items=sample_ls, axis=0).filter(like='fc', axis=1).join(y_true)\n",
    "sample_fc\n"
   ]
  },
  {
   "cell_type": "code",
   "execution_count": 275,
   "metadata": {},
   "outputs": [
    {
     "data": {
      "application/vnd.plotly.v1+json": {
       "config": {
        "plotlyServerURL": "https://plot.ly"
       },
       "data": [
        {
         "line": {
          "color": "grey"
         },
         "name": "Actual sales",
         "type": "scatter",
         "x": [
          "2021-01-25T00:00:00",
          "2021-01-26T00:00:00",
          "2021-01-27T00:00:00",
          "2021-01-28T00:00:00",
          "2021-01-29T00:00:00",
          "2021-01-30T00:00:00",
          "2021-01-31T00:00:00"
         ],
         "y": [
          24.84854,
          18.834033,
          31.418629,
          27.555219,
          35.746445,
          52.543,
          62.811608
         ]
        },
        {
         "line": {
          "color": "salmon",
          "dash": "dash"
         },
         "name": "SNAIVE",
         "type": "scatter",
         "x": [
          "2021-01-25T00:00:00",
          "2021-01-26T00:00:00",
          "2021-01-27T00:00:00",
          "2021-01-28T00:00:00",
          "2021-01-29T00:00:00",
          "2021-01-30T00:00:00",
          "2021-01-31T00:00:00"
         ],
         "y": [
          17.433143353591163,
          19.114468922651945,
          20.17167390607734,
          20.241772624309387,
          29.188224320442,
          32.45179252486188,
          34.1968430441989
         ]
        },
        {
         "line": {
          "color": "dodgerblue",
          "dash": "dash"
         },
         "name": "SARIMAX",
         "type": "scatter",
         "x": [
          "2021-01-25T00:00:00",
          "2021-01-26T00:00:00",
          "2021-01-27T00:00:00",
          "2021-01-28T00:00:00",
          "2021-01-29T00:00:00",
          "2021-01-30T00:00:00",
          "2021-01-31T00:00:00"
         ],
         "y": [
          48.20032137436968,
          42.39733446660982,
          38.48009887440824,
          39.91218521420939,
          55.21755105197677,
          60.63112591236029,
          60.872874134025665
         ]
        },
        {
         "line": {
          "color": "slateblue",
          "dash": "dash"
         },
         "name": "PROPHET",
         "type": "scatter",
         "x": [
          "2021-01-25T00:00:00",
          "2021-01-26T00:00:00",
          "2021-01-27T00:00:00",
          "2021-01-28T00:00:00",
          "2021-01-29T00:00:00",
          "2021-01-30T00:00:00",
          "2021-01-31T00:00:00"
         ],
         "y": [
          20.453871312690122,
          22.431889866603044,
          23.62510285775425,
          23.70338181688279,
          55.39126026849485,
          57.80699359640749,
          58.81659779666889
         ]
        },
        {
         "line": {
          "color": "hotpink",
          "dash": "dash"
         },
         "name": "Random Forest",
         "type": "scatter",
         "x": [
          "2021-01-25T00:00:00",
          "2021-01-26T00:00:00",
          "2021-01-27T00:00:00",
          "2021-01-28T00:00:00",
          "2021-01-29T00:00:00",
          "2021-01-30T00:00:00",
          "2021-01-31T00:00:00"
         ],
         "y": [
          28.435210785694025,
          17.400970619079168,
          31.966064688741906,
          28.423946579287275,
          34.897820424871355,
          50.79395464390919,
          63.81691769761762
         ]
        },
        {
         "line": {
          "color": "forestgreen",
          "dash": "dash"
         },
         "name": "XGBoost",
         "type": "scatter",
         "x": [
          "2021-01-25T00:00:00",
          "2021-01-26T00:00:00",
          "2021-01-27T00:00:00",
          "2021-01-28T00:00:00",
          "2021-01-29T00:00:00",
          "2021-01-30T00:00:00",
          "2021-01-31T00:00:00"
         ],
         "y": [
          27.353668434976306,
          18.829961965561434,
          28.91720292963249,
          30.376281550136177,
          31.617438501353043,
          53.937885034523795,
          62.16786746262217
         ]
        }
       ],
       "layout": {
        "template": {
         "data": {
          "bar": [
           {
            "error_x": {
             "color": "#2a3f5f"
            },
            "error_y": {
             "color": "#2a3f5f"
            },
            "marker": {
             "line": {
              "color": "#E5ECF6",
              "width": 0.5
             },
             "pattern": {
              "fillmode": "overlay",
              "size": 10,
              "solidity": 0.2
             }
            },
            "type": "bar"
           }
          ],
          "barpolar": [
           {
            "marker": {
             "line": {
              "color": "#E5ECF6",
              "width": 0.5
             },
             "pattern": {
              "fillmode": "overlay",
              "size": 10,
              "solidity": 0.2
             }
            },
            "type": "barpolar"
           }
          ],
          "carpet": [
           {
            "aaxis": {
             "endlinecolor": "#2a3f5f",
             "gridcolor": "white",
             "linecolor": "white",
             "minorgridcolor": "white",
             "startlinecolor": "#2a3f5f"
            },
            "baxis": {
             "endlinecolor": "#2a3f5f",
             "gridcolor": "white",
             "linecolor": "white",
             "minorgridcolor": "white",
             "startlinecolor": "#2a3f5f"
            },
            "type": "carpet"
           }
          ],
          "choropleth": [
           {
            "colorbar": {
             "outlinewidth": 0,
             "ticks": ""
            },
            "type": "choropleth"
           }
          ],
          "contour": [
           {
            "colorbar": {
             "outlinewidth": 0,
             "ticks": ""
            },
            "colorscale": [
             [
              0,
              "#0d0887"
             ],
             [
              0.1111111111111111,
              "#46039f"
             ],
             [
              0.2222222222222222,
              "#7201a8"
             ],
             [
              0.3333333333333333,
              "#9c179e"
             ],
             [
              0.4444444444444444,
              "#bd3786"
             ],
             [
              0.5555555555555556,
              "#d8576b"
             ],
             [
              0.6666666666666666,
              "#ed7953"
             ],
             [
              0.7777777777777778,
              "#fb9f3a"
             ],
             [
              0.8888888888888888,
              "#fdca26"
             ],
             [
              1,
              "#f0f921"
             ]
            ],
            "type": "contour"
           }
          ],
          "contourcarpet": [
           {
            "colorbar": {
             "outlinewidth": 0,
             "ticks": ""
            },
            "type": "contourcarpet"
           }
          ],
          "heatmap": [
           {
            "colorbar": {
             "outlinewidth": 0,
             "ticks": ""
            },
            "colorscale": [
             [
              0,
              "#0d0887"
             ],
             [
              0.1111111111111111,
              "#46039f"
             ],
             [
              0.2222222222222222,
              "#7201a8"
             ],
             [
              0.3333333333333333,
              "#9c179e"
             ],
             [
              0.4444444444444444,
              "#bd3786"
             ],
             [
              0.5555555555555556,
              "#d8576b"
             ],
             [
              0.6666666666666666,
              "#ed7953"
             ],
             [
              0.7777777777777778,
              "#fb9f3a"
             ],
             [
              0.8888888888888888,
              "#fdca26"
             ],
             [
              1,
              "#f0f921"
             ]
            ],
            "type": "heatmap"
           }
          ],
          "heatmapgl": [
           {
            "colorbar": {
             "outlinewidth": 0,
             "ticks": ""
            },
            "colorscale": [
             [
              0,
              "#0d0887"
             ],
             [
              0.1111111111111111,
              "#46039f"
             ],
             [
              0.2222222222222222,
              "#7201a8"
             ],
             [
              0.3333333333333333,
              "#9c179e"
             ],
             [
              0.4444444444444444,
              "#bd3786"
             ],
             [
              0.5555555555555556,
              "#d8576b"
             ],
             [
              0.6666666666666666,
              "#ed7953"
             ],
             [
              0.7777777777777778,
              "#fb9f3a"
             ],
             [
              0.8888888888888888,
              "#fdca26"
             ],
             [
              1,
              "#f0f921"
             ]
            ],
            "type": "heatmapgl"
           }
          ],
          "histogram": [
           {
            "marker": {
             "pattern": {
              "fillmode": "overlay",
              "size": 10,
              "solidity": 0.2
             }
            },
            "type": "histogram"
           }
          ],
          "histogram2d": [
           {
            "colorbar": {
             "outlinewidth": 0,
             "ticks": ""
            },
            "colorscale": [
             [
              0,
              "#0d0887"
             ],
             [
              0.1111111111111111,
              "#46039f"
             ],
             [
              0.2222222222222222,
              "#7201a8"
             ],
             [
              0.3333333333333333,
              "#9c179e"
             ],
             [
              0.4444444444444444,
              "#bd3786"
             ],
             [
              0.5555555555555556,
              "#d8576b"
             ],
             [
              0.6666666666666666,
              "#ed7953"
             ],
             [
              0.7777777777777778,
              "#fb9f3a"
             ],
             [
              0.8888888888888888,
              "#fdca26"
             ],
             [
              1,
              "#f0f921"
             ]
            ],
            "type": "histogram2d"
           }
          ],
          "histogram2dcontour": [
           {
            "colorbar": {
             "outlinewidth": 0,
             "ticks": ""
            },
            "colorscale": [
             [
              0,
              "#0d0887"
             ],
             [
              0.1111111111111111,
              "#46039f"
             ],
             [
              0.2222222222222222,
              "#7201a8"
             ],
             [
              0.3333333333333333,
              "#9c179e"
             ],
             [
              0.4444444444444444,
              "#bd3786"
             ],
             [
              0.5555555555555556,
              "#d8576b"
             ],
             [
              0.6666666666666666,
              "#ed7953"
             ],
             [
              0.7777777777777778,
              "#fb9f3a"
             ],
             [
              0.8888888888888888,
              "#fdca26"
             ],
             [
              1,
              "#f0f921"
             ]
            ],
            "type": "histogram2dcontour"
           }
          ],
          "mesh3d": [
           {
            "colorbar": {
             "outlinewidth": 0,
             "ticks": ""
            },
            "type": "mesh3d"
           }
          ],
          "parcoords": [
           {
            "line": {
             "colorbar": {
              "outlinewidth": 0,
              "ticks": ""
             }
            },
            "type": "parcoords"
           }
          ],
          "pie": [
           {
            "automargin": true,
            "type": "pie"
           }
          ],
          "scatter": [
           {
            "marker": {
             "colorbar": {
              "outlinewidth": 0,
              "ticks": ""
             }
            },
            "type": "scatter"
           }
          ],
          "scatter3d": [
           {
            "line": {
             "colorbar": {
              "outlinewidth": 0,
              "ticks": ""
             }
            },
            "marker": {
             "colorbar": {
              "outlinewidth": 0,
              "ticks": ""
             }
            },
            "type": "scatter3d"
           }
          ],
          "scattercarpet": [
           {
            "marker": {
             "colorbar": {
              "outlinewidth": 0,
              "ticks": ""
             }
            },
            "type": "scattercarpet"
           }
          ],
          "scattergeo": [
           {
            "marker": {
             "colorbar": {
              "outlinewidth": 0,
              "ticks": ""
             }
            },
            "type": "scattergeo"
           }
          ],
          "scattergl": [
           {
            "marker": {
             "colorbar": {
              "outlinewidth": 0,
              "ticks": ""
             }
            },
            "type": "scattergl"
           }
          ],
          "scattermapbox": [
           {
            "marker": {
             "colorbar": {
              "outlinewidth": 0,
              "ticks": ""
             }
            },
            "type": "scattermapbox"
           }
          ],
          "scatterpolar": [
           {
            "marker": {
             "colorbar": {
              "outlinewidth": 0,
              "ticks": ""
             }
            },
            "type": "scatterpolar"
           }
          ],
          "scatterpolargl": [
           {
            "marker": {
             "colorbar": {
              "outlinewidth": 0,
              "ticks": ""
             }
            },
            "type": "scatterpolargl"
           }
          ],
          "scatterternary": [
           {
            "marker": {
             "colorbar": {
              "outlinewidth": 0,
              "ticks": ""
             }
            },
            "type": "scatterternary"
           }
          ],
          "surface": [
           {
            "colorbar": {
             "outlinewidth": 0,
             "ticks": ""
            },
            "colorscale": [
             [
              0,
              "#0d0887"
             ],
             [
              0.1111111111111111,
              "#46039f"
             ],
             [
              0.2222222222222222,
              "#7201a8"
             ],
             [
              0.3333333333333333,
              "#9c179e"
             ],
             [
              0.4444444444444444,
              "#bd3786"
             ],
             [
              0.5555555555555556,
              "#d8576b"
             ],
             [
              0.6666666666666666,
              "#ed7953"
             ],
             [
              0.7777777777777778,
              "#fb9f3a"
             ],
             [
              0.8888888888888888,
              "#fdca26"
             ],
             [
              1,
              "#f0f921"
             ]
            ],
            "type": "surface"
           }
          ],
          "table": [
           {
            "cells": {
             "fill": {
              "color": "#EBF0F8"
             },
             "line": {
              "color": "white"
             }
            },
            "header": {
             "fill": {
              "color": "#C8D4E3"
             },
             "line": {
              "color": "white"
             }
            },
            "type": "table"
           }
          ]
         },
         "layout": {
          "annotationdefaults": {
           "arrowcolor": "#2a3f5f",
           "arrowhead": 0,
           "arrowwidth": 1
          },
          "autotypenumbers": "strict",
          "coloraxis": {
           "colorbar": {
            "outlinewidth": 0,
            "ticks": ""
           }
          },
          "colorscale": {
           "diverging": [
            [
             0,
             "#8e0152"
            ],
            [
             0.1,
             "#c51b7d"
            ],
            [
             0.2,
             "#de77ae"
            ],
            [
             0.3,
             "#f1b6da"
            ],
            [
             0.4,
             "#fde0ef"
            ],
            [
             0.5,
             "#f7f7f7"
            ],
            [
             0.6,
             "#e6f5d0"
            ],
            [
             0.7,
             "#b8e186"
            ],
            [
             0.8,
             "#7fbc41"
            ],
            [
             0.9,
             "#4d9221"
            ],
            [
             1,
             "#276419"
            ]
           ],
           "sequential": [
            [
             0,
             "#0d0887"
            ],
            [
             0.1111111111111111,
             "#46039f"
            ],
            [
             0.2222222222222222,
             "#7201a8"
            ],
            [
             0.3333333333333333,
             "#9c179e"
            ],
            [
             0.4444444444444444,
             "#bd3786"
            ],
            [
             0.5555555555555556,
             "#d8576b"
            ],
            [
             0.6666666666666666,
             "#ed7953"
            ],
            [
             0.7777777777777778,
             "#fb9f3a"
            ],
            [
             0.8888888888888888,
             "#fdca26"
            ],
            [
             1,
             "#f0f921"
            ]
           ],
           "sequentialminus": [
            [
             0,
             "#0d0887"
            ],
            [
             0.1111111111111111,
             "#46039f"
            ],
            [
             0.2222222222222222,
             "#7201a8"
            ],
            [
             0.3333333333333333,
             "#9c179e"
            ],
            [
             0.4444444444444444,
             "#bd3786"
            ],
            [
             0.5555555555555556,
             "#d8576b"
            ],
            [
             0.6666666666666666,
             "#ed7953"
            ],
            [
             0.7777777777777778,
             "#fb9f3a"
            ],
            [
             0.8888888888888888,
             "#fdca26"
            ],
            [
             1,
             "#f0f921"
            ]
           ]
          },
          "colorway": [
           "#636efa",
           "#EF553B",
           "#00cc96",
           "#ab63fa",
           "#FFA15A",
           "#19d3f3",
           "#FF6692",
           "#B6E880",
           "#FF97FF",
           "#FECB52"
          ],
          "font": {
           "color": "#2a3f5f"
          },
          "geo": {
           "bgcolor": "white",
           "lakecolor": "white",
           "landcolor": "#E5ECF6",
           "showlakes": true,
           "showland": true,
           "subunitcolor": "white"
          },
          "hoverlabel": {
           "align": "left"
          },
          "hovermode": "closest",
          "mapbox": {
           "style": "light"
          },
          "paper_bgcolor": "white",
          "plot_bgcolor": "#E5ECF6",
          "polar": {
           "angularaxis": {
            "gridcolor": "white",
            "linecolor": "white",
            "ticks": ""
           },
           "bgcolor": "#E5ECF6",
           "radialaxis": {
            "gridcolor": "white",
            "linecolor": "white",
            "ticks": ""
           }
          },
          "scene": {
           "xaxis": {
            "backgroundcolor": "#E5ECF6",
            "gridcolor": "white",
            "gridwidth": 2,
            "linecolor": "white",
            "showbackground": true,
            "ticks": "",
            "zerolinecolor": "white"
           },
           "yaxis": {
            "backgroundcolor": "#E5ECF6",
            "gridcolor": "white",
            "gridwidth": 2,
            "linecolor": "white",
            "showbackground": true,
            "ticks": "",
            "zerolinecolor": "white"
           },
           "zaxis": {
            "backgroundcolor": "#E5ECF6",
            "gridcolor": "white",
            "gridwidth": 2,
            "linecolor": "white",
            "showbackground": true,
            "ticks": "",
            "zerolinecolor": "white"
           }
          },
          "shapedefaults": {
           "line": {
            "color": "#2a3f5f"
           }
          },
          "ternary": {
           "aaxis": {
            "gridcolor": "white",
            "linecolor": "white",
            "ticks": ""
           },
           "baxis": {
            "gridcolor": "white",
            "linecolor": "white",
            "ticks": ""
           },
           "bgcolor": "#E5ECF6",
           "caxis": {
            "gridcolor": "white",
            "linecolor": "white",
            "ticks": ""
           }
          },
          "title": {
           "x": 0.05
          },
          "xaxis": {
           "automargin": true,
           "gridcolor": "white",
           "linecolor": "white",
           "ticks": "",
           "title": {
            "standoff": 15
           },
           "zerolinecolor": "white",
           "zerolinewidth": 2
          },
          "yaxis": {
           "automargin": true,
           "gridcolor": "white",
           "linecolor": "white",
           "ticks": "",
           "title": {
            "standoff": 15
           },
           "zerolinecolor": "white",
           "zerolinewidth": 2
          }
         }
        },
        "title": {
         "text": "Sales Forecast store_307222"
        },
        "yaxis": {
         "title": {
          "text": "Forecasts (million VND)"
         }
        }
       }
      }
     },
     "metadata": {},
     "output_type": "display_data"
    }
   ],
   "source": [
    "store = sample_ls[0]\n",
    "x = sample_fc.loc[store,'fc_SNAIVE'].index\n",
    "\n",
    "fig = go.Figure()\n",
    "\n",
    "fig.add_trace(go.Scatter(x=x, \n",
    "                         y=sample_fc.loc[store,'sales'], \n",
    "                         name='Actual sales',\n",
    "                         line={'color': 'grey'},\n",
    "                         ))\n",
    "fig.add_trace(go.Scatter(x=x, \n",
    "                         y=sample_fc.loc[store,'fc_SNAIVE'].values, \n",
    "                         name='SNAIVE',\n",
    "                         line={'color': 'salmon', 'dash': 'dash'},\n",
    "                         ))\n",
    "fig.add_trace(go.Scatter(x=x, \n",
    "                         y=sample_fc.loc[store,'fc_ARIMA'], \n",
    "                         name='SARIMAX',\n",
    "                         line={'color': 'dodgerblue', 'dash': 'dash'},\n",
    "                         ))\n",
    "fig.add_trace(go.Scatter(x=x, \n",
    "                         y=sample_fc.loc[store,'fc_PROPHET']['yhat'].values, \n",
    "                         name='PROPHET',\n",
    "                         line={'color': 'slateblue', 'dash': 'dash'},\n",
    "                         ))\n",
    "fig.add_trace(go.Scatter(x=x, \n",
    "                         y=sample_fc.loc[store,'fc_RF'].values, \n",
    "                         name='Random Forest',\n",
    "                         line={'color': 'hotpink', 'dash': 'dash'},\n",
    "                         ))\n",
    "fig.add_trace(go.Scatter(x=x, \n",
    "                         y=sample_fc.loc[store,'fc_XGB'].values, \n",
    "                         name='XGBoost',\n",
    "                         line={'color': 'forestgreen', 'dash': 'dash'},\n",
    "                         ))\n",
    "fig.update_layout(title='Sales Forecast ' + store)\n",
    "fig.update_yaxes(title_text='Forecasts (million VND)')\n",
    "\n",
    "fig.show()\n"
   ]
  },
  {
   "cell_type": "code",
   "execution_count": 276,
   "metadata": {},
   "outputs": [
    {
     "data": {
      "application/vnd.plotly.v1+json": {
       "config": {
        "plotlyServerURL": "https://plot.ly"
       },
       "data": [
        {
         "line": {
          "color": "grey"
         },
         "name": "Actual sales",
         "type": "scatter",
         "x": [
          "2021-01-25T00:00:00",
          "2021-01-26T00:00:00",
          "2021-01-27T00:00:00",
          "2021-01-28T00:00:00",
          "2021-01-29T00:00:00",
          "2021-01-30T00:00:00",
          "2021-01-31T00:00:00"
         ],
         "y": [
          47.7719,
          38.8677,
          30.6969,
          47.07535,
          56.7408,
          87.4095,
          123.2872
         ]
        },
        {
         "line": {
          "color": "salmon",
          "dash": "dash"
         },
         "name": "SNAIVE",
         "type": "scatter",
         "x": [
          "2021-01-25T00:00:00",
          "2021-01-26T00:00:00",
          "2021-01-27T00:00:00",
          "2021-01-28T00:00:00",
          "2021-01-29T00:00:00",
          "2021-01-30T00:00:00",
          "2021-01-31T00:00:00"
         ],
         "y": [
          16.53434716201117,
          15.544492737430167,
          17.315139340782128,
          17.184795283333337,
          27.446640599999995,
          39.15976302777779,
          51.40831419444447
         ]
        },
        {
         "line": {
          "color": "dodgerblue",
          "dash": "dash"
         },
         "name": "SARIMAX",
         "type": "scatter",
         "x": [
          "2021-01-25T00:00:00",
          "2021-01-26T00:00:00",
          "2021-01-27T00:00:00",
          "2021-01-28T00:00:00",
          "2021-01-29T00:00:00",
          "2021-01-30T00:00:00",
          "2021-01-31T00:00:00"
         ],
         "y": [
          75.80788006524239,
          67.12306191270103,
          65.17670003580402,
          66.69832135809118,
          89.3391749804024,
          131.3539230152054,
          155.83148527655803
         ]
        },
        {
         "line": {
          "color": "slateblue",
          "dash": "dash"
         },
         "name": "PROPHET",
         "type": "scatter",
         "x": [
          "2021-01-25T00:00:00",
          "2021-01-26T00:00:00",
          "2021-01-27T00:00:00",
          "2021-01-28T00:00:00",
          "2021-01-29T00:00:00",
          "2021-01-30T00:00:00",
          "2021-01-31T00:00:00"
         ],
         "y": [
          46.71674509100435,
          46.15520152687195,
          48.258760407196725,
          48.57337172234866,
          78.65695073062344,
          89.38860585803107,
          100.67504230132036
         ]
        },
        {
         "line": {
          "color": "hotpink",
          "dash": "dash"
         },
         "name": "Random Forest",
         "type": "scatter",
         "x": [
          "2021-01-25T00:00:00",
          "2021-01-26T00:00:00",
          "2021-01-27T00:00:00",
          "2021-01-28T00:00:00",
          "2021-01-29T00:00:00",
          "2021-01-30T00:00:00",
          "2021-01-31T00:00:00"
         ],
         "y": [
          39.52689228644514,
          46.035799386754015,
          25.85177467929752,
          49.90987640047812,
          57.73046623583106,
          86.8193549995234,
          109.97166450194403
         ]
        },
        {
         "line": {
          "color": "forestgreen",
          "dash": "dash"
         },
         "name": "XGBoost",
         "type": "scatter",
         "x": [
          "2021-01-25T00:00:00",
          "2021-01-26T00:00:00",
          "2021-01-27T00:00:00",
          "2021-01-28T00:00:00",
          "2021-01-29T00:00:00",
          "2021-01-30T00:00:00",
          "2021-01-31T00:00:00"
         ],
         "y": [
          40.666094125386174,
          44.30414244975888,
          29.835023969432584,
          42.43662887242848,
          59.62450071317615,
          89.63764930209535,
          115.93838476007043
         ]
        }
       ],
       "layout": {
        "template": {
         "data": {
          "bar": [
           {
            "error_x": {
             "color": "#2a3f5f"
            },
            "error_y": {
             "color": "#2a3f5f"
            },
            "marker": {
             "line": {
              "color": "#E5ECF6",
              "width": 0.5
             },
             "pattern": {
              "fillmode": "overlay",
              "size": 10,
              "solidity": 0.2
             }
            },
            "type": "bar"
           }
          ],
          "barpolar": [
           {
            "marker": {
             "line": {
              "color": "#E5ECF6",
              "width": 0.5
             },
             "pattern": {
              "fillmode": "overlay",
              "size": 10,
              "solidity": 0.2
             }
            },
            "type": "barpolar"
           }
          ],
          "carpet": [
           {
            "aaxis": {
             "endlinecolor": "#2a3f5f",
             "gridcolor": "white",
             "linecolor": "white",
             "minorgridcolor": "white",
             "startlinecolor": "#2a3f5f"
            },
            "baxis": {
             "endlinecolor": "#2a3f5f",
             "gridcolor": "white",
             "linecolor": "white",
             "minorgridcolor": "white",
             "startlinecolor": "#2a3f5f"
            },
            "type": "carpet"
           }
          ],
          "choropleth": [
           {
            "colorbar": {
             "outlinewidth": 0,
             "ticks": ""
            },
            "type": "choropleth"
           }
          ],
          "contour": [
           {
            "colorbar": {
             "outlinewidth": 0,
             "ticks": ""
            },
            "colorscale": [
             [
              0,
              "#0d0887"
             ],
             [
              0.1111111111111111,
              "#46039f"
             ],
             [
              0.2222222222222222,
              "#7201a8"
             ],
             [
              0.3333333333333333,
              "#9c179e"
             ],
             [
              0.4444444444444444,
              "#bd3786"
             ],
             [
              0.5555555555555556,
              "#d8576b"
             ],
             [
              0.6666666666666666,
              "#ed7953"
             ],
             [
              0.7777777777777778,
              "#fb9f3a"
             ],
             [
              0.8888888888888888,
              "#fdca26"
             ],
             [
              1,
              "#f0f921"
             ]
            ],
            "type": "contour"
           }
          ],
          "contourcarpet": [
           {
            "colorbar": {
             "outlinewidth": 0,
             "ticks": ""
            },
            "type": "contourcarpet"
           }
          ],
          "heatmap": [
           {
            "colorbar": {
             "outlinewidth": 0,
             "ticks": ""
            },
            "colorscale": [
             [
              0,
              "#0d0887"
             ],
             [
              0.1111111111111111,
              "#46039f"
             ],
             [
              0.2222222222222222,
              "#7201a8"
             ],
             [
              0.3333333333333333,
              "#9c179e"
             ],
             [
              0.4444444444444444,
              "#bd3786"
             ],
             [
              0.5555555555555556,
              "#d8576b"
             ],
             [
              0.6666666666666666,
              "#ed7953"
             ],
             [
              0.7777777777777778,
              "#fb9f3a"
             ],
             [
              0.8888888888888888,
              "#fdca26"
             ],
             [
              1,
              "#f0f921"
             ]
            ],
            "type": "heatmap"
           }
          ],
          "heatmapgl": [
           {
            "colorbar": {
             "outlinewidth": 0,
             "ticks": ""
            },
            "colorscale": [
             [
              0,
              "#0d0887"
             ],
             [
              0.1111111111111111,
              "#46039f"
             ],
             [
              0.2222222222222222,
              "#7201a8"
             ],
             [
              0.3333333333333333,
              "#9c179e"
             ],
             [
              0.4444444444444444,
              "#bd3786"
             ],
             [
              0.5555555555555556,
              "#d8576b"
             ],
             [
              0.6666666666666666,
              "#ed7953"
             ],
             [
              0.7777777777777778,
              "#fb9f3a"
             ],
             [
              0.8888888888888888,
              "#fdca26"
             ],
             [
              1,
              "#f0f921"
             ]
            ],
            "type": "heatmapgl"
           }
          ],
          "histogram": [
           {
            "marker": {
             "pattern": {
              "fillmode": "overlay",
              "size": 10,
              "solidity": 0.2
             }
            },
            "type": "histogram"
           }
          ],
          "histogram2d": [
           {
            "colorbar": {
             "outlinewidth": 0,
             "ticks": ""
            },
            "colorscale": [
             [
              0,
              "#0d0887"
             ],
             [
              0.1111111111111111,
              "#46039f"
             ],
             [
              0.2222222222222222,
              "#7201a8"
             ],
             [
              0.3333333333333333,
              "#9c179e"
             ],
             [
              0.4444444444444444,
              "#bd3786"
             ],
             [
              0.5555555555555556,
              "#d8576b"
             ],
             [
              0.6666666666666666,
              "#ed7953"
             ],
             [
              0.7777777777777778,
              "#fb9f3a"
             ],
             [
              0.8888888888888888,
              "#fdca26"
             ],
             [
              1,
              "#f0f921"
             ]
            ],
            "type": "histogram2d"
           }
          ],
          "histogram2dcontour": [
           {
            "colorbar": {
             "outlinewidth": 0,
             "ticks": ""
            },
            "colorscale": [
             [
              0,
              "#0d0887"
             ],
             [
              0.1111111111111111,
              "#46039f"
             ],
             [
              0.2222222222222222,
              "#7201a8"
             ],
             [
              0.3333333333333333,
              "#9c179e"
             ],
             [
              0.4444444444444444,
              "#bd3786"
             ],
             [
              0.5555555555555556,
              "#d8576b"
             ],
             [
              0.6666666666666666,
              "#ed7953"
             ],
             [
              0.7777777777777778,
              "#fb9f3a"
             ],
             [
              0.8888888888888888,
              "#fdca26"
             ],
             [
              1,
              "#f0f921"
             ]
            ],
            "type": "histogram2dcontour"
           }
          ],
          "mesh3d": [
           {
            "colorbar": {
             "outlinewidth": 0,
             "ticks": ""
            },
            "type": "mesh3d"
           }
          ],
          "parcoords": [
           {
            "line": {
             "colorbar": {
              "outlinewidth": 0,
              "ticks": ""
             }
            },
            "type": "parcoords"
           }
          ],
          "pie": [
           {
            "automargin": true,
            "type": "pie"
           }
          ],
          "scatter": [
           {
            "marker": {
             "colorbar": {
              "outlinewidth": 0,
              "ticks": ""
             }
            },
            "type": "scatter"
           }
          ],
          "scatter3d": [
           {
            "line": {
             "colorbar": {
              "outlinewidth": 0,
              "ticks": ""
             }
            },
            "marker": {
             "colorbar": {
              "outlinewidth": 0,
              "ticks": ""
             }
            },
            "type": "scatter3d"
           }
          ],
          "scattercarpet": [
           {
            "marker": {
             "colorbar": {
              "outlinewidth": 0,
              "ticks": ""
             }
            },
            "type": "scattercarpet"
           }
          ],
          "scattergeo": [
           {
            "marker": {
             "colorbar": {
              "outlinewidth": 0,
              "ticks": ""
             }
            },
            "type": "scattergeo"
           }
          ],
          "scattergl": [
           {
            "marker": {
             "colorbar": {
              "outlinewidth": 0,
              "ticks": ""
             }
            },
            "type": "scattergl"
           }
          ],
          "scattermapbox": [
           {
            "marker": {
             "colorbar": {
              "outlinewidth": 0,
              "ticks": ""
             }
            },
            "type": "scattermapbox"
           }
          ],
          "scatterpolar": [
           {
            "marker": {
             "colorbar": {
              "outlinewidth": 0,
              "ticks": ""
             }
            },
            "type": "scatterpolar"
           }
          ],
          "scatterpolargl": [
           {
            "marker": {
             "colorbar": {
              "outlinewidth": 0,
              "ticks": ""
             }
            },
            "type": "scatterpolargl"
           }
          ],
          "scatterternary": [
           {
            "marker": {
             "colorbar": {
              "outlinewidth": 0,
              "ticks": ""
             }
            },
            "type": "scatterternary"
           }
          ],
          "surface": [
           {
            "colorbar": {
             "outlinewidth": 0,
             "ticks": ""
            },
            "colorscale": [
             [
              0,
              "#0d0887"
             ],
             [
              0.1111111111111111,
              "#46039f"
             ],
             [
              0.2222222222222222,
              "#7201a8"
             ],
             [
              0.3333333333333333,
              "#9c179e"
             ],
             [
              0.4444444444444444,
              "#bd3786"
             ],
             [
              0.5555555555555556,
              "#d8576b"
             ],
             [
              0.6666666666666666,
              "#ed7953"
             ],
             [
              0.7777777777777778,
              "#fb9f3a"
             ],
             [
              0.8888888888888888,
              "#fdca26"
             ],
             [
              1,
              "#f0f921"
             ]
            ],
            "type": "surface"
           }
          ],
          "table": [
           {
            "cells": {
             "fill": {
              "color": "#EBF0F8"
             },
             "line": {
              "color": "white"
             }
            },
            "header": {
             "fill": {
              "color": "#C8D4E3"
             },
             "line": {
              "color": "white"
             }
            },
            "type": "table"
           }
          ]
         },
         "layout": {
          "annotationdefaults": {
           "arrowcolor": "#2a3f5f",
           "arrowhead": 0,
           "arrowwidth": 1
          },
          "autotypenumbers": "strict",
          "coloraxis": {
           "colorbar": {
            "outlinewidth": 0,
            "ticks": ""
           }
          },
          "colorscale": {
           "diverging": [
            [
             0,
             "#8e0152"
            ],
            [
             0.1,
             "#c51b7d"
            ],
            [
             0.2,
             "#de77ae"
            ],
            [
             0.3,
             "#f1b6da"
            ],
            [
             0.4,
             "#fde0ef"
            ],
            [
             0.5,
             "#f7f7f7"
            ],
            [
             0.6,
             "#e6f5d0"
            ],
            [
             0.7,
             "#b8e186"
            ],
            [
             0.8,
             "#7fbc41"
            ],
            [
             0.9,
             "#4d9221"
            ],
            [
             1,
             "#276419"
            ]
           ],
           "sequential": [
            [
             0,
             "#0d0887"
            ],
            [
             0.1111111111111111,
             "#46039f"
            ],
            [
             0.2222222222222222,
             "#7201a8"
            ],
            [
             0.3333333333333333,
             "#9c179e"
            ],
            [
             0.4444444444444444,
             "#bd3786"
            ],
            [
             0.5555555555555556,
             "#d8576b"
            ],
            [
             0.6666666666666666,
             "#ed7953"
            ],
            [
             0.7777777777777778,
             "#fb9f3a"
            ],
            [
             0.8888888888888888,
             "#fdca26"
            ],
            [
             1,
             "#f0f921"
            ]
           ],
           "sequentialminus": [
            [
             0,
             "#0d0887"
            ],
            [
             0.1111111111111111,
             "#46039f"
            ],
            [
             0.2222222222222222,
             "#7201a8"
            ],
            [
             0.3333333333333333,
             "#9c179e"
            ],
            [
             0.4444444444444444,
             "#bd3786"
            ],
            [
             0.5555555555555556,
             "#d8576b"
            ],
            [
             0.6666666666666666,
             "#ed7953"
            ],
            [
             0.7777777777777778,
             "#fb9f3a"
            ],
            [
             0.8888888888888888,
             "#fdca26"
            ],
            [
             1,
             "#f0f921"
            ]
           ]
          },
          "colorway": [
           "#636efa",
           "#EF553B",
           "#00cc96",
           "#ab63fa",
           "#FFA15A",
           "#19d3f3",
           "#FF6692",
           "#B6E880",
           "#FF97FF",
           "#FECB52"
          ],
          "font": {
           "color": "#2a3f5f"
          },
          "geo": {
           "bgcolor": "white",
           "lakecolor": "white",
           "landcolor": "#E5ECF6",
           "showlakes": true,
           "showland": true,
           "subunitcolor": "white"
          },
          "hoverlabel": {
           "align": "left"
          },
          "hovermode": "closest",
          "mapbox": {
           "style": "light"
          },
          "paper_bgcolor": "white",
          "plot_bgcolor": "#E5ECF6",
          "polar": {
           "angularaxis": {
            "gridcolor": "white",
            "linecolor": "white",
            "ticks": ""
           },
           "bgcolor": "#E5ECF6",
           "radialaxis": {
            "gridcolor": "white",
            "linecolor": "white",
            "ticks": ""
           }
          },
          "scene": {
           "xaxis": {
            "backgroundcolor": "#E5ECF6",
            "gridcolor": "white",
            "gridwidth": 2,
            "linecolor": "white",
            "showbackground": true,
            "ticks": "",
            "zerolinecolor": "white"
           },
           "yaxis": {
            "backgroundcolor": "#E5ECF6",
            "gridcolor": "white",
            "gridwidth": 2,
            "linecolor": "white",
            "showbackground": true,
            "ticks": "",
            "zerolinecolor": "white"
           },
           "zaxis": {
            "backgroundcolor": "#E5ECF6",
            "gridcolor": "white",
            "gridwidth": 2,
            "linecolor": "white",
            "showbackground": true,
            "ticks": "",
            "zerolinecolor": "white"
           }
          },
          "shapedefaults": {
           "line": {
            "color": "#2a3f5f"
           }
          },
          "ternary": {
           "aaxis": {
            "gridcolor": "white",
            "linecolor": "white",
            "ticks": ""
           },
           "baxis": {
            "gridcolor": "white",
            "linecolor": "white",
            "ticks": ""
           },
           "bgcolor": "#E5ECF6",
           "caxis": {
            "gridcolor": "white",
            "linecolor": "white",
            "ticks": ""
           }
          },
          "title": {
           "x": 0.05
          },
          "xaxis": {
           "automargin": true,
           "gridcolor": "white",
           "linecolor": "white",
           "ticks": "",
           "title": {
            "standoff": 15
           },
           "zerolinecolor": "white",
           "zerolinewidth": 2
          },
          "yaxis": {
           "automargin": true,
           "gridcolor": "white",
           "linecolor": "white",
           "ticks": "",
           "title": {
            "standoff": 15
           },
           "zerolinecolor": "white",
           "zerolinewidth": 2
          }
         }
        },
        "title": {
         "text": "Sales Forecast store_350018"
        },
        "yaxis": {
         "title": {
          "text": "Forecasts (million VND)"
         }
        }
       }
      }
     },
     "metadata": {},
     "output_type": "display_data"
    }
   ],
   "source": [
    "store = sample_ls[1]\n",
    "x = sample_fc.loc[store,'fc_SNAIVE'].index\n",
    "\n",
    "fig = go.Figure()\n",
    "\n",
    "fig.add_trace(go.Scatter(x=x, \n",
    "                         y=sample_fc.loc[store,'sales'], \n",
    "                         name='Actual sales',\n",
    "                         line={'color': 'grey'},\n",
    "                         ))\n",
    "fig.add_trace(go.Scatter(x=x, \n",
    "                         y=sample_fc.loc[store,'fc_SNAIVE'].values, \n",
    "                         name='SNAIVE',\n",
    "                         line={'color': 'salmon', 'dash': 'dash'},\n",
    "                         ))\n",
    "fig.add_trace(go.Scatter(x=x, \n",
    "                         y=sample_fc.loc[store,'fc_ARIMA'], \n",
    "                         name='SARIMAX',\n",
    "                         line={'color': 'dodgerblue', 'dash': 'dash'},\n",
    "                         ))\n",
    "fig.add_trace(go.Scatter(x=x, \n",
    "                         y=sample_fc.loc[store,'fc_PROPHET']['yhat'].values, \n",
    "                         name='PROPHET',\n",
    "                         line={'color': 'slateblue', 'dash': 'dash'},\n",
    "                         ))\n",
    "fig.add_trace(go.Scatter(x=x, \n",
    "                         y=sample_fc.loc[store,'fc_RF'].values, \n",
    "                         name='Random Forest',\n",
    "                         line={'color': 'hotpink', 'dash': 'dash'},\n",
    "                         ))\n",
    "fig.add_trace(go.Scatter(x=x, \n",
    "                         y=sample_fc.loc[store,'fc_XGB'].values, \n",
    "                         name='XGBoost',\n",
    "                         line={'color': 'forestgreen', 'dash': 'dash'},\n",
    "                         ))\n",
    "\n",
    "fig.update_layout(title='Sales Forecast ' + store)\n",
    "fig.update_yaxes(title_text='Forecasts (million VND)')\n",
    "\n",
    "fig.show()\n"
   ]
  },
  {
   "cell_type": "code",
   "execution_count": 277,
   "metadata": {},
   "outputs": [
    {
     "data": {
      "application/vnd.plotly.v1+json": {
       "config": {
        "plotlyServerURL": "https://plot.ly"
       },
       "data": [
        {
         "line": {
          "color": "grey"
         },
         "name": "Actual sales",
         "type": "scatter",
         "x": [
          "2021-01-25T00:00:00",
          "2021-01-26T00:00:00",
          "2021-01-27T00:00:00",
          "2021-01-28T00:00:00",
          "2021-01-29T00:00:00",
          "2021-01-30T00:00:00",
          "2021-01-31T00:00:00"
         ],
         "y": [
          26.1868,
          19.6689,
          26.766327,
          34.1142,
          44.485787,
          62.9638,
          98.056304
         ]
        },
        {
         "line": {
          "color": "salmon",
          "dash": "dash"
         },
         "name": "SNAIVE",
         "type": "scatter",
         "x": [
          "2021-01-25T00:00:00",
          "2021-01-26T00:00:00",
          "2021-01-27T00:00:00",
          "2021-01-28T00:00:00",
          "2021-01-29T00:00:00",
          "2021-01-30T00:00:00",
          "2021-01-31T00:00:00"
         ],
         "y": [
          17.13480231132075,
          16.464526971698106,
          19.165223311320755,
          18.02555186792452,
          25.945124556603773,
          48.86640688785047,
          60.98781828037386
         ]
        },
        {
         "line": {
          "color": "dodgerblue",
          "dash": "dash"
         },
         "name": "SARIMAX",
         "type": "scatter",
         "x": [
          "2021-01-25T00:00:00",
          "2021-01-26T00:00:00",
          "2021-01-27T00:00:00",
          "2021-01-28T00:00:00",
          "2021-01-29T00:00:00",
          "2021-01-30T00:00:00",
          "2021-01-31T00:00:00"
         ],
         "y": [
          30.710727370440367,
          25.258218878968346,
          22.291382383404105,
          29.089311688645008,
          41.1946577933502,
          81.03852867067629,
          90.95528354161046
         ]
        },
        {
         "line": {
          "color": "slateblue",
          "dash": "dash"
         },
         "name": "PROPHET",
         "type": "scatter",
         "x": [
          "2021-01-25T00:00:00",
          "2021-01-26T00:00:00",
          "2021-01-27T00:00:00",
          "2021-01-28T00:00:00",
          "2021-01-29T00:00:00",
          "2021-01-30T00:00:00",
          "2021-01-31T00:00:00"
         ],
         "y": [
          24.01907452810842,
          22.12530988285983,
          23.328996994722544,
          21.319989321498905,
          39.65783865502485,
          57.21649161915621,
          65.98913756074175
         ]
        },
        {
         "line": {
          "color": "hotpink",
          "dash": "dash"
         },
         "name": "Random Forest",
         "type": "scatter",
         "x": [
          "2021-01-25T00:00:00",
          "2021-01-26T00:00:00",
          "2021-01-27T00:00:00",
          "2021-01-28T00:00:00",
          "2021-01-29T00:00:00",
          "2021-01-30T00:00:00",
          "2021-01-31T00:00:00"
         ],
         "y": [
          30.229685792693395,
          14.94668092701634,
          30.670635916805068,
          33.11311013956199,
          44.549614257266335,
          64.43058890759815,
          93.26808450325865
         ]
        },
        {
         "line": {
          "color": "forestgreen",
          "dash": "dash"
         },
         "name": "XGBoost",
         "type": "scatter",
         "x": [
          "2021-01-25T00:00:00",
          "2021-01-26T00:00:00",
          "2021-01-27T00:00:00",
          "2021-01-28T00:00:00",
          "2021-01-29T00:00:00",
          "2021-01-30T00:00:00",
          "2021-01-31T00:00:00"
         ],
         "y": [
          28.86678024278445,
          19.724102183728924,
          27.127000359364516,
          35.95628962319266,
          45.875813373821195,
          67.71417869946669,
          93.22085948361956
         ]
        }
       ],
       "layout": {
        "template": {
         "data": {
          "bar": [
           {
            "error_x": {
             "color": "#2a3f5f"
            },
            "error_y": {
             "color": "#2a3f5f"
            },
            "marker": {
             "line": {
              "color": "#E5ECF6",
              "width": 0.5
             },
             "pattern": {
              "fillmode": "overlay",
              "size": 10,
              "solidity": 0.2
             }
            },
            "type": "bar"
           }
          ],
          "barpolar": [
           {
            "marker": {
             "line": {
              "color": "#E5ECF6",
              "width": 0.5
             },
             "pattern": {
              "fillmode": "overlay",
              "size": 10,
              "solidity": 0.2
             }
            },
            "type": "barpolar"
           }
          ],
          "carpet": [
           {
            "aaxis": {
             "endlinecolor": "#2a3f5f",
             "gridcolor": "white",
             "linecolor": "white",
             "minorgridcolor": "white",
             "startlinecolor": "#2a3f5f"
            },
            "baxis": {
             "endlinecolor": "#2a3f5f",
             "gridcolor": "white",
             "linecolor": "white",
             "minorgridcolor": "white",
             "startlinecolor": "#2a3f5f"
            },
            "type": "carpet"
           }
          ],
          "choropleth": [
           {
            "colorbar": {
             "outlinewidth": 0,
             "ticks": ""
            },
            "type": "choropleth"
           }
          ],
          "contour": [
           {
            "colorbar": {
             "outlinewidth": 0,
             "ticks": ""
            },
            "colorscale": [
             [
              0,
              "#0d0887"
             ],
             [
              0.1111111111111111,
              "#46039f"
             ],
             [
              0.2222222222222222,
              "#7201a8"
             ],
             [
              0.3333333333333333,
              "#9c179e"
             ],
             [
              0.4444444444444444,
              "#bd3786"
             ],
             [
              0.5555555555555556,
              "#d8576b"
             ],
             [
              0.6666666666666666,
              "#ed7953"
             ],
             [
              0.7777777777777778,
              "#fb9f3a"
             ],
             [
              0.8888888888888888,
              "#fdca26"
             ],
             [
              1,
              "#f0f921"
             ]
            ],
            "type": "contour"
           }
          ],
          "contourcarpet": [
           {
            "colorbar": {
             "outlinewidth": 0,
             "ticks": ""
            },
            "type": "contourcarpet"
           }
          ],
          "heatmap": [
           {
            "colorbar": {
             "outlinewidth": 0,
             "ticks": ""
            },
            "colorscale": [
             [
              0,
              "#0d0887"
             ],
             [
              0.1111111111111111,
              "#46039f"
             ],
             [
              0.2222222222222222,
              "#7201a8"
             ],
             [
              0.3333333333333333,
              "#9c179e"
             ],
             [
              0.4444444444444444,
              "#bd3786"
             ],
             [
              0.5555555555555556,
              "#d8576b"
             ],
             [
              0.6666666666666666,
              "#ed7953"
             ],
             [
              0.7777777777777778,
              "#fb9f3a"
             ],
             [
              0.8888888888888888,
              "#fdca26"
             ],
             [
              1,
              "#f0f921"
             ]
            ],
            "type": "heatmap"
           }
          ],
          "heatmapgl": [
           {
            "colorbar": {
             "outlinewidth": 0,
             "ticks": ""
            },
            "colorscale": [
             [
              0,
              "#0d0887"
             ],
             [
              0.1111111111111111,
              "#46039f"
             ],
             [
              0.2222222222222222,
              "#7201a8"
             ],
             [
              0.3333333333333333,
              "#9c179e"
             ],
             [
              0.4444444444444444,
              "#bd3786"
             ],
             [
              0.5555555555555556,
              "#d8576b"
             ],
             [
              0.6666666666666666,
              "#ed7953"
             ],
             [
              0.7777777777777778,
              "#fb9f3a"
             ],
             [
              0.8888888888888888,
              "#fdca26"
             ],
             [
              1,
              "#f0f921"
             ]
            ],
            "type": "heatmapgl"
           }
          ],
          "histogram": [
           {
            "marker": {
             "pattern": {
              "fillmode": "overlay",
              "size": 10,
              "solidity": 0.2
             }
            },
            "type": "histogram"
           }
          ],
          "histogram2d": [
           {
            "colorbar": {
             "outlinewidth": 0,
             "ticks": ""
            },
            "colorscale": [
             [
              0,
              "#0d0887"
             ],
             [
              0.1111111111111111,
              "#46039f"
             ],
             [
              0.2222222222222222,
              "#7201a8"
             ],
             [
              0.3333333333333333,
              "#9c179e"
             ],
             [
              0.4444444444444444,
              "#bd3786"
             ],
             [
              0.5555555555555556,
              "#d8576b"
             ],
             [
              0.6666666666666666,
              "#ed7953"
             ],
             [
              0.7777777777777778,
              "#fb9f3a"
             ],
             [
              0.8888888888888888,
              "#fdca26"
             ],
             [
              1,
              "#f0f921"
             ]
            ],
            "type": "histogram2d"
           }
          ],
          "histogram2dcontour": [
           {
            "colorbar": {
             "outlinewidth": 0,
             "ticks": ""
            },
            "colorscale": [
             [
              0,
              "#0d0887"
             ],
             [
              0.1111111111111111,
              "#46039f"
             ],
             [
              0.2222222222222222,
              "#7201a8"
             ],
             [
              0.3333333333333333,
              "#9c179e"
             ],
             [
              0.4444444444444444,
              "#bd3786"
             ],
             [
              0.5555555555555556,
              "#d8576b"
             ],
             [
              0.6666666666666666,
              "#ed7953"
             ],
             [
              0.7777777777777778,
              "#fb9f3a"
             ],
             [
              0.8888888888888888,
              "#fdca26"
             ],
             [
              1,
              "#f0f921"
             ]
            ],
            "type": "histogram2dcontour"
           }
          ],
          "mesh3d": [
           {
            "colorbar": {
             "outlinewidth": 0,
             "ticks": ""
            },
            "type": "mesh3d"
           }
          ],
          "parcoords": [
           {
            "line": {
             "colorbar": {
              "outlinewidth": 0,
              "ticks": ""
             }
            },
            "type": "parcoords"
           }
          ],
          "pie": [
           {
            "automargin": true,
            "type": "pie"
           }
          ],
          "scatter": [
           {
            "marker": {
             "colorbar": {
              "outlinewidth": 0,
              "ticks": ""
             }
            },
            "type": "scatter"
           }
          ],
          "scatter3d": [
           {
            "line": {
             "colorbar": {
              "outlinewidth": 0,
              "ticks": ""
             }
            },
            "marker": {
             "colorbar": {
              "outlinewidth": 0,
              "ticks": ""
             }
            },
            "type": "scatter3d"
           }
          ],
          "scattercarpet": [
           {
            "marker": {
             "colorbar": {
              "outlinewidth": 0,
              "ticks": ""
             }
            },
            "type": "scattercarpet"
           }
          ],
          "scattergeo": [
           {
            "marker": {
             "colorbar": {
              "outlinewidth": 0,
              "ticks": ""
             }
            },
            "type": "scattergeo"
           }
          ],
          "scattergl": [
           {
            "marker": {
             "colorbar": {
              "outlinewidth": 0,
              "ticks": ""
             }
            },
            "type": "scattergl"
           }
          ],
          "scattermapbox": [
           {
            "marker": {
             "colorbar": {
              "outlinewidth": 0,
              "ticks": ""
             }
            },
            "type": "scattermapbox"
           }
          ],
          "scatterpolar": [
           {
            "marker": {
             "colorbar": {
              "outlinewidth": 0,
              "ticks": ""
             }
            },
            "type": "scatterpolar"
           }
          ],
          "scatterpolargl": [
           {
            "marker": {
             "colorbar": {
              "outlinewidth": 0,
              "ticks": ""
             }
            },
            "type": "scatterpolargl"
           }
          ],
          "scatterternary": [
           {
            "marker": {
             "colorbar": {
              "outlinewidth": 0,
              "ticks": ""
             }
            },
            "type": "scatterternary"
           }
          ],
          "surface": [
           {
            "colorbar": {
             "outlinewidth": 0,
             "ticks": ""
            },
            "colorscale": [
             [
              0,
              "#0d0887"
             ],
             [
              0.1111111111111111,
              "#46039f"
             ],
             [
              0.2222222222222222,
              "#7201a8"
             ],
             [
              0.3333333333333333,
              "#9c179e"
             ],
             [
              0.4444444444444444,
              "#bd3786"
             ],
             [
              0.5555555555555556,
              "#d8576b"
             ],
             [
              0.6666666666666666,
              "#ed7953"
             ],
             [
              0.7777777777777778,
              "#fb9f3a"
             ],
             [
              0.8888888888888888,
              "#fdca26"
             ],
             [
              1,
              "#f0f921"
             ]
            ],
            "type": "surface"
           }
          ],
          "table": [
           {
            "cells": {
             "fill": {
              "color": "#EBF0F8"
             },
             "line": {
              "color": "white"
             }
            },
            "header": {
             "fill": {
              "color": "#C8D4E3"
             },
             "line": {
              "color": "white"
             }
            },
            "type": "table"
           }
          ]
         },
         "layout": {
          "annotationdefaults": {
           "arrowcolor": "#2a3f5f",
           "arrowhead": 0,
           "arrowwidth": 1
          },
          "autotypenumbers": "strict",
          "coloraxis": {
           "colorbar": {
            "outlinewidth": 0,
            "ticks": ""
           }
          },
          "colorscale": {
           "diverging": [
            [
             0,
             "#8e0152"
            ],
            [
             0.1,
             "#c51b7d"
            ],
            [
             0.2,
             "#de77ae"
            ],
            [
             0.3,
             "#f1b6da"
            ],
            [
             0.4,
             "#fde0ef"
            ],
            [
             0.5,
             "#f7f7f7"
            ],
            [
             0.6,
             "#e6f5d0"
            ],
            [
             0.7,
             "#b8e186"
            ],
            [
             0.8,
             "#7fbc41"
            ],
            [
             0.9,
             "#4d9221"
            ],
            [
             1,
             "#276419"
            ]
           ],
           "sequential": [
            [
             0,
             "#0d0887"
            ],
            [
             0.1111111111111111,
             "#46039f"
            ],
            [
             0.2222222222222222,
             "#7201a8"
            ],
            [
             0.3333333333333333,
             "#9c179e"
            ],
            [
             0.4444444444444444,
             "#bd3786"
            ],
            [
             0.5555555555555556,
             "#d8576b"
            ],
            [
             0.6666666666666666,
             "#ed7953"
            ],
            [
             0.7777777777777778,
             "#fb9f3a"
            ],
            [
             0.8888888888888888,
             "#fdca26"
            ],
            [
             1,
             "#f0f921"
            ]
           ],
           "sequentialminus": [
            [
             0,
             "#0d0887"
            ],
            [
             0.1111111111111111,
             "#46039f"
            ],
            [
             0.2222222222222222,
             "#7201a8"
            ],
            [
             0.3333333333333333,
             "#9c179e"
            ],
            [
             0.4444444444444444,
             "#bd3786"
            ],
            [
             0.5555555555555556,
             "#d8576b"
            ],
            [
             0.6666666666666666,
             "#ed7953"
            ],
            [
             0.7777777777777778,
             "#fb9f3a"
            ],
            [
             0.8888888888888888,
             "#fdca26"
            ],
            [
             1,
             "#f0f921"
            ]
           ]
          },
          "colorway": [
           "#636efa",
           "#EF553B",
           "#00cc96",
           "#ab63fa",
           "#FFA15A",
           "#19d3f3",
           "#FF6692",
           "#B6E880",
           "#FF97FF",
           "#FECB52"
          ],
          "font": {
           "color": "#2a3f5f"
          },
          "geo": {
           "bgcolor": "white",
           "lakecolor": "white",
           "landcolor": "#E5ECF6",
           "showlakes": true,
           "showland": true,
           "subunitcolor": "white"
          },
          "hoverlabel": {
           "align": "left"
          },
          "hovermode": "closest",
          "mapbox": {
           "style": "light"
          },
          "paper_bgcolor": "white",
          "plot_bgcolor": "#E5ECF6",
          "polar": {
           "angularaxis": {
            "gridcolor": "white",
            "linecolor": "white",
            "ticks": ""
           },
           "bgcolor": "#E5ECF6",
           "radialaxis": {
            "gridcolor": "white",
            "linecolor": "white",
            "ticks": ""
           }
          },
          "scene": {
           "xaxis": {
            "backgroundcolor": "#E5ECF6",
            "gridcolor": "white",
            "gridwidth": 2,
            "linecolor": "white",
            "showbackground": true,
            "ticks": "",
            "zerolinecolor": "white"
           },
           "yaxis": {
            "backgroundcolor": "#E5ECF6",
            "gridcolor": "white",
            "gridwidth": 2,
            "linecolor": "white",
            "showbackground": true,
            "ticks": "",
            "zerolinecolor": "white"
           },
           "zaxis": {
            "backgroundcolor": "#E5ECF6",
            "gridcolor": "white",
            "gridwidth": 2,
            "linecolor": "white",
            "showbackground": true,
            "ticks": "",
            "zerolinecolor": "white"
           }
          },
          "shapedefaults": {
           "line": {
            "color": "#2a3f5f"
           }
          },
          "ternary": {
           "aaxis": {
            "gridcolor": "white",
            "linecolor": "white",
            "ticks": ""
           },
           "baxis": {
            "gridcolor": "white",
            "linecolor": "white",
            "ticks": ""
           },
           "bgcolor": "#E5ECF6",
           "caxis": {
            "gridcolor": "white",
            "linecolor": "white",
            "ticks": ""
           }
          },
          "title": {
           "x": 0.05
          },
          "xaxis": {
           "automargin": true,
           "gridcolor": "white",
           "linecolor": "white",
           "ticks": "",
           "title": {
            "standoff": 15
           },
           "zerolinecolor": "white",
           "zerolinewidth": 2
          },
          "yaxis": {
           "automargin": true,
           "gridcolor": "white",
           "linecolor": "white",
           "ticks": "",
           "title": {
            "standoff": 15
           },
           "zerolinecolor": "white",
           "zerolinewidth": 2
          }
         }
        },
        "title": {
         "text": "Sales Forecast store_566790"
        },
        "yaxis": {
         "title": {
          "text": "Forecasts (million VND)"
         }
        }
       }
      }
     },
     "metadata": {},
     "output_type": "display_data"
    }
   ],
   "source": [
    "store = sample_ls[2]\n",
    "x = sample_fc.loc[store,'fc_SNAIVE'].index\n",
    "\n",
    "fig = go.Figure()\n",
    "\n",
    "fig.add_trace(go.Scatter(x=x, \n",
    "                         y=sample_fc.loc[store,'sales'], \n",
    "                         name='Actual sales',\n",
    "                         line={'color': 'grey'},\n",
    "                         ))\n",
    "fig.add_trace(go.Scatter(x=x, \n",
    "                         y=sample_fc.loc[store,'fc_SNAIVE'].values, \n",
    "                         name='SNAIVE',\n",
    "                         line={'color': 'salmon', 'dash': 'dash'},\n",
    "                         ))\n",
    "fig.add_trace(go.Scatter(x=x, \n",
    "                         y=sample_fc.loc[store,'fc_ARIMA'], \n",
    "                         name='SARIMAX',\n",
    "                         line={'color': 'dodgerblue', 'dash': 'dash'},\n",
    "                         ))\n",
    "fig.add_trace(go.Scatter(x=x, \n",
    "                         y=sample_fc.loc[store,'fc_PROPHET']['yhat'].values, \n",
    "                         name='PROPHET',\n",
    "                         line={'color': 'slateblue', 'dash': 'dash'},\n",
    "                         ))\n",
    "fig.add_trace(go.Scatter(x=x, \n",
    "                         y=sample_fc.loc[store,'fc_RF'].values, \n",
    "                         name='Random Forest',\n",
    "                         line={'color': 'hotpink', 'dash': 'dash'},\n",
    "                         ))\n",
    "fig.add_trace(go.Scatter(x=x, \n",
    "                         y=sample_fc.loc[store,'fc_XGB'].values, \n",
    "                         name='XGBoost',\n",
    "                         line={'color': 'forestgreen', 'dash': 'dash'},\n",
    "                         ))\n",
    "\n",
    "fig.update_layout(title='Sales Forecast ' + store)\n",
    "fig.update_yaxes(title_text='Forecasts (million VND)')\n",
    "\n",
    "fig.show()\n"
   ]
  },
  {
   "cell_type": "markdown",
   "metadata": {},
   "source": [
    "# horizon = 14"
   ]
  },
  {
   "cell_type": "code",
   "execution_count": 363,
   "metadata": {},
   "outputs": [],
   "source": [
    "# load data\n",
    "score_SNAIVE_14 = pd.read_pickle(\"results/f8/SNAIVE_result_14.pkl\").set_index(\"store\")\n",
    "score_ARIMA_14 = pd.read_pickle(\"results/f8/ARIMA_result_14.pkl\").set_index(\"store\")\n",
    "score_PROPHET_14 = pd.read_pickle(\"results/f8/PROPHET_result_14.pkl\").set_index(\"store\")\n",
    "score_RF_14 = pd.read_pickle(\"results/f8/RF_result_14.pkl\").set_index(\"store\")\n",
    "score_XGB_14 = pd.read_pickle(\"results/f8/XGB_result_14.pkl\").set_index(\"store\")\n",
    "\n",
    "score_ALL_14 = score_SNAIVE_14.join(score_ARIMA_14).join(score_PROPHET_14).join(score_RF_14).join(score_XGB_14).join(df)"
   ]
  },
  {
   "cell_type": "markdown",
   "metadata": {},
   "source": [
    "## MAPE & MASE"
   ]
  },
  {
   "cell_type": "code",
   "execution_count": 295,
   "metadata": {},
   "outputs": [
    {
     "data": {
      "text/html": [
       "<div>\n",
       "<style scoped>\n",
       "    .dataframe tbody tr th:only-of-type {\n",
       "        vertical-align: middle;\n",
       "    }\n",
       "\n",
       "    .dataframe tbody tr th {\n",
       "        vertical-align: top;\n",
       "    }\n",
       "\n",
       "    .dataframe thead th {\n",
       "        text-align: right;\n",
       "    }\n",
       "</style>\n",
       "<table border=\"1\" class=\"dataframe\">\n",
       "  <thead>\n",
       "    <tr style=\"text-align: right;\">\n",
       "      <th></th>\n",
       "      <th>mape_SNAIVE</th>\n",
       "      <th>mape_ARIMA</th>\n",
       "      <th>mape_PROPHET</th>\n",
       "      <th>mape_RF</th>\n",
       "      <th>mape_XGB</th>\n",
       "    </tr>\n",
       "  </thead>\n",
       "  <tbody>\n",
       "    <tr>\n",
       "      <th>mean</th>\n",
       "      <td>0.413770</td>\n",
       "      <td>0.415862</td>\n",
       "      <td>0.338375</td>\n",
       "      <td>0.131297</td>\n",
       "      <td>0.092967</td>\n",
       "    </tr>\n",
       "    <tr>\n",
       "      <th>std</th>\n",
       "      <td>0.083252</td>\n",
       "      <td>0.078126</td>\n",
       "      <td>0.098701</td>\n",
       "      <td>0.069535</td>\n",
       "      <td>0.045135</td>\n",
       "    </tr>\n",
       "  </tbody>\n",
       "</table>\n",
       "</div>"
      ],
      "text/plain": [
       "      mape_SNAIVE  mape_ARIMA  mape_PROPHET   mape_RF  mape_XGB\n",
       "mean     0.413770    0.415862      0.338375  0.131297  0.092967\n",
       "std      0.083252    0.078126      0.098701  0.069535  0.045135"
      ]
     },
     "execution_count": 295,
     "metadata": {},
     "output_type": "execute_result"
    }
   ],
   "source": [
    "# mape\n",
    "score_ALL_14.describe().filter(items=['mean','std'], axis=0).filter(like='mape', axis=1)\n"
   ]
  },
  {
   "cell_type": "code",
   "execution_count": 296,
   "metadata": {},
   "outputs": [
    {
     "data": {
      "text/html": [
       "<div>\n",
       "<style scoped>\n",
       "    .dataframe tbody tr th:only-of-type {\n",
       "        vertical-align: middle;\n",
       "    }\n",
       "\n",
       "    .dataframe tbody tr th {\n",
       "        vertical-align: top;\n",
       "    }\n",
       "\n",
       "    .dataframe thead th {\n",
       "        text-align: right;\n",
       "    }\n",
       "</style>\n",
       "<table border=\"1\" class=\"dataframe\">\n",
       "  <thead>\n",
       "    <tr style=\"text-align: right;\">\n",
       "      <th></th>\n",
       "      <th>mase_SNAIVE</th>\n",
       "      <th>mase_ARIMA</th>\n",
       "      <th>mase_PROPHET</th>\n",
       "      <th>mase_RF</th>\n",
       "      <th>mase_XGB</th>\n",
       "    </tr>\n",
       "  </thead>\n",
       "  <tbody>\n",
       "    <tr>\n",
       "      <th>mean</th>\n",
       "      <td>0.799382</td>\n",
       "      <td>0.997480</td>\n",
       "      <td>0.951572</td>\n",
       "      <td>0.295981</td>\n",
       "      <td>0.210283</td>\n",
       "    </tr>\n",
       "    <tr>\n",
       "      <th>std</th>\n",
       "      <td>0.350386</td>\n",
       "      <td>0.216448</td>\n",
       "      <td>0.203832</td>\n",
       "      <td>0.101431</td>\n",
       "      <td>0.088034</td>\n",
       "    </tr>\n",
       "  </tbody>\n",
       "</table>\n",
       "</div>"
      ],
      "text/plain": [
       "      mase_SNAIVE  mase_ARIMA  mase_PROPHET   mase_RF  mase_XGB\n",
       "mean     0.799382    0.997480      0.951572  0.295981  0.210283\n",
       "std      0.350386    0.216448      0.203832  0.101431  0.088034"
      ]
     },
     "execution_count": 296,
     "metadata": {},
     "output_type": "execute_result"
    }
   ],
   "source": [
    "# mase\n",
    "score_ALL_14.describe().filter(items=['mean','std'], axis=0).filter(like='mase', axis=1)\n"
   ]
  },
  {
   "cell_type": "markdown",
   "metadata": {},
   "source": [
    "## Visualize"
   ]
  },
  {
   "cell_type": "code",
   "execution_count": 364,
   "metadata": {},
   "outputs": [
    {
     "data": {
      "application/vnd.plotly.v1+json": {
       "config": {
        "plotlyServerURL": "https://plot.ly"
       },
       "data": [
        {
         "hovertemplate": "variable=mae_SNAIVE<br>store=%{x}<br>value=%{y}<extra></extra>",
         "legendgroup": "mae_SNAIVE",
         "line": {
          "color": "#636efa",
          "dash": "solid"
         },
         "marker": {
          "symbol": "circle"
         },
         "mode": "lines",
         "name": "mae_SNAIVE",
         "orientation": "v",
         "showlegend": true,
         "type": "scatter",
         "x": [
          "store_354468",
          "store_350056",
          "store_464495",
          "store_412585",
          "store_476061",
          "store_536898",
          "store_566792",
          "store_536902",
          "store_350026",
          "store_387240",
          "store_350046",
          "store_441997",
          "store_471477",
          "store_350028",
          "store_461349",
          "store_349998",
          "store_349978",
          "store_350016",
          "store_349962",
          "store_350054",
          "store_320264",
          "store_349952",
          "store_452387",
          "store_307248",
          "store_349924",
          "store_480733",
          "store_350040",
          "store_349972",
          "store_350060",
          "store_307244",
          "store_349958",
          "store_349980",
          "store_307222",
          "store_350018",
          "store_528854",
          "store_349920",
          "store_566790",
          "store_328165"
         ],
         "xaxis": "x",
         "y": [
          3.12025,
          3.2575000000000003,
          3.1297500000000005,
          4.0302500000000006,
          2.9885,
          3.2645,
          3.3497500000000002,
          4.6455,
          4.12225,
          3.56375,
          3.485,
          3.5340000000000003,
          4.505,
          3.09125,
          3.64,
          5.10175,
          4.48725,
          10.39625,
          3.7632499999999998,
          9.128250000000001,
          5.479,
          8.462,
          8.47575,
          6.5435,
          7.254,
          9.9795,
          6.280499999999999,
          8.684,
          11.212250000000001,
          5.4435,
          9.44275,
          9.0225,
          7.818,
          35.05925,
          12.088,
          17.87475,
          14.645750000000001,
          28.882749999999998
         ],
         "yaxis": "y"
        },
        {
         "hovertemplate": "variable=mae_ARIMA<br>store=%{x}<br>value=%{y}<extra></extra>",
         "legendgroup": "mae_ARIMA",
         "line": {
          "color": "#EF553B",
          "dash": "solid"
         },
         "marker": {
          "symbol": "circle"
         },
         "mode": "lines",
         "name": "mae_ARIMA",
         "orientation": "v",
         "showlegend": true,
         "type": "scatter",
         "x": [
          "store_354468",
          "store_350056",
          "store_464495",
          "store_412585",
          "store_476061",
          "store_536898",
          "store_566792",
          "store_536902",
          "store_350026",
          "store_387240",
          "store_350046",
          "store_441997",
          "store_471477",
          "store_350028",
          "store_461349",
          "store_349998",
          "store_349978",
          "store_350016",
          "store_349962",
          "store_350054",
          "store_320264",
          "store_349952",
          "store_452387",
          "store_307248",
          "store_349924",
          "store_480733",
          "store_350040",
          "store_349972",
          "store_350060",
          "store_307244",
          "store_349958",
          "store_349980",
          "store_307222",
          "store_350018",
          "store_528854",
          "store_349920",
          "store_566790",
          "store_328165"
         ],
         "xaxis": "x",
         "y": [
          3.16425,
          3.3779999999999997,
          3.237,
          4.22825,
          2.65425,
          3.51525,
          4.91175,
          4.5335,
          4.247999999999999,
          3.8604999999999996,
          3.2159999999999997,
          3.6425,
          4.4745,
          2.9989999999999997,
          3.6814999999999998,
          4.925,
          3.971,
          7.9045,
          4.36925,
          6.9575,
          4.921749999999999,
          8.657,
          8.45675,
          6.5495,
          7.02975,
          9.934000000000001,
          7.5104999999999995,
          8.55825,
          8.1065,
          5.87225,
          9.42425,
          9.378499999999999,
          8.331,
          19.478250000000003,
          11.12275,
          17.985,
          14.79525,
          27.31025
         ],
         "yaxis": "y"
        },
        {
         "hovertemplate": "variable=mae_PROPHET<br>store=%{x}<br>value=%{y}<extra></extra>",
         "legendgroup": "mae_PROPHET",
         "line": {
          "color": "#00cc96",
          "dash": "solid"
         },
         "marker": {
          "symbol": "circle"
         },
         "mode": "lines",
         "name": "mae_PROPHET",
         "orientation": "v",
         "showlegend": true,
         "type": "scatter",
         "x": [
          "store_354468",
          "store_350056",
          "store_464495",
          "store_412585",
          "store_476061",
          "store_536898",
          "store_566792",
          "store_536902",
          "store_350026",
          "store_387240",
          "store_350046",
          "store_441997",
          "store_471477",
          "store_350028",
          "store_461349",
          "store_349998",
          "store_349978",
          "store_350016",
          "store_349962",
          "store_350054",
          "store_320264",
          "store_349952",
          "store_452387",
          "store_307248",
          "store_349924",
          "store_480733",
          "store_350040",
          "store_349972",
          "store_350060",
          "store_307244",
          "store_349958",
          "store_349980",
          "store_307222",
          "store_350018",
          "store_528854",
          "store_349920",
          "store_566790",
          "store_328165"
         ],
         "xaxis": "x",
         "y": [
          3.726,
          3.163,
          3.539,
          4.4952499999999995,
          2.9475,
          3.36475,
          4.5112499999999995,
          3.81075,
          3.33125,
          4.00125,
          2.8735,
          3.112,
          3.34125,
          3.59875,
          4.16075,
          5.58925,
          4.734,
          6.8870000000000005,
          4.024,
          7.2802500000000006,
          4.6427499999999995,
          6.47575,
          7.8229999999999995,
          5.43775,
          6.589500000000001,
          7.195499999999999,
          7.15225,
          8.34525,
          7.48225,
          6.4875,
          9.44725,
          8.3595,
          7.07675,
          22.05725,
          10.65725,
          13.523,
          17.926000000000002,
          27.242250000000002
         ],
         "yaxis": "y"
        },
        {
         "hovertemplate": "variable=mae_RF<br>store=%{x}<br>value=%{y}<extra></extra>",
         "legendgroup": "mae_RF",
         "line": {
          "color": "#ab63fa",
          "dash": "solid"
         },
         "marker": {
          "symbol": "circle"
         },
         "mode": "lines",
         "name": "mae_RF",
         "orientation": "v",
         "showlegend": true,
         "type": "scatter",
         "x": [
          "store_354468",
          "store_350056",
          "store_464495",
          "store_412585",
          "store_476061",
          "store_536898",
          "store_566792",
          "store_536902",
          "store_350026",
          "store_387240",
          "store_350046",
          "store_441997",
          "store_471477",
          "store_350028",
          "store_461349",
          "store_349998",
          "store_349978",
          "store_350016",
          "store_349962",
          "store_350054",
          "store_320264",
          "store_349952",
          "store_452387",
          "store_307248",
          "store_349924",
          "store_480733",
          "store_350040",
          "store_349972",
          "store_350060",
          "store_307244",
          "store_349958",
          "store_349980",
          "store_307222",
          "store_350018",
          "store_528854",
          "store_349920",
          "store_566790",
          "store_328165"
         ],
         "xaxis": "x",
         "y": [
          0.8797857142857143,
          0.6865714285714287,
          0.8557142857142858,
          1.1222142857142858,
          0.5927857142857142,
          1.1104999999999998,
          1.5975714285714286,
          1.5662142857142858,
          0.928642857142857,
          1.0634285714285714,
          0.9245000000000001,
          1.2944285714285717,
          0.8719285714285713,
          0.6842857142857143,
          1.5499285714285713,
          1.4174285714285713,
          0.9091428571428571,
          2.273285714285714,
          1.2925,
          2.6409285714285713,
          1.3544285714285713,
          2.1723571428571433,
          2.2429285714285716,
          2.0242142857142857,
          2.2445714285714287,
          2.825142857142857,
          2.8599285714285716,
          2.0777142857142854,
          2.5637857142857143,
          1.3669285714285715,
          2.5354285714285716,
          1.7652857142857141,
          2.1697857142857147,
          9.193214285714287,
          3.3824285714285716,
          5.280357142857143,
          6.189071428571428,
          7.620428571428571
         ],
         "yaxis": "y"
        },
        {
         "hovertemplate": "variable=mae_XGB<br>store=%{x}<br>value=%{y}<extra></extra>",
         "legendgroup": "mae_XGB",
         "line": {
          "color": "#FFA15A",
          "dash": "solid"
         },
         "marker": {
          "symbol": "circle"
         },
         "mode": "lines",
         "name": "mae_XGB",
         "orientation": "v",
         "showlegend": true,
         "type": "scatter",
         "x": [
          "store_354468",
          "store_350056",
          "store_464495",
          "store_412585",
          "store_476061",
          "store_536898",
          "store_566792",
          "store_536902",
          "store_350026",
          "store_387240",
          "store_350046",
          "store_441997",
          "store_471477",
          "store_350028",
          "store_461349",
          "store_349998",
          "store_349978",
          "store_350016",
          "store_349962",
          "store_350054",
          "store_320264",
          "store_349952",
          "store_452387",
          "store_307248",
          "store_349924",
          "store_480733",
          "store_350040",
          "store_349972",
          "store_350060",
          "store_307244",
          "store_349958",
          "store_349980",
          "store_307222",
          "store_350018",
          "store_528854",
          "store_349920",
          "store_566790",
          "store_328165"
         ],
         "xaxis": "x",
         "y": [
          0.74275,
          0.9332499999999999,
          0.8049999999999999,
          0.87025,
          0.34575,
          1.0059999999999998,
          1.03075,
          2.29175,
          0.6969999999999998,
          0.67475,
          0.6172500000000001,
          0.8334999999999999,
          0.7122499999999999,
          0.482,
          1.0915,
          0.5115,
          0.48624999999999996,
          1.7195,
          0.8307500000000001,
          2.0445,
          1.4625,
          1.5005,
          1.23675,
          1.16675,
          1.472,
          1.7710000000000001,
          2.0205,
          1.5725,
          1.7895,
          0.5095,
          1.27075,
          1.37925,
          0.81375,
          4.6235,
          2.935,
          3.69125,
          3.93,
          5.568499999999999
         ],
         "yaxis": "y"
        },
        {
         "hovertemplate": "variable=sales_daily_mean<br>store=%{x}<br>value=%{y}<extra></extra>",
         "legendgroup": "sales_daily_mean",
         "line": {
          "color": "#19d3f3",
          "dash": "solid"
         },
         "marker": {
          "symbol": "circle"
         },
         "mode": "lines",
         "name": "sales_daily_mean",
         "orientation": "v",
         "showlegend": true,
         "type": "scatter",
         "x": [
          "store_354468",
          "store_350056",
          "store_464495",
          "store_412585",
          "store_476061",
          "store_536898",
          "store_566792",
          "store_536902",
          "store_350026",
          "store_387240",
          "store_350046",
          "store_441997",
          "store_471477",
          "store_350028",
          "store_461349",
          "store_349998",
          "store_349978",
          "store_350016",
          "store_349962",
          "store_350054",
          "store_320264",
          "store_349952",
          "store_452387",
          "store_307248",
          "store_349924",
          "store_480733",
          "store_350040",
          "store_349972",
          "store_350060",
          "store_307244",
          "store_349958",
          "store_349980",
          "store_307222",
          "store_350018",
          "store_528854",
          "store_349920",
          "store_566790",
          "store_328165"
         ],
         "xaxis": "x",
         "y": [
          5.3949370732099755,
          5.644423141719746,
          6.131559306613227,
          6.65232694806338,
          6.802493379733879,
          7.689827226076555,
          7.918151231065469,
          8.128634006188118,
          8.595752274742676,
          8.865777858482524,
          8.889248126205787,
          9.093525323639774,
          9.497864512948208,
          9.561699235154395,
          9.700862558116233,
          11.690823179343475,
          11.87946448101266,
          12.810065702531645,
          13.203898593824228,
          13.379235831858407,
          14.814896284235669,
          15.223177735294119,
          15.289330993288592,
          16.02775148575949,
          16.074383460443038,
          16.752596425531916,
          16.9676528,
          18.191460238057328,
          18.407776163103723,
          19.27541778678206,
          21.31322546123418,
          22.365404250989705,
          24.74896448822606,
          26.589623412183546,
          29.003780686114354,
          29.50304635233571,
          29.721143125166446,
          44.43775212264151
         ],
         "yaxis": "y"
        }
       ],
       "layout": {
        "legend": {
         "title": {
          "text": "variable"
         },
         "tracegroupgap": 0
        },
        "margin": {
         "t": 60
        },
        "template": {
         "data": {
          "bar": [
           {
            "error_x": {
             "color": "#2a3f5f"
            },
            "error_y": {
             "color": "#2a3f5f"
            },
            "marker": {
             "line": {
              "color": "#E5ECF6",
              "width": 0.5
             },
             "pattern": {
              "fillmode": "overlay",
              "size": 10,
              "solidity": 0.2
             }
            },
            "type": "bar"
           }
          ],
          "barpolar": [
           {
            "marker": {
             "line": {
              "color": "#E5ECF6",
              "width": 0.5
             },
             "pattern": {
              "fillmode": "overlay",
              "size": 10,
              "solidity": 0.2
             }
            },
            "type": "barpolar"
           }
          ],
          "carpet": [
           {
            "aaxis": {
             "endlinecolor": "#2a3f5f",
             "gridcolor": "white",
             "linecolor": "white",
             "minorgridcolor": "white",
             "startlinecolor": "#2a3f5f"
            },
            "baxis": {
             "endlinecolor": "#2a3f5f",
             "gridcolor": "white",
             "linecolor": "white",
             "minorgridcolor": "white",
             "startlinecolor": "#2a3f5f"
            },
            "type": "carpet"
           }
          ],
          "choropleth": [
           {
            "colorbar": {
             "outlinewidth": 0,
             "ticks": ""
            },
            "type": "choropleth"
           }
          ],
          "contour": [
           {
            "colorbar": {
             "outlinewidth": 0,
             "ticks": ""
            },
            "colorscale": [
             [
              0,
              "#0d0887"
             ],
             [
              0.1111111111111111,
              "#46039f"
             ],
             [
              0.2222222222222222,
              "#7201a8"
             ],
             [
              0.3333333333333333,
              "#9c179e"
             ],
             [
              0.4444444444444444,
              "#bd3786"
             ],
             [
              0.5555555555555556,
              "#d8576b"
             ],
             [
              0.6666666666666666,
              "#ed7953"
             ],
             [
              0.7777777777777778,
              "#fb9f3a"
             ],
             [
              0.8888888888888888,
              "#fdca26"
             ],
             [
              1,
              "#f0f921"
             ]
            ],
            "type": "contour"
           }
          ],
          "contourcarpet": [
           {
            "colorbar": {
             "outlinewidth": 0,
             "ticks": ""
            },
            "type": "contourcarpet"
           }
          ],
          "heatmap": [
           {
            "colorbar": {
             "outlinewidth": 0,
             "ticks": ""
            },
            "colorscale": [
             [
              0,
              "#0d0887"
             ],
             [
              0.1111111111111111,
              "#46039f"
             ],
             [
              0.2222222222222222,
              "#7201a8"
             ],
             [
              0.3333333333333333,
              "#9c179e"
             ],
             [
              0.4444444444444444,
              "#bd3786"
             ],
             [
              0.5555555555555556,
              "#d8576b"
             ],
             [
              0.6666666666666666,
              "#ed7953"
             ],
             [
              0.7777777777777778,
              "#fb9f3a"
             ],
             [
              0.8888888888888888,
              "#fdca26"
             ],
             [
              1,
              "#f0f921"
             ]
            ],
            "type": "heatmap"
           }
          ],
          "heatmapgl": [
           {
            "colorbar": {
             "outlinewidth": 0,
             "ticks": ""
            },
            "colorscale": [
             [
              0,
              "#0d0887"
             ],
             [
              0.1111111111111111,
              "#46039f"
             ],
             [
              0.2222222222222222,
              "#7201a8"
             ],
             [
              0.3333333333333333,
              "#9c179e"
             ],
             [
              0.4444444444444444,
              "#bd3786"
             ],
             [
              0.5555555555555556,
              "#d8576b"
             ],
             [
              0.6666666666666666,
              "#ed7953"
             ],
             [
              0.7777777777777778,
              "#fb9f3a"
             ],
             [
              0.8888888888888888,
              "#fdca26"
             ],
             [
              1,
              "#f0f921"
             ]
            ],
            "type": "heatmapgl"
           }
          ],
          "histogram": [
           {
            "marker": {
             "pattern": {
              "fillmode": "overlay",
              "size": 10,
              "solidity": 0.2
             }
            },
            "type": "histogram"
           }
          ],
          "histogram2d": [
           {
            "colorbar": {
             "outlinewidth": 0,
             "ticks": ""
            },
            "colorscale": [
             [
              0,
              "#0d0887"
             ],
             [
              0.1111111111111111,
              "#46039f"
             ],
             [
              0.2222222222222222,
              "#7201a8"
             ],
             [
              0.3333333333333333,
              "#9c179e"
             ],
             [
              0.4444444444444444,
              "#bd3786"
             ],
             [
              0.5555555555555556,
              "#d8576b"
             ],
             [
              0.6666666666666666,
              "#ed7953"
             ],
             [
              0.7777777777777778,
              "#fb9f3a"
             ],
             [
              0.8888888888888888,
              "#fdca26"
             ],
             [
              1,
              "#f0f921"
             ]
            ],
            "type": "histogram2d"
           }
          ],
          "histogram2dcontour": [
           {
            "colorbar": {
             "outlinewidth": 0,
             "ticks": ""
            },
            "colorscale": [
             [
              0,
              "#0d0887"
             ],
             [
              0.1111111111111111,
              "#46039f"
             ],
             [
              0.2222222222222222,
              "#7201a8"
             ],
             [
              0.3333333333333333,
              "#9c179e"
             ],
             [
              0.4444444444444444,
              "#bd3786"
             ],
             [
              0.5555555555555556,
              "#d8576b"
             ],
             [
              0.6666666666666666,
              "#ed7953"
             ],
             [
              0.7777777777777778,
              "#fb9f3a"
             ],
             [
              0.8888888888888888,
              "#fdca26"
             ],
             [
              1,
              "#f0f921"
             ]
            ],
            "type": "histogram2dcontour"
           }
          ],
          "mesh3d": [
           {
            "colorbar": {
             "outlinewidth": 0,
             "ticks": ""
            },
            "type": "mesh3d"
           }
          ],
          "parcoords": [
           {
            "line": {
             "colorbar": {
              "outlinewidth": 0,
              "ticks": ""
             }
            },
            "type": "parcoords"
           }
          ],
          "pie": [
           {
            "automargin": true,
            "type": "pie"
           }
          ],
          "scatter": [
           {
            "marker": {
             "colorbar": {
              "outlinewidth": 0,
              "ticks": ""
             }
            },
            "type": "scatter"
           }
          ],
          "scatter3d": [
           {
            "line": {
             "colorbar": {
              "outlinewidth": 0,
              "ticks": ""
             }
            },
            "marker": {
             "colorbar": {
              "outlinewidth": 0,
              "ticks": ""
             }
            },
            "type": "scatter3d"
           }
          ],
          "scattercarpet": [
           {
            "marker": {
             "colorbar": {
              "outlinewidth": 0,
              "ticks": ""
             }
            },
            "type": "scattercarpet"
           }
          ],
          "scattergeo": [
           {
            "marker": {
             "colorbar": {
              "outlinewidth": 0,
              "ticks": ""
             }
            },
            "type": "scattergeo"
           }
          ],
          "scattergl": [
           {
            "marker": {
             "colorbar": {
              "outlinewidth": 0,
              "ticks": ""
             }
            },
            "type": "scattergl"
           }
          ],
          "scattermapbox": [
           {
            "marker": {
             "colorbar": {
              "outlinewidth": 0,
              "ticks": ""
             }
            },
            "type": "scattermapbox"
           }
          ],
          "scatterpolar": [
           {
            "marker": {
             "colorbar": {
              "outlinewidth": 0,
              "ticks": ""
             }
            },
            "type": "scatterpolar"
           }
          ],
          "scatterpolargl": [
           {
            "marker": {
             "colorbar": {
              "outlinewidth": 0,
              "ticks": ""
             }
            },
            "type": "scatterpolargl"
           }
          ],
          "scatterternary": [
           {
            "marker": {
             "colorbar": {
              "outlinewidth": 0,
              "ticks": ""
             }
            },
            "type": "scatterternary"
           }
          ],
          "surface": [
           {
            "colorbar": {
             "outlinewidth": 0,
             "ticks": ""
            },
            "colorscale": [
             [
              0,
              "#0d0887"
             ],
             [
              0.1111111111111111,
              "#46039f"
             ],
             [
              0.2222222222222222,
              "#7201a8"
             ],
             [
              0.3333333333333333,
              "#9c179e"
             ],
             [
              0.4444444444444444,
              "#bd3786"
             ],
             [
              0.5555555555555556,
              "#d8576b"
             ],
             [
              0.6666666666666666,
              "#ed7953"
             ],
             [
              0.7777777777777778,
              "#fb9f3a"
             ],
             [
              0.8888888888888888,
              "#fdca26"
             ],
             [
              1,
              "#f0f921"
             ]
            ],
            "type": "surface"
           }
          ],
          "table": [
           {
            "cells": {
             "fill": {
              "color": "#EBF0F8"
             },
             "line": {
              "color": "white"
             }
            },
            "header": {
             "fill": {
              "color": "#C8D4E3"
             },
             "line": {
              "color": "white"
             }
            },
            "type": "table"
           }
          ]
         },
         "layout": {
          "annotationdefaults": {
           "arrowcolor": "#2a3f5f",
           "arrowhead": 0,
           "arrowwidth": 1
          },
          "autotypenumbers": "strict",
          "coloraxis": {
           "colorbar": {
            "outlinewidth": 0,
            "ticks": ""
           }
          },
          "colorscale": {
           "diverging": [
            [
             0,
             "#8e0152"
            ],
            [
             0.1,
             "#c51b7d"
            ],
            [
             0.2,
             "#de77ae"
            ],
            [
             0.3,
             "#f1b6da"
            ],
            [
             0.4,
             "#fde0ef"
            ],
            [
             0.5,
             "#f7f7f7"
            ],
            [
             0.6,
             "#e6f5d0"
            ],
            [
             0.7,
             "#b8e186"
            ],
            [
             0.8,
             "#7fbc41"
            ],
            [
             0.9,
             "#4d9221"
            ],
            [
             1,
             "#276419"
            ]
           ],
           "sequential": [
            [
             0,
             "#0d0887"
            ],
            [
             0.1111111111111111,
             "#46039f"
            ],
            [
             0.2222222222222222,
             "#7201a8"
            ],
            [
             0.3333333333333333,
             "#9c179e"
            ],
            [
             0.4444444444444444,
             "#bd3786"
            ],
            [
             0.5555555555555556,
             "#d8576b"
            ],
            [
             0.6666666666666666,
             "#ed7953"
            ],
            [
             0.7777777777777778,
             "#fb9f3a"
            ],
            [
             0.8888888888888888,
             "#fdca26"
            ],
            [
             1,
             "#f0f921"
            ]
           ],
           "sequentialminus": [
            [
             0,
             "#0d0887"
            ],
            [
             0.1111111111111111,
             "#46039f"
            ],
            [
             0.2222222222222222,
             "#7201a8"
            ],
            [
             0.3333333333333333,
             "#9c179e"
            ],
            [
             0.4444444444444444,
             "#bd3786"
            ],
            [
             0.5555555555555556,
             "#d8576b"
            ],
            [
             0.6666666666666666,
             "#ed7953"
            ],
            [
             0.7777777777777778,
             "#fb9f3a"
            ],
            [
             0.8888888888888888,
             "#fdca26"
            ],
            [
             1,
             "#f0f921"
            ]
           ]
          },
          "colorway": [
           "#636efa",
           "#EF553B",
           "#00cc96",
           "#ab63fa",
           "#FFA15A",
           "#19d3f3",
           "#FF6692",
           "#B6E880",
           "#FF97FF",
           "#FECB52"
          ],
          "font": {
           "color": "#2a3f5f"
          },
          "geo": {
           "bgcolor": "white",
           "lakecolor": "white",
           "landcolor": "#E5ECF6",
           "showlakes": true,
           "showland": true,
           "subunitcolor": "white"
          },
          "hoverlabel": {
           "align": "left"
          },
          "hovermode": "closest",
          "mapbox": {
           "style": "light"
          },
          "paper_bgcolor": "white",
          "plot_bgcolor": "#E5ECF6",
          "polar": {
           "angularaxis": {
            "gridcolor": "white",
            "linecolor": "white",
            "ticks": ""
           },
           "bgcolor": "#E5ECF6",
           "radialaxis": {
            "gridcolor": "white",
            "linecolor": "white",
            "ticks": ""
           }
          },
          "scene": {
           "xaxis": {
            "backgroundcolor": "#E5ECF6",
            "gridcolor": "white",
            "gridwidth": 2,
            "linecolor": "white",
            "showbackground": true,
            "ticks": "",
            "zerolinecolor": "white"
           },
           "yaxis": {
            "backgroundcolor": "#E5ECF6",
            "gridcolor": "white",
            "gridwidth": 2,
            "linecolor": "white",
            "showbackground": true,
            "ticks": "",
            "zerolinecolor": "white"
           },
           "zaxis": {
            "backgroundcolor": "#E5ECF6",
            "gridcolor": "white",
            "gridwidth": 2,
            "linecolor": "white",
            "showbackground": true,
            "ticks": "",
            "zerolinecolor": "white"
           }
          },
          "shapedefaults": {
           "line": {
            "color": "#2a3f5f"
           }
          },
          "ternary": {
           "aaxis": {
            "gridcolor": "white",
            "linecolor": "white",
            "ticks": ""
           },
           "baxis": {
            "gridcolor": "white",
            "linecolor": "white",
            "ticks": ""
           },
           "bgcolor": "#E5ECF6",
           "caxis": {
            "gridcolor": "white",
            "linecolor": "white",
            "ticks": ""
           }
          },
          "title": {
           "x": 0.05
          },
          "xaxis": {
           "automargin": true,
           "gridcolor": "white",
           "linecolor": "white",
           "ticks": "",
           "title": {
            "standoff": 15
           },
           "zerolinecolor": "white",
           "zerolinewidth": 2
          },
          "yaxis": {
           "automargin": true,
           "gridcolor": "white",
           "linecolor": "white",
           "ticks": "",
           "title": {
            "standoff": 15
           },
           "zerolinecolor": "white",
           "zerolinewidth": 2
          }
         }
        },
        "xaxis": {
         "anchor": "y",
         "domain": [
          0,
          1
         ],
         "title": {
          "text": "store"
         }
        },
        "yaxis": {
         "anchor": "x",
         "domain": [
          0,
          1
         ],
         "title": {
          "text": "value"
         }
        }
       }
      }
     },
     "metadata": {},
     "output_type": "display_data"
    }
   ],
   "source": [
    "score_ALL_14.filter(like=\"mae\", axis=1).join(\n",
    "    score_ALL_14[[\"sales_daily_mean\"]]\n",
    ").sort_values(\"sales_daily_mean\").plot()\n"
   ]
  },
  {
   "cell_type": "code",
   "execution_count": 365,
   "metadata": {},
   "outputs": [
    {
     "data": {
      "application/vnd.plotly.v1+json": {
       "config": {
        "plotlyServerURL": "https://plot.ly"
       },
       "data": [
        {
         "hovertemplate": "variable=mae_SNAIVE<br>store=%{x}<br>value=%{y}<extra></extra>",
         "legendgroup": "mae_SNAIVE",
         "line": {
          "color": "#636efa",
          "dash": "solid"
         },
         "marker": {
          "symbol": "circle"
         },
         "mode": "lines",
         "name": "mae_SNAIVE",
         "orientation": "v",
         "showlegend": true,
         "type": "scatter",
         "x": [
          "store_307222",
          "store_307244",
          "store_307248",
          "store_320264",
          "store_328165",
          "store_349920",
          "store_349924",
          "store_349952",
          "store_349958",
          "store_349962",
          "store_349972",
          "store_349978",
          "store_349980",
          "store_349998",
          "store_350016",
          "store_350018",
          "store_350026",
          "store_350028",
          "store_350040",
          "store_350046",
          "store_350054",
          "store_350056",
          "store_350060",
          "store_354468",
          "store_387240",
          "store_412585",
          "store_441997",
          "store_452387",
          "store_461349",
          "store_464495",
          "store_471477",
          "store_476061",
          "store_480733",
          "store_528854",
          "store_536898",
          "store_536902",
          "store_566790",
          "store_566792"
         ],
         "xaxis": "x",
         "y": [
          7.818,
          5.4435,
          6.5435,
          5.479,
          28.882749999999998,
          17.87475,
          7.254,
          8.462,
          9.44275,
          3.7632499999999998,
          8.684,
          4.48725,
          9.0225,
          5.10175,
          10.39625,
          35.05925,
          4.12225,
          3.09125,
          6.280499999999999,
          3.485,
          9.128250000000001,
          3.2575000000000003,
          11.212250000000001,
          3.12025,
          3.56375,
          4.0302500000000006,
          3.5340000000000003,
          8.47575,
          3.64,
          3.1297500000000005,
          4.505,
          2.9885,
          9.9795,
          12.088,
          3.2645,
          4.6455,
          14.645750000000001,
          3.3497500000000002
         ],
         "yaxis": "y"
        },
        {
         "hovertemplate": "variable=mae_ARIMA<br>store=%{x}<br>value=%{y}<extra></extra>",
         "legendgroup": "mae_ARIMA",
         "line": {
          "color": "#EF553B",
          "dash": "solid"
         },
         "marker": {
          "symbol": "circle"
         },
         "mode": "lines",
         "name": "mae_ARIMA",
         "orientation": "v",
         "showlegend": true,
         "type": "scatter",
         "x": [
          "store_307222",
          "store_307244",
          "store_307248",
          "store_320264",
          "store_328165",
          "store_349920",
          "store_349924",
          "store_349952",
          "store_349958",
          "store_349962",
          "store_349972",
          "store_349978",
          "store_349980",
          "store_349998",
          "store_350016",
          "store_350018",
          "store_350026",
          "store_350028",
          "store_350040",
          "store_350046",
          "store_350054",
          "store_350056",
          "store_350060",
          "store_354468",
          "store_387240",
          "store_412585",
          "store_441997",
          "store_452387",
          "store_461349",
          "store_464495",
          "store_471477",
          "store_476061",
          "store_480733",
          "store_528854",
          "store_536898",
          "store_536902",
          "store_566790",
          "store_566792"
         ],
         "xaxis": "x",
         "y": [
          8.331,
          5.87225,
          6.5495,
          4.921749999999999,
          27.31025,
          17.985,
          7.02975,
          8.657,
          9.42425,
          4.36925,
          8.55825,
          3.971,
          9.378499999999999,
          4.925,
          7.9045,
          19.478250000000003,
          4.247999999999999,
          2.9989999999999997,
          7.5104999999999995,
          3.2159999999999997,
          6.9575,
          3.3779999999999997,
          8.1065,
          3.16425,
          3.8604999999999996,
          4.22825,
          3.6425,
          8.45675,
          3.6814999999999998,
          3.237,
          4.4745,
          2.65425,
          9.934000000000001,
          11.12275,
          3.51525,
          4.5335,
          14.79525,
          4.91175
         ],
         "yaxis": "y"
        },
        {
         "hovertemplate": "variable=mae_PROPHET<br>store=%{x}<br>value=%{y}<extra></extra>",
         "legendgroup": "mae_PROPHET",
         "line": {
          "color": "#00cc96",
          "dash": "solid"
         },
         "marker": {
          "symbol": "circle"
         },
         "mode": "lines",
         "name": "mae_PROPHET",
         "orientation": "v",
         "showlegend": true,
         "type": "scatter",
         "x": [
          "store_307222",
          "store_307244",
          "store_307248",
          "store_320264",
          "store_328165",
          "store_349920",
          "store_349924",
          "store_349952",
          "store_349958",
          "store_349962",
          "store_349972",
          "store_349978",
          "store_349980",
          "store_349998",
          "store_350016",
          "store_350018",
          "store_350026",
          "store_350028",
          "store_350040",
          "store_350046",
          "store_350054",
          "store_350056",
          "store_350060",
          "store_354468",
          "store_387240",
          "store_412585",
          "store_441997",
          "store_452387",
          "store_461349",
          "store_464495",
          "store_471477",
          "store_476061",
          "store_480733",
          "store_528854",
          "store_536898",
          "store_536902",
          "store_566790",
          "store_566792"
         ],
         "xaxis": "x",
         "y": [
          7.07675,
          6.4875,
          5.43775,
          4.6427499999999995,
          27.242250000000002,
          13.523,
          6.589500000000001,
          6.47575,
          9.44725,
          4.024,
          8.34525,
          4.734,
          8.3595,
          5.58925,
          6.8870000000000005,
          22.05725,
          3.33125,
          3.59875,
          7.15225,
          2.8735,
          7.2802500000000006,
          3.163,
          7.48225,
          3.726,
          4.00125,
          4.4952499999999995,
          3.112,
          7.8229999999999995,
          4.16075,
          3.539,
          3.34125,
          2.9475,
          7.195499999999999,
          10.65725,
          3.36475,
          3.81075,
          17.926000000000002,
          4.5112499999999995
         ],
         "yaxis": "y"
        },
        {
         "hovertemplate": "variable=mae_RF<br>store=%{x}<br>value=%{y}<extra></extra>",
         "legendgroup": "mae_RF",
         "line": {
          "color": "#ab63fa",
          "dash": "solid"
         },
         "marker": {
          "symbol": "circle"
         },
         "mode": "lines",
         "name": "mae_RF",
         "orientation": "v",
         "showlegend": true,
         "type": "scatter",
         "x": [
          "store_307222",
          "store_307244",
          "store_307248",
          "store_320264",
          "store_328165",
          "store_349920",
          "store_349924",
          "store_349952",
          "store_349958",
          "store_349962",
          "store_349972",
          "store_349978",
          "store_349980",
          "store_349998",
          "store_350016",
          "store_350018",
          "store_350026",
          "store_350028",
          "store_350040",
          "store_350046",
          "store_350054",
          "store_350056",
          "store_350060",
          "store_354468",
          "store_387240",
          "store_412585",
          "store_441997",
          "store_452387",
          "store_461349",
          "store_464495",
          "store_471477",
          "store_476061",
          "store_480733",
          "store_528854",
          "store_536898",
          "store_536902",
          "store_566790",
          "store_566792"
         ],
         "xaxis": "x",
         "y": [
          2.1697857142857147,
          1.3669285714285715,
          2.0242142857142857,
          1.3544285714285713,
          7.620428571428571,
          5.280357142857143,
          2.2445714285714287,
          2.1723571428571433,
          2.5354285714285716,
          1.2925,
          2.0777142857142854,
          0.9091428571428571,
          1.7652857142857141,
          1.4174285714285713,
          2.273285714285714,
          9.193214285714287,
          0.928642857142857,
          0.6842857142857143,
          2.8599285714285716,
          0.9245000000000001,
          2.6409285714285713,
          0.6865714285714287,
          2.5637857142857143,
          0.8797857142857143,
          1.0634285714285714,
          1.1222142857142858,
          1.2944285714285717,
          2.2429285714285716,
          1.5499285714285713,
          0.8557142857142858,
          0.8719285714285713,
          0.5927857142857142,
          2.825142857142857,
          3.3824285714285716,
          1.1104999999999998,
          1.5662142857142858,
          6.189071428571428,
          1.5975714285714286
         ],
         "yaxis": "y"
        },
        {
         "hovertemplate": "variable=mae_XGB<br>store=%{x}<br>value=%{y}<extra></extra>",
         "legendgroup": "mae_XGB",
         "line": {
          "color": "#FFA15A",
          "dash": "solid"
         },
         "marker": {
          "symbol": "circle"
         },
         "mode": "lines",
         "name": "mae_XGB",
         "orientation": "v",
         "showlegend": true,
         "type": "scatter",
         "x": [
          "store_307222",
          "store_307244",
          "store_307248",
          "store_320264",
          "store_328165",
          "store_349920",
          "store_349924",
          "store_349952",
          "store_349958",
          "store_349962",
          "store_349972",
          "store_349978",
          "store_349980",
          "store_349998",
          "store_350016",
          "store_350018",
          "store_350026",
          "store_350028",
          "store_350040",
          "store_350046",
          "store_350054",
          "store_350056",
          "store_350060",
          "store_354468",
          "store_387240",
          "store_412585",
          "store_441997",
          "store_452387",
          "store_461349",
          "store_464495",
          "store_471477",
          "store_476061",
          "store_480733",
          "store_528854",
          "store_536898",
          "store_536902",
          "store_566790",
          "store_566792"
         ],
         "xaxis": "x",
         "y": [
          0.81375,
          0.5095,
          1.16675,
          1.4625,
          5.568499999999999,
          3.69125,
          1.472,
          1.5005,
          1.27075,
          0.8307500000000001,
          1.5725,
          0.48624999999999996,
          1.37925,
          0.5115,
          1.7195,
          4.6235,
          0.6969999999999998,
          0.482,
          2.0205,
          0.6172500000000001,
          2.0445,
          0.9332499999999999,
          1.7895,
          0.74275,
          0.67475,
          0.87025,
          0.8334999999999999,
          1.23675,
          1.0915,
          0.8049999999999999,
          0.7122499999999999,
          0.34575,
          1.7710000000000001,
          2.935,
          1.0059999999999998,
          2.29175,
          3.93,
          1.03075
         ],
         "yaxis": "y"
        }
       ],
       "layout": {
        "legend": {
         "title": {
          "text": "variable"
         },
         "tracegroupgap": 0
        },
        "margin": {
         "t": 60
        },
        "template": {
         "data": {
          "bar": [
           {
            "error_x": {
             "color": "#2a3f5f"
            },
            "error_y": {
             "color": "#2a3f5f"
            },
            "marker": {
             "line": {
              "color": "#E5ECF6",
              "width": 0.5
             },
             "pattern": {
              "fillmode": "overlay",
              "size": 10,
              "solidity": 0.2
             }
            },
            "type": "bar"
           }
          ],
          "barpolar": [
           {
            "marker": {
             "line": {
              "color": "#E5ECF6",
              "width": 0.5
             },
             "pattern": {
              "fillmode": "overlay",
              "size": 10,
              "solidity": 0.2
             }
            },
            "type": "barpolar"
           }
          ],
          "carpet": [
           {
            "aaxis": {
             "endlinecolor": "#2a3f5f",
             "gridcolor": "white",
             "linecolor": "white",
             "minorgridcolor": "white",
             "startlinecolor": "#2a3f5f"
            },
            "baxis": {
             "endlinecolor": "#2a3f5f",
             "gridcolor": "white",
             "linecolor": "white",
             "minorgridcolor": "white",
             "startlinecolor": "#2a3f5f"
            },
            "type": "carpet"
           }
          ],
          "choropleth": [
           {
            "colorbar": {
             "outlinewidth": 0,
             "ticks": ""
            },
            "type": "choropleth"
           }
          ],
          "contour": [
           {
            "colorbar": {
             "outlinewidth": 0,
             "ticks": ""
            },
            "colorscale": [
             [
              0,
              "#0d0887"
             ],
             [
              0.1111111111111111,
              "#46039f"
             ],
             [
              0.2222222222222222,
              "#7201a8"
             ],
             [
              0.3333333333333333,
              "#9c179e"
             ],
             [
              0.4444444444444444,
              "#bd3786"
             ],
             [
              0.5555555555555556,
              "#d8576b"
             ],
             [
              0.6666666666666666,
              "#ed7953"
             ],
             [
              0.7777777777777778,
              "#fb9f3a"
             ],
             [
              0.8888888888888888,
              "#fdca26"
             ],
             [
              1,
              "#f0f921"
             ]
            ],
            "type": "contour"
           }
          ],
          "contourcarpet": [
           {
            "colorbar": {
             "outlinewidth": 0,
             "ticks": ""
            },
            "type": "contourcarpet"
           }
          ],
          "heatmap": [
           {
            "colorbar": {
             "outlinewidth": 0,
             "ticks": ""
            },
            "colorscale": [
             [
              0,
              "#0d0887"
             ],
             [
              0.1111111111111111,
              "#46039f"
             ],
             [
              0.2222222222222222,
              "#7201a8"
             ],
             [
              0.3333333333333333,
              "#9c179e"
             ],
             [
              0.4444444444444444,
              "#bd3786"
             ],
             [
              0.5555555555555556,
              "#d8576b"
             ],
             [
              0.6666666666666666,
              "#ed7953"
             ],
             [
              0.7777777777777778,
              "#fb9f3a"
             ],
             [
              0.8888888888888888,
              "#fdca26"
             ],
             [
              1,
              "#f0f921"
             ]
            ],
            "type": "heatmap"
           }
          ],
          "heatmapgl": [
           {
            "colorbar": {
             "outlinewidth": 0,
             "ticks": ""
            },
            "colorscale": [
             [
              0,
              "#0d0887"
             ],
             [
              0.1111111111111111,
              "#46039f"
             ],
             [
              0.2222222222222222,
              "#7201a8"
             ],
             [
              0.3333333333333333,
              "#9c179e"
             ],
             [
              0.4444444444444444,
              "#bd3786"
             ],
             [
              0.5555555555555556,
              "#d8576b"
             ],
             [
              0.6666666666666666,
              "#ed7953"
             ],
             [
              0.7777777777777778,
              "#fb9f3a"
             ],
             [
              0.8888888888888888,
              "#fdca26"
             ],
             [
              1,
              "#f0f921"
             ]
            ],
            "type": "heatmapgl"
           }
          ],
          "histogram": [
           {
            "marker": {
             "pattern": {
              "fillmode": "overlay",
              "size": 10,
              "solidity": 0.2
             }
            },
            "type": "histogram"
           }
          ],
          "histogram2d": [
           {
            "colorbar": {
             "outlinewidth": 0,
             "ticks": ""
            },
            "colorscale": [
             [
              0,
              "#0d0887"
             ],
             [
              0.1111111111111111,
              "#46039f"
             ],
             [
              0.2222222222222222,
              "#7201a8"
             ],
             [
              0.3333333333333333,
              "#9c179e"
             ],
             [
              0.4444444444444444,
              "#bd3786"
             ],
             [
              0.5555555555555556,
              "#d8576b"
             ],
             [
              0.6666666666666666,
              "#ed7953"
             ],
             [
              0.7777777777777778,
              "#fb9f3a"
             ],
             [
              0.8888888888888888,
              "#fdca26"
             ],
             [
              1,
              "#f0f921"
             ]
            ],
            "type": "histogram2d"
           }
          ],
          "histogram2dcontour": [
           {
            "colorbar": {
             "outlinewidth": 0,
             "ticks": ""
            },
            "colorscale": [
             [
              0,
              "#0d0887"
             ],
             [
              0.1111111111111111,
              "#46039f"
             ],
             [
              0.2222222222222222,
              "#7201a8"
             ],
             [
              0.3333333333333333,
              "#9c179e"
             ],
             [
              0.4444444444444444,
              "#bd3786"
             ],
             [
              0.5555555555555556,
              "#d8576b"
             ],
             [
              0.6666666666666666,
              "#ed7953"
             ],
             [
              0.7777777777777778,
              "#fb9f3a"
             ],
             [
              0.8888888888888888,
              "#fdca26"
             ],
             [
              1,
              "#f0f921"
             ]
            ],
            "type": "histogram2dcontour"
           }
          ],
          "mesh3d": [
           {
            "colorbar": {
             "outlinewidth": 0,
             "ticks": ""
            },
            "type": "mesh3d"
           }
          ],
          "parcoords": [
           {
            "line": {
             "colorbar": {
              "outlinewidth": 0,
              "ticks": ""
             }
            },
            "type": "parcoords"
           }
          ],
          "pie": [
           {
            "automargin": true,
            "type": "pie"
           }
          ],
          "scatter": [
           {
            "marker": {
             "colorbar": {
              "outlinewidth": 0,
              "ticks": ""
             }
            },
            "type": "scatter"
           }
          ],
          "scatter3d": [
           {
            "line": {
             "colorbar": {
              "outlinewidth": 0,
              "ticks": ""
             }
            },
            "marker": {
             "colorbar": {
              "outlinewidth": 0,
              "ticks": ""
             }
            },
            "type": "scatter3d"
           }
          ],
          "scattercarpet": [
           {
            "marker": {
             "colorbar": {
              "outlinewidth": 0,
              "ticks": ""
             }
            },
            "type": "scattercarpet"
           }
          ],
          "scattergeo": [
           {
            "marker": {
             "colorbar": {
              "outlinewidth": 0,
              "ticks": ""
             }
            },
            "type": "scattergeo"
           }
          ],
          "scattergl": [
           {
            "marker": {
             "colorbar": {
              "outlinewidth": 0,
              "ticks": ""
             }
            },
            "type": "scattergl"
           }
          ],
          "scattermapbox": [
           {
            "marker": {
             "colorbar": {
              "outlinewidth": 0,
              "ticks": ""
             }
            },
            "type": "scattermapbox"
           }
          ],
          "scatterpolar": [
           {
            "marker": {
             "colorbar": {
              "outlinewidth": 0,
              "ticks": ""
             }
            },
            "type": "scatterpolar"
           }
          ],
          "scatterpolargl": [
           {
            "marker": {
             "colorbar": {
              "outlinewidth": 0,
              "ticks": ""
             }
            },
            "type": "scatterpolargl"
           }
          ],
          "scatterternary": [
           {
            "marker": {
             "colorbar": {
              "outlinewidth": 0,
              "ticks": ""
             }
            },
            "type": "scatterternary"
           }
          ],
          "surface": [
           {
            "colorbar": {
             "outlinewidth": 0,
             "ticks": ""
            },
            "colorscale": [
             [
              0,
              "#0d0887"
             ],
             [
              0.1111111111111111,
              "#46039f"
             ],
             [
              0.2222222222222222,
              "#7201a8"
             ],
             [
              0.3333333333333333,
              "#9c179e"
             ],
             [
              0.4444444444444444,
              "#bd3786"
             ],
             [
              0.5555555555555556,
              "#d8576b"
             ],
             [
              0.6666666666666666,
              "#ed7953"
             ],
             [
              0.7777777777777778,
              "#fb9f3a"
             ],
             [
              0.8888888888888888,
              "#fdca26"
             ],
             [
              1,
              "#f0f921"
             ]
            ],
            "type": "surface"
           }
          ],
          "table": [
           {
            "cells": {
             "fill": {
              "color": "#EBF0F8"
             },
             "line": {
              "color": "white"
             }
            },
            "header": {
             "fill": {
              "color": "#C8D4E3"
             },
             "line": {
              "color": "white"
             }
            },
            "type": "table"
           }
          ]
         },
         "layout": {
          "annotationdefaults": {
           "arrowcolor": "#2a3f5f",
           "arrowhead": 0,
           "arrowwidth": 1
          },
          "autotypenumbers": "strict",
          "coloraxis": {
           "colorbar": {
            "outlinewidth": 0,
            "ticks": ""
           }
          },
          "colorscale": {
           "diverging": [
            [
             0,
             "#8e0152"
            ],
            [
             0.1,
             "#c51b7d"
            ],
            [
             0.2,
             "#de77ae"
            ],
            [
             0.3,
             "#f1b6da"
            ],
            [
             0.4,
             "#fde0ef"
            ],
            [
             0.5,
             "#f7f7f7"
            ],
            [
             0.6,
             "#e6f5d0"
            ],
            [
             0.7,
             "#b8e186"
            ],
            [
             0.8,
             "#7fbc41"
            ],
            [
             0.9,
             "#4d9221"
            ],
            [
             1,
             "#276419"
            ]
           ],
           "sequential": [
            [
             0,
             "#0d0887"
            ],
            [
             0.1111111111111111,
             "#46039f"
            ],
            [
             0.2222222222222222,
             "#7201a8"
            ],
            [
             0.3333333333333333,
             "#9c179e"
            ],
            [
             0.4444444444444444,
             "#bd3786"
            ],
            [
             0.5555555555555556,
             "#d8576b"
            ],
            [
             0.6666666666666666,
             "#ed7953"
            ],
            [
             0.7777777777777778,
             "#fb9f3a"
            ],
            [
             0.8888888888888888,
             "#fdca26"
            ],
            [
             1,
             "#f0f921"
            ]
           ],
           "sequentialminus": [
            [
             0,
             "#0d0887"
            ],
            [
             0.1111111111111111,
             "#46039f"
            ],
            [
             0.2222222222222222,
             "#7201a8"
            ],
            [
             0.3333333333333333,
             "#9c179e"
            ],
            [
             0.4444444444444444,
             "#bd3786"
            ],
            [
             0.5555555555555556,
             "#d8576b"
            ],
            [
             0.6666666666666666,
             "#ed7953"
            ],
            [
             0.7777777777777778,
             "#fb9f3a"
            ],
            [
             0.8888888888888888,
             "#fdca26"
            ],
            [
             1,
             "#f0f921"
            ]
           ]
          },
          "colorway": [
           "#636efa",
           "#EF553B",
           "#00cc96",
           "#ab63fa",
           "#FFA15A",
           "#19d3f3",
           "#FF6692",
           "#B6E880",
           "#FF97FF",
           "#FECB52"
          ],
          "font": {
           "color": "#2a3f5f"
          },
          "geo": {
           "bgcolor": "white",
           "lakecolor": "white",
           "landcolor": "#E5ECF6",
           "showlakes": true,
           "showland": true,
           "subunitcolor": "white"
          },
          "hoverlabel": {
           "align": "left"
          },
          "hovermode": "closest",
          "mapbox": {
           "style": "light"
          },
          "paper_bgcolor": "white",
          "plot_bgcolor": "#E5ECF6",
          "polar": {
           "angularaxis": {
            "gridcolor": "white",
            "linecolor": "white",
            "ticks": ""
           },
           "bgcolor": "#E5ECF6",
           "radialaxis": {
            "gridcolor": "white",
            "linecolor": "white",
            "ticks": ""
           }
          },
          "scene": {
           "xaxis": {
            "backgroundcolor": "#E5ECF6",
            "gridcolor": "white",
            "gridwidth": 2,
            "linecolor": "white",
            "showbackground": true,
            "ticks": "",
            "zerolinecolor": "white"
           },
           "yaxis": {
            "backgroundcolor": "#E5ECF6",
            "gridcolor": "white",
            "gridwidth": 2,
            "linecolor": "white",
            "showbackground": true,
            "ticks": "",
            "zerolinecolor": "white"
           },
           "zaxis": {
            "backgroundcolor": "#E5ECF6",
            "gridcolor": "white",
            "gridwidth": 2,
            "linecolor": "white",
            "showbackground": true,
            "ticks": "",
            "zerolinecolor": "white"
           }
          },
          "shapedefaults": {
           "line": {
            "color": "#2a3f5f"
           }
          },
          "ternary": {
           "aaxis": {
            "gridcolor": "white",
            "linecolor": "white",
            "ticks": ""
           },
           "baxis": {
            "gridcolor": "white",
            "linecolor": "white",
            "ticks": ""
           },
           "bgcolor": "#E5ECF6",
           "caxis": {
            "gridcolor": "white",
            "linecolor": "white",
            "ticks": ""
           }
          },
          "title": {
           "x": 0.05
          },
          "xaxis": {
           "automargin": true,
           "gridcolor": "white",
           "linecolor": "white",
           "ticks": "",
           "title": {
            "standoff": 15
           },
           "zerolinecolor": "white",
           "zerolinewidth": 2
          },
          "yaxis": {
           "automargin": true,
           "gridcolor": "white",
           "linecolor": "white",
           "ticks": "",
           "title": {
            "standoff": 15
           },
           "zerolinecolor": "white",
           "zerolinewidth": 2
          }
         }
        },
        "xaxis": {
         "anchor": "y",
         "domain": [
          0,
          1
         ],
         "title": {
          "text": ""
         }
        },
        "yaxis": {
         "anchor": "x",
         "domain": [
          0,
          1
         ],
         "title": {
          "text": "MAE"
         }
        }
       }
      }
     },
     "metadata": {},
     "output_type": "display_data"
    }
   ],
   "source": [
    "fig = score_ALL_14.filter(like='mae', axis=1).plot()\n",
    "# fig.update_traces(marker=dict(color=\"RoyalBlue\"))\n",
    "fig.update_xaxes(title_text='')\n",
    "fig.update_yaxes(title_text='MAE')\n"
   ]
  },
  {
   "cell_type": "code",
   "execution_count": 366,
   "metadata": {},
   "outputs": [
    {
     "data": {
      "application/vnd.plotly.v1+json": {
       "config": {
        "plotlyServerURL": "https://plot.ly"
       },
       "data": [
        {
         "hovertemplate": "variable=rmse_SNAIVE<br>store=%{x}<br>value=%{y}<extra></extra>",
         "legendgroup": "rmse_SNAIVE",
         "line": {
          "color": "#636efa",
          "dash": "solid"
         },
         "marker": {
          "symbol": "circle"
         },
         "mode": "lines",
         "name": "rmse_SNAIVE",
         "orientation": "v",
         "showlegend": true,
         "type": "scatter",
         "x": [
          "store_307222",
          "store_307244",
          "store_307248",
          "store_320264",
          "store_328165",
          "store_349920",
          "store_349924",
          "store_349952",
          "store_349958",
          "store_349962",
          "store_349972",
          "store_349978",
          "store_349980",
          "store_349998",
          "store_350016",
          "store_350018",
          "store_350026",
          "store_350028",
          "store_350040",
          "store_350046",
          "store_350054",
          "store_350056",
          "store_350060",
          "store_354468",
          "store_387240",
          "store_412585",
          "store_441997",
          "store_452387",
          "store_461349",
          "store_464495",
          "store_471477",
          "store_476061",
          "store_480733",
          "store_528854",
          "store_536898",
          "store_536902",
          "store_566790",
          "store_566792"
         ],
         "xaxis": "x",
         "y": [
          10.00625,
          6.827,
          8.07975,
          7.197,
          41.1915,
          24.106749999999998,
          9.3645,
          10.61,
          11.45825,
          4.9582500000000005,
          10.876750000000001,
          5.51075,
          11.0365,
          6.4795,
          12.7945,
          45.2495,
          4.981999999999999,
          3.8200000000000003,
          8.7165,
          4.395,
          11.84925,
          4.08825,
          13.44075,
          4.13025,
          4.429,
          5.26375,
          4.567500000000001,
          10.26475,
          4.9165,
          4.202999999999999,
          5.7052499999999995,
          3.621,
          11.876000000000001,
          15.825,
          4.305,
          5.991,
          20.89725,
          4.7275
         ],
         "yaxis": "y"
        },
        {
         "hovertemplate": "variable=rmse_ARIMA<br>store=%{x}<br>value=%{y}<extra></extra>",
         "legendgroup": "rmse_ARIMA",
         "line": {
          "color": "#EF553B",
          "dash": "solid"
         },
         "marker": {
          "symbol": "circle"
         },
         "mode": "lines",
         "name": "rmse_ARIMA",
         "orientation": "v",
         "showlegend": true,
         "type": "scatter",
         "x": [
          "store_307222",
          "store_307244",
          "store_307248",
          "store_320264",
          "store_328165",
          "store_349920",
          "store_349924",
          "store_349952",
          "store_349958",
          "store_349962",
          "store_349972",
          "store_349978",
          "store_349980",
          "store_349998",
          "store_350016",
          "store_350018",
          "store_350026",
          "store_350028",
          "store_350040",
          "store_350046",
          "store_350054",
          "store_350056",
          "store_350060",
          "store_354468",
          "store_387240",
          "store_412585",
          "store_441997",
          "store_452387",
          "store_461349",
          "store_464495",
          "store_471477",
          "store_476061",
          "store_480733",
          "store_528854",
          "store_536898",
          "store_536902",
          "store_566790",
          "store_566792"
         ],
         "xaxis": "x",
         "y": [
          10.06325,
          7.33225,
          7.9190000000000005,
          6.3575,
          36.855000000000004,
          23.2235,
          8.91625,
          10.6115,
          11.51,
          5.34175,
          10.703,
          5.11925,
          11.389,
          6.2335,
          10.03425,
          24.807249999999996,
          5.047750000000001,
          3.7945,
          10.33225,
          4.42625,
          10.1575,
          4.250500000000001,
          9.987,
          4.15175,
          4.937250000000001,
          5.4585,
          4.6795,
          10.086750000000002,
          4.9872499999999995,
          4.21575,
          5.521,
          3.21775,
          11.673250000000001,
          14.7775,
          4.4735,
          5.80825,
          19.421,
          6.774249999999999
         ],
         "yaxis": "y"
        },
        {
         "hovertemplate": "variable=rmse_PROPHET<br>store=%{x}<br>value=%{y}<extra></extra>",
         "legendgroup": "rmse_PROPHET",
         "line": {
          "color": "#00cc96",
          "dash": "solid"
         },
         "marker": {
          "symbol": "circle"
         },
         "mode": "lines",
         "name": "rmse_PROPHET",
         "orientation": "v",
         "showlegend": true,
         "type": "scatter",
         "x": [
          "store_307222",
          "store_307244",
          "store_307248",
          "store_320264",
          "store_328165",
          "store_349920",
          "store_349924",
          "store_349952",
          "store_349958",
          "store_349962",
          "store_349972",
          "store_349978",
          "store_349980",
          "store_349998",
          "store_350016",
          "store_350018",
          "store_350026",
          "store_350028",
          "store_350040",
          "store_350046",
          "store_350054",
          "store_350056",
          "store_350060",
          "store_354468",
          "store_387240",
          "store_412585",
          "store_441997",
          "store_452387",
          "store_461349",
          "store_464495",
          "store_471477",
          "store_476061",
          "store_480733",
          "store_528854",
          "store_536898",
          "store_536902",
          "store_566790",
          "store_566792"
         ],
         "xaxis": "x",
         "y": [
          8.798,
          8.065750000000001,
          6.6715,
          7.1855,
          36.934000000000005,
          18.42375,
          8.252500000000001,
          8.483,
          10.852,
          5.0440000000000005,
          9.732999999999999,
          6.06975,
          9.825500000000002,
          6.498749999999999,
          9.564000000000002,
          31.582,
          3.81175,
          4.519,
          8.68925,
          3.7730000000000006,
          8.880749999999999,
          3.9502499999999996,
          8.331000000000001,
          4.170999999999999,
          4.53625,
          5.513,
          4.18125,
          9.666,
          4.99475,
          4.184,
          4.04125,
          3.7707499999999996,
          8.432500000000001,
          14.297250000000002,
          4.38525,
          4.672750000000001,
          20.76,
          5.545
         ],
         "yaxis": "y"
        },
        {
         "hovertemplate": "variable=rmse_RF<br>store=%{x}<br>value=%{y}<extra></extra>",
         "legendgroup": "rmse_RF",
         "line": {
          "color": "#ab63fa",
          "dash": "solid"
         },
         "marker": {
          "symbol": "circle"
         },
         "mode": "lines",
         "name": "rmse_RF",
         "orientation": "v",
         "showlegend": true,
         "type": "scatter",
         "x": [
          "store_307222",
          "store_307244",
          "store_307248",
          "store_320264",
          "store_328165",
          "store_349920",
          "store_349924",
          "store_349952",
          "store_349958",
          "store_349962",
          "store_349972",
          "store_349978",
          "store_349980",
          "store_349998",
          "store_350016",
          "store_350018",
          "store_350026",
          "store_350028",
          "store_350040",
          "store_350046",
          "store_350054",
          "store_350056",
          "store_350060",
          "store_354468",
          "store_387240",
          "store_412585",
          "store_441997",
          "store_452387",
          "store_461349",
          "store_464495",
          "store_471477",
          "store_476061",
          "store_480733",
          "store_528854",
          "store_536898",
          "store_536902",
          "store_566790",
          "store_566792"
         ],
         "xaxis": "x",
         "y": [
          2.8459285714285714,
          1.6349285714285713,
          2.548714285714286,
          1.9579285714285712,
          9.613,
          6.658142857142857,
          2.676142857142857,
          2.643571428571428,
          3.874714285714286,
          1.5978571428571429,
          2.736428571428571,
          1.2173571428571428,
          2.3068571428571434,
          1.8290000000000002,
          2.893,
          11.064499999999997,
          1.1303571428571428,
          0.8275714285714285,
          3.547857142857143,
          1.2731428571428574,
          3.507928571428571,
          0.8062857142857143,
          2.993642857142857,
          1.0939999999999999,
          1.3885000000000003,
          1.3940714285714286,
          1.6327142857142858,
          3.1377857142857146,
          2.5463571428571434,
          1.078285714285714,
          0.9984999999999999,
          0.7387857142857145,
          4.040214285714286,
          4.530857142857143,
          1.3527857142857145,
          1.8119285714285716,
          8.097642857142857,
          1.9469285714285716
         ],
         "yaxis": "y"
        },
        {
         "hovertemplate": "variable=rmse_XGB<br>store=%{x}<br>value=%{y}<extra></extra>",
         "legendgroup": "rmse_XGB",
         "line": {
          "color": "#FFA15A",
          "dash": "solid"
         },
         "marker": {
          "symbol": "circle"
         },
         "mode": "lines",
         "name": "rmse_XGB",
         "orientation": "v",
         "showlegend": true,
         "type": "scatter",
         "x": [
          "store_307222",
          "store_307244",
          "store_307248",
          "store_320264",
          "store_328165",
          "store_349920",
          "store_349924",
          "store_349952",
          "store_349958",
          "store_349962",
          "store_349972",
          "store_349978",
          "store_349980",
          "store_349998",
          "store_350016",
          "store_350018",
          "store_350026",
          "store_350028",
          "store_350040",
          "store_350046",
          "store_350054",
          "store_350056",
          "store_350060",
          "store_354468",
          "store_387240",
          "store_412585",
          "store_441997",
          "store_452387",
          "store_461349",
          "store_464495",
          "store_471477",
          "store_476061",
          "store_480733",
          "store_528854",
          "store_536898",
          "store_536902",
          "store_566790",
          "store_566792"
         ],
         "xaxis": "x",
         "y": [
          1.00425,
          0.6152500000000001,
          1.3605,
          1.8392499999999998,
          7.849500000000001,
          5.89125,
          1.724,
          1.77575,
          1.53075,
          1.00625,
          1.835,
          0.56025,
          1.7742499999999999,
          0.63825,
          2.09625,
          6.06825,
          0.7885,
          0.58325,
          2.76925,
          0.8912500000000001,
          2.8652499999999996,
          1.12925,
          2.1165,
          0.95875,
          0.8584999999999999,
          1.2257500000000001,
          0.92275,
          1.5667499999999999,
          1.3765,
          0.9450000000000001,
          0.939,
          0.43325,
          2.3765,
          3.771,
          1.1095000000000002,
          2.6145,
          5.120500000000001,
          1.5622500000000001
         ],
         "yaxis": "y"
        }
       ],
       "layout": {
        "legend": {
         "title": {
          "text": "variable"
         },
         "tracegroupgap": 0
        },
        "margin": {
         "t": 60
        },
        "template": {
         "data": {
          "bar": [
           {
            "error_x": {
             "color": "#2a3f5f"
            },
            "error_y": {
             "color": "#2a3f5f"
            },
            "marker": {
             "line": {
              "color": "#E5ECF6",
              "width": 0.5
             },
             "pattern": {
              "fillmode": "overlay",
              "size": 10,
              "solidity": 0.2
             }
            },
            "type": "bar"
           }
          ],
          "barpolar": [
           {
            "marker": {
             "line": {
              "color": "#E5ECF6",
              "width": 0.5
             },
             "pattern": {
              "fillmode": "overlay",
              "size": 10,
              "solidity": 0.2
             }
            },
            "type": "barpolar"
           }
          ],
          "carpet": [
           {
            "aaxis": {
             "endlinecolor": "#2a3f5f",
             "gridcolor": "white",
             "linecolor": "white",
             "minorgridcolor": "white",
             "startlinecolor": "#2a3f5f"
            },
            "baxis": {
             "endlinecolor": "#2a3f5f",
             "gridcolor": "white",
             "linecolor": "white",
             "minorgridcolor": "white",
             "startlinecolor": "#2a3f5f"
            },
            "type": "carpet"
           }
          ],
          "choropleth": [
           {
            "colorbar": {
             "outlinewidth": 0,
             "ticks": ""
            },
            "type": "choropleth"
           }
          ],
          "contour": [
           {
            "colorbar": {
             "outlinewidth": 0,
             "ticks": ""
            },
            "colorscale": [
             [
              0,
              "#0d0887"
             ],
             [
              0.1111111111111111,
              "#46039f"
             ],
             [
              0.2222222222222222,
              "#7201a8"
             ],
             [
              0.3333333333333333,
              "#9c179e"
             ],
             [
              0.4444444444444444,
              "#bd3786"
             ],
             [
              0.5555555555555556,
              "#d8576b"
             ],
             [
              0.6666666666666666,
              "#ed7953"
             ],
             [
              0.7777777777777778,
              "#fb9f3a"
             ],
             [
              0.8888888888888888,
              "#fdca26"
             ],
             [
              1,
              "#f0f921"
             ]
            ],
            "type": "contour"
           }
          ],
          "contourcarpet": [
           {
            "colorbar": {
             "outlinewidth": 0,
             "ticks": ""
            },
            "type": "contourcarpet"
           }
          ],
          "heatmap": [
           {
            "colorbar": {
             "outlinewidth": 0,
             "ticks": ""
            },
            "colorscale": [
             [
              0,
              "#0d0887"
             ],
             [
              0.1111111111111111,
              "#46039f"
             ],
             [
              0.2222222222222222,
              "#7201a8"
             ],
             [
              0.3333333333333333,
              "#9c179e"
             ],
             [
              0.4444444444444444,
              "#bd3786"
             ],
             [
              0.5555555555555556,
              "#d8576b"
             ],
             [
              0.6666666666666666,
              "#ed7953"
             ],
             [
              0.7777777777777778,
              "#fb9f3a"
             ],
             [
              0.8888888888888888,
              "#fdca26"
             ],
             [
              1,
              "#f0f921"
             ]
            ],
            "type": "heatmap"
           }
          ],
          "heatmapgl": [
           {
            "colorbar": {
             "outlinewidth": 0,
             "ticks": ""
            },
            "colorscale": [
             [
              0,
              "#0d0887"
             ],
             [
              0.1111111111111111,
              "#46039f"
             ],
             [
              0.2222222222222222,
              "#7201a8"
             ],
             [
              0.3333333333333333,
              "#9c179e"
             ],
             [
              0.4444444444444444,
              "#bd3786"
             ],
             [
              0.5555555555555556,
              "#d8576b"
             ],
             [
              0.6666666666666666,
              "#ed7953"
             ],
             [
              0.7777777777777778,
              "#fb9f3a"
             ],
             [
              0.8888888888888888,
              "#fdca26"
             ],
             [
              1,
              "#f0f921"
             ]
            ],
            "type": "heatmapgl"
           }
          ],
          "histogram": [
           {
            "marker": {
             "pattern": {
              "fillmode": "overlay",
              "size": 10,
              "solidity": 0.2
             }
            },
            "type": "histogram"
           }
          ],
          "histogram2d": [
           {
            "colorbar": {
             "outlinewidth": 0,
             "ticks": ""
            },
            "colorscale": [
             [
              0,
              "#0d0887"
             ],
             [
              0.1111111111111111,
              "#46039f"
             ],
             [
              0.2222222222222222,
              "#7201a8"
             ],
             [
              0.3333333333333333,
              "#9c179e"
             ],
             [
              0.4444444444444444,
              "#bd3786"
             ],
             [
              0.5555555555555556,
              "#d8576b"
             ],
             [
              0.6666666666666666,
              "#ed7953"
             ],
             [
              0.7777777777777778,
              "#fb9f3a"
             ],
             [
              0.8888888888888888,
              "#fdca26"
             ],
             [
              1,
              "#f0f921"
             ]
            ],
            "type": "histogram2d"
           }
          ],
          "histogram2dcontour": [
           {
            "colorbar": {
             "outlinewidth": 0,
             "ticks": ""
            },
            "colorscale": [
             [
              0,
              "#0d0887"
             ],
             [
              0.1111111111111111,
              "#46039f"
             ],
             [
              0.2222222222222222,
              "#7201a8"
             ],
             [
              0.3333333333333333,
              "#9c179e"
             ],
             [
              0.4444444444444444,
              "#bd3786"
             ],
             [
              0.5555555555555556,
              "#d8576b"
             ],
             [
              0.6666666666666666,
              "#ed7953"
             ],
             [
              0.7777777777777778,
              "#fb9f3a"
             ],
             [
              0.8888888888888888,
              "#fdca26"
             ],
             [
              1,
              "#f0f921"
             ]
            ],
            "type": "histogram2dcontour"
           }
          ],
          "mesh3d": [
           {
            "colorbar": {
             "outlinewidth": 0,
             "ticks": ""
            },
            "type": "mesh3d"
           }
          ],
          "parcoords": [
           {
            "line": {
             "colorbar": {
              "outlinewidth": 0,
              "ticks": ""
             }
            },
            "type": "parcoords"
           }
          ],
          "pie": [
           {
            "automargin": true,
            "type": "pie"
           }
          ],
          "scatter": [
           {
            "marker": {
             "colorbar": {
              "outlinewidth": 0,
              "ticks": ""
             }
            },
            "type": "scatter"
           }
          ],
          "scatter3d": [
           {
            "line": {
             "colorbar": {
              "outlinewidth": 0,
              "ticks": ""
             }
            },
            "marker": {
             "colorbar": {
              "outlinewidth": 0,
              "ticks": ""
             }
            },
            "type": "scatter3d"
           }
          ],
          "scattercarpet": [
           {
            "marker": {
             "colorbar": {
              "outlinewidth": 0,
              "ticks": ""
             }
            },
            "type": "scattercarpet"
           }
          ],
          "scattergeo": [
           {
            "marker": {
             "colorbar": {
              "outlinewidth": 0,
              "ticks": ""
             }
            },
            "type": "scattergeo"
           }
          ],
          "scattergl": [
           {
            "marker": {
             "colorbar": {
              "outlinewidth": 0,
              "ticks": ""
             }
            },
            "type": "scattergl"
           }
          ],
          "scattermapbox": [
           {
            "marker": {
             "colorbar": {
              "outlinewidth": 0,
              "ticks": ""
             }
            },
            "type": "scattermapbox"
           }
          ],
          "scatterpolar": [
           {
            "marker": {
             "colorbar": {
              "outlinewidth": 0,
              "ticks": ""
             }
            },
            "type": "scatterpolar"
           }
          ],
          "scatterpolargl": [
           {
            "marker": {
             "colorbar": {
              "outlinewidth": 0,
              "ticks": ""
             }
            },
            "type": "scatterpolargl"
           }
          ],
          "scatterternary": [
           {
            "marker": {
             "colorbar": {
              "outlinewidth": 0,
              "ticks": ""
             }
            },
            "type": "scatterternary"
           }
          ],
          "surface": [
           {
            "colorbar": {
             "outlinewidth": 0,
             "ticks": ""
            },
            "colorscale": [
             [
              0,
              "#0d0887"
             ],
             [
              0.1111111111111111,
              "#46039f"
             ],
             [
              0.2222222222222222,
              "#7201a8"
             ],
             [
              0.3333333333333333,
              "#9c179e"
             ],
             [
              0.4444444444444444,
              "#bd3786"
             ],
             [
              0.5555555555555556,
              "#d8576b"
             ],
             [
              0.6666666666666666,
              "#ed7953"
             ],
             [
              0.7777777777777778,
              "#fb9f3a"
             ],
             [
              0.8888888888888888,
              "#fdca26"
             ],
             [
              1,
              "#f0f921"
             ]
            ],
            "type": "surface"
           }
          ],
          "table": [
           {
            "cells": {
             "fill": {
              "color": "#EBF0F8"
             },
             "line": {
              "color": "white"
             }
            },
            "header": {
             "fill": {
              "color": "#C8D4E3"
             },
             "line": {
              "color": "white"
             }
            },
            "type": "table"
           }
          ]
         },
         "layout": {
          "annotationdefaults": {
           "arrowcolor": "#2a3f5f",
           "arrowhead": 0,
           "arrowwidth": 1
          },
          "autotypenumbers": "strict",
          "coloraxis": {
           "colorbar": {
            "outlinewidth": 0,
            "ticks": ""
           }
          },
          "colorscale": {
           "diverging": [
            [
             0,
             "#8e0152"
            ],
            [
             0.1,
             "#c51b7d"
            ],
            [
             0.2,
             "#de77ae"
            ],
            [
             0.3,
             "#f1b6da"
            ],
            [
             0.4,
             "#fde0ef"
            ],
            [
             0.5,
             "#f7f7f7"
            ],
            [
             0.6,
             "#e6f5d0"
            ],
            [
             0.7,
             "#b8e186"
            ],
            [
             0.8,
             "#7fbc41"
            ],
            [
             0.9,
             "#4d9221"
            ],
            [
             1,
             "#276419"
            ]
           ],
           "sequential": [
            [
             0,
             "#0d0887"
            ],
            [
             0.1111111111111111,
             "#46039f"
            ],
            [
             0.2222222222222222,
             "#7201a8"
            ],
            [
             0.3333333333333333,
             "#9c179e"
            ],
            [
             0.4444444444444444,
             "#bd3786"
            ],
            [
             0.5555555555555556,
             "#d8576b"
            ],
            [
             0.6666666666666666,
             "#ed7953"
            ],
            [
             0.7777777777777778,
             "#fb9f3a"
            ],
            [
             0.8888888888888888,
             "#fdca26"
            ],
            [
             1,
             "#f0f921"
            ]
           ],
           "sequentialminus": [
            [
             0,
             "#0d0887"
            ],
            [
             0.1111111111111111,
             "#46039f"
            ],
            [
             0.2222222222222222,
             "#7201a8"
            ],
            [
             0.3333333333333333,
             "#9c179e"
            ],
            [
             0.4444444444444444,
             "#bd3786"
            ],
            [
             0.5555555555555556,
             "#d8576b"
            ],
            [
             0.6666666666666666,
             "#ed7953"
            ],
            [
             0.7777777777777778,
             "#fb9f3a"
            ],
            [
             0.8888888888888888,
             "#fdca26"
            ],
            [
             1,
             "#f0f921"
            ]
           ]
          },
          "colorway": [
           "#636efa",
           "#EF553B",
           "#00cc96",
           "#ab63fa",
           "#FFA15A",
           "#19d3f3",
           "#FF6692",
           "#B6E880",
           "#FF97FF",
           "#FECB52"
          ],
          "font": {
           "color": "#2a3f5f"
          },
          "geo": {
           "bgcolor": "white",
           "lakecolor": "white",
           "landcolor": "#E5ECF6",
           "showlakes": true,
           "showland": true,
           "subunitcolor": "white"
          },
          "hoverlabel": {
           "align": "left"
          },
          "hovermode": "closest",
          "mapbox": {
           "style": "light"
          },
          "paper_bgcolor": "white",
          "plot_bgcolor": "#E5ECF6",
          "polar": {
           "angularaxis": {
            "gridcolor": "white",
            "linecolor": "white",
            "ticks": ""
           },
           "bgcolor": "#E5ECF6",
           "radialaxis": {
            "gridcolor": "white",
            "linecolor": "white",
            "ticks": ""
           }
          },
          "scene": {
           "xaxis": {
            "backgroundcolor": "#E5ECF6",
            "gridcolor": "white",
            "gridwidth": 2,
            "linecolor": "white",
            "showbackground": true,
            "ticks": "",
            "zerolinecolor": "white"
           },
           "yaxis": {
            "backgroundcolor": "#E5ECF6",
            "gridcolor": "white",
            "gridwidth": 2,
            "linecolor": "white",
            "showbackground": true,
            "ticks": "",
            "zerolinecolor": "white"
           },
           "zaxis": {
            "backgroundcolor": "#E5ECF6",
            "gridcolor": "white",
            "gridwidth": 2,
            "linecolor": "white",
            "showbackground": true,
            "ticks": "",
            "zerolinecolor": "white"
           }
          },
          "shapedefaults": {
           "line": {
            "color": "#2a3f5f"
           }
          },
          "ternary": {
           "aaxis": {
            "gridcolor": "white",
            "linecolor": "white",
            "ticks": ""
           },
           "baxis": {
            "gridcolor": "white",
            "linecolor": "white",
            "ticks": ""
           },
           "bgcolor": "#E5ECF6",
           "caxis": {
            "gridcolor": "white",
            "linecolor": "white",
            "ticks": ""
           }
          },
          "title": {
           "x": 0.05
          },
          "xaxis": {
           "automargin": true,
           "gridcolor": "white",
           "linecolor": "white",
           "ticks": "",
           "title": {
            "standoff": 15
           },
           "zerolinecolor": "white",
           "zerolinewidth": 2
          },
          "yaxis": {
           "automargin": true,
           "gridcolor": "white",
           "linecolor": "white",
           "ticks": "",
           "title": {
            "standoff": 15
           },
           "zerolinecolor": "white",
           "zerolinewidth": 2
          }
         }
        },
        "xaxis": {
         "anchor": "y",
         "domain": [
          0,
          1
         ],
         "title": {
          "text": ""
         }
        },
        "yaxis": {
         "anchor": "x",
         "domain": [
          0,
          1
         ],
         "title": {
          "text": "RMSE"
         }
        }
       }
      }
     },
     "metadata": {},
     "output_type": "display_data"
    }
   ],
   "source": [
    "fig = score_ALL_14.filter(like='rmse', axis=1).plot()\n",
    "fig.update_xaxes(title_text='')\n",
    "fig.update_yaxes(title_text='RMSE')\n"
   ]
  },
  {
   "cell_type": "code",
   "execution_count": 367,
   "metadata": {},
   "outputs": [
    {
     "data": {
      "application/vnd.plotly.v1+json": {
       "config": {
        "plotlyServerURL": "https://plot.ly"
       },
       "data": [
        {
         "hovertemplate": "variable=mape_SNAIVE<br>store=%{x}<br>value=%{y}<extra></extra>",
         "legendgroup": "mape_SNAIVE",
         "line": {
          "color": "#636efa",
          "dash": "solid"
         },
         "marker": {
          "symbol": "circle"
         },
         "mode": "lines",
         "name": "mape_SNAIVE",
         "orientation": "v",
         "showlegend": true,
         "type": "scatter",
         "x": [
          "store_307222",
          "store_307244",
          "store_307248",
          "store_320264",
          "store_328165",
          "store_349920",
          "store_349924",
          "store_349952",
          "store_349958",
          "store_349962",
          "store_349972",
          "store_349978",
          "store_349980",
          "store_349998",
          "store_350016",
          "store_350018",
          "store_350026",
          "store_350028",
          "store_350040",
          "store_350046",
          "store_350054",
          "store_350056",
          "store_350060",
          "store_354468",
          "store_387240",
          "store_412585",
          "store_441997",
          "store_452387",
          "store_461349",
          "store_464495",
          "store_471477",
          "store_476061",
          "store_480733",
          "store_528854",
          "store_536898",
          "store_536902",
          "store_566790",
          "store_566792"
         ],
         "xaxis": "x",
         "y": [
          0.28850000000000003,
          0.29500000000000004,
          0.35450000000000004,
          0.37675000000000003,
          0.42725,
          0.43525,
          0.3795,
          0.44825,
          0.35875,
          0.27925,
          0.35575,
          0.445,
          0.34025,
          0.37150000000000005,
          0.5145,
          0.7072499999999999,
          0.44375,
          0.35250000000000004,
          0.37575000000000003,
          0.39925,
          0.45925,
          0.45575,
          0.4405,
          0.5075000000000001,
          0.38725,
          0.49125,
          0.34875,
          0.41274999999999995,
          0.38625,
          0.43999999999999995,
          0.3845,
          0.6020000000000001,
          0.47375,
          0.33075,
          0.379,
          0.43600000000000005,
          0.35175,
          0.48775
         ],
         "yaxis": "y"
        },
        {
         "hovertemplate": "variable=mape_ARIMA<br>store=%{x}<br>value=%{y}<extra></extra>",
         "legendgroup": "mape_ARIMA",
         "line": {
          "color": "#EF553B",
          "dash": "solid"
         },
         "marker": {
          "symbol": "circle"
         },
         "mode": "lines",
         "name": "mape_ARIMA",
         "orientation": "v",
         "showlegend": true,
         "type": "scatter",
         "x": [
          "store_307222",
          "store_307244",
          "store_307248",
          "store_320264",
          "store_328165",
          "store_349920",
          "store_349924",
          "store_349952",
          "store_349958",
          "store_349962",
          "store_349972",
          "store_349978",
          "store_349980",
          "store_349998",
          "store_350016",
          "store_350018",
          "store_350026",
          "store_350028",
          "store_350040",
          "store_350046",
          "store_350054",
          "store_350056",
          "store_350060",
          "store_354468",
          "store_387240",
          "store_412585",
          "store_441997",
          "store_452387",
          "store_461349",
          "store_464495",
          "store_471477",
          "store_476061",
          "store_480733",
          "store_528854",
          "store_536898",
          "store_536902",
          "store_566790",
          "store_566792"
         ],
         "xaxis": "x",
         "y": [
          0.3235,
          0.31025,
          0.36425,
          0.35675,
          0.51025,
          0.48674999999999996,
          0.36875,
          0.4665,
          0.36625,
          0.34725,
          0.3615,
          0.40125,
          0.3735,
          0.3645,
          0.37975000000000003,
          0.3685,
          0.4595,
          0.33325,
          0.474,
          0.38225,
          0.33699999999999997,
          0.47774999999999995,
          0.30500000000000005,
          0.51725,
          0.4145,
          0.53225,
          0.36975,
          0.42725,
          0.40650000000000003,
          0.4575,
          0.397,
          0.56975,
          0.47675,
          0.31275000000000003,
          0.42724999999999996,
          0.43449999999999994,
          0.49125,
          0.65025
         ],
         "yaxis": "y"
        },
        {
         "hovertemplate": "variable=mape_PROPHET<br>store=%{x}<br>value=%{y}<extra></extra>",
         "legendgroup": "mape_PROPHET",
         "line": {
          "color": "#00cc96",
          "dash": "solid"
         },
         "marker": {
          "symbol": "circle"
         },
         "mode": "lines",
         "name": "mape_PROPHET",
         "orientation": "v",
         "showlegend": true,
         "type": "scatter",
         "x": [
          "store_307222",
          "store_307244",
          "store_307248",
          "store_320264",
          "store_328165",
          "store_349920",
          "store_349924",
          "store_349952",
          "store_349958",
          "store_349962",
          "store_349972",
          "store_349978",
          "store_349980",
          "store_349998",
          "store_350016",
          "store_350018",
          "store_350026",
          "store_350028",
          "store_350040",
          "store_350046",
          "store_350054",
          "store_350056",
          "store_350060",
          "store_354468",
          "store_387240",
          "store_412585",
          "store_441997",
          "store_452387",
          "store_461349",
          "store_464495",
          "store_471477",
          "store_476061",
          "store_480733",
          "store_528854",
          "store_536898",
          "store_536902",
          "store_566790",
          "store_566792"
         ],
         "xaxis": "x",
         "y": [
          0.23399999999999999,
          0.30899999999999994,
          0.239,
          0.26875,
          0.357,
          0.272,
          0.25625000000000003,
          0.2645,
          0.3135,
          0.258,
          0.30675,
          0.40399999999999997,
          0.26,
          0.3555,
          0.25025,
          0.31425,
          0.277,
          0.35175,
          0.41125,
          0.296,
          0.29500000000000004,
          0.38625,
          0.2615,
          0.53225,
          0.39375000000000004,
          0.4625,
          0.263,
          0.317,
          0.34225000000000005,
          0.4575,
          0.25325000000000003,
          0.6469999999999999,
          0.2895,
          0.2485,
          0.365,
          0.31000000000000005,
          0.43525,
          0.6000000000000001
         ],
         "yaxis": "y"
        },
        {
         "hovertemplate": "variable=mape_RF<br>store=%{x}<br>value=%{y}<extra></extra>",
         "legendgroup": "mape_RF",
         "line": {
          "color": "#ab63fa",
          "dash": "solid"
         },
         "marker": {
          "symbol": "circle"
         },
         "mode": "lines",
         "name": "mape_RF",
         "orientation": "v",
         "showlegend": true,
         "type": "scatter",
         "x": [
          "store_307222",
          "store_307244",
          "store_307248",
          "store_320264",
          "store_328165",
          "store_349920",
          "store_349924",
          "store_349952",
          "store_349958",
          "store_349962",
          "store_349972",
          "store_349978",
          "store_349980",
          "store_349998",
          "store_350016",
          "store_350018",
          "store_350026",
          "store_350028",
          "store_350040",
          "store_350046",
          "store_350054",
          "store_350056",
          "store_350060",
          "store_354468",
          "store_387240",
          "store_412585",
          "store_441997",
          "store_452387",
          "store_461349",
          "store_464495",
          "store_471477",
          "store_476061",
          "store_480733",
          "store_528854",
          "store_536898",
          "store_536902",
          "store_566790",
          "store_566792"
         ],
         "xaxis": "x",
         "y": [
          0.06514285714285716,
          0.05892857142857143,
          0.10650000000000001,
          0.09350000000000001,
          0.12999999999999998,
          0.13392857142857142,
          0.10314285714285716,
          0.11028571428571429,
          0.07292857142857144,
          0.09178571428571429,
          0.07057142857142859,
          0.06571428571428573,
          0.06342857142857143,
          0.0902857142857143,
          0.10892857142857144,
          0.4109285714285715,
          0.10921428571428572,
          0.07992857142857143,
          0.2076428571428571,
          0.10678571428571428,
          0.1565,
          0.10728571428571428,
          0.10557142857142857,
          0.1625,
          0.10764285714285714,
          0.23721428571428574,
          0.11428571428571428,
          0.10542857142857144,
          0.13871428571428573,
          0.164,
          0.08935714285714283,
          0.13621428571428568,
          0.12121428571428572,
          0.09514285714285713,
          0.16371428571428573,
          0.27949999999999997,
          0.17857142857142858,
          0.24685714285714286
         ],
         "yaxis": "y"
        },
        {
         "hovertemplate": "variable=mape_XGB<br>store=%{x}<br>value=%{y}<extra></extra>",
         "legendgroup": "mape_XGB",
         "line": {
          "color": "#FFA15A",
          "dash": "solid"
         },
         "marker": {
          "symbol": "circle"
         },
         "mode": "lines",
         "name": "mape_XGB",
         "orientation": "v",
         "showlegend": true,
         "type": "scatter",
         "x": [
          "store_307222",
          "store_307244",
          "store_307248",
          "store_320264",
          "store_328165",
          "store_349920",
          "store_349924",
          "store_349952",
          "store_349958",
          "store_349962",
          "store_349972",
          "store_349978",
          "store_349980",
          "store_349998",
          "store_350016",
          "store_350018",
          "store_350026",
          "store_350028",
          "store_350040",
          "store_350046",
          "store_350054",
          "store_350056",
          "store_350060",
          "store_354468",
          "store_387240",
          "store_412585",
          "store_441997",
          "store_452387",
          "store_461349",
          "store_464495",
          "store_471477",
          "store_476061",
          "store_480733",
          "store_528854",
          "store_536898",
          "store_536902",
          "store_566790",
          "store_566792"
         ],
         "xaxis": "x",
         "y": [
          0.033249999999999995,
          0.030500000000000003,
          0.058249999999999996,
          0.10500000000000001,
          0.09025,
          0.075,
          0.07325,
          0.0805,
          0.04975,
          0.0625,
          0.063,
          0.053000000000000005,
          0.051250000000000004,
          0.03975,
          0.07375,
          0.08875,
          0.09025,
          0.0525,
          0.12775,
          0.1095,
          0.101,
          0.14475000000000002,
          0.06999999999999999,
          0.16825,
          0.0805,
          0.11699999999999999,
          0.08,
          0.05875,
          0.128,
          0.17124999999999999,
          0.06124999999999999,
          0.12475,
          0.08175,
          0.079,
          0.12250000000000001,
          0.24525,
          0.11375,
          0.17725000000000002
         ],
         "yaxis": "y"
        }
       ],
       "layout": {
        "legend": {
         "title": {
          "text": "variable"
         },
         "tracegroupgap": 0
        },
        "margin": {
         "t": 60
        },
        "template": {
         "data": {
          "bar": [
           {
            "error_x": {
             "color": "#2a3f5f"
            },
            "error_y": {
             "color": "#2a3f5f"
            },
            "marker": {
             "line": {
              "color": "#E5ECF6",
              "width": 0.5
             },
             "pattern": {
              "fillmode": "overlay",
              "size": 10,
              "solidity": 0.2
             }
            },
            "type": "bar"
           }
          ],
          "barpolar": [
           {
            "marker": {
             "line": {
              "color": "#E5ECF6",
              "width": 0.5
             },
             "pattern": {
              "fillmode": "overlay",
              "size": 10,
              "solidity": 0.2
             }
            },
            "type": "barpolar"
           }
          ],
          "carpet": [
           {
            "aaxis": {
             "endlinecolor": "#2a3f5f",
             "gridcolor": "white",
             "linecolor": "white",
             "minorgridcolor": "white",
             "startlinecolor": "#2a3f5f"
            },
            "baxis": {
             "endlinecolor": "#2a3f5f",
             "gridcolor": "white",
             "linecolor": "white",
             "minorgridcolor": "white",
             "startlinecolor": "#2a3f5f"
            },
            "type": "carpet"
           }
          ],
          "choropleth": [
           {
            "colorbar": {
             "outlinewidth": 0,
             "ticks": ""
            },
            "type": "choropleth"
           }
          ],
          "contour": [
           {
            "colorbar": {
             "outlinewidth": 0,
             "ticks": ""
            },
            "colorscale": [
             [
              0,
              "#0d0887"
             ],
             [
              0.1111111111111111,
              "#46039f"
             ],
             [
              0.2222222222222222,
              "#7201a8"
             ],
             [
              0.3333333333333333,
              "#9c179e"
             ],
             [
              0.4444444444444444,
              "#bd3786"
             ],
             [
              0.5555555555555556,
              "#d8576b"
             ],
             [
              0.6666666666666666,
              "#ed7953"
             ],
             [
              0.7777777777777778,
              "#fb9f3a"
             ],
             [
              0.8888888888888888,
              "#fdca26"
             ],
             [
              1,
              "#f0f921"
             ]
            ],
            "type": "contour"
           }
          ],
          "contourcarpet": [
           {
            "colorbar": {
             "outlinewidth": 0,
             "ticks": ""
            },
            "type": "contourcarpet"
           }
          ],
          "heatmap": [
           {
            "colorbar": {
             "outlinewidth": 0,
             "ticks": ""
            },
            "colorscale": [
             [
              0,
              "#0d0887"
             ],
             [
              0.1111111111111111,
              "#46039f"
             ],
             [
              0.2222222222222222,
              "#7201a8"
             ],
             [
              0.3333333333333333,
              "#9c179e"
             ],
             [
              0.4444444444444444,
              "#bd3786"
             ],
             [
              0.5555555555555556,
              "#d8576b"
             ],
             [
              0.6666666666666666,
              "#ed7953"
             ],
             [
              0.7777777777777778,
              "#fb9f3a"
             ],
             [
              0.8888888888888888,
              "#fdca26"
             ],
             [
              1,
              "#f0f921"
             ]
            ],
            "type": "heatmap"
           }
          ],
          "heatmapgl": [
           {
            "colorbar": {
             "outlinewidth": 0,
             "ticks": ""
            },
            "colorscale": [
             [
              0,
              "#0d0887"
             ],
             [
              0.1111111111111111,
              "#46039f"
             ],
             [
              0.2222222222222222,
              "#7201a8"
             ],
             [
              0.3333333333333333,
              "#9c179e"
             ],
             [
              0.4444444444444444,
              "#bd3786"
             ],
             [
              0.5555555555555556,
              "#d8576b"
             ],
             [
              0.6666666666666666,
              "#ed7953"
             ],
             [
              0.7777777777777778,
              "#fb9f3a"
             ],
             [
              0.8888888888888888,
              "#fdca26"
             ],
             [
              1,
              "#f0f921"
             ]
            ],
            "type": "heatmapgl"
           }
          ],
          "histogram": [
           {
            "marker": {
             "pattern": {
              "fillmode": "overlay",
              "size": 10,
              "solidity": 0.2
             }
            },
            "type": "histogram"
           }
          ],
          "histogram2d": [
           {
            "colorbar": {
             "outlinewidth": 0,
             "ticks": ""
            },
            "colorscale": [
             [
              0,
              "#0d0887"
             ],
             [
              0.1111111111111111,
              "#46039f"
             ],
             [
              0.2222222222222222,
              "#7201a8"
             ],
             [
              0.3333333333333333,
              "#9c179e"
             ],
             [
              0.4444444444444444,
              "#bd3786"
             ],
             [
              0.5555555555555556,
              "#d8576b"
             ],
             [
              0.6666666666666666,
              "#ed7953"
             ],
             [
              0.7777777777777778,
              "#fb9f3a"
             ],
             [
              0.8888888888888888,
              "#fdca26"
             ],
             [
              1,
              "#f0f921"
             ]
            ],
            "type": "histogram2d"
           }
          ],
          "histogram2dcontour": [
           {
            "colorbar": {
             "outlinewidth": 0,
             "ticks": ""
            },
            "colorscale": [
             [
              0,
              "#0d0887"
             ],
             [
              0.1111111111111111,
              "#46039f"
             ],
             [
              0.2222222222222222,
              "#7201a8"
             ],
             [
              0.3333333333333333,
              "#9c179e"
             ],
             [
              0.4444444444444444,
              "#bd3786"
             ],
             [
              0.5555555555555556,
              "#d8576b"
             ],
             [
              0.6666666666666666,
              "#ed7953"
             ],
             [
              0.7777777777777778,
              "#fb9f3a"
             ],
             [
              0.8888888888888888,
              "#fdca26"
             ],
             [
              1,
              "#f0f921"
             ]
            ],
            "type": "histogram2dcontour"
           }
          ],
          "mesh3d": [
           {
            "colorbar": {
             "outlinewidth": 0,
             "ticks": ""
            },
            "type": "mesh3d"
           }
          ],
          "parcoords": [
           {
            "line": {
             "colorbar": {
              "outlinewidth": 0,
              "ticks": ""
             }
            },
            "type": "parcoords"
           }
          ],
          "pie": [
           {
            "automargin": true,
            "type": "pie"
           }
          ],
          "scatter": [
           {
            "marker": {
             "colorbar": {
              "outlinewidth": 0,
              "ticks": ""
             }
            },
            "type": "scatter"
           }
          ],
          "scatter3d": [
           {
            "line": {
             "colorbar": {
              "outlinewidth": 0,
              "ticks": ""
             }
            },
            "marker": {
             "colorbar": {
              "outlinewidth": 0,
              "ticks": ""
             }
            },
            "type": "scatter3d"
           }
          ],
          "scattercarpet": [
           {
            "marker": {
             "colorbar": {
              "outlinewidth": 0,
              "ticks": ""
             }
            },
            "type": "scattercarpet"
           }
          ],
          "scattergeo": [
           {
            "marker": {
             "colorbar": {
              "outlinewidth": 0,
              "ticks": ""
             }
            },
            "type": "scattergeo"
           }
          ],
          "scattergl": [
           {
            "marker": {
             "colorbar": {
              "outlinewidth": 0,
              "ticks": ""
             }
            },
            "type": "scattergl"
           }
          ],
          "scattermapbox": [
           {
            "marker": {
             "colorbar": {
              "outlinewidth": 0,
              "ticks": ""
             }
            },
            "type": "scattermapbox"
           }
          ],
          "scatterpolar": [
           {
            "marker": {
             "colorbar": {
              "outlinewidth": 0,
              "ticks": ""
             }
            },
            "type": "scatterpolar"
           }
          ],
          "scatterpolargl": [
           {
            "marker": {
             "colorbar": {
              "outlinewidth": 0,
              "ticks": ""
             }
            },
            "type": "scatterpolargl"
           }
          ],
          "scatterternary": [
           {
            "marker": {
             "colorbar": {
              "outlinewidth": 0,
              "ticks": ""
             }
            },
            "type": "scatterternary"
           }
          ],
          "surface": [
           {
            "colorbar": {
             "outlinewidth": 0,
             "ticks": ""
            },
            "colorscale": [
             [
              0,
              "#0d0887"
             ],
             [
              0.1111111111111111,
              "#46039f"
             ],
             [
              0.2222222222222222,
              "#7201a8"
             ],
             [
              0.3333333333333333,
              "#9c179e"
             ],
             [
              0.4444444444444444,
              "#bd3786"
             ],
             [
              0.5555555555555556,
              "#d8576b"
             ],
             [
              0.6666666666666666,
              "#ed7953"
             ],
             [
              0.7777777777777778,
              "#fb9f3a"
             ],
             [
              0.8888888888888888,
              "#fdca26"
             ],
             [
              1,
              "#f0f921"
             ]
            ],
            "type": "surface"
           }
          ],
          "table": [
           {
            "cells": {
             "fill": {
              "color": "#EBF0F8"
             },
             "line": {
              "color": "white"
             }
            },
            "header": {
             "fill": {
              "color": "#C8D4E3"
             },
             "line": {
              "color": "white"
             }
            },
            "type": "table"
           }
          ]
         },
         "layout": {
          "annotationdefaults": {
           "arrowcolor": "#2a3f5f",
           "arrowhead": 0,
           "arrowwidth": 1
          },
          "autotypenumbers": "strict",
          "coloraxis": {
           "colorbar": {
            "outlinewidth": 0,
            "ticks": ""
           }
          },
          "colorscale": {
           "diverging": [
            [
             0,
             "#8e0152"
            ],
            [
             0.1,
             "#c51b7d"
            ],
            [
             0.2,
             "#de77ae"
            ],
            [
             0.3,
             "#f1b6da"
            ],
            [
             0.4,
             "#fde0ef"
            ],
            [
             0.5,
             "#f7f7f7"
            ],
            [
             0.6,
             "#e6f5d0"
            ],
            [
             0.7,
             "#b8e186"
            ],
            [
             0.8,
             "#7fbc41"
            ],
            [
             0.9,
             "#4d9221"
            ],
            [
             1,
             "#276419"
            ]
           ],
           "sequential": [
            [
             0,
             "#0d0887"
            ],
            [
             0.1111111111111111,
             "#46039f"
            ],
            [
             0.2222222222222222,
             "#7201a8"
            ],
            [
             0.3333333333333333,
             "#9c179e"
            ],
            [
             0.4444444444444444,
             "#bd3786"
            ],
            [
             0.5555555555555556,
             "#d8576b"
            ],
            [
             0.6666666666666666,
             "#ed7953"
            ],
            [
             0.7777777777777778,
             "#fb9f3a"
            ],
            [
             0.8888888888888888,
             "#fdca26"
            ],
            [
             1,
             "#f0f921"
            ]
           ],
           "sequentialminus": [
            [
             0,
             "#0d0887"
            ],
            [
             0.1111111111111111,
             "#46039f"
            ],
            [
             0.2222222222222222,
             "#7201a8"
            ],
            [
             0.3333333333333333,
             "#9c179e"
            ],
            [
             0.4444444444444444,
             "#bd3786"
            ],
            [
             0.5555555555555556,
             "#d8576b"
            ],
            [
             0.6666666666666666,
             "#ed7953"
            ],
            [
             0.7777777777777778,
             "#fb9f3a"
            ],
            [
             0.8888888888888888,
             "#fdca26"
            ],
            [
             1,
             "#f0f921"
            ]
           ]
          },
          "colorway": [
           "#636efa",
           "#EF553B",
           "#00cc96",
           "#ab63fa",
           "#FFA15A",
           "#19d3f3",
           "#FF6692",
           "#B6E880",
           "#FF97FF",
           "#FECB52"
          ],
          "font": {
           "color": "#2a3f5f"
          },
          "geo": {
           "bgcolor": "white",
           "lakecolor": "white",
           "landcolor": "#E5ECF6",
           "showlakes": true,
           "showland": true,
           "subunitcolor": "white"
          },
          "hoverlabel": {
           "align": "left"
          },
          "hovermode": "closest",
          "mapbox": {
           "style": "light"
          },
          "paper_bgcolor": "white",
          "plot_bgcolor": "#E5ECF6",
          "polar": {
           "angularaxis": {
            "gridcolor": "white",
            "linecolor": "white",
            "ticks": ""
           },
           "bgcolor": "#E5ECF6",
           "radialaxis": {
            "gridcolor": "white",
            "linecolor": "white",
            "ticks": ""
           }
          },
          "scene": {
           "xaxis": {
            "backgroundcolor": "#E5ECF6",
            "gridcolor": "white",
            "gridwidth": 2,
            "linecolor": "white",
            "showbackground": true,
            "ticks": "",
            "zerolinecolor": "white"
           },
           "yaxis": {
            "backgroundcolor": "#E5ECF6",
            "gridcolor": "white",
            "gridwidth": 2,
            "linecolor": "white",
            "showbackground": true,
            "ticks": "",
            "zerolinecolor": "white"
           },
           "zaxis": {
            "backgroundcolor": "#E5ECF6",
            "gridcolor": "white",
            "gridwidth": 2,
            "linecolor": "white",
            "showbackground": true,
            "ticks": "",
            "zerolinecolor": "white"
           }
          },
          "shapedefaults": {
           "line": {
            "color": "#2a3f5f"
           }
          },
          "ternary": {
           "aaxis": {
            "gridcolor": "white",
            "linecolor": "white",
            "ticks": ""
           },
           "baxis": {
            "gridcolor": "white",
            "linecolor": "white",
            "ticks": ""
           },
           "bgcolor": "#E5ECF6",
           "caxis": {
            "gridcolor": "white",
            "linecolor": "white",
            "ticks": ""
           }
          },
          "title": {
           "x": 0.05
          },
          "xaxis": {
           "automargin": true,
           "gridcolor": "white",
           "linecolor": "white",
           "ticks": "",
           "title": {
            "standoff": 15
           },
           "zerolinecolor": "white",
           "zerolinewidth": 2
          },
          "yaxis": {
           "automargin": true,
           "gridcolor": "white",
           "linecolor": "white",
           "ticks": "",
           "title": {
            "standoff": 15
           },
           "zerolinecolor": "white",
           "zerolinewidth": 2
          }
         }
        },
        "xaxis": {
         "anchor": "y",
         "domain": [
          0,
          1
         ],
         "title": {
          "text": ""
         }
        },
        "yaxis": {
         "anchor": "x",
         "domain": [
          0,
          1
         ],
         "title": {
          "text": "MAPE"
         }
        }
       }
      }
     },
     "metadata": {},
     "output_type": "display_data"
    }
   ],
   "source": [
    "fig = score_ALL_14.filter(like='mape', axis=1).plot()\n",
    "fig.update_xaxes(title_text='')\n",
    "fig.update_yaxes(title_text='MAPE')\n"
   ]
  },
  {
   "cell_type": "code",
   "execution_count": 368,
   "metadata": {},
   "outputs": [
    {
     "data": {
      "application/vnd.plotly.v1+json": {
       "config": {
        "plotlyServerURL": "https://plot.ly"
       },
       "data": [
        {
         "hovertemplate": "variable=mase_SNAIVE<br>store=%{x}<br>value=%{y}<extra></extra>",
         "legendgroup": "mase_SNAIVE",
         "line": {
          "color": "#636efa",
          "dash": "solid"
         },
         "marker": {
          "symbol": "circle"
         },
         "mode": "lines",
         "name": "mase_SNAIVE",
         "orientation": "v",
         "showlegend": true,
         "type": "scatter",
         "x": [
          "store_307222",
          "store_307244",
          "store_307248",
          "store_320264",
          "store_328165",
          "store_349920",
          "store_349924",
          "store_349952",
          "store_349958",
          "store_349962",
          "store_349972",
          "store_349978",
          "store_349980",
          "store_349998",
          "store_350016",
          "store_350018",
          "store_350026",
          "store_350028",
          "store_350040",
          "store_350046",
          "store_350054",
          "store_350056",
          "store_350060",
          "store_354468",
          "store_387240",
          "store_412585",
          "store_441997",
          "store_452387",
          "store_461349",
          "store_464495",
          "store_471477",
          "store_476061",
          "store_480733",
          "store_528854",
          "store_536898",
          "store_536902",
          "store_566790",
          "store_566792"
         ],
         "xaxis": "x",
         "y": [
          0.50525,
          0.42325,
          0.625,
          0.54575,
          1.1844999999999999,
          1.1487500000000002,
          0.67825,
          0.8065,
          0.6812499999999999,
          0.46249999999999997,
          0.74925,
          0.5895,
          0.65375,
          0.7055,
          1.4765,
          2.42475,
          0.7522500000000001,
          0.512,
          0.6859999999999999,
          0.6195,
          1.1125,
          0.75,
          1.1265,
          0.73475,
          0.6174999999999999,
          0.8905000000000001,
          0.5680000000000001,
          0.85375,
          0.5565,
          0.70125,
          0.82175,
          0.652,
          0.9470000000000001,
          0.71875,
          0.60975,
          0.79925,
          0.9695,
          0.7172499999999999
         ],
         "yaxis": "y"
        },
        {
         "hovertemplate": "variable=mase_ARIMA<br>store=%{x}<br>value=%{y}<extra></extra>",
         "legendgroup": "mase_ARIMA",
         "line": {
          "color": "#EF553B",
          "dash": "solid"
         },
         "marker": {
          "symbol": "circle"
         },
         "mode": "lines",
         "name": "mase_ARIMA",
         "orientation": "v",
         "showlegend": true,
         "type": "scatter",
         "x": [
          "store_307222",
          "store_307244",
          "store_307248",
          "store_320264",
          "store_328165",
          "store_349920",
          "store_349924",
          "store_349952",
          "store_349958",
          "store_349962",
          "store_349972",
          "store_349978",
          "store_349980",
          "store_349998",
          "store_350016",
          "store_350018",
          "store_350026",
          "store_350028",
          "store_350040",
          "store_350046",
          "store_350054",
          "store_350056",
          "store_350060",
          "store_354468",
          "store_387240",
          "store_412585",
          "store_441997",
          "store_452387",
          "store_461349",
          "store_464495",
          "store_471477",
          "store_476061",
          "store_480733",
          "store_528854",
          "store_536898",
          "store_536902",
          "store_566790",
          "store_566792"
         ],
         "xaxis": "x",
         "y": [
          0.84325,
          0.75475,
          0.9515,
          0.7245,
          1.2585000000000002,
          1.22125,
          0.9602499999999999,
          1.26,
          1.07425,
          0.638,
          1.07875,
          0.74975,
          1.0385,
          0.9217500000000001,
          1.5025,
          1.38075,
          1.00075,
          0.655,
          0.952,
          0.76575,
          1.1835,
          1.0574999999999999,
          1.1654999999999998,
          0.9305,
          0.90175,
          1.24625,
          0.78125,
          1.24925,
          0.7925,
          0.9315,
          0.97,
          0.71875,
          1.4535,
          0.9897500000000001,
          0.898,
          1.0085,
          0.9415,
          0.9530000000000001
         ],
         "yaxis": "y"
        },
        {
         "hovertemplate": "variable=mase_PROPHET<br>store=%{x}<br>value=%{y}<extra></extra>",
         "legendgroup": "mase_PROPHET",
         "line": {
          "color": "#00cc96",
          "dash": "solid"
         },
         "marker": {
          "symbol": "circle"
         },
         "mode": "lines",
         "name": "mase_PROPHET",
         "orientation": "v",
         "showlegend": true,
         "type": "scatter",
         "x": [
          "store_307222",
          "store_307244",
          "store_307248",
          "store_320264",
          "store_328165",
          "store_349920",
          "store_349924",
          "store_349952",
          "store_349958",
          "store_349962",
          "store_349972",
          "store_349978",
          "store_349980",
          "store_349998",
          "store_350016",
          "store_350018",
          "store_350026",
          "store_350028",
          "store_350040",
          "store_350046",
          "store_350054",
          "store_350056",
          "store_350060",
          "store_354468",
          "store_387240",
          "store_412585",
          "store_441997",
          "store_452387",
          "store_461349",
          "store_464495",
          "store_471477",
          "store_476061",
          "store_480733",
          "store_528854",
          "store_536898",
          "store_536902",
          "store_566790",
          "store_566792"
         ],
         "xaxis": "x",
         "y": [
          0.716,
          0.8320000000000001,
          0.7909999999999999,
          0.685,
          1.24275,
          0.91,
          0.9007499999999999,
          0.942,
          1.07775,
          0.588,
          1.05125,
          0.8947499999999999,
          0.9239999999999999,
          1.0445,
          1.29775,
          1.539,
          0.7855000000000001,
          0.7855,
          0.9025000000000001,
          0.68175,
          1.23,
          0.989,
          1.0685,
          1.09225,
          0.9335,
          1.31575,
          0.66925,
          1.1520000000000001,
          0.89825,
          1.0165,
          0.724,
          0.8002499999999999,
          1.046,
          0.94225,
          0.854,
          0.83925,
          1.127,
          0.87025
         ],
         "yaxis": "y"
        },
        {
         "hovertemplate": "variable=mase_RF<br>store=%{x}<br>value=%{y}<extra></extra>",
         "legendgroup": "mase_RF",
         "line": {
          "color": "#ab63fa",
          "dash": "solid"
         },
         "marker": {
          "symbol": "circle"
         },
         "mode": "lines",
         "name": "mase_RF",
         "orientation": "v",
         "showlegend": true,
         "type": "scatter",
         "x": [
          "store_307222",
          "store_307244",
          "store_307248",
          "store_320264",
          "store_328165",
          "store_349920",
          "store_349924",
          "store_349952",
          "store_349958",
          "store_349962",
          "store_349972",
          "store_349978",
          "store_349980",
          "store_349998",
          "store_350016",
          "store_350018",
          "store_350026",
          "store_350028",
          "store_350040",
          "store_350046",
          "store_350054",
          "store_350056",
          "store_350060",
          "store_354468",
          "store_387240",
          "store_412585",
          "store_441997",
          "store_452387",
          "store_461349",
          "store_464495",
          "store_471477",
          "store_476061",
          "store_480733",
          "store_528854",
          "store_536898",
          "store_536902",
          "store_566790",
          "store_566792"
         ],
         "xaxis": "x",
         "y": [
          0.22199999999999998,
          0.17535714285714285,
          0.29414285714285715,
          0.199,
          0.35428571428571426,
          0.36099999999999993,
          0.30642857142857144,
          0.31749999999999995,
          0.291,
          0.1892142857142857,
          0.26099999999999995,
          0.17142857142857143,
          0.19535714285714284,
          0.26492857142857146,
          0.4322142857142857,
          0.6698571428571428,
          0.21778571428571428,
          0.1487857142857143,
          0.36635714285714294,
          0.222,
          0.4503571428571429,
          0.2145,
          0.36957142857142855,
          0.25921428571428573,
          0.25092857142857145,
          0.3347142857142857,
          0.2847857142857143,
          0.3365,
          0.3535714285714286,
          0.25357142857142856,
          0.19442857142857142,
          0.17214285714285715,
          0.42757142857142855,
          0.30657142857142855,
          0.2978571428571429,
          0.35178571428571426,
          0.40907142857142853,
          0.3205
         ],
         "yaxis": "y"
        },
        {
         "hovertemplate": "variable=mase_XGB<br>store=%{x}<br>value=%{y}<extra></extra>",
         "legendgroup": "mase_XGB",
         "line": {
          "color": "#FFA15A",
          "dash": "solid"
         },
         "marker": {
          "symbol": "circle"
         },
         "mode": "lines",
         "name": "mase_XGB",
         "orientation": "v",
         "showlegend": true,
         "type": "scatter",
         "x": [
          "store_307222",
          "store_307244",
          "store_307248",
          "store_320264",
          "store_328165",
          "store_349920",
          "store_349924",
          "store_349952",
          "store_349958",
          "store_349962",
          "store_349972",
          "store_349978",
          "store_349980",
          "store_349998",
          "store_350016",
          "store_350018",
          "store_350026",
          "store_350028",
          "store_350040",
          "store_350046",
          "store_350054",
          "store_350056",
          "store_350060",
          "store_354468",
          "store_387240",
          "store_412585",
          "store_441997",
          "store_452387",
          "store_461349",
          "store_464495",
          "store_471477",
          "store_476061",
          "store_480733",
          "store_528854",
          "store_536898",
          "store_536902",
          "store_566790",
          "store_566792"
         ],
         "xaxis": "x",
         "y": [
          0.08225,
          0.065,
          0.169,
          0.21550000000000002,
          0.2555,
          0.24975,
          0.20025,
          0.21825,
          0.14425,
          0.121,
          0.19774999999999998,
          0.0915,
          0.15225,
          0.09525,
          0.32525,
          0.32525000000000004,
          0.16349999999999998,
          0.10500000000000001,
          0.25549999999999995,
          0.14650000000000002,
          0.346,
          0.29175,
          0.256,
          0.21725,
          0.159,
          0.2585,
          0.18225000000000002,
          0.18375,
          0.2495,
          0.237,
          0.15925,
          0.10049999999999999,
          0.26525,
          0.26425,
          0.27,
          0.5147499999999999,
          0.25425,
          0.203
         ],
         "yaxis": "y"
        }
       ],
       "layout": {
        "legend": {
         "title": {
          "text": "variable"
         },
         "tracegroupgap": 0
        },
        "margin": {
         "t": 60
        },
        "template": {
         "data": {
          "bar": [
           {
            "error_x": {
             "color": "#2a3f5f"
            },
            "error_y": {
             "color": "#2a3f5f"
            },
            "marker": {
             "line": {
              "color": "#E5ECF6",
              "width": 0.5
             },
             "pattern": {
              "fillmode": "overlay",
              "size": 10,
              "solidity": 0.2
             }
            },
            "type": "bar"
           }
          ],
          "barpolar": [
           {
            "marker": {
             "line": {
              "color": "#E5ECF6",
              "width": 0.5
             },
             "pattern": {
              "fillmode": "overlay",
              "size": 10,
              "solidity": 0.2
             }
            },
            "type": "barpolar"
           }
          ],
          "carpet": [
           {
            "aaxis": {
             "endlinecolor": "#2a3f5f",
             "gridcolor": "white",
             "linecolor": "white",
             "minorgridcolor": "white",
             "startlinecolor": "#2a3f5f"
            },
            "baxis": {
             "endlinecolor": "#2a3f5f",
             "gridcolor": "white",
             "linecolor": "white",
             "minorgridcolor": "white",
             "startlinecolor": "#2a3f5f"
            },
            "type": "carpet"
           }
          ],
          "choropleth": [
           {
            "colorbar": {
             "outlinewidth": 0,
             "ticks": ""
            },
            "type": "choropleth"
           }
          ],
          "contour": [
           {
            "colorbar": {
             "outlinewidth": 0,
             "ticks": ""
            },
            "colorscale": [
             [
              0,
              "#0d0887"
             ],
             [
              0.1111111111111111,
              "#46039f"
             ],
             [
              0.2222222222222222,
              "#7201a8"
             ],
             [
              0.3333333333333333,
              "#9c179e"
             ],
             [
              0.4444444444444444,
              "#bd3786"
             ],
             [
              0.5555555555555556,
              "#d8576b"
             ],
             [
              0.6666666666666666,
              "#ed7953"
             ],
             [
              0.7777777777777778,
              "#fb9f3a"
             ],
             [
              0.8888888888888888,
              "#fdca26"
             ],
             [
              1,
              "#f0f921"
             ]
            ],
            "type": "contour"
           }
          ],
          "contourcarpet": [
           {
            "colorbar": {
             "outlinewidth": 0,
             "ticks": ""
            },
            "type": "contourcarpet"
           }
          ],
          "heatmap": [
           {
            "colorbar": {
             "outlinewidth": 0,
             "ticks": ""
            },
            "colorscale": [
             [
              0,
              "#0d0887"
             ],
             [
              0.1111111111111111,
              "#46039f"
             ],
             [
              0.2222222222222222,
              "#7201a8"
             ],
             [
              0.3333333333333333,
              "#9c179e"
             ],
             [
              0.4444444444444444,
              "#bd3786"
             ],
             [
              0.5555555555555556,
              "#d8576b"
             ],
             [
              0.6666666666666666,
              "#ed7953"
             ],
             [
              0.7777777777777778,
              "#fb9f3a"
             ],
             [
              0.8888888888888888,
              "#fdca26"
             ],
             [
              1,
              "#f0f921"
             ]
            ],
            "type": "heatmap"
           }
          ],
          "heatmapgl": [
           {
            "colorbar": {
             "outlinewidth": 0,
             "ticks": ""
            },
            "colorscale": [
             [
              0,
              "#0d0887"
             ],
             [
              0.1111111111111111,
              "#46039f"
             ],
             [
              0.2222222222222222,
              "#7201a8"
             ],
             [
              0.3333333333333333,
              "#9c179e"
             ],
             [
              0.4444444444444444,
              "#bd3786"
             ],
             [
              0.5555555555555556,
              "#d8576b"
             ],
             [
              0.6666666666666666,
              "#ed7953"
             ],
             [
              0.7777777777777778,
              "#fb9f3a"
             ],
             [
              0.8888888888888888,
              "#fdca26"
             ],
             [
              1,
              "#f0f921"
             ]
            ],
            "type": "heatmapgl"
           }
          ],
          "histogram": [
           {
            "marker": {
             "pattern": {
              "fillmode": "overlay",
              "size": 10,
              "solidity": 0.2
             }
            },
            "type": "histogram"
           }
          ],
          "histogram2d": [
           {
            "colorbar": {
             "outlinewidth": 0,
             "ticks": ""
            },
            "colorscale": [
             [
              0,
              "#0d0887"
             ],
             [
              0.1111111111111111,
              "#46039f"
             ],
             [
              0.2222222222222222,
              "#7201a8"
             ],
             [
              0.3333333333333333,
              "#9c179e"
             ],
             [
              0.4444444444444444,
              "#bd3786"
             ],
             [
              0.5555555555555556,
              "#d8576b"
             ],
             [
              0.6666666666666666,
              "#ed7953"
             ],
             [
              0.7777777777777778,
              "#fb9f3a"
             ],
             [
              0.8888888888888888,
              "#fdca26"
             ],
             [
              1,
              "#f0f921"
             ]
            ],
            "type": "histogram2d"
           }
          ],
          "histogram2dcontour": [
           {
            "colorbar": {
             "outlinewidth": 0,
             "ticks": ""
            },
            "colorscale": [
             [
              0,
              "#0d0887"
             ],
             [
              0.1111111111111111,
              "#46039f"
             ],
             [
              0.2222222222222222,
              "#7201a8"
             ],
             [
              0.3333333333333333,
              "#9c179e"
             ],
             [
              0.4444444444444444,
              "#bd3786"
             ],
             [
              0.5555555555555556,
              "#d8576b"
             ],
             [
              0.6666666666666666,
              "#ed7953"
             ],
             [
              0.7777777777777778,
              "#fb9f3a"
             ],
             [
              0.8888888888888888,
              "#fdca26"
             ],
             [
              1,
              "#f0f921"
             ]
            ],
            "type": "histogram2dcontour"
           }
          ],
          "mesh3d": [
           {
            "colorbar": {
             "outlinewidth": 0,
             "ticks": ""
            },
            "type": "mesh3d"
           }
          ],
          "parcoords": [
           {
            "line": {
             "colorbar": {
              "outlinewidth": 0,
              "ticks": ""
             }
            },
            "type": "parcoords"
           }
          ],
          "pie": [
           {
            "automargin": true,
            "type": "pie"
           }
          ],
          "scatter": [
           {
            "marker": {
             "colorbar": {
              "outlinewidth": 0,
              "ticks": ""
             }
            },
            "type": "scatter"
           }
          ],
          "scatter3d": [
           {
            "line": {
             "colorbar": {
              "outlinewidth": 0,
              "ticks": ""
             }
            },
            "marker": {
             "colorbar": {
              "outlinewidth": 0,
              "ticks": ""
             }
            },
            "type": "scatter3d"
           }
          ],
          "scattercarpet": [
           {
            "marker": {
             "colorbar": {
              "outlinewidth": 0,
              "ticks": ""
             }
            },
            "type": "scattercarpet"
           }
          ],
          "scattergeo": [
           {
            "marker": {
             "colorbar": {
              "outlinewidth": 0,
              "ticks": ""
             }
            },
            "type": "scattergeo"
           }
          ],
          "scattergl": [
           {
            "marker": {
             "colorbar": {
              "outlinewidth": 0,
              "ticks": ""
             }
            },
            "type": "scattergl"
           }
          ],
          "scattermapbox": [
           {
            "marker": {
             "colorbar": {
              "outlinewidth": 0,
              "ticks": ""
             }
            },
            "type": "scattermapbox"
           }
          ],
          "scatterpolar": [
           {
            "marker": {
             "colorbar": {
              "outlinewidth": 0,
              "ticks": ""
             }
            },
            "type": "scatterpolar"
           }
          ],
          "scatterpolargl": [
           {
            "marker": {
             "colorbar": {
              "outlinewidth": 0,
              "ticks": ""
             }
            },
            "type": "scatterpolargl"
           }
          ],
          "scatterternary": [
           {
            "marker": {
             "colorbar": {
              "outlinewidth": 0,
              "ticks": ""
             }
            },
            "type": "scatterternary"
           }
          ],
          "surface": [
           {
            "colorbar": {
             "outlinewidth": 0,
             "ticks": ""
            },
            "colorscale": [
             [
              0,
              "#0d0887"
             ],
             [
              0.1111111111111111,
              "#46039f"
             ],
             [
              0.2222222222222222,
              "#7201a8"
             ],
             [
              0.3333333333333333,
              "#9c179e"
             ],
             [
              0.4444444444444444,
              "#bd3786"
             ],
             [
              0.5555555555555556,
              "#d8576b"
             ],
             [
              0.6666666666666666,
              "#ed7953"
             ],
             [
              0.7777777777777778,
              "#fb9f3a"
             ],
             [
              0.8888888888888888,
              "#fdca26"
             ],
             [
              1,
              "#f0f921"
             ]
            ],
            "type": "surface"
           }
          ],
          "table": [
           {
            "cells": {
             "fill": {
              "color": "#EBF0F8"
             },
             "line": {
              "color": "white"
             }
            },
            "header": {
             "fill": {
              "color": "#C8D4E3"
             },
             "line": {
              "color": "white"
             }
            },
            "type": "table"
           }
          ]
         },
         "layout": {
          "annotationdefaults": {
           "arrowcolor": "#2a3f5f",
           "arrowhead": 0,
           "arrowwidth": 1
          },
          "autotypenumbers": "strict",
          "coloraxis": {
           "colorbar": {
            "outlinewidth": 0,
            "ticks": ""
           }
          },
          "colorscale": {
           "diverging": [
            [
             0,
             "#8e0152"
            ],
            [
             0.1,
             "#c51b7d"
            ],
            [
             0.2,
             "#de77ae"
            ],
            [
             0.3,
             "#f1b6da"
            ],
            [
             0.4,
             "#fde0ef"
            ],
            [
             0.5,
             "#f7f7f7"
            ],
            [
             0.6,
             "#e6f5d0"
            ],
            [
             0.7,
             "#b8e186"
            ],
            [
             0.8,
             "#7fbc41"
            ],
            [
             0.9,
             "#4d9221"
            ],
            [
             1,
             "#276419"
            ]
           ],
           "sequential": [
            [
             0,
             "#0d0887"
            ],
            [
             0.1111111111111111,
             "#46039f"
            ],
            [
             0.2222222222222222,
             "#7201a8"
            ],
            [
             0.3333333333333333,
             "#9c179e"
            ],
            [
             0.4444444444444444,
             "#bd3786"
            ],
            [
             0.5555555555555556,
             "#d8576b"
            ],
            [
             0.6666666666666666,
             "#ed7953"
            ],
            [
             0.7777777777777778,
             "#fb9f3a"
            ],
            [
             0.8888888888888888,
             "#fdca26"
            ],
            [
             1,
             "#f0f921"
            ]
           ],
           "sequentialminus": [
            [
             0,
             "#0d0887"
            ],
            [
             0.1111111111111111,
             "#46039f"
            ],
            [
             0.2222222222222222,
             "#7201a8"
            ],
            [
             0.3333333333333333,
             "#9c179e"
            ],
            [
             0.4444444444444444,
             "#bd3786"
            ],
            [
             0.5555555555555556,
             "#d8576b"
            ],
            [
             0.6666666666666666,
             "#ed7953"
            ],
            [
             0.7777777777777778,
             "#fb9f3a"
            ],
            [
             0.8888888888888888,
             "#fdca26"
            ],
            [
             1,
             "#f0f921"
            ]
           ]
          },
          "colorway": [
           "#636efa",
           "#EF553B",
           "#00cc96",
           "#ab63fa",
           "#FFA15A",
           "#19d3f3",
           "#FF6692",
           "#B6E880",
           "#FF97FF",
           "#FECB52"
          ],
          "font": {
           "color": "#2a3f5f"
          },
          "geo": {
           "bgcolor": "white",
           "lakecolor": "white",
           "landcolor": "#E5ECF6",
           "showlakes": true,
           "showland": true,
           "subunitcolor": "white"
          },
          "hoverlabel": {
           "align": "left"
          },
          "hovermode": "closest",
          "mapbox": {
           "style": "light"
          },
          "paper_bgcolor": "white",
          "plot_bgcolor": "#E5ECF6",
          "polar": {
           "angularaxis": {
            "gridcolor": "white",
            "linecolor": "white",
            "ticks": ""
           },
           "bgcolor": "#E5ECF6",
           "radialaxis": {
            "gridcolor": "white",
            "linecolor": "white",
            "ticks": ""
           }
          },
          "scene": {
           "xaxis": {
            "backgroundcolor": "#E5ECF6",
            "gridcolor": "white",
            "gridwidth": 2,
            "linecolor": "white",
            "showbackground": true,
            "ticks": "",
            "zerolinecolor": "white"
           },
           "yaxis": {
            "backgroundcolor": "#E5ECF6",
            "gridcolor": "white",
            "gridwidth": 2,
            "linecolor": "white",
            "showbackground": true,
            "ticks": "",
            "zerolinecolor": "white"
           },
           "zaxis": {
            "backgroundcolor": "#E5ECF6",
            "gridcolor": "white",
            "gridwidth": 2,
            "linecolor": "white",
            "showbackground": true,
            "ticks": "",
            "zerolinecolor": "white"
           }
          },
          "shapedefaults": {
           "line": {
            "color": "#2a3f5f"
           }
          },
          "ternary": {
           "aaxis": {
            "gridcolor": "white",
            "linecolor": "white",
            "ticks": ""
           },
           "baxis": {
            "gridcolor": "white",
            "linecolor": "white",
            "ticks": ""
           },
           "bgcolor": "#E5ECF6",
           "caxis": {
            "gridcolor": "white",
            "linecolor": "white",
            "ticks": ""
           }
          },
          "title": {
           "x": 0.05
          },
          "xaxis": {
           "automargin": true,
           "gridcolor": "white",
           "linecolor": "white",
           "ticks": "",
           "title": {
            "standoff": 15
           },
           "zerolinecolor": "white",
           "zerolinewidth": 2
          },
          "yaxis": {
           "automargin": true,
           "gridcolor": "white",
           "linecolor": "white",
           "ticks": "",
           "title": {
            "standoff": 15
           },
           "zerolinecolor": "white",
           "zerolinewidth": 2
          }
         }
        },
        "xaxis": {
         "anchor": "y",
         "domain": [
          0,
          1
         ],
         "title": {
          "text": ""
         }
        },
        "yaxis": {
         "anchor": "x",
         "domain": [
          0,
          1
         ],
         "title": {
          "text": "MASE"
         }
        }
       }
      }
     },
     "metadata": {},
     "output_type": "display_data"
    }
   ],
   "source": [
    "fig = score_ALL_14.filter(like='mase', axis=1).plot()\n",
    "fig.update_xaxes(title_text='')\n",
    "fig.update_yaxes(title_text='MASE')\n"
   ]
  },
  {
   "cell_type": "markdown",
   "metadata": {},
   "source": [
    "# compare scores of different horizons"
   ]
  },
  {
   "cell_type": "markdown",
   "metadata": {},
   "source": [
    "## MAPE & MASE"
   ]
  },
  {
   "cell_type": "code",
   "execution_count": 63,
   "metadata": {},
   "outputs": [
    {
     "data": {
      "text/html": [
       "<div>\n",
       "<style scoped>\n",
       "    .dataframe tbody tr th:only-of-type {\n",
       "        vertical-align: middle;\n",
       "    }\n",
       "\n",
       "    .dataframe tbody tr th {\n",
       "        vertical-align: top;\n",
       "    }\n",
       "\n",
       "    .dataframe thead th {\n",
       "        text-align: right;\n",
       "    }\n",
       "</style>\n",
       "<table border=\"1\" class=\"dataframe\">\n",
       "  <thead>\n",
       "    <tr style=\"text-align: right;\">\n",
       "      <th></th>\n",
       "      <th>mape_ARIMA</th>\n",
       "      <th>mape_PROPHET</th>\n",
       "      <th>mape_RF</th>\n",
       "      <th>mape_SNAIVE</th>\n",
       "      <th>mape_XGB</th>\n",
       "    </tr>\n",
       "  </thead>\n",
       "  <tbody>\n",
       "    <tr>\n",
       "      <th>7</th>\n",
       "      <td>0.345125</td>\n",
       "      <td>0.262687</td>\n",
       "      <td>0.069187</td>\n",
       "      <td>0.299875</td>\n",
       "      <td>0.071375</td>\n",
       "    </tr>\n",
       "    <tr>\n",
       "      <th>14</th>\n",
       "      <td>0.338688</td>\n",
       "      <td>0.262687</td>\n",
       "      <td>0.081018</td>\n",
       "      <td>0.328688</td>\n",
       "      <td>0.056750</td>\n",
       "    </tr>\n",
       "    <tr>\n",
       "      <th>21</th>\n",
       "      <td>0.451375</td>\n",
       "      <td>0.268062</td>\n",
       "      <td>0.119750</td>\n",
       "      <td>0.375250</td>\n",
       "      <td>0.088938</td>\n",
       "    </tr>\n",
       "    <tr>\n",
       "      <th>28</th>\n",
       "      <td>0.417625</td>\n",
       "      <td>0.269875</td>\n",
       "      <td>0.180438</td>\n",
       "      <td>0.363875</td>\n",
       "      <td>0.119500</td>\n",
       "    </tr>\n",
       "  </tbody>\n",
       "</table>\n",
       "</div>"
      ],
      "text/plain": [
       "    mape_ARIMA  mape_PROPHET   mape_RF  mape_SNAIVE  mape_XGB\n",
       "7     0.345125      0.262687  0.069187     0.299875  0.071375\n",
       "14    0.338688      0.262687  0.081018     0.328688  0.056750\n",
       "21    0.451375      0.268062  0.119750     0.375250  0.088938\n",
       "28    0.417625      0.269875  0.180438     0.363875  0.119500"
      ]
     },
     "execution_count": 63,
     "metadata": {},
     "output_type": "execute_result"
    }
   ],
   "source": [
    "# mean mape of all models & all horizons\n",
    "mean_mape = df_score.iloc[:4,:].describe().filter(items=['mean'], axis=0).filter(like='mape', axis=1).stack().T.droplevel(0,1)\n",
    "mean_mape.index = mean_mape.index.astype('int')\n",
    "mean_mape.sort_index(inplace=True)\n",
    "\n",
    "mean_mape\n"
   ]
  },
  {
   "cell_type": "code",
   "execution_count": 62,
   "metadata": {},
   "outputs": [
    {
     "data": {
      "application/vnd.plotly.v1+json": {
       "config": {
        "plotlyServerURL": "https://plot.ly"
       },
       "data": [
        {
         "hovertemplate": "variable=mape_ARIMA<br>index=%{x}<br>value=%{y}<extra></extra>",
         "legendgroup": "mape_ARIMA",
         "line": {
          "color": "#636efa",
          "dash": "solid"
         },
         "marker": {
          "symbol": "circle"
         },
         "mode": "lines",
         "name": "mape_ARIMA",
         "orientation": "v",
         "showlegend": true,
         "type": "scatter",
         "x": [
          7,
          14,
          21,
          28
         ],
         "xaxis": "x",
         "y": [
          0.3778947368421052,
          0.41586184210526317,
          0.49317105263157895,
          0.4783552631578947
         ],
         "yaxis": "y"
        },
        {
         "hovertemplate": "variable=mape_PROPHET<br>index=%{x}<br>value=%{y}<extra></extra>",
         "legendgroup": "mape_PROPHET",
         "line": {
          "color": "#EF553B",
          "dash": "solid"
         },
         "marker": {
          "symbol": "circle"
         },
         "mode": "lines",
         "name": "mape_PROPHET",
         "orientation": "v",
         "showlegend": true,
         "type": "scatter",
         "x": [
          7,
          14,
          21,
          28
         ],
         "xaxis": "x",
         "y": [
          0.338375,
          0.338375,
          0.36978947368421056,
          0.36758552631578956
         ],
         "yaxis": "y"
        },
        {
         "hovertemplate": "variable=mape_RF<br>index=%{x}<br>value=%{y}<extra></extra>",
         "legendgroup": "mape_RF",
         "line": {
          "color": "#00cc96",
          "dash": "solid"
         },
         "marker": {
          "symbol": "circle"
         },
         "mode": "lines",
         "name": "mape_RF",
         "orientation": "v",
         "showlegend": true,
         "type": "scatter",
         "x": [
          7,
          14,
          21,
          28
         ],
         "xaxis": "x",
         "y": [
          0.10606578947368418,
          0.131296992481203,
          0.16312500000000002,
          0.2309539473684211
         ],
         "yaxis": "y"
        },
        {
         "hovertemplate": "variable=mape_SNAIVE<br>index=%{x}<br>value=%{y}<extra></extra>",
         "legendgroup": "mape_SNAIVE",
         "line": {
          "color": "#ab63fa",
          "dash": "solid"
         },
         "marker": {
          "symbol": "circle"
         },
         "mode": "lines",
         "name": "mape_SNAIVE",
         "orientation": "v",
         "showlegend": true,
         "type": "scatter",
         "x": [
          7,
          14,
          21,
          28
         ],
         "xaxis": "x",
         "y": [
          0.4185592105263158,
          0.41376973684210533,
          0.4634934210526315,
          0.45559868421052635
         ],
         "yaxis": "y"
        },
        {
         "hovertemplate": "variable=mape_XGB<br>index=%{x}<br>value=%{y}<extra></extra>",
         "legendgroup": "mape_XGB",
         "line": {
          "color": "#FFA15A",
          "dash": "solid"
         },
         "marker": {
          "symbol": "circle"
         },
         "mode": "lines",
         "name": "mape_XGB",
         "orientation": "v",
         "showlegend": true,
         "type": "scatter",
         "x": [
          7,
          14,
          21,
          28
         ],
         "xaxis": "x",
         "y": [
          0.10819736842105264,
          0.09296710526315789,
          0.1234407894736842,
          0.1527171052631579
         ],
         "yaxis": "y"
        }
       ],
       "layout": {
        "legend": {
         "title": {
          "text": "variable"
         },
         "tracegroupgap": 0
        },
        "margin": {
         "t": 60
        },
        "template": {
         "data": {
          "bar": [
           {
            "error_x": {
             "color": "#2a3f5f"
            },
            "error_y": {
             "color": "#2a3f5f"
            },
            "marker": {
             "line": {
              "color": "#E5ECF6",
              "width": 0.5
             },
             "pattern": {
              "fillmode": "overlay",
              "size": 10,
              "solidity": 0.2
             }
            },
            "type": "bar"
           }
          ],
          "barpolar": [
           {
            "marker": {
             "line": {
              "color": "#E5ECF6",
              "width": 0.5
             },
             "pattern": {
              "fillmode": "overlay",
              "size": 10,
              "solidity": 0.2
             }
            },
            "type": "barpolar"
           }
          ],
          "carpet": [
           {
            "aaxis": {
             "endlinecolor": "#2a3f5f",
             "gridcolor": "white",
             "linecolor": "white",
             "minorgridcolor": "white",
             "startlinecolor": "#2a3f5f"
            },
            "baxis": {
             "endlinecolor": "#2a3f5f",
             "gridcolor": "white",
             "linecolor": "white",
             "minorgridcolor": "white",
             "startlinecolor": "#2a3f5f"
            },
            "type": "carpet"
           }
          ],
          "choropleth": [
           {
            "colorbar": {
             "outlinewidth": 0,
             "ticks": ""
            },
            "type": "choropleth"
           }
          ],
          "contour": [
           {
            "colorbar": {
             "outlinewidth": 0,
             "ticks": ""
            },
            "colorscale": [
             [
              0,
              "#0d0887"
             ],
             [
              0.1111111111111111,
              "#46039f"
             ],
             [
              0.2222222222222222,
              "#7201a8"
             ],
             [
              0.3333333333333333,
              "#9c179e"
             ],
             [
              0.4444444444444444,
              "#bd3786"
             ],
             [
              0.5555555555555556,
              "#d8576b"
             ],
             [
              0.6666666666666666,
              "#ed7953"
             ],
             [
              0.7777777777777778,
              "#fb9f3a"
             ],
             [
              0.8888888888888888,
              "#fdca26"
             ],
             [
              1,
              "#f0f921"
             ]
            ],
            "type": "contour"
           }
          ],
          "contourcarpet": [
           {
            "colorbar": {
             "outlinewidth": 0,
             "ticks": ""
            },
            "type": "contourcarpet"
           }
          ],
          "heatmap": [
           {
            "colorbar": {
             "outlinewidth": 0,
             "ticks": ""
            },
            "colorscale": [
             [
              0,
              "#0d0887"
             ],
             [
              0.1111111111111111,
              "#46039f"
             ],
             [
              0.2222222222222222,
              "#7201a8"
             ],
             [
              0.3333333333333333,
              "#9c179e"
             ],
             [
              0.4444444444444444,
              "#bd3786"
             ],
             [
              0.5555555555555556,
              "#d8576b"
             ],
             [
              0.6666666666666666,
              "#ed7953"
             ],
             [
              0.7777777777777778,
              "#fb9f3a"
             ],
             [
              0.8888888888888888,
              "#fdca26"
             ],
             [
              1,
              "#f0f921"
             ]
            ],
            "type": "heatmap"
           }
          ],
          "heatmapgl": [
           {
            "colorbar": {
             "outlinewidth": 0,
             "ticks": ""
            },
            "colorscale": [
             [
              0,
              "#0d0887"
             ],
             [
              0.1111111111111111,
              "#46039f"
             ],
             [
              0.2222222222222222,
              "#7201a8"
             ],
             [
              0.3333333333333333,
              "#9c179e"
             ],
             [
              0.4444444444444444,
              "#bd3786"
             ],
             [
              0.5555555555555556,
              "#d8576b"
             ],
             [
              0.6666666666666666,
              "#ed7953"
             ],
             [
              0.7777777777777778,
              "#fb9f3a"
             ],
             [
              0.8888888888888888,
              "#fdca26"
             ],
             [
              1,
              "#f0f921"
             ]
            ],
            "type": "heatmapgl"
           }
          ],
          "histogram": [
           {
            "marker": {
             "pattern": {
              "fillmode": "overlay",
              "size": 10,
              "solidity": 0.2
             }
            },
            "type": "histogram"
           }
          ],
          "histogram2d": [
           {
            "colorbar": {
             "outlinewidth": 0,
             "ticks": ""
            },
            "colorscale": [
             [
              0,
              "#0d0887"
             ],
             [
              0.1111111111111111,
              "#46039f"
             ],
             [
              0.2222222222222222,
              "#7201a8"
             ],
             [
              0.3333333333333333,
              "#9c179e"
             ],
             [
              0.4444444444444444,
              "#bd3786"
             ],
             [
              0.5555555555555556,
              "#d8576b"
             ],
             [
              0.6666666666666666,
              "#ed7953"
             ],
             [
              0.7777777777777778,
              "#fb9f3a"
             ],
             [
              0.8888888888888888,
              "#fdca26"
             ],
             [
              1,
              "#f0f921"
             ]
            ],
            "type": "histogram2d"
           }
          ],
          "histogram2dcontour": [
           {
            "colorbar": {
             "outlinewidth": 0,
             "ticks": ""
            },
            "colorscale": [
             [
              0,
              "#0d0887"
             ],
             [
              0.1111111111111111,
              "#46039f"
             ],
             [
              0.2222222222222222,
              "#7201a8"
             ],
             [
              0.3333333333333333,
              "#9c179e"
             ],
             [
              0.4444444444444444,
              "#bd3786"
             ],
             [
              0.5555555555555556,
              "#d8576b"
             ],
             [
              0.6666666666666666,
              "#ed7953"
             ],
             [
              0.7777777777777778,
              "#fb9f3a"
             ],
             [
              0.8888888888888888,
              "#fdca26"
             ],
             [
              1,
              "#f0f921"
             ]
            ],
            "type": "histogram2dcontour"
           }
          ],
          "mesh3d": [
           {
            "colorbar": {
             "outlinewidth": 0,
             "ticks": ""
            },
            "type": "mesh3d"
           }
          ],
          "parcoords": [
           {
            "line": {
             "colorbar": {
              "outlinewidth": 0,
              "ticks": ""
             }
            },
            "type": "parcoords"
           }
          ],
          "pie": [
           {
            "automargin": true,
            "type": "pie"
           }
          ],
          "scatter": [
           {
            "marker": {
             "colorbar": {
              "outlinewidth": 0,
              "ticks": ""
             }
            },
            "type": "scatter"
           }
          ],
          "scatter3d": [
           {
            "line": {
             "colorbar": {
              "outlinewidth": 0,
              "ticks": ""
             }
            },
            "marker": {
             "colorbar": {
              "outlinewidth": 0,
              "ticks": ""
             }
            },
            "type": "scatter3d"
           }
          ],
          "scattercarpet": [
           {
            "marker": {
             "colorbar": {
              "outlinewidth": 0,
              "ticks": ""
             }
            },
            "type": "scattercarpet"
           }
          ],
          "scattergeo": [
           {
            "marker": {
             "colorbar": {
              "outlinewidth": 0,
              "ticks": ""
             }
            },
            "type": "scattergeo"
           }
          ],
          "scattergl": [
           {
            "marker": {
             "colorbar": {
              "outlinewidth": 0,
              "ticks": ""
             }
            },
            "type": "scattergl"
           }
          ],
          "scattermapbox": [
           {
            "marker": {
             "colorbar": {
              "outlinewidth": 0,
              "ticks": ""
             }
            },
            "type": "scattermapbox"
           }
          ],
          "scatterpolar": [
           {
            "marker": {
             "colorbar": {
              "outlinewidth": 0,
              "ticks": ""
             }
            },
            "type": "scatterpolar"
           }
          ],
          "scatterpolargl": [
           {
            "marker": {
             "colorbar": {
              "outlinewidth": 0,
              "ticks": ""
             }
            },
            "type": "scatterpolargl"
           }
          ],
          "scatterternary": [
           {
            "marker": {
             "colorbar": {
              "outlinewidth": 0,
              "ticks": ""
             }
            },
            "type": "scatterternary"
           }
          ],
          "surface": [
           {
            "colorbar": {
             "outlinewidth": 0,
             "ticks": ""
            },
            "colorscale": [
             [
              0,
              "#0d0887"
             ],
             [
              0.1111111111111111,
              "#46039f"
             ],
             [
              0.2222222222222222,
              "#7201a8"
             ],
             [
              0.3333333333333333,
              "#9c179e"
             ],
             [
              0.4444444444444444,
              "#bd3786"
             ],
             [
              0.5555555555555556,
              "#d8576b"
             ],
             [
              0.6666666666666666,
              "#ed7953"
             ],
             [
              0.7777777777777778,
              "#fb9f3a"
             ],
             [
              0.8888888888888888,
              "#fdca26"
             ],
             [
              1,
              "#f0f921"
             ]
            ],
            "type": "surface"
           }
          ],
          "table": [
           {
            "cells": {
             "fill": {
              "color": "#EBF0F8"
             },
             "line": {
              "color": "white"
             }
            },
            "header": {
             "fill": {
              "color": "#C8D4E3"
             },
             "line": {
              "color": "white"
             }
            },
            "type": "table"
           }
          ]
         },
         "layout": {
          "annotationdefaults": {
           "arrowcolor": "#2a3f5f",
           "arrowhead": 0,
           "arrowwidth": 1
          },
          "autotypenumbers": "strict",
          "coloraxis": {
           "colorbar": {
            "outlinewidth": 0,
            "ticks": ""
           }
          },
          "colorscale": {
           "diverging": [
            [
             0,
             "#8e0152"
            ],
            [
             0.1,
             "#c51b7d"
            ],
            [
             0.2,
             "#de77ae"
            ],
            [
             0.3,
             "#f1b6da"
            ],
            [
             0.4,
             "#fde0ef"
            ],
            [
             0.5,
             "#f7f7f7"
            ],
            [
             0.6,
             "#e6f5d0"
            ],
            [
             0.7,
             "#b8e186"
            ],
            [
             0.8,
             "#7fbc41"
            ],
            [
             0.9,
             "#4d9221"
            ],
            [
             1,
             "#276419"
            ]
           ],
           "sequential": [
            [
             0,
             "#0d0887"
            ],
            [
             0.1111111111111111,
             "#46039f"
            ],
            [
             0.2222222222222222,
             "#7201a8"
            ],
            [
             0.3333333333333333,
             "#9c179e"
            ],
            [
             0.4444444444444444,
             "#bd3786"
            ],
            [
             0.5555555555555556,
             "#d8576b"
            ],
            [
             0.6666666666666666,
             "#ed7953"
            ],
            [
             0.7777777777777778,
             "#fb9f3a"
            ],
            [
             0.8888888888888888,
             "#fdca26"
            ],
            [
             1,
             "#f0f921"
            ]
           ],
           "sequentialminus": [
            [
             0,
             "#0d0887"
            ],
            [
             0.1111111111111111,
             "#46039f"
            ],
            [
             0.2222222222222222,
             "#7201a8"
            ],
            [
             0.3333333333333333,
             "#9c179e"
            ],
            [
             0.4444444444444444,
             "#bd3786"
            ],
            [
             0.5555555555555556,
             "#d8576b"
            ],
            [
             0.6666666666666666,
             "#ed7953"
            ],
            [
             0.7777777777777778,
             "#fb9f3a"
            ],
            [
             0.8888888888888888,
             "#fdca26"
            ],
            [
             1,
             "#f0f921"
            ]
           ]
          },
          "colorway": [
           "#636efa",
           "#EF553B",
           "#00cc96",
           "#ab63fa",
           "#FFA15A",
           "#19d3f3",
           "#FF6692",
           "#B6E880",
           "#FF97FF",
           "#FECB52"
          ],
          "font": {
           "color": "#2a3f5f"
          },
          "geo": {
           "bgcolor": "white",
           "lakecolor": "white",
           "landcolor": "#E5ECF6",
           "showlakes": true,
           "showland": true,
           "subunitcolor": "white"
          },
          "hoverlabel": {
           "align": "left"
          },
          "hovermode": "closest",
          "mapbox": {
           "style": "light"
          },
          "paper_bgcolor": "white",
          "plot_bgcolor": "#E5ECF6",
          "polar": {
           "angularaxis": {
            "gridcolor": "white",
            "linecolor": "white",
            "ticks": ""
           },
           "bgcolor": "#E5ECF6",
           "radialaxis": {
            "gridcolor": "white",
            "linecolor": "white",
            "ticks": ""
           }
          },
          "scene": {
           "xaxis": {
            "backgroundcolor": "#E5ECF6",
            "gridcolor": "white",
            "gridwidth": 2,
            "linecolor": "white",
            "showbackground": true,
            "ticks": "",
            "zerolinecolor": "white"
           },
           "yaxis": {
            "backgroundcolor": "#E5ECF6",
            "gridcolor": "white",
            "gridwidth": 2,
            "linecolor": "white",
            "showbackground": true,
            "ticks": "",
            "zerolinecolor": "white"
           },
           "zaxis": {
            "backgroundcolor": "#E5ECF6",
            "gridcolor": "white",
            "gridwidth": 2,
            "linecolor": "white",
            "showbackground": true,
            "ticks": "",
            "zerolinecolor": "white"
           }
          },
          "shapedefaults": {
           "line": {
            "color": "#2a3f5f"
           }
          },
          "ternary": {
           "aaxis": {
            "gridcolor": "white",
            "linecolor": "white",
            "ticks": ""
           },
           "baxis": {
            "gridcolor": "white",
            "linecolor": "white",
            "ticks": ""
           },
           "bgcolor": "#E5ECF6",
           "caxis": {
            "gridcolor": "white",
            "linecolor": "white",
            "ticks": ""
           }
          },
          "title": {
           "x": 0.05
          },
          "xaxis": {
           "automargin": true,
           "gridcolor": "white",
           "linecolor": "white",
           "ticks": "",
           "title": {
            "standoff": 15
           },
           "zerolinecolor": "white",
           "zerolinewidth": 2
          },
          "yaxis": {
           "automargin": true,
           "gridcolor": "white",
           "linecolor": "white",
           "ticks": "",
           "title": {
            "standoff": 15
           },
           "zerolinecolor": "white",
           "zerolinewidth": 2
          }
         }
        },
        "xaxis": {
         "anchor": "y",
         "domain": [
          0,
          1
         ],
         "dtick": 7,
         "tick0": 7,
         "title": {
          "text": "horizons"
         }
        },
        "yaxis": {
         "anchor": "x",
         "domain": [
          0,
          1
         ],
         "title": {
          "text": "mape"
         }
        }
       }
      }
     },
     "metadata": {},
     "output_type": "display_data"
    }
   ],
   "source": [
    "fig = mean_mape.plot()\n",
    "fig.update_xaxes(tick0=7, dtick=7, title_text='horizons')\n",
    "fig.update_yaxes(title_text='mape')\n"
   ]
  },
  {
   "cell_type": "code",
   "execution_count": 61,
   "metadata": {},
   "outputs": [
    {
     "data": {
      "application/vnd.plotly.v1+json": {
       "config": {
        "plotlyServerURL": "https://plot.ly"
       },
       "data": [
        {
         "hovertemplate": "variable=mase_ARIMA<br>index=%{x}<br>value=%{y}<extra></extra>",
         "legendgroup": "mase_ARIMA",
         "line": {
          "color": "#636efa",
          "dash": "solid"
         },
         "marker": {
          "symbol": "circle"
         },
         "mode": "lines",
         "name": "mase_ARIMA",
         "orientation": "v",
         "showlegend": true,
         "type": "scatter",
         "x": [
          7,
          14,
          21,
          28
         ],
         "xaxis": "x",
         "y": [
          1.0306447368421052,
          0.9974802631578948,
          1.273453947368421,
          1.1278684210526315
         ],
         "yaxis": "y"
        },
        {
         "hovertemplate": "variable=mase_PROPHET<br>index=%{x}<br>value=%{y}<extra></extra>",
         "legendgroup": "mase_PROPHET",
         "line": {
          "color": "#EF553B",
          "dash": "solid"
         },
         "marker": {
          "symbol": "circle"
         },
         "mode": "lines",
         "name": "mase_PROPHET",
         "orientation": "v",
         "showlegend": true,
         "type": "scatter",
         "x": [
          7,
          14,
          21,
          28
         ],
         "xaxis": "x",
         "y": [
          0.9515723684210525,
          0.9515723684210525,
          0.9952105263157892,
          0.9919473684210525
         ],
         "yaxis": "y"
        },
        {
         "hovertemplate": "variable=mase_RF<br>index=%{x}<br>value=%{y}<extra></extra>",
         "legendgroup": "mase_RF",
         "line": {
          "color": "#00cc96",
          "dash": "solid"
         },
         "marker": {
          "symbol": "circle"
         },
         "mode": "lines",
         "name": "mase_RF",
         "orientation": "v",
         "showlegend": true,
         "type": "scatter",
         "x": [
          7,
          14,
          21,
          28
         ],
         "xaxis": "x",
         "y": [
          0.2986315789473684,
          0.29598120300751884,
          0.37823684210526315,
          0.5064605263157894
         ],
         "yaxis": "y"
        },
        {
         "hovertemplate": "variable=mase_SNAIVE<br>index=%{x}<br>value=%{y}<extra></extra>",
         "legendgroup": "mase_SNAIVE",
         "line": {
          "color": "#ab63fa",
          "dash": "solid"
         },
         "marker": {
          "symbol": "circle"
         },
         "mode": "lines",
         "name": "mase_SNAIVE",
         "orientation": "v",
         "showlegend": true,
         "type": "scatter",
         "x": [
          7,
          14,
          21,
          28
         ],
         "xaxis": "x",
         "y": [
          0.898513157894737,
          0.7993815789473685,
          0.9492763157894736,
          0.8546513157894736
         ],
         "yaxis": "y"
        },
        {
         "hovertemplate": "variable=mase_XGB<br>index=%{x}<br>value=%{y}<extra></extra>",
         "legendgroup": "mase_XGB",
         "line": {
          "color": "#FFA15A",
          "dash": "solid"
         },
         "marker": {
          "symbol": "circle"
         },
         "mode": "lines",
         "name": "mase_XGB",
         "orientation": "v",
         "showlegend": true,
         "type": "scatter",
         "x": [
          7,
          14,
          21,
          28
         ],
         "xaxis": "x",
         "y": [
          0.27156578947368426,
          0.21028289473684214,
          0.28391447368421047,
          0.31960526315789467
         ],
         "yaxis": "y"
        }
       ],
       "layout": {
        "legend": {
         "title": {
          "text": "variable"
         },
         "tracegroupgap": 0
        },
        "margin": {
         "t": 60
        },
        "template": {
         "data": {
          "bar": [
           {
            "error_x": {
             "color": "#2a3f5f"
            },
            "error_y": {
             "color": "#2a3f5f"
            },
            "marker": {
             "line": {
              "color": "#E5ECF6",
              "width": 0.5
             },
             "pattern": {
              "fillmode": "overlay",
              "size": 10,
              "solidity": 0.2
             }
            },
            "type": "bar"
           }
          ],
          "barpolar": [
           {
            "marker": {
             "line": {
              "color": "#E5ECF6",
              "width": 0.5
             },
             "pattern": {
              "fillmode": "overlay",
              "size": 10,
              "solidity": 0.2
             }
            },
            "type": "barpolar"
           }
          ],
          "carpet": [
           {
            "aaxis": {
             "endlinecolor": "#2a3f5f",
             "gridcolor": "white",
             "linecolor": "white",
             "minorgridcolor": "white",
             "startlinecolor": "#2a3f5f"
            },
            "baxis": {
             "endlinecolor": "#2a3f5f",
             "gridcolor": "white",
             "linecolor": "white",
             "minorgridcolor": "white",
             "startlinecolor": "#2a3f5f"
            },
            "type": "carpet"
           }
          ],
          "choropleth": [
           {
            "colorbar": {
             "outlinewidth": 0,
             "ticks": ""
            },
            "type": "choropleth"
           }
          ],
          "contour": [
           {
            "colorbar": {
             "outlinewidth": 0,
             "ticks": ""
            },
            "colorscale": [
             [
              0,
              "#0d0887"
             ],
             [
              0.1111111111111111,
              "#46039f"
             ],
             [
              0.2222222222222222,
              "#7201a8"
             ],
             [
              0.3333333333333333,
              "#9c179e"
             ],
             [
              0.4444444444444444,
              "#bd3786"
             ],
             [
              0.5555555555555556,
              "#d8576b"
             ],
             [
              0.6666666666666666,
              "#ed7953"
             ],
             [
              0.7777777777777778,
              "#fb9f3a"
             ],
             [
              0.8888888888888888,
              "#fdca26"
             ],
             [
              1,
              "#f0f921"
             ]
            ],
            "type": "contour"
           }
          ],
          "contourcarpet": [
           {
            "colorbar": {
             "outlinewidth": 0,
             "ticks": ""
            },
            "type": "contourcarpet"
           }
          ],
          "heatmap": [
           {
            "colorbar": {
             "outlinewidth": 0,
             "ticks": ""
            },
            "colorscale": [
             [
              0,
              "#0d0887"
             ],
             [
              0.1111111111111111,
              "#46039f"
             ],
             [
              0.2222222222222222,
              "#7201a8"
             ],
             [
              0.3333333333333333,
              "#9c179e"
             ],
             [
              0.4444444444444444,
              "#bd3786"
             ],
             [
              0.5555555555555556,
              "#d8576b"
             ],
             [
              0.6666666666666666,
              "#ed7953"
             ],
             [
              0.7777777777777778,
              "#fb9f3a"
             ],
             [
              0.8888888888888888,
              "#fdca26"
             ],
             [
              1,
              "#f0f921"
             ]
            ],
            "type": "heatmap"
           }
          ],
          "heatmapgl": [
           {
            "colorbar": {
             "outlinewidth": 0,
             "ticks": ""
            },
            "colorscale": [
             [
              0,
              "#0d0887"
             ],
             [
              0.1111111111111111,
              "#46039f"
             ],
             [
              0.2222222222222222,
              "#7201a8"
             ],
             [
              0.3333333333333333,
              "#9c179e"
             ],
             [
              0.4444444444444444,
              "#bd3786"
             ],
             [
              0.5555555555555556,
              "#d8576b"
             ],
             [
              0.6666666666666666,
              "#ed7953"
             ],
             [
              0.7777777777777778,
              "#fb9f3a"
             ],
             [
              0.8888888888888888,
              "#fdca26"
             ],
             [
              1,
              "#f0f921"
             ]
            ],
            "type": "heatmapgl"
           }
          ],
          "histogram": [
           {
            "marker": {
             "pattern": {
              "fillmode": "overlay",
              "size": 10,
              "solidity": 0.2
             }
            },
            "type": "histogram"
           }
          ],
          "histogram2d": [
           {
            "colorbar": {
             "outlinewidth": 0,
             "ticks": ""
            },
            "colorscale": [
             [
              0,
              "#0d0887"
             ],
             [
              0.1111111111111111,
              "#46039f"
             ],
             [
              0.2222222222222222,
              "#7201a8"
             ],
             [
              0.3333333333333333,
              "#9c179e"
             ],
             [
              0.4444444444444444,
              "#bd3786"
             ],
             [
              0.5555555555555556,
              "#d8576b"
             ],
             [
              0.6666666666666666,
              "#ed7953"
             ],
             [
              0.7777777777777778,
              "#fb9f3a"
             ],
             [
              0.8888888888888888,
              "#fdca26"
             ],
             [
              1,
              "#f0f921"
             ]
            ],
            "type": "histogram2d"
           }
          ],
          "histogram2dcontour": [
           {
            "colorbar": {
             "outlinewidth": 0,
             "ticks": ""
            },
            "colorscale": [
             [
              0,
              "#0d0887"
             ],
             [
              0.1111111111111111,
              "#46039f"
             ],
             [
              0.2222222222222222,
              "#7201a8"
             ],
             [
              0.3333333333333333,
              "#9c179e"
             ],
             [
              0.4444444444444444,
              "#bd3786"
             ],
             [
              0.5555555555555556,
              "#d8576b"
             ],
             [
              0.6666666666666666,
              "#ed7953"
             ],
             [
              0.7777777777777778,
              "#fb9f3a"
             ],
             [
              0.8888888888888888,
              "#fdca26"
             ],
             [
              1,
              "#f0f921"
             ]
            ],
            "type": "histogram2dcontour"
           }
          ],
          "mesh3d": [
           {
            "colorbar": {
             "outlinewidth": 0,
             "ticks": ""
            },
            "type": "mesh3d"
           }
          ],
          "parcoords": [
           {
            "line": {
             "colorbar": {
              "outlinewidth": 0,
              "ticks": ""
             }
            },
            "type": "parcoords"
           }
          ],
          "pie": [
           {
            "automargin": true,
            "type": "pie"
           }
          ],
          "scatter": [
           {
            "marker": {
             "colorbar": {
              "outlinewidth": 0,
              "ticks": ""
             }
            },
            "type": "scatter"
           }
          ],
          "scatter3d": [
           {
            "line": {
             "colorbar": {
              "outlinewidth": 0,
              "ticks": ""
             }
            },
            "marker": {
             "colorbar": {
              "outlinewidth": 0,
              "ticks": ""
             }
            },
            "type": "scatter3d"
           }
          ],
          "scattercarpet": [
           {
            "marker": {
             "colorbar": {
              "outlinewidth": 0,
              "ticks": ""
             }
            },
            "type": "scattercarpet"
           }
          ],
          "scattergeo": [
           {
            "marker": {
             "colorbar": {
              "outlinewidth": 0,
              "ticks": ""
             }
            },
            "type": "scattergeo"
           }
          ],
          "scattergl": [
           {
            "marker": {
             "colorbar": {
              "outlinewidth": 0,
              "ticks": ""
             }
            },
            "type": "scattergl"
           }
          ],
          "scattermapbox": [
           {
            "marker": {
             "colorbar": {
              "outlinewidth": 0,
              "ticks": ""
             }
            },
            "type": "scattermapbox"
           }
          ],
          "scatterpolar": [
           {
            "marker": {
             "colorbar": {
              "outlinewidth": 0,
              "ticks": ""
             }
            },
            "type": "scatterpolar"
           }
          ],
          "scatterpolargl": [
           {
            "marker": {
             "colorbar": {
              "outlinewidth": 0,
              "ticks": ""
             }
            },
            "type": "scatterpolargl"
           }
          ],
          "scatterternary": [
           {
            "marker": {
             "colorbar": {
              "outlinewidth": 0,
              "ticks": ""
             }
            },
            "type": "scatterternary"
           }
          ],
          "surface": [
           {
            "colorbar": {
             "outlinewidth": 0,
             "ticks": ""
            },
            "colorscale": [
             [
              0,
              "#0d0887"
             ],
             [
              0.1111111111111111,
              "#46039f"
             ],
             [
              0.2222222222222222,
              "#7201a8"
             ],
             [
              0.3333333333333333,
              "#9c179e"
             ],
             [
              0.4444444444444444,
              "#bd3786"
             ],
             [
              0.5555555555555556,
              "#d8576b"
             ],
             [
              0.6666666666666666,
              "#ed7953"
             ],
             [
              0.7777777777777778,
              "#fb9f3a"
             ],
             [
              0.8888888888888888,
              "#fdca26"
             ],
             [
              1,
              "#f0f921"
             ]
            ],
            "type": "surface"
           }
          ],
          "table": [
           {
            "cells": {
             "fill": {
              "color": "#EBF0F8"
             },
             "line": {
              "color": "white"
             }
            },
            "header": {
             "fill": {
              "color": "#C8D4E3"
             },
             "line": {
              "color": "white"
             }
            },
            "type": "table"
           }
          ]
         },
         "layout": {
          "annotationdefaults": {
           "arrowcolor": "#2a3f5f",
           "arrowhead": 0,
           "arrowwidth": 1
          },
          "autotypenumbers": "strict",
          "coloraxis": {
           "colorbar": {
            "outlinewidth": 0,
            "ticks": ""
           }
          },
          "colorscale": {
           "diverging": [
            [
             0,
             "#8e0152"
            ],
            [
             0.1,
             "#c51b7d"
            ],
            [
             0.2,
             "#de77ae"
            ],
            [
             0.3,
             "#f1b6da"
            ],
            [
             0.4,
             "#fde0ef"
            ],
            [
             0.5,
             "#f7f7f7"
            ],
            [
             0.6,
             "#e6f5d0"
            ],
            [
             0.7,
             "#b8e186"
            ],
            [
             0.8,
             "#7fbc41"
            ],
            [
             0.9,
             "#4d9221"
            ],
            [
             1,
             "#276419"
            ]
           ],
           "sequential": [
            [
             0,
             "#0d0887"
            ],
            [
             0.1111111111111111,
             "#46039f"
            ],
            [
             0.2222222222222222,
             "#7201a8"
            ],
            [
             0.3333333333333333,
             "#9c179e"
            ],
            [
             0.4444444444444444,
             "#bd3786"
            ],
            [
             0.5555555555555556,
             "#d8576b"
            ],
            [
             0.6666666666666666,
             "#ed7953"
            ],
            [
             0.7777777777777778,
             "#fb9f3a"
            ],
            [
             0.8888888888888888,
             "#fdca26"
            ],
            [
             1,
             "#f0f921"
            ]
           ],
           "sequentialminus": [
            [
             0,
             "#0d0887"
            ],
            [
             0.1111111111111111,
             "#46039f"
            ],
            [
             0.2222222222222222,
             "#7201a8"
            ],
            [
             0.3333333333333333,
             "#9c179e"
            ],
            [
             0.4444444444444444,
             "#bd3786"
            ],
            [
             0.5555555555555556,
             "#d8576b"
            ],
            [
             0.6666666666666666,
             "#ed7953"
            ],
            [
             0.7777777777777778,
             "#fb9f3a"
            ],
            [
             0.8888888888888888,
             "#fdca26"
            ],
            [
             1,
             "#f0f921"
            ]
           ]
          },
          "colorway": [
           "#636efa",
           "#EF553B",
           "#00cc96",
           "#ab63fa",
           "#FFA15A",
           "#19d3f3",
           "#FF6692",
           "#B6E880",
           "#FF97FF",
           "#FECB52"
          ],
          "font": {
           "color": "#2a3f5f"
          },
          "geo": {
           "bgcolor": "white",
           "lakecolor": "white",
           "landcolor": "#E5ECF6",
           "showlakes": true,
           "showland": true,
           "subunitcolor": "white"
          },
          "hoverlabel": {
           "align": "left"
          },
          "hovermode": "closest",
          "mapbox": {
           "style": "light"
          },
          "paper_bgcolor": "white",
          "plot_bgcolor": "#E5ECF6",
          "polar": {
           "angularaxis": {
            "gridcolor": "white",
            "linecolor": "white",
            "ticks": ""
           },
           "bgcolor": "#E5ECF6",
           "radialaxis": {
            "gridcolor": "white",
            "linecolor": "white",
            "ticks": ""
           }
          },
          "scene": {
           "xaxis": {
            "backgroundcolor": "#E5ECF6",
            "gridcolor": "white",
            "gridwidth": 2,
            "linecolor": "white",
            "showbackground": true,
            "ticks": "",
            "zerolinecolor": "white"
           },
           "yaxis": {
            "backgroundcolor": "#E5ECF6",
            "gridcolor": "white",
            "gridwidth": 2,
            "linecolor": "white",
            "showbackground": true,
            "ticks": "",
            "zerolinecolor": "white"
           },
           "zaxis": {
            "backgroundcolor": "#E5ECF6",
            "gridcolor": "white",
            "gridwidth": 2,
            "linecolor": "white",
            "showbackground": true,
            "ticks": "",
            "zerolinecolor": "white"
           }
          },
          "shapedefaults": {
           "line": {
            "color": "#2a3f5f"
           }
          },
          "ternary": {
           "aaxis": {
            "gridcolor": "white",
            "linecolor": "white",
            "ticks": ""
           },
           "baxis": {
            "gridcolor": "white",
            "linecolor": "white",
            "ticks": ""
           },
           "bgcolor": "#E5ECF6",
           "caxis": {
            "gridcolor": "white",
            "linecolor": "white",
            "ticks": ""
           }
          },
          "title": {
           "x": 0.05
          },
          "xaxis": {
           "automargin": true,
           "gridcolor": "white",
           "linecolor": "white",
           "ticks": "",
           "title": {
            "standoff": 15
           },
           "zerolinecolor": "white",
           "zerolinewidth": 2
          },
          "yaxis": {
           "automargin": true,
           "gridcolor": "white",
           "linecolor": "white",
           "ticks": "",
           "title": {
            "standoff": 15
           },
           "zerolinecolor": "white",
           "zerolinewidth": 2
          }
         }
        },
        "xaxis": {
         "anchor": "y",
         "domain": [
          0,
          1
         ],
         "dtick": 7,
         "tick0": 7,
         "title": {
          "text": "horizons"
         }
        },
        "yaxis": {
         "anchor": "x",
         "domain": [
          0,
          1
         ],
         "title": {
          "text": "mase"
         }
        }
       }
      }
     },
     "metadata": {},
     "output_type": "display_data"
    }
   ],
   "source": [
    "# mean mase of all models & all horizons\n",
    "mean_mase = df_score.describe().filter(items=['mean'], axis=0).filter(like='mase', axis=1).stack().T.droplevel(0,1)\n",
    "mean_mase.index = mean_mase.index.astype('int')\n",
    "mean_mase.sort_index(inplace=True)\n",
    "\n",
    "fig = mean_mase.plot()\n",
    "fig.update_xaxes(tick0=7, dtick=7, title_text='horizons')\n",
    "fig.update_yaxes(title_text='mase')\n"
   ]
  },
  {
   "cell_type": "code",
   "execution_count": null,
   "metadata": {},
   "outputs": [],
   "source": []
  }
 ],
 "metadata": {
  "kernelspec": {
   "display_name": "Python 3",
   "language": "python",
   "name": "python3"
  },
  "language_info": {
   "codemirror_mode": {
    "name": "ipython",
    "version": 3
   },
   "file_extension": ".py",
   "mimetype": "text/x-python",
   "name": "python",
   "nbconvert_exporter": "python",
   "pygments_lexer": "ipython3",
   "version": "3.8.5"
  }
 },
 "nbformat": 4,
 "nbformat_minor": 4
}
