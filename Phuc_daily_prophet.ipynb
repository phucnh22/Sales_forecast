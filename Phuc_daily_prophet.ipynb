{
 "cells": [
  {
   "cell_type": "code",
   "execution_count": 24,
   "metadata": {},
   "outputs": [],
   "source": [
    "import numpy as np\n",
    "import pandas as pd\n",
    "import seaborn as sns\n",
    "sns.set_theme(style=\"darkgrid\")\n",
    "import datetime\n",
    "import matplotlib.pyplot as plt"
   ]
  },
  {
   "cell_type": "code",
   "execution_count": 27,
   "metadata": {},
   "outputs": [],
   "source": [
    "from sktime.utils.plotting import plot_series, plot_correlations, plot_lags\n",
    "from sktime.forecasting.naive import NaiveForecaster\n",
    "from sktime.forecasting.model_selection import (ExpandingWindowSplitter)\n",
    "from sktime.forecasting.model_evaluation import evaluate\n",
    "from sktime.forecasting.arima import ARIMA\n",
    "from matplotlib.pyplot import plot, yticks\n",
    "from sktime.forecasting.arima import AutoARIMA\n",
    "from sktime.performance_metrics.forecasting import MeanAbsoluteError, MeanAbsolutePercentageError"
   ]
  },
  {
   "cell_type": "code",
   "execution_count": 6,
   "metadata": {
    "scrolled": true
   },
   "outputs": [
    {
     "data": {
      "text/html": [
       "<div>\n",
       "<style scoped>\n",
       "    .dataframe tbody tr th:only-of-type {\n",
       "        vertical-align: middle;\n",
       "    }\n",
       "\n",
       "    .dataframe tbody tr th {\n",
       "        vertical-align: top;\n",
       "    }\n",
       "\n",
       "    .dataframe thead th {\n",
       "        text-align: right;\n",
       "    }\n",
       "</style>\n",
       "<table border=\"1\" class=\"dataframe\">\n",
       "  <thead>\n",
       "    <tr style=\"text-align: right;\">\n",
       "      <th></th>\n",
       "      <th>date</th>\n",
       "      <th>store_id</th>\n",
       "      <th>sales</th>\n",
       "      <th>promo_count</th>\n",
       "      <th>store_level</th>\n",
       "      <th>store_group</th>\n",
       "      <th>store_format</th>\n",
       "      <th>store_segment</th>\n",
       "      <th>opening_date</th>\n",
       "      <th>status</th>\n",
       "      <th>store_area</th>\n",
       "      <th>number_of_staff</th>\n",
       "      <th>province</th>\n",
       "      <th>channel</th>\n",
       "    </tr>\n",
       "  </thead>\n",
       "  <tbody>\n",
       "    <tr>\n",
       "      <th>0</th>\n",
       "      <td>2017-08-07</td>\n",
       "      <td>307222</td>\n",
       "      <td>1527650.0</td>\n",
       "      <td>1</td>\n",
       "      <td>A</td>\n",
       "      <td>Trực thuộc</td>\n",
       "      <td>Phố</td>\n",
       "      <td>Mainstream</td>\n",
       "      <td>2011-01-11</td>\n",
       "      <td>Active</td>\n",
       "      <td>112.0</td>\n",
       "      <td>6.0</td>\n",
       "      <td>Hồ Chí Minh</td>\n",
       "      <td>Retail</td>\n",
       "    </tr>\n",
       "    <tr>\n",
       "      <th>1</th>\n",
       "      <td>2017-08-08</td>\n",
       "      <td>307222</td>\n",
       "      <td>0.0</td>\n",
       "      <td>0</td>\n",
       "      <td>A</td>\n",
       "      <td>Trực thuộc</td>\n",
       "      <td>Phố</td>\n",
       "      <td>Mainstream</td>\n",
       "      <td>2011-01-11</td>\n",
       "      <td>Active</td>\n",
       "      <td>112.0</td>\n",
       "      <td>6.0</td>\n",
       "      <td>Hồ Chí Minh</td>\n",
       "      <td>Retail</td>\n",
       "    </tr>\n",
       "    <tr>\n",
       "      <th>2</th>\n",
       "      <td>2017-08-09</td>\n",
       "      <td>307222</td>\n",
       "      <td>26627420.0</td>\n",
       "      <td>14</td>\n",
       "      <td>A</td>\n",
       "      <td>Trực thuộc</td>\n",
       "      <td>Phố</td>\n",
       "      <td>Mainstream</td>\n",
       "      <td>2011-01-11</td>\n",
       "      <td>Active</td>\n",
       "      <td>112.0</td>\n",
       "      <td>6.0</td>\n",
       "      <td>Hồ Chí Minh</td>\n",
       "      <td>Retail</td>\n",
       "    </tr>\n",
       "    <tr>\n",
       "      <th>3</th>\n",
       "      <td>2017-08-10</td>\n",
       "      <td>307222</td>\n",
       "      <td>10755720.0</td>\n",
       "      <td>9</td>\n",
       "      <td>A</td>\n",
       "      <td>Trực thuộc</td>\n",
       "      <td>Phố</td>\n",
       "      <td>Mainstream</td>\n",
       "      <td>2011-01-11</td>\n",
       "      <td>Active</td>\n",
       "      <td>112.0</td>\n",
       "      <td>6.0</td>\n",
       "      <td>Hồ Chí Minh</td>\n",
       "      <td>Retail</td>\n",
       "    </tr>\n",
       "    <tr>\n",
       "      <th>4</th>\n",
       "      <td>2017-08-11</td>\n",
       "      <td>307222</td>\n",
       "      <td>10216950.0</td>\n",
       "      <td>10</td>\n",
       "      <td>A</td>\n",
       "      <td>Trực thuộc</td>\n",
       "      <td>Phố</td>\n",
       "      <td>Mainstream</td>\n",
       "      <td>2011-01-11</td>\n",
       "      <td>Active</td>\n",
       "      <td>112.0</td>\n",
       "      <td>6.0</td>\n",
       "      <td>Hồ Chí Minh</td>\n",
       "      <td>Retail</td>\n",
       "    </tr>\n",
       "  </tbody>\n",
       "</table>\n",
       "</div>"
      ],
      "text/plain": [
       "        date store_id       sales  promo_count store_level store_group  \\\n",
       "0 2017-08-07   307222   1527650.0            1           A  Trực thuộc   \n",
       "1 2017-08-08   307222         0.0            0           A  Trực thuộc   \n",
       "2 2017-08-09   307222  26627420.0           14           A  Trực thuộc   \n",
       "3 2017-08-10   307222  10755720.0            9           A  Trực thuộc   \n",
       "4 2017-08-11   307222  10216950.0           10           A  Trực thuộc   \n",
       "\n",
       "  store_format store_segment opening_date  status  store_area  \\\n",
       "0          Phố    Mainstream   2011-01-11  Active       112.0   \n",
       "1          Phố    Mainstream   2011-01-11  Active       112.0   \n",
       "2          Phố    Mainstream   2011-01-11  Active       112.0   \n",
       "3          Phố    Mainstream   2011-01-11  Active       112.0   \n",
       "4          Phố    Mainstream   2011-01-11  Active       112.0   \n",
       "\n",
       "   number_of_staff     province channel  \n",
       "0              6.0  Hồ Chí Minh  Retail  \n",
       "1              6.0  Hồ Chí Minh  Retail  \n",
       "2              6.0  Hồ Chí Minh  Retail  \n",
       "3              6.0  Hồ Chí Minh  Retail  \n",
       "4              6.0  Hồ Chí Minh  Retail  "
      ]
     },
     "execution_count": 6,
     "metadata": {},
     "output_type": "execute_result"
    }
   ],
   "source": [
    "# read data\n",
    "df = pd.read_pickle('data/df_daily.pkl')\n",
    "df.head()"
   ]
  },
  {
   "cell_type": "markdown",
   "metadata": {},
   "source": [
    "## 1. EDA on sales"
   ]
  },
  {
   "cell_type": "code",
   "execution_count": null,
   "metadata": {},
   "outputs": [],
   "source": []
  },
  {
   "cell_type": "code",
   "execution_count": null,
   "metadata": {},
   "outputs": [],
   "source": []
  },
  {
   "cell_type": "markdown",
   "metadata": {},
   "source": [
    "## 2. Data processing"
   ]
  },
  {
   "cell_type": "code",
   "execution_count": null,
   "metadata": {},
   "outputs": [],
   "source": []
  },
  {
   "cell_type": "code",
   "execution_count": 7,
   "metadata": {},
   "outputs": [
    {
     "data": {
      "text/html": [
       "<div>\n",
       "<style scoped>\n",
       "    .dataframe tbody tr th:only-of-type {\n",
       "        vertical-align: middle;\n",
       "    }\n",
       "\n",
       "    .dataframe tbody tr th {\n",
       "        vertical-align: top;\n",
       "    }\n",
       "\n",
       "    .dataframe thead th {\n",
       "        text-align: right;\n",
       "    }\n",
       "</style>\n",
       "<table border=\"1\" class=\"dataframe\">\n",
       "  <thead>\n",
       "    <tr style=\"text-align: right;\">\n",
       "      <th></th>\n",
       "      <th>date</th>\n",
       "      <th>sales</th>\n",
       "      <th>store_level</th>\n",
       "    </tr>\n",
       "  </thead>\n",
       "  <tbody>\n",
       "    <tr>\n",
       "      <th>0</th>\n",
       "      <td>2017-08-07</td>\n",
       "      <td>1527650.0</td>\n",
       "      <td>A</td>\n",
       "    </tr>\n",
       "    <tr>\n",
       "      <th>1</th>\n",
       "      <td>2017-08-08</td>\n",
       "      <td>0.0</td>\n",
       "      <td>A</td>\n",
       "    </tr>\n",
       "    <tr>\n",
       "      <th>2</th>\n",
       "      <td>2017-08-09</td>\n",
       "      <td>26627420.0</td>\n",
       "      <td>A</td>\n",
       "    </tr>\n",
       "    <tr>\n",
       "      <th>3</th>\n",
       "      <td>2017-08-10</td>\n",
       "      <td>10755720.0</td>\n",
       "      <td>A</td>\n",
       "    </tr>\n",
       "    <tr>\n",
       "      <th>4</th>\n",
       "      <td>2017-08-11</td>\n",
       "      <td>10216950.0</td>\n",
       "      <td>A</td>\n",
       "    </tr>\n",
       "  </tbody>\n",
       "</table>\n",
       "</div>"
      ],
      "text/plain": [
       "        date       sales store_level\n",
       "0 2017-08-07   1527650.0           A\n",
       "1 2017-08-08         0.0           A\n",
       "2 2017-08-09  26627420.0           A\n",
       "3 2017-08-10  10755720.0           A\n",
       "4 2017-08-11  10216950.0           A"
      ]
     },
     "execution_count": 7,
     "metadata": {},
     "output_type": "execute_result"
    }
   ],
   "source": [
    "#store_list = df['store_id'].unique()\n",
    "# Remove non-relevant columns\n",
    "df = df[['date', 'sales', 'store_level']]\n",
    "df.head()"
   ]
  },
  {
   "cell_type": "code",
   "execution_count": 28,
   "metadata": {},
   "outputs": [],
   "source": [
    "# rename levels for convenience\n",
    "df.replace({\n",
    "    'A++': 'A',\n",
    "    'A+': 'B',\n",
    "    'A': 'C',\n",
    "    'B': 'D',\n",
    "    'C': 'E'}, inplace=True)"
   ]
  },
  {
   "cell_type": "code",
   "execution_count": 40,
   "metadata": {},
   "outputs": [
    {
     "data": {
      "text/html": [
       "<div>\n",
       "<style scoped>\n",
       "    .dataframe tbody tr th:only-of-type {\n",
       "        vertical-align: middle;\n",
       "    }\n",
       "\n",
       "    .dataframe tbody tr th {\n",
       "        vertical-align: top;\n",
       "    }\n",
       "\n",
       "    .dataframe thead th {\n",
       "        text-align: right;\n",
       "    }\n",
       "</style>\n",
       "<table border=\"1\" class=\"dataframe\">\n",
       "  <thead>\n",
       "    <tr style=\"text-align: right;\">\n",
       "      <th></th>\n",
       "      <th>date</th>\n",
       "      <th>sales</th>\n",
       "      <th>store_level</th>\n",
       "    </tr>\n",
       "  </thead>\n",
       "  <tbody>\n",
       "    <tr>\n",
       "      <th>5065</th>\n",
       "      <td>2017-08-09</td>\n",
       "      <td>8314900.0</td>\n",
       "      <td>A</td>\n",
       "    </tr>\n",
       "    <tr>\n",
       "      <th>5066</th>\n",
       "      <td>2017-08-10</td>\n",
       "      <td>7037470.0</td>\n",
       "      <td>A</td>\n",
       "    </tr>\n",
       "    <tr>\n",
       "      <th>5067</th>\n",
       "      <td>2017-08-11</td>\n",
       "      <td>13699430.0</td>\n",
       "      <td>A</td>\n",
       "    </tr>\n",
       "    <tr>\n",
       "      <th>5068</th>\n",
       "      <td>2017-08-12</td>\n",
       "      <td>50088170.0</td>\n",
       "      <td>A</td>\n",
       "    </tr>\n",
       "    <tr>\n",
       "      <th>5069</th>\n",
       "      <td>2017-08-13</td>\n",
       "      <td>11195610.0</td>\n",
       "      <td>A</td>\n",
       "    </tr>\n",
       "    <tr>\n",
       "      <th>...</th>\n",
       "      <td>...</td>\n",
       "      <td>...</td>\n",
       "      <td>...</td>\n",
       "    </tr>\n",
       "    <tr>\n",
       "      <th>6332</th>\n",
       "      <td>2021-01-27</td>\n",
       "      <td>56495801.0</td>\n",
       "      <td>A</td>\n",
       "    </tr>\n",
       "    <tr>\n",
       "      <th>6333</th>\n",
       "      <td>2021-01-28</td>\n",
       "      <td>34744840.0</td>\n",
       "      <td>A</td>\n",
       "    </tr>\n",
       "    <tr>\n",
       "      <th>6334</th>\n",
       "      <td>2021-01-29</td>\n",
       "      <td>64115900.0</td>\n",
       "      <td>A</td>\n",
       "    </tr>\n",
       "    <tr>\n",
       "      <th>6335</th>\n",
       "      <td>2021-01-30</td>\n",
       "      <td>125637810.0</td>\n",
       "      <td>A</td>\n",
       "    </tr>\n",
       "    <tr>\n",
       "      <th>6336</th>\n",
       "      <td>2021-01-31</td>\n",
       "      <td>163347900.0</td>\n",
       "      <td>A</td>\n",
       "    </tr>\n",
       "  </tbody>\n",
       "</table>\n",
       "<p>1272 rows × 3 columns</p>\n",
       "</div>"
      ],
      "text/plain": [
       "           date        sales store_level\n",
       "5065 2017-08-09    8314900.0           A\n",
       "5066 2017-08-10    7037470.0           A\n",
       "5067 2017-08-11   13699430.0           A\n",
       "5068 2017-08-12   50088170.0           A\n",
       "5069 2017-08-13   11195610.0           A\n",
       "...         ...          ...         ...\n",
       "6332 2021-01-27   56495801.0           A\n",
       "6333 2021-01-28   34744840.0           A\n",
       "6334 2021-01-29   64115900.0           A\n",
       "6335 2021-01-30  125637810.0           A\n",
       "6336 2021-01-31  163347900.0           A\n",
       "\n",
       "[1272 rows x 3 columns]"
      ]
     },
     "execution_count": 40,
     "metadata": {},
     "output_type": "execute_result"
    }
   ],
   "source": [
    "df.query('store_level==\"A\"')"
   ]
  },
  {
   "cell_type": "code",
   "execution_count": 44,
   "metadata": {},
   "outputs": [
    {
     "data": {
      "image/png": "[encoded data removed]",
      "text/plain": [
       "<Figure size 432x288 with 1 Axes>"
      ]
     },
     "metadata": {},
     "output_type": "display_data"
    }
   ],
   "source": [
    "# df_lev['store_level'].value_counts()\n",
    "def ts_datagen(data, store_level, printplot = True):\n",
    "    '''Generate time series aggregated data for each store level'''\n",
    "    # daily sum by level\n",
    "    df_lev = data.groupby(['store_level', 'date'], as_index=False).sum()\n",
    "    # level A\n",
    "    df_lev = df_lev[df_lev['store_level'] == store_level]\n",
    "    # time series of sales\n",
    "    ts = df_lev.set_index('date')['sales'].rename('Store level ' + store_level)    \n",
    "    ts = round(ts/1e6, 3)  # scale data\n",
    "    ts.index.freq = 'D' \n",
    "    if printplot: sns.lineplot(data=ts)\n",
    "    return ts\n",
    "\n",
    "\n",
    "\n",
    "ts = ts_datagen(df,'C')"
   ]
  },
  {
   "cell_type": "code",
   "execution_count": 45,
   "metadata": {},
   "outputs": [],
   "source": [
    "steps_ahead = 14\n",
    "y = ts[:-steps_ahead].ffill()  # forward fill missing values\n",
    "y_OOS = ts[-steps_ahead:]  # out-of-sample test set"
   ]
  },
  {
   "cell_type": "code",
   "execution_count": 46,
   "metadata": {},
   "outputs": [],
   "source": [
    "def get_windows(y, cv):\n",
    "    \"\"\"Generate windows\"\"\"\n",
    "    train_windows = []\n",
    "    test_windows = []\n",
    "    for i, (train, test) in enumerate(cv.split(y)):\n",
    "        train_windows.append(train)\n",
    "        test_windows.append(test)\n",
    "    return train_windows, test_windows\n",
    "# %% use CV to score model after fitting\n",
    "def cv_eval(forecaster):\n",
    "    cv_mape = []\n",
    "    mape = MeanAbsolutePercentageError()\n",
    "    for i in range(k):\n",
    "        test_set = y[y_val[i]]\n",
    "        y_pred = forecaster.predict(test_set.index)\n",
    "        cv_mape.append(mape(test_set, y_pred))\n",
    "    cv_mape = round(np.mean(cv_mape), 3)\n",
    "    return cv_mape"
   ]
  },
  {
   "cell_type": "code",
   "execution_count": 47,
   "metadata": {},
   "outputs": [
    {
     "data": {
      "text/plain": [
       "(<Figure size 1152x288 with 1 Axes>, <AxesSubplot:ylabel='Store level C'>)"
      ]
     },
     "execution_count": 47,
     "metadata": {},
     "output_type": "execute_result"
    },
    {
     "data": {
      "image/png": "[encoded data removed]",
      "text/plain": [
       "<Figure size 1152x288 with 1 Axes>"
      ]
     },
     "metadata": {},
     "output_type": "display_data"
    }
   ],
   "source": [
    "# %%\n",
    "# k-fold rolling cross validation\n",
    "k = 4\n",
    "ini_window = len(y) - steps_ahead*k\n",
    "fh = list(range(1, steps_ahead+1))\n",
    "cv = ExpandingWindowSplitter(initial_window=ini_window, fh=fh, step_length=steps_ahead)\n",
    "y_train, y_val = get_windows(y, cv)\n",
    "y_train, y_val\n",
    "plot_series(y)"
   ]
  },
  {
   "cell_type": "markdown",
   "metadata": {},
   "source": [
    "### 2.1. SNAIVE"
   ]
  },
  {
   "cell_type": "code",
   "execution_count": 48,
   "metadata": {},
   "outputs": [
    {
     "name": "stderr",
     "output_type": "stream",
     "text": [
      "C:\\Users\\Admin\\AppData\\Roaming\\Python\\Python38\\site-packages\\sktime\\forecasting\\naive.py:78: UserWarning: For the `drift` strategy, the `sp` value will be ignored.\n",
      "  warn(\"For the `drift` strategy, the `sp` value will be ignored.\")\n"
     ]
    },
    {
     "data": {
      "text/html": [
       "<div>\n",
       "<style scoped>\n",
       "    .dataframe tbody tr th:only-of-type {\n",
       "        vertical-align: middle;\n",
       "    }\n",
       "\n",
       "    .dataframe tbody tr th {\n",
       "        vertical-align: top;\n",
       "    }\n",
       "\n",
       "    .dataframe thead th {\n",
       "        text-align: right;\n",
       "    }\n",
       "</style>\n",
       "<table border=\"1\" class=\"dataframe\">\n",
       "  <thead>\n",
       "    <tr style=\"text-align: right;\">\n",
       "      <th></th>\n",
       "      <th>param</th>\n",
       "      <th>mape</th>\n",
       "    </tr>\n",
       "  </thead>\n",
       "  <tbody>\n",
       "    <tr>\n",
       "      <th>1</th>\n",
       "      <td>mean</td>\n",
       "      <td>0.384</td>\n",
       "    </tr>\n",
       "    <tr>\n",
       "      <th>0</th>\n",
       "      <td>last</td>\n",
       "      <td>0.596</td>\n",
       "    </tr>\n",
       "    <tr>\n",
       "      <th>2</th>\n",
       "      <td>drift</td>\n",
       "      <td>1.031</td>\n",
       "    </tr>\n",
       "  </tbody>\n",
       "</table>\n",
       "</div>"
      ],
      "text/plain": [
       "   param   mape\n",
       "1   mean  0.384\n",
       "0   last  0.596\n",
       "2  drift  1.031"
      ]
     },
     "execution_count": 48,
     "metadata": {},
     "output_type": "execute_result"
    }
   ],
   "source": [
    "# %% SNAIVE\n",
    "param_grid_SNAIVE = ['last', 'mean', 'drift']\n",
    "tuning_mape_SNAIVE = []\n",
    "\n",
    "# grid search for best param\n",
    "for param in param_grid_SNAIVE:\n",
    "    # param = 'last'\n",
    "    # define model\n",
    "    mod_SNAIVE = NaiveForecaster(sp=7, strategy=param)\n",
    "    # fit model to training data\n",
    "    mod_SNAIVE.fit(y[y_train[0]])\n",
    "    cv_mape_SNAIVE = cv_eval(mod_SNAIVE)\n",
    "    tuning_mape_SNAIVE.append(cv_mape_SNAIVE)\n",
    "tuning_results_SNAIVE = pd.DataFrame({\n",
    "    'param': param_grid_SNAIVE,\n",
    "    'mape': tuning_mape_SNAIVE\n",
    "}).sort_values('mape')\n",
    "\n",
    "# in-sample score\n",
    "tuning_results_SNAIVE"
   ]
  },
  {
   "cell_type": "code",
   "execution_count": 42,
   "metadata": {},
   "outputs": [
    {
     "data": {
      "text/plain": [
       "0.479"
      ]
     },
     "execution_count": 42,
     "metadata": {},
     "output_type": "execute_result"
    }
   ],
   "source": [
    "mape = MeanAbsolutePercentageError()\n",
    "# OOS score\n",
    "tuned_SNAIVE = NaiveForecaster(sp=7, strategy=tuning_results_SNAIVE.iloc[0, 0])\n",
    "tuned_SNAIVE.fit(y)\n",
    "pred_SNAIVE = tuned_SNAIVE.predict(y_OOS.index)\n",
    "mape_SNAIVE = round(mape(y_OOS, pred_SNAIVE), 3)\n",
    "mape_SNAIVE\n",
    "\n",
    "# %%"
   ]
  },
  {
   "cell_type": "markdown",
   "metadata": {},
   "source": [
    "### 2.2. ARIMA\n",
    "#### Stationarity test"
   ]
  },
  {
   "cell_type": "code",
   "execution_count": null,
   "metadata": {},
   "outputs": [],
   "source": [
    "if adfuller(ts)[1] < 0.05:\n",
    "    print('stationary')\n",
    "else:\n",
    "    print('not stationary')\n",
    "\n",
    "if kpss(ts)[1] >= 0.05:\n",
    "    print('stationary')\n",
    "else:\n",
    "    print('not stationary')\n",
    "\n",
    "# %% construct param grid\n",
    "plot_correlations(y, zero_lag=False, lags=75)\n",
    "param_ARIMA_p = [0, 1, 2]  # PACF\n",
    "param_ARIMA_q = [0, 1, 2]  # ACF\n",
    "param_ARIMA_P = [0, 1, 2]  # SPACF\n",
    "param_ARIMA_Q = [1, 2, 3, 4, 5, 6, 7, 8]  # SACF\n",
    "param_grid_ARIMA = []\n",
    "for p in param_ARIMA_p:\n",
    "    for q in param_ARIMA_q:\n",
    "        for P in param_ARIMA_P:\n",
    "            for Q in param_ARIMA_Q:\n",
    "                param_grid_ARIMA.append([(p, 0, q), (P, 0, Q, 7)])\n",
    "len(param_grid_ARIMA)\n",
    "\n",
    "# CV grid search\n",
    "tuning_mape_ARIMA = []\n",
    "for param in param_grid_ARIMA:#[-5:]:\n",
    "    forecaster_ARIMA = ARIMA(sp=7,\n",
    "                             order=param[0],\n",
    "                             seasonal_order=param[1],\n",
    "                             )\n",
    "    forecaster_ARIMA.fit(y[y_train[0]])\n",
    "    cv_mape = cv_eval(forecaster_ARIMA)\n",
    "    print(cv_mape, '---',param)\n",
    "    tuning_mape_ARIMA.append(cv_mape)\n",
    "\n",
    "tuning_results_ARIMA = pd.DataFrame({\n",
    "    'param': param_grid_ARIMA[:95],\n",
    "    'mape': tuning_mape_ARIMA\n",
    "}).sort_values('mape')\n",
    "best_param_ARIMA = tuning_results_ARIMA.iloc[0, 0]\n",
    "\n",
    "# final fit & OOS score\n",
    "forecaster_ARIMA = ARIMA(sp=7,\n",
    "                         order=best_param_ARIMA[0],\n",
    "                         seasonal_order=best_param_ARIMA[1],\n",
    "                         )\n",
    "\n",
    "y_pred_ARIMA = forecaster_ARIMA.fit_predict(y, fh=y_OOS.index)\n",
    "forecaster_ARIMA.summary()\n",
    "mape_ARIMA = round(mape(y_OOS, y_pred_ARIMA), 3)\n",
    "mape_ARIMA\n"
   ]
  }
 ],
 "metadata": {
  "kernelspec": {
   "display_name": "Python 3",
   "language": "python",
   "name": "python3"
  },
  "language_info": {
   "codemirror_mode": {
    "name": "ipython",
    "version": 3
   },
   "file_extension": ".py",
   "mimetype": "text/x-python",
   "name": "python",
   "nbconvert_exporter": "python",
   "pygments_lexer": "ipython3",
   "version": "3.8.5"
  }
 },
 "nbformat": 4,
 "nbformat_minor": 4
}
