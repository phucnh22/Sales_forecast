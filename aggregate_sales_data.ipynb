{
 "cells": [
  {
   "cell_type": "code",
   "execution_count": 33,
   "metadata": {},
   "outputs": [],
   "source": [
    "import pandas as pd\n",
    "from datetime import datetime"
   ]
  },
  {
   "cell_type": "code",
   "execution_count": 95,
   "metadata": {},
   "outputs": [],
   "source": [
    "# read data\n",
    "fact_order = pd.read_csv('data_raw/fact_order.csv',header = 0, nrows=100)\n",
    "fact_order_variant_full = pd.read_csv('data_raw/fact_order_variant_full.csv',header = 0, nrows=100)\n",
    "dim_customer = pd.read_csv('data_raw/dim_customer.csv',header = 0, nrows=100)\n",
    "dim_store = pd.read_csv('data_raw/dim_store.csv',header = 0, nrows=100)\n",
    "dim_target_sales = pd.read_csv('data_raw/dim_target_sales.csv',header = 0, nrows=100)\n",
    "dim_variant = pd.read_csv('data_raw/dim_variant.csv',header = 0, nrows=100)"
   ]
  },
  {
   "cell_type": "markdown",
   "metadata": {},
   "source": [
    "For the simplicity of the project, we will only try to aggregate the sales data by date and store. Thus the column to use in fact_order will be `order_id; created_at; store_id; currency; fulfillment_status; pos_date`"
   ]
  },
  {
   "cell_type": "code",
   "execution_count": 98,
   "metadata": {},
   "outputs": [],
   "source": [
    "# read data\n",
    "usecols = ['order_id','total_price','created_at', 'store_id', 'currency', 'fulfillment_status', 'pos_date']\n",
    "\n",
    "dtype_dict = {\n",
    "    'store_id':'category',\n",
    "    'currency':'category',\n",
    "    'fulfillment_status':'category',\n",
    "}\n",
    "\n",
    "fact_order = pd.read_csv('data_raw/fact_order.csv',header = 0, usecols=usecols, dtype=dtype_dict)"
   ]
  },
  {
   "cell_type": "code",
   "execution_count": 99,
   "metadata": {},
   "outputs": [
    {
     "name": "stdout",
     "output_type": "stream",
     "text": [
      "<class 'pandas.core.frame.DataFrame'>\n",
      "RangeIndex: 1510893 entries, 0 to 1510892\n",
      "Data columns (total 7 columns):\n",
      " #   Column              Non-Null Count    Dtype   \n",
      "---  ------              --------------    -----   \n",
      " 0   order_id            1510893 non-null  int64   \n",
      " 1   created_at          1510893 non-null  object  \n",
      " 2   store_id            1510866 non-null  category\n",
      " 3   currency            1510866 non-null  category\n",
      " 4   total_price         1510866 non-null  float64 \n",
      " 5   fulfillment_status  1510866 non-null  category\n",
      " 6   pos_date            1468380 non-null  object  \n",
      "dtypes: category(3), float64(1), int64(1), object(2)\n",
      "memory usage: 50.4+ MB\n"
     ]
    }
   ],
   "source": [
    "# data frame info\n",
    "fact_order.info()"
   ]
  },
  {
   "cell_type": "code",
   "execution_count": 115,
   "metadata": {},
   "outputs": [],
   "source": [
    "def processing(df, save_to_csv = False):\n",
    "    df = df.query('fulfillment_status == \"fulfilled\"')     # only keep filfilled orders:\n",
    "    df.created_at = df.created_at.map(lambda x:x[:10])  # get only date data\n",
    "    df.created_at = pd.to_datetime(df['created_at'], format=\"%Y-%m-%d\") \n",
    "    df = df.groupby(['created_at','store_id']).sum()['total_price'].reset_index()\n",
    "    df.total_price.fillna(0,inplace=True)\n",
    "    df.total_price = df.total_price.round(0).astype('int64') # round and convert sales to interger \n",
    "    df.rename({'total_price':'sales'},axis = 1,inplace = True)\n",
    "    if save_to_csv:\n",
    "        df.to_csv(\"agg_sales_store_daily.csv\",index = False)\n",
    "    return df"
   ]
  },
  {
   "cell_type": "code",
   "execution_count": 118,
   "metadata": {},
   "outputs": [
    {
     "name": "stderr",
     "output_type": "stream",
     "text": [
      "C:\\Users\\Admin\\anaconda3\\envs\\DataMining_Lab\\lib\\site-packages\\pandas\\core\\generic.py:5159: SettingWithCopyWarning: \n",
      "A value is trying to be set on a copy of a slice from a DataFrame.\n",
      "Try using .loc[row_indexer,col_indexer] = value instead\n",
      "\n",
      "See the caveats in the documentation: https://pandas.pydata.org/pandas-docs/stable/user_guide/indexing.html#returning-a-view-versus-a-copy\n",
      "  self[name] = value\n"
     ]
    },
    {
     "data": {
      "text/html": [
       "<div>\n",
       "<style scoped>\n",
       "    .dataframe tbody tr th:only-of-type {\n",
       "        vertical-align: middle;\n",
       "    }\n",
       "\n",
       "    .dataframe tbody tr th {\n",
       "        vertical-align: top;\n",
       "    }\n",
       "\n",
       "    .dataframe thead th {\n",
       "        text-align: right;\n",
       "    }\n",
       "</style>\n",
       "<table border=\"1\" class=\"dataframe\">\n",
       "  <thead>\n",
       "    <tr style=\"text-align: right;\">\n",
       "      <th></th>\n",
       "      <th>created_at</th>\n",
       "      <th>store_id</th>\n",
       "      <th>sales</th>\n",
       "    </tr>\n",
       "  </thead>\n",
       "  <tbody>\n",
       "    <tr>\n",
       "      <th>0</th>\n",
       "      <td>2017-05-19</td>\n",
       "      <td>295646</td>\n",
       "      <td>0</td>\n",
       "    </tr>\n",
       "    <tr>\n",
       "      <th>1</th>\n",
       "      <td>2017-05-19</td>\n",
       "      <td>307222</td>\n",
       "      <td>4950400</td>\n",
       "    </tr>\n",
       "    <tr>\n",
       "      <th>2</th>\n",
       "      <td>2017-05-19</td>\n",
       "      <td>307244</td>\n",
       "      <td>0</td>\n",
       "    </tr>\n",
       "    <tr>\n",
       "      <th>3</th>\n",
       "      <td>2017-05-19</td>\n",
       "      <td>307248</td>\n",
       "      <td>0</td>\n",
       "    </tr>\n",
       "    <tr>\n",
       "      <th>4</th>\n",
       "      <td>2017-05-19</td>\n",
       "      <td>320264</td>\n",
       "      <td>0</td>\n",
       "    </tr>\n",
       "    <tr>\n",
       "      <th>...</th>\n",
       "      <td>...</td>\n",
       "      <td>...</td>\n",
       "      <td>...</td>\n",
       "    </tr>\n",
       "    <tr>\n",
       "      <th>128565</th>\n",
       "      <td>2021-08-24</td>\n",
       "      <td>947306</td>\n",
       "      <td>0</td>\n",
       "    </tr>\n",
       "    <tr>\n",
       "      <th>128566</th>\n",
       "      <td>2021-08-24</td>\n",
       "      <td>947302</td>\n",
       "      <td>0</td>\n",
       "    </tr>\n",
       "    <tr>\n",
       "      <th>128567</th>\n",
       "      <td>2021-08-24</td>\n",
       "      <td>947298</td>\n",
       "      <td>0</td>\n",
       "    </tr>\n",
       "    <tr>\n",
       "      <th>128568</th>\n",
       "      <td>2021-08-24</td>\n",
       "      <td>1005758</td>\n",
       "      <td>2027700</td>\n",
       "    </tr>\n",
       "    <tr>\n",
       "      <th>128569</th>\n",
       "      <td>2021-08-24</td>\n",
       "      <td>1016346</td>\n",
       "      <td>0</td>\n",
       "    </tr>\n",
       "  </tbody>\n",
       "</table>\n",
       "<p>128570 rows × 3 columns</p>\n",
       "</div>"
      ],
      "text/plain": [
       "       created_at store_id    sales\n",
       "0      2017-05-19   295646        0\n",
       "1      2017-05-19   307222  4950400\n",
       "2      2017-05-19   307244        0\n",
       "3      2017-05-19   307248        0\n",
       "4      2017-05-19   320264        0\n",
       "...           ...      ...      ...\n",
       "128565 2021-08-24   947306        0\n",
       "128566 2021-08-24   947302        0\n",
       "128567 2021-08-24   947298        0\n",
       "128568 2021-08-24  1005758  2027700\n",
       "128569 2021-08-24  1016346        0\n",
       "\n",
       "[128570 rows x 3 columns]"
      ]
     },
     "execution_count": 118,
     "metadata": {},
     "output_type": "execute_result"
    }
   ],
   "source": [
    "df = fact_order.copy()\n",
    "processing(df, save_to_csv = True)"
   ]
  },
  {
   "cell_type": "code",
   "execution_count": null,
   "metadata": {},
   "outputs": [],
   "source": []
  }
 ],
 "metadata": {
  "kernelspec": {
   "display_name": "Python 3",
   "language": "python",
   "name": "python3"
  },
  "language_info": {
   "codemirror_mode": {
    "name": "ipython",
    "version": 3
   },
   "file_extension": ".py",
   "mimetype": "text/x-python",
   "name": "python",
   "nbconvert_exporter": "python",
   "pygments_lexer": "ipython3",
   "version": "3.8.5"
  }
 },
 "nbformat": 4,
 "nbformat_minor": 4
}
