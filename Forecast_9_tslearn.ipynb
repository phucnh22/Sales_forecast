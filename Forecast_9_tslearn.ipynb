{
 "cells": [
  {
   "cell_type": "code",
   "execution_count": 34,
   "metadata": {},
   "outputs": [],
   "source": [
    "# imports\n",
    "import pandas as pd\n",
    "import numpy as np\n",
    "import plotly.graph_objects as go\n",
    "import plotly.express as px\n",
    "pd.options.plotting.backend = \"plotly\"\n",
    "import warnings\n",
    "warnings.simplefilter(action='ignore', category=FutureWarning)\n",
    "\n",
    "from tslearn.utils import to_time_series_dataset\n",
    "from tslearn.clustering import TimeSeriesKMeans\n",
    "\n",
    "# load data \n",
    "df_store = pd.read_pickle(\"data/df_daily.pkl\")\n",
    "df_store['sales'] = df_store['sales']/1e6\n",
    "df_exog = pd.read_pickle(\"data/df_exog.pkl\")\n",
    "ts_company = df_store.groupby(\"date\").sum()[\"sales\"]\n",
    "horizon = 7\n",
    "\n"
   ]
  },
  {
   "cell_type": "code",
   "execution_count": 45,
   "metadata": {},
   "outputs": [
    {
     "data": {
      "text/plain": [
       "TimeSeriesKMeans(metric='dtw', n_clusters=5)"
      ]
     },
     "execution_count": 45,
     "metadata": {},
     "output_type": "execute_result"
    }
   ],
   "source": [
    "df = df_store[['date', 'store_id', 'sales']].pivot(index='store_id', columns='date', values='sales')\n",
    "km = TimeSeriesKMeans(n_clusters=5, metric=\"dtw\")\n",
    "km.fit(df)\n"
   ]
  },
  {
   "cell_type": "code",
   "execution_count": 46,
   "metadata": {},
   "outputs": [
    {
     "data": {
      "text/plain": [
       "array([1, 0, 0, 0, 0, 0, 0, 0, 0, 0, 0, 0, 0, 0, 0, 0, 0, 0, 0, 0, 0, 0,\n",
       "       0, 0, 0, 0, 0, 0, 0, 0, 0, 0, 0, 0, 0, 0, 0, 0])"
      ]
     },
     "execution_count": 46,
     "metadata": {},
     "output_type": "execute_result"
    }
   ],
   "source": [
    "km.labels_\n"
   ]
  },
  {
   "cell_type": "code",
   "execution_count": 47,
   "metadata": {},
   "outputs": [
    {
     "data": {
      "text/plain": [
       "inf"
      ]
     },
     "execution_count": 47,
     "metadata": {},
     "output_type": "execute_result"
    }
   ],
   "source": [
    "km.inertia_\n"
   ]
  },
  {
   "cell_type": "code",
   "execution_count": 48,
   "metadata": {},
   "outputs": [
    {
     "data": {
      "text/plain": [
       "array([[[      nan],\n",
       "        [      nan],\n",
       "        [      nan],\n",
       "        ...,\n",
       "        [14.602   ],\n",
       "        [21.8956  ],\n",
       "        [29.5015  ]],\n",
       "\n",
       "       [[ 1.52765 ],\n",
       "        [ 0.      ],\n",
       "        [26.62742 ],\n",
       "        ...,\n",
       "        [35.746445],\n",
       "        [52.543   ],\n",
       "        [62.811608]],\n",
       "\n",
       "       [[ 1.52765 ],\n",
       "        [ 0.      ],\n",
       "        [26.62742 ],\n",
       "        ...,\n",
       "        [35.746445],\n",
       "        [52.543   ],\n",
       "        [62.811608]],\n",
       "\n",
       "       [[ 1.52765 ],\n",
       "        [ 0.      ],\n",
       "        [26.62742 ],\n",
       "        ...,\n",
       "        [35.746445],\n",
       "        [52.543   ],\n",
       "        [62.811608]],\n",
       "\n",
       "       [[ 1.52765 ],\n",
       "        [ 0.      ],\n",
       "        [26.62742 ],\n",
       "        ...,\n",
       "        [35.746445],\n",
       "        [52.543   ],\n",
       "        [62.811608]]])"
      ]
     },
     "execution_count": 48,
     "metadata": {},
     "output_type": "execute_result"
    }
   ],
   "source": [
    "km.cluster_centers_"
   ]
  }
 ],
 "metadata": {
  "kernelspec": {
   "display_name": "Python 3",
   "language": "python",
   "name": "python3"
  },
  "language_info": {
   "codemirror_mode": {
    "name": "ipython",
    "version": 3
   },
   "file_extension": ".py",
   "mimetype": "text/x-python",
   "name": "python",
   "nbconvert_exporter": "python",
   "pygments_lexer": "ipython3",
   "version": "3.8.5"
  }
 },
 "nbformat": 4,
 "nbformat_minor": 4
}
