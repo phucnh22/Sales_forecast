{
 "cells": [
  {
   "cell_type": "markdown",
   "metadata": {},
   "source": [
    "# Priority\n",
    "1. add CV\n",
    "2. different horizons: 92~1 days \n",
    "3. different groupings: ownership, manager\n",
    "4. different strategies: recursive, direct, rectify\n",
    "\n",
    "# Problems\n",
    "* future promo data "
   ]
  }
 ],
 "metadata": {
  "interpreter": {
   "hash": "b5e90b332c657a41009c4f428ab09c5c479fe03cf15b8231869f2b402a34cddf"
  },
  "kernelspec": {
   "display_name": "Python 3.8.5 64-bit ('ap8venv': venv)",
   "language": "python",
   "name": "python3"
  },
  "language_info": {
   "codemirror_mode": {
    "name": "ipython",
    "version": 3
   },
   "file_extension": ".py",
   "mimetype": "text/x-python",
   "name": "python",
   "nbconvert_exporter": "python",
   "pygments_lexer": "ipython3",
   "version": "3.8.5"
  },
  "orig_nbformat": 4
 },
 "nbformat": 4,
 "nbformat_minor": 2
}
