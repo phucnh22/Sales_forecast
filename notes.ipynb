{
 "cells": [
  {
   "cell_type": "markdown",
   "metadata": {},
   "source": [
    "# Priority\n",
    "1. add CV\n",
    "2. different horizons: 92~1 days \n",
    "3. different clustering: ownership, manager\n",
    "4. different strategies: recursive, direct, rectify\n",
    "\n",
    "# Problems\n",
    "* future promo data => data leak; maybe combine fourier & holidays\n",
    "* test: remove fourier\n",
    "\n",
    "# Notice\n",
    "#### Seasonality\n",
    "1. Detect all seasonality patterns of the data\n",
    "\n",
    "#### Suppress noise in the data\n",
    "\n",
    "#### Detect events\n",
    "the value of  a particular residual is outside of a confidence interval\n",
    "\n",
    "#### Promotions added to improve forecast accuracy\n",
    "1. stable & repeated\n",
    "2. deterministic/predictable\n",
    "\n",
    "# Business Insights\n",
    "1. compare on different store level to see which one does better in promotions\n",
    "2. use other store level model to forecast on the store that have low forecast accuracy "
   ]
  },
  {
   "cell_type": "markdown",
   "metadata": {},
   "source": []
  },
  {
   "cell_type": "code",
   "execution_count": null,
   "metadata": {},
   "outputs": [],
   "source": []
  },
  {
   "cell_type": "code",
   "execution_count": null,
   "metadata": {},
   "outputs": [],
   "source": []
  },
  {
   "cell_type": "markdown",
   "metadata": {},
   "source": [
    "### COMPARING DIFFERENT DIFFERENCING AND OOS DAYS"
   ]
  },
  {
   "cell_type": "markdown",
   "metadata": {},
   "source": [
    "\tmae_IS\tmae_OOS\tmape_IS\tmape_OOS\tmodel\n",
    "0\t143.0\t330.0\t0.283\t0.355\twholeCompany_14steps_0D\n",
    "1\t146.0\t140.0\t0.310\t0.155\twholeCompany_14steps_1D\n",
    "2\t205.0\t114.0\t0.431\t0.165\twholeCompany_14steps_2D\n",
    "3\t142.0\t502.0\t0.283\t0.505\twholeCompany_30steps_0D\n",
    "4\t146.0\t178.0\t0.311\t0.202\twholeCompany_30steps_1D\n",
    "5\t204.0\t773.0\t0.431\t0.602\twholeCompany_30steps_2D"
   ]
  },
  {
   "cell_type": "code",
   "execution_count": null,
   "metadata": {},
   "outputs": [],
   "source": []
  }
 ],
 "metadata": {
  "interpreter": {
   "hash": "b5e90b332c657a41009c4f428ab09c5c479fe03cf15b8231869f2b402a34cddf"
  },
  "kernelspec": {
   "display_name": "Python 3",
   "language": "python",
   "name": "python3"
  },
  "language_info": {
   "codemirror_mode": {
    "name": "ipython",
    "version": 3
   },
   "file_extension": ".py",
   "mimetype": "text/x-python",
   "name": "python",
   "nbconvert_exporter": "python",
   "pygments_lexer": "ipython3",
   "version": "3.8.5"
  }
 },
 "nbformat": 4,
 "nbformat_minor": 2
}
