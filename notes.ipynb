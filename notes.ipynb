{
 "cells": [
  {
   "cell_type": "markdown",
   "metadata": {},
   "source": [
    "# Priority\n",
    "1. different clustering: ownership, manager\n",
    "2. different strategies: recursive, direct, rectify\n",
    "    - https://robjhyndman.com/papers/rectify.pdf\n",
    "    - https://stackoverflow.com/questions/53064545/statsmodels-implementing-a-direct-and-recursive-multi-step-forecasting-strategy\n",
    "    - https://machinelearningmastery.com/how-to-develop-machine-learning-models-for-multivariate-multi-step-air-pollution-time-series-forecasting/\n",
    "    - https://machinelearningmastery.com/multi-step-time-series-forecasting/\n",
    "    - https://joaquinamatrodrigo.github.io/skforecast/0.4.2/guides/introduction-forecasting.html\n",
    "    - https://www.r-bloggers.com/2018/01/direct-forecast-x-recursive-forecast/\n",
    "3. add CV\n",
    "4. different horizons: 92~1 days \n",
    "\n"
   ]
  },
  {
   "cell_type": "markdown",
   "metadata": {},
   "source": [
    "# Problems\n",
    "- ~~future promo data => data leak; maybe combine fourier & holidays~~ *DONE* \n",
    "- test: remove fourier\n",
    "\n",
    "# Notice\n",
    "#### Seasonality\n",
    "1. Detect all seasonality patterns of the data\n",
    "\n",
    "#### Suppress noise in the data\n",
    "\n",
    "#### Detect events\n",
    "the value of  a particular residual is outside of a confidence interval\n",
    "\n",
    "#### Promotions added to improve forecast accuracy\n",
    "1. stable & repeated\n",
    "2. deterministic/predictable\n",
    "\n",
    "# Business Insights\n",
    "1. compare on different store level to see which one does better in promotions\n",
    "2. use other store level model to forecast on the store that have low forecast accuracy "
   ]
  }
 ],
 "metadata": {
  "interpreter": {
   "hash": "b5e90b332c657a41009c4f428ab09c5c479fe03cf15b8231869f2b402a34cddf"
  },
  "kernelspec": {
   "display_name": "Python 3 (ipykernel)",
   "language": "python",
   "name": "python3"
  },
  "language_info": {
   "codemirror_mode": {
    "name": "ipython",
    "version": 3
   },
   "file_extension": ".py",
   "mimetype": "text/x-python",
   "name": "python",
   "nbconvert_exporter": "python",
   "pygments_lexer": "ipython3",
   "version": "3.8.3"
  }
 },
 "nbformat": 4,
 "nbformat_minor": 2
}
