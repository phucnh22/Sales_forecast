{
 "cells": [
  {
   "cell_type": "code",
   "execution_count": 1,
   "metadata": {},
   "outputs": [],
   "source": [
    "# imports\n",
    "import pandas as pd\n",
    "import numpy as np\n",
    "import plotly.express as px\n",
    "import plotly.graph_objects as go\n",
    "pd.options.plotting.backend = 'plotly'"
   ]
  },
  {
   "cell_type": "code",
   "execution_count": 2,
   "metadata": {},
   "outputs": [
    {
     "data": {
      "text/html": [
       "<div>\n",
       "<style scoped>\n",
       "    .dataframe tbody tr th:only-of-type {\n",
       "        vertical-align: middle;\n",
       "    }\n",
       "\n",
       "    .dataframe tbody tr th {\n",
       "        vertical-align: top;\n",
       "    }\n",
       "\n",
       "    .dataframe thead th {\n",
       "        text-align: right;\n",
       "    }\n",
       "</style>\n",
       "<table border=\"1\" class=\"dataframe\">\n",
       "  <thead>\n",
       "    <tr style=\"text-align: right;\">\n",
       "      <th></th>\n",
       "      <th>store</th>\n",
       "      <th>mape_ARIMA</th>\n",
       "      <th>mape_PROPHET</th>\n",
       "      <th>mape_RF</th>\n",
       "    </tr>\n",
       "  </thead>\n",
       "  <tbody>\n",
       "    <tr>\n",
       "      <th>0</th>\n",
       "      <td>307222</td>\n",
       "      <td>0.2810</td>\n",
       "      <td>0.234</td>\n",
       "      <td>0.0480</td>\n",
       "    </tr>\n",
       "    <tr>\n",
       "      <th>1</th>\n",
       "      <td>307244</td>\n",
       "      <td>0.3455</td>\n",
       "      <td>0.309</td>\n",
       "      <td>0.0625</td>\n",
       "    </tr>\n",
       "    <tr>\n",
       "      <th>2</th>\n",
       "      <td>307248</td>\n",
       "      <td>0.3630</td>\n",
       "      <td>0.239</td>\n",
       "      <td>0.0585</td>\n",
       "    </tr>\n",
       "  </tbody>\n",
       "</table>\n",
       "</div>"
      ],
      "text/plain": [
       "    store  mape_ARIMA  mape_PROPHET  mape_RF\n",
       "0  307222      0.2810         0.234   0.0480\n",
       "1  307244      0.3455         0.309   0.0625\n",
       "2  307248      0.3630         0.239   0.0585"
      ]
     },
     "execution_count": 2,
     "metadata": {},
     "output_type": "execute_result"
    }
   ],
   "source": [
    "# load data\n",
    "score_ARIMA_7 = pd.read_pickle(\"results/f8/ARIMA_result_7.pkl\").set_index(\"store\")\n",
    "score_PROPHET_7 = pd.read_pickle(\"results/f8/PROPHET_result_7.pkl\").set_index(\"store\")\n",
    "score_RF_7 = pd.read_pickle('results/grouping/result_RF_base.pkl').set_index(\"store\")\n",
    "\n",
    "score_ALL_7 = score_ARIMA_7.join(score_PROPHET_7).join(score_RF_7)[['mape_ARIMA','mape_PROPHET','mape_RF']].reset_index()\n",
    "score_ALL_7['store'] = score_ALL_7['store'].map(lambda x:x[6:])\n",
    "score_ALL_7.head(3)\n",
    "\n"
   ]
  },
  {
   "cell_type": "code",
   "execution_count": 3,
   "metadata": {},
   "outputs": [],
   "source": [
    "data = {}\n",
    "models = [\"ARIMA\", \"PROPHET\", \"RF\"]\n",
    "groups = [\"base\",\"store_level\", \"store_segment\", \"cluster\"] \n",
    "for model in models:\n",
    "    for group in groups:\n",
    "        if group == \"base\":\n",
    "            data[model+\"_\"+group]= score_ALL_7[['store','mape_'+model]].rename({'mape_'+model:'mape'},axis=1)\n",
    "        else:\n",
    "            data[model+\"_\"+group] = pd.read_pickle(\"results/grouping/result_\"+model+\"_\"+group+\".pkl\")\n",
    "\n"
   ]
  },
  {
   "cell_type": "code",
   "execution_count": 4,
   "metadata": {},
   "outputs": [],
   "source": [
    "df = pd.DataFrame(columns=['store','mape','group','model'])\n",
    "for model in models:    \n",
    "    for group in groups:\n",
    "        df=pd.concat([\n",
    "                    df,\n",
    "                    pd.DataFrame({\n",
    "                        'store':data[model+\"_\"+group]['store'],\n",
    "                        'mape':data[model+\"_\"+group]['mape'],\n",
    "                        'group':group,\n",
    "                        'model':model\n",
    "                    })\n",
    "        ])"
   ]
  },
  {
   "cell_type": "code",
   "execution_count": 5,
   "metadata": {},
   "outputs": [
    {
     "data": {
      "application/vnd.plotly.v1+json": {
       "config": {
        "plotlyServerURL": "https://plot.ly"
       },
       "data": [
        {
         "alignmentgroup": "True",
         "hovertemplate": "group=base<br>model=%{x}<br>mape=%{y}<extra></extra>",
         "legendgroup": "base",
         "marker": {
          "color": "#636efa"
         },
         "name": "base",
         "notched": false,
         "offsetgroup": "base",
         "orientation": "v",
         "quartilemethod": "exclusive",
         "showlegend": true,
         "type": "box",
         "x": [
          "ARIMA",
          "ARIMA",
          "ARIMA",
          "ARIMA",
          "ARIMA",
          "ARIMA",
          "ARIMA",
          "ARIMA",
          "ARIMA",
          "ARIMA",
          "ARIMA",
          "ARIMA",
          "ARIMA",
          "ARIMA",
          "ARIMA",
          "ARIMA",
          "ARIMA",
          "ARIMA",
          "ARIMA",
          "ARIMA",
          "ARIMA",
          "ARIMA",
          "ARIMA",
          "ARIMA",
          "ARIMA",
          "ARIMA",
          "ARIMA",
          "ARIMA",
          "ARIMA",
          "ARIMA",
          "ARIMA",
          "ARIMA",
          "ARIMA",
          "ARIMA",
          "ARIMA",
          "ARIMA",
          "ARIMA",
          "ARIMA",
          "PROPHET",
          "PROPHET",
          "PROPHET",
          "PROPHET",
          "PROPHET",
          "PROPHET",
          "PROPHET",
          "PROPHET",
          "PROPHET",
          "PROPHET",
          "PROPHET",
          "PROPHET",
          "PROPHET",
          "PROPHET",
          "PROPHET",
          "PROPHET",
          "PROPHET",
          "PROPHET",
          "PROPHET",
          "PROPHET",
          "PROPHET",
          "PROPHET",
          "PROPHET",
          "PROPHET",
          "PROPHET",
          "PROPHET",
          "PROPHET",
          "PROPHET",
          "PROPHET",
          "PROPHET",
          "PROPHET",
          "PROPHET",
          "PROPHET",
          "PROPHET",
          "PROPHET",
          "PROPHET",
          "PROPHET",
          "PROPHET",
          "RF",
          "RF",
          "RF",
          "RF",
          "RF",
          "RF",
          "RF",
          "RF",
          "RF",
          "RF",
          "RF",
          "RF",
          "RF",
          "RF",
          "RF",
          "RF",
          "RF",
          "RF",
          "RF",
          "RF",
          "RF",
          "RF",
          "RF",
          "RF",
          "RF",
          "RF",
          "RF",
          "RF",
          "RF",
          "RF",
          "RF",
          "RF",
          "RF",
          "RF",
          "RF",
          "RF",
          "RF",
          "RF"
         ],
         "x0": " ",
         "xaxis": "x",
         "y": [
          0.281,
          0.3455,
          0.363,
          0.39099999999999996,
          0.33325000000000005,
          0.33125,
          0.27575,
          0.39275,
          0.31375,
          0.3405,
          0.34324999999999994,
          0.39649999999999996,
          0.308,
          0.32249999999999995,
          0.35475,
          0.3095,
          0.35000000000000003,
          0.317,
          0.394,
          0.29425,
          0.29175,
          0.5005,
          0.27275,
          0.47525,
          0.37350000000000005,
          0.50525,
          0.27925,
          0.38125,
          0.51725,
          0.45999999999999996,
          0.40349999999999997,
          0.5865,
          0.3865,
          0.3625,
          0.40774999999999995,
          0.3525,
          0.46549999999999997,
          0.581,
          0.23399999999999999,
          0.30899999999999994,
          0.239,
          0.26875,
          0.357,
          0.272,
          0.25625000000000003,
          0.2645,
          0.3135,
          0.258,
          0.30675,
          0.40399999999999997,
          0.26,
          0.3555,
          0.25025,
          0.31425,
          0.277,
          0.35175,
          0.41125,
          0.296,
          0.29500000000000004,
          0.38625,
          0.2615,
          0.53225,
          0.39375000000000004,
          0.4625,
          0.263,
          0.317,
          0.34225000000000005,
          0.4575,
          0.25325000000000003,
          0.6469999999999999,
          0.2895,
          0.2485,
          0.365,
          0.31000000000000005,
          0.43525,
          0.6000000000000001,
          0.048,
          0.06249999999999999,
          0.058499999999999996,
          0.098,
          0.13875,
          0.0755,
          0.07975,
          0.10825,
          0.053500000000000006,
          0.033499999999999995,
          0.07400000000000001,
          0.07525,
          0.0785,
          0.08049999999999999,
          0.1505,
          0.16549999999999998,
          0.0455,
          0.07975,
          0.11375,
          0.0845,
          0.133,
          0.14225,
          0.08825,
          0.17225000000000001,
          0.17300000000000001,
          0.17625000000000002,
          0.09574999999999999,
          0.08425,
          0.08025,
          0.09775,
          0.06475,
          0.16649999999999998,
          0.09275,
          0.10225000000000001,
          0.13075,
          0.1115,
          0.174,
          0.17825
         ],
         "y0": " ",
         "yaxis": "y"
        },
        {
         "alignmentgroup": "True",
         "hovertemplate": "group=store_level<br>model=%{x}<br>mape=%{y}<extra></extra>",
         "legendgroup": "store_level",
         "marker": {
          "color": "#EF553B"
         },
         "name": "store_level",
         "notched": false,
         "offsetgroup": "store_level",
         "orientation": "v",
         "quartilemethod": "exclusive",
         "showlegend": true,
         "type": "box",
         "x": [
          "ARIMA",
          "ARIMA",
          "ARIMA",
          "ARIMA",
          "ARIMA",
          "ARIMA",
          "ARIMA",
          "ARIMA",
          "ARIMA",
          "ARIMA",
          "ARIMA",
          "ARIMA",
          "ARIMA",
          "ARIMA",
          "ARIMA",
          "ARIMA",
          "ARIMA",
          "ARIMA",
          "ARIMA",
          "ARIMA",
          "ARIMA",
          "ARIMA",
          "ARIMA",
          "ARIMA",
          "ARIMA",
          "ARIMA",
          "ARIMA",
          "ARIMA",
          "ARIMA",
          "ARIMA",
          "ARIMA",
          "ARIMA",
          "ARIMA",
          "ARIMA",
          "ARIMA",
          "ARIMA",
          "ARIMA",
          "ARIMA",
          "PROPHET",
          "PROPHET",
          "PROPHET",
          "PROPHET",
          "PROPHET",
          "PROPHET",
          "PROPHET",
          "PROPHET",
          "PROPHET",
          "PROPHET",
          "PROPHET",
          "PROPHET",
          "PROPHET",
          "PROPHET",
          "PROPHET",
          "PROPHET",
          "PROPHET",
          "PROPHET",
          "PROPHET",
          "PROPHET",
          "PROPHET",
          "PROPHET",
          "PROPHET",
          "PROPHET",
          "PROPHET",
          "PROPHET",
          "PROPHET",
          "PROPHET",
          "PROPHET",
          "PROPHET",
          "PROPHET",
          "PROPHET",
          "PROPHET",
          "PROPHET",
          "PROPHET",
          "PROPHET",
          "PROPHET",
          "PROPHET",
          "RF",
          "RF",
          "RF",
          "RF",
          "RF",
          "RF",
          "RF",
          "RF",
          "RF",
          "RF",
          "RF",
          "RF",
          "RF",
          "RF",
          "RF",
          "RF",
          "RF",
          "RF",
          "RF",
          "RF",
          "RF",
          "RF",
          "RF",
          "RF",
          "RF",
          "RF",
          "RF",
          "RF",
          "RF",
          "RF",
          "RF",
          "RF",
          "RF",
          "RF",
          "RF",
          "RF",
          "RF",
          "RF"
         ],
         "x0": " ",
         "xaxis": "x",
         "y": [
          0.29675,
          0.35875,
          0.29525,
          0.232,
          0.38575,
          0.31775,
          0.269,
          0.29575,
          0.4065,
          0.26,
          0.30374999999999996,
          0.44775000000000004,
          0.27525,
          0.34725,
          0.3775,
          0.308,
          0.3435,
          0.26375,
          0.28875,
          0.2755,
          0.2595,
          0.4265,
          0.26125,
          0.304,
          0.485,
          0.3985,
          0.32225,
          0.40449999999999997,
          0.5277499999999999,
          0.44125,
          0.46599999999999997,
          0.28150000000000003,
          0.34575,
          0.44725000000000004,
          0.7112500000000002,
          0.3615,
          0.30325,
          0.5972500000000001,
          0.2155,
          0.28075,
          0.3105,
          0.25675000000000003,
          0.27649999999999997,
          0.287,
          0.24075,
          0.30974999999999997,
          0.40049999999999997,
          0.23149999999999998,
          0.252,
          0.33125,
          0.23350000000000004,
          0.26325,
          0.26525,
          0.29275,
          0.34225,
          0.2795,
          0.26375,
          0.29000000000000004,
          0.4325,
          0.2735,
          0.2995,
          0.23425,
          0.35924999999999996,
          0.3375,
          0.276,
          0.38625,
          0.49024999999999996,
          0.38875000000000004,
          0.46249999999999997,
          0.289,
          0.31625000000000003,
          0.42000000000000004,
          0.6205,
          0.32425,
          0.2995,
          0.5415,
          0.08625,
          0.14225,
          0.174,
          0.129,
          0.1205,
          0.125,
          0.0895,
          0.20400000000000001,
          0.16275,
          0.095,
          0.10875000000000001,
          0.207,
          0.06924999999999999,
          0.2215,
          0.126,
          0.13349999999999998,
          0.056999999999999995,
          0.21125,
          0.122,
          0.109,
          0.103,
          0.08775,
          0.10375000000000001,
          0.12699999999999997,
          0.3435,
          0.101,
          0.1335,
          0.1855,
          0.16675,
          0.119,
          0.28725,
          0.16075,
          0.14175,
          0.15475,
          0.28225,
          0.18125,
          0.13824999999999998,
          0.194
         ],
         "y0": " ",
         "yaxis": "y"
        },
        {
         "alignmentgroup": "True",
         "hovertemplate": "group=store_segment<br>model=%{x}<br>mape=%{y}<extra></extra>",
         "legendgroup": "store_segment",
         "marker": {
          "color": "#00cc96"
         },
         "name": "store_segment",
         "notched": false,
         "offsetgroup": "store_segment",
         "orientation": "v",
         "quartilemethod": "exclusive",
         "showlegend": true,
         "type": "box",
         "x": [
          "ARIMA",
          "ARIMA",
          "ARIMA",
          "ARIMA",
          "ARIMA",
          "ARIMA",
          "ARIMA",
          "ARIMA",
          "ARIMA",
          "ARIMA",
          "ARIMA",
          "ARIMA",
          "ARIMA",
          "ARIMA",
          "ARIMA",
          "ARIMA",
          "ARIMA",
          "ARIMA",
          "ARIMA",
          "ARIMA",
          "ARIMA",
          "ARIMA",
          "ARIMA",
          "ARIMA",
          "ARIMA",
          "ARIMA",
          "ARIMA",
          "ARIMA",
          "ARIMA",
          "ARIMA",
          "ARIMA",
          "ARIMA",
          "ARIMA",
          "ARIMA",
          "ARIMA",
          "ARIMA",
          "ARIMA",
          "ARIMA",
          "PROPHET",
          "PROPHET",
          "PROPHET",
          "PROPHET",
          "PROPHET",
          "PROPHET",
          "PROPHET",
          "PROPHET",
          "PROPHET",
          "PROPHET",
          "PROPHET",
          "PROPHET",
          "PROPHET",
          "PROPHET",
          "PROPHET",
          "PROPHET",
          "PROPHET",
          "PROPHET",
          "PROPHET",
          "PROPHET",
          "PROPHET",
          "PROPHET",
          "PROPHET",
          "PROPHET",
          "PROPHET",
          "PROPHET",
          "PROPHET",
          "PROPHET",
          "PROPHET",
          "PROPHET",
          "PROPHET",
          "PROPHET",
          "PROPHET",
          "PROPHET",
          "PROPHET",
          "PROPHET",
          "PROPHET",
          "PROPHET",
          "RF",
          "RF",
          "RF",
          "RF",
          "RF",
          "RF",
          "RF",
          "RF",
          "RF",
          "RF",
          "RF",
          "RF",
          "RF",
          "RF",
          "RF",
          "RF",
          "RF",
          "RF",
          "RF",
          "RF",
          "RF",
          "RF",
          "RF",
          "RF",
          "RF",
          "RF",
          "RF",
          "RF",
          "RF",
          "RF",
          "RF",
          "RF",
          "RF",
          "RF",
          "RF",
          "RF",
          "RF",
          "RF"
         ],
         "x0": " ",
         "xaxis": "x",
         "y": [
          0.31825000000000003,
          0.36424999999999996,
          0.22675,
          0.39,
          0.33024999999999993,
          0.29275,
          0.34299999999999997,
          0.33899999999999997,
          0.31925,
          0.39649999999999996,
          0.253,
          0.27249999999999996,
          0.61425,
          0.27,
          0.3435,
          0.37124999999999997,
          0.30825,
          0.48525,
          0.2685,
          0.28175,
          0.3985,
          0.3225,
          0.27925,
          0.40474999999999994,
          0.5267499999999999,
          0.44075,
          0.46649999999999997,
          0.28125,
          0.26325,
          0.339,
          0.44875,
          0.431,
          0.7274999999999999,
          0.36525,
          0.30574999999999997,
          0.28775,
          0.29975,
          0.41474999999999995,
          0.214,
          0.2805,
          0.254,
          0.27475,
          0.28425,
          0.29275,
          0.23825,
          0.3475,
          0.28075,
          0.39649999999999996,
          0.23324999999999999,
          0.2715,
          0.5415,
          0.23249999999999998,
          0.265,
          0.264,
          0.27975,
          0.3435,
          0.27875000000000005,
          0.26425,
          0.37625,
          0.27475,
          0.29050000000000004,
          0.38775,
          0.5045000000000001,
          0.38625,
          0.46749999999999997,
          0.3305,
          0.42825,
          0.305,
          0.426,
          0.272,
          0.64675,
          0.3465,
          0.3015,
          0.3105,
          0.252,
          0.33125,
          0.0755,
          0.14600000000000002,
          0.12575,
          0.14225,
          0.11225,
          0.13624999999999998,
          0.10125,
          0.057749999999999996,
          0.202,
          0.165,
          0.0925,
          0.11875,
          0.1795,
          0.12225,
          0.2225,
          0.15675,
          0.15075,
          0.20625,
          0.19375,
          0.14400000000000002,
          0.21575,
          0.156,
          0.17525000000000002,
          0.21250000000000002,
          0.28,
          0.2145,
          0.31425000000000003,
          0.17175,
          0.16075,
          0.201,
          0.27875000000000005,
          0.12075,
          0.38225,
          0.1865,
          0.1925,
          0.17149999999999999,
          0.10225000000000001,
          0.213
         ],
         "y0": " ",
         "yaxis": "y"
        },
        {
         "alignmentgroup": "True",
         "hovertemplate": "group=cluster<br>model=%{x}<br>mape=%{y}<extra></extra>",
         "legendgroup": "cluster",
         "marker": {
          "color": "#ab63fa"
         },
         "name": "cluster",
         "notched": false,
         "offsetgroup": "cluster",
         "orientation": "v",
         "quartilemethod": "exclusive",
         "showlegend": true,
         "type": "box",
         "x": [
          "ARIMA",
          "ARIMA",
          "ARIMA",
          "ARIMA",
          "ARIMA",
          "ARIMA",
          "ARIMA",
          "ARIMA",
          "ARIMA",
          "ARIMA",
          "ARIMA",
          "ARIMA",
          "ARIMA",
          "ARIMA",
          "ARIMA",
          "ARIMA",
          "ARIMA",
          "ARIMA",
          "ARIMA",
          "ARIMA",
          "ARIMA",
          "ARIMA",
          "ARIMA",
          "ARIMA",
          "ARIMA",
          "ARIMA",
          "ARIMA",
          "ARIMA",
          "ARIMA",
          "ARIMA",
          "ARIMA",
          "ARIMA",
          "ARIMA",
          "ARIMA",
          "ARIMA",
          "ARIMA",
          "ARIMA",
          "ARIMA",
          "PROPHET",
          "PROPHET",
          "PROPHET",
          "PROPHET",
          "PROPHET",
          "PROPHET",
          "PROPHET",
          "PROPHET",
          "PROPHET",
          "PROPHET",
          "PROPHET",
          "PROPHET",
          "PROPHET",
          "PROPHET",
          "PROPHET",
          "PROPHET",
          "PROPHET",
          "PROPHET",
          "PROPHET",
          "PROPHET",
          "PROPHET",
          "PROPHET",
          "PROPHET",
          "PROPHET",
          "PROPHET",
          "PROPHET",
          "PROPHET",
          "PROPHET",
          "PROPHET",
          "PROPHET",
          "PROPHET",
          "PROPHET",
          "PROPHET",
          "PROPHET",
          "PROPHET",
          "PROPHET",
          "PROPHET",
          "PROPHET",
          "RF",
          "RF",
          "RF",
          "RF",
          "RF",
          "RF",
          "RF",
          "RF",
          "RF",
          "RF",
          "RF",
          "RF",
          "RF",
          "RF",
          "RF",
          "RF",
          "RF",
          "RF",
          "RF",
          "RF",
          "RF",
          "RF",
          "RF",
          "RF",
          "RF",
          "RF",
          "RF",
          "RF",
          "RF",
          "RF",
          "RF",
          "RF",
          "RF",
          "RF",
          "RF",
          "RF",
          "RF",
          "RF"
         ],
         "x0": " ",
         "xaxis": "x",
         "y": [
          0.29675,
          0.34725,
          0.38575,
          0.3775,
          0.308,
          0.2755,
          0.54075,
          0.28099999999999997,
          0.2595,
          0.348,
          0.4505,
          0.7484999999999999,
          0.26125,
          0.351,
          0.27325,
          0.28775,
          0.23625000000000002,
          0.32600000000000007,
          0.308,
          0.48900000000000005,
          0.26075000000000004,
          0.331,
          0.28125,
          0.2805,
          0.28400000000000003,
          0.384,
          0.3875,
          0.32575000000000004,
          0.438,
          0.26399999999999996,
          0.38325,
          0.47500000000000003,
          0.29525,
          0.3165,
          0.35950000000000004,
          0.30375,
          0.41075,
          0.50275,
          0.20850000000000002,
          0.26325,
          0.35025,
          0.26525,
          0.29275,
          0.29000000000000004,
          0.50325,
          0.32925,
          0.4325,
          0.2965,
          0.425,
          0.65025,
          0.2995,
          0.2805,
          0.22725,
          0.311,
          0.254,
          0.28425,
          0.23425,
          0.35924999999999996,
          0.23825,
          0.3475,
          0.259,
          0.28075,
          0.27049999999999996,
          0.3375,
          0.39649999999999996,
          0.276,
          0.38625,
          0.23324999999999999,
          0.38875000000000004,
          0.46249999999999997,
          0.28875,
          0.252,
          0.32175000000000004,
          0.29925,
          0.33125,
          0.5415,
          0.15475,
          0.23425,
          0.15,
          0.16475,
          0.14875,
          0.17625000000000002,
          0.26575,
          0.17825000000000002,
          0.1595,
          0.20675000000000002,
          0.2855,
          0.3875,
          0.19775,
          0.1395,
          0.0675,
          0.1825,
          0.13025,
          0.11675,
          0.125,
          0.34349999999999997,
          0.10675000000000001,
          0.056499999999999995,
          0.224,
          0.20350000000000001,
          0.12225,
          0.10775000000000001,
          0.16875,
          0.13175,
          0.19675,
          0.09650000000000002,
          0.12425,
          0.28725,
          0.084,
          0.1015,
          0.209,
          0.13599999999999998,
          0.213,
          0.199
         ],
         "y0": " ",
         "yaxis": "y"
        }
       ],
       "layout": {
        "boxmode": "group",
        "legend": {
         "title": {
          "text": "group"
         },
         "tracegroupgap": 0
        },
        "margin": {
         "t": 60
        },
        "template": {
         "data": {
          "bar": [
           {
            "error_x": {
             "color": "#2a3f5f"
            },
            "error_y": {
             "color": "#2a3f5f"
            },
            "marker": {
             "line": {
              "color": "#E5ECF6",
              "width": 0.5
             }
            },
            "type": "bar"
           }
          ],
          "barpolar": [
           {
            "marker": {
             "line": {
              "color": "#E5ECF6",
              "width": 0.5
             }
            },
            "type": "barpolar"
           }
          ],
          "carpet": [
           {
            "aaxis": {
             "endlinecolor": "#2a3f5f",
             "gridcolor": "white",
             "linecolor": "white",
             "minorgridcolor": "white",
             "startlinecolor": "#2a3f5f"
            },
            "baxis": {
             "endlinecolor": "#2a3f5f",
             "gridcolor": "white",
             "linecolor": "white",
             "minorgridcolor": "white",
             "startlinecolor": "#2a3f5f"
            },
            "type": "carpet"
           }
          ],
          "choropleth": [
           {
            "colorbar": {
             "outlinewidth": 0,
             "ticks": ""
            },
            "type": "choropleth"
           }
          ],
          "contour": [
           {
            "colorbar": {
             "outlinewidth": 0,
             "ticks": ""
            },
            "colorscale": [
             [
              0,
              "#0d0887"
             ],
             [
              0.1111111111111111,
              "#46039f"
             ],
             [
              0.2222222222222222,
              "#7201a8"
             ],
             [
              0.3333333333333333,
              "#9c179e"
             ],
             [
              0.4444444444444444,
              "#bd3786"
             ],
             [
              0.5555555555555556,
              "#d8576b"
             ],
             [
              0.6666666666666666,
              "#ed7953"
             ],
             [
              0.7777777777777778,
              "#fb9f3a"
             ],
             [
              0.8888888888888888,
              "#fdca26"
             ],
             [
              1,
              "#f0f921"
             ]
            ],
            "type": "contour"
           }
          ],
          "contourcarpet": [
           {
            "colorbar": {
             "outlinewidth": 0,
             "ticks": ""
            },
            "type": "contourcarpet"
           }
          ],
          "heatmap": [
           {
            "colorbar": {
             "outlinewidth": 0,
             "ticks": ""
            },
            "colorscale": [
             [
              0,
              "#0d0887"
             ],
             [
              0.1111111111111111,
              "#46039f"
             ],
             [
              0.2222222222222222,
              "#7201a8"
             ],
             [
              0.3333333333333333,
              "#9c179e"
             ],
             [
              0.4444444444444444,
              "#bd3786"
             ],
             [
              0.5555555555555556,
              "#d8576b"
             ],
             [
              0.6666666666666666,
              "#ed7953"
             ],
             [
              0.7777777777777778,
              "#fb9f3a"
             ],
             [
              0.8888888888888888,
              "#fdca26"
             ],
             [
              1,
              "#f0f921"
             ]
            ],
            "type": "heatmap"
           }
          ],
          "heatmapgl": [
           {
            "colorbar": {
             "outlinewidth": 0,
             "ticks": ""
            },
            "colorscale": [
             [
              0,
              "#0d0887"
             ],
             [
              0.1111111111111111,
              "#46039f"
             ],
             [
              0.2222222222222222,
              "#7201a8"
             ],
             [
              0.3333333333333333,
              "#9c179e"
             ],
             [
              0.4444444444444444,
              "#bd3786"
             ],
             [
              0.5555555555555556,
              "#d8576b"
             ],
             [
              0.6666666666666666,
              "#ed7953"
             ],
             [
              0.7777777777777778,
              "#fb9f3a"
             ],
             [
              0.8888888888888888,
              "#fdca26"
             ],
             [
              1,
              "#f0f921"
             ]
            ],
            "type": "heatmapgl"
           }
          ],
          "histogram": [
           {
            "marker": {
             "colorbar": {
              "outlinewidth": 0,
              "ticks": ""
             }
            },
            "type": "histogram"
           }
          ],
          "histogram2d": [
           {
            "colorbar": {
             "outlinewidth": 0,
             "ticks": ""
            },
            "colorscale": [
             [
              0,
              "#0d0887"
             ],
             [
              0.1111111111111111,
              "#46039f"
             ],
             [
              0.2222222222222222,
              "#7201a8"
             ],
             [
              0.3333333333333333,
              "#9c179e"
             ],
             [
              0.4444444444444444,
              "#bd3786"
             ],
             [
              0.5555555555555556,
              "#d8576b"
             ],
             [
              0.6666666666666666,
              "#ed7953"
             ],
             [
              0.7777777777777778,
              "#fb9f3a"
             ],
             [
              0.8888888888888888,
              "#fdca26"
             ],
             [
              1,
              "#f0f921"
             ]
            ],
            "type": "histogram2d"
           }
          ],
          "histogram2dcontour": [
           {
            "colorbar": {
             "outlinewidth": 0,
             "ticks": ""
            },
            "colorscale": [
             [
              0,
              "#0d0887"
             ],
             [
              0.1111111111111111,
              "#46039f"
             ],
             [
              0.2222222222222222,
              "#7201a8"
             ],
             [
              0.3333333333333333,
              "#9c179e"
             ],
             [
              0.4444444444444444,
              "#bd3786"
             ],
             [
              0.5555555555555556,
              "#d8576b"
             ],
             [
              0.6666666666666666,
              "#ed7953"
             ],
             [
              0.7777777777777778,
              "#fb9f3a"
             ],
             [
              0.8888888888888888,
              "#fdca26"
             ],
             [
              1,
              "#f0f921"
             ]
            ],
            "type": "histogram2dcontour"
           }
          ],
          "mesh3d": [
           {
            "colorbar": {
             "outlinewidth": 0,
             "ticks": ""
            },
            "type": "mesh3d"
           }
          ],
          "parcoords": [
           {
            "line": {
             "colorbar": {
              "outlinewidth": 0,
              "ticks": ""
             }
            },
            "type": "parcoords"
           }
          ],
          "pie": [
           {
            "automargin": true,
            "type": "pie"
           }
          ],
          "scatter": [
           {
            "marker": {
             "colorbar": {
              "outlinewidth": 0,
              "ticks": ""
             }
            },
            "type": "scatter"
           }
          ],
          "scatter3d": [
           {
            "line": {
             "colorbar": {
              "outlinewidth": 0,
              "ticks": ""
             }
            },
            "marker": {
             "colorbar": {
              "outlinewidth": 0,
              "ticks": ""
             }
            },
            "type": "scatter3d"
           }
          ],
          "scattercarpet": [
           {
            "marker": {
             "colorbar": {
              "outlinewidth": 0,
              "ticks": ""
             }
            },
            "type": "scattercarpet"
           }
          ],
          "scattergeo": [
           {
            "marker": {
             "colorbar": {
              "outlinewidth": 0,
              "ticks": ""
             }
            },
            "type": "scattergeo"
           }
          ],
          "scattergl": [
           {
            "marker": {
             "colorbar": {
              "outlinewidth": 0,
              "ticks": ""
             }
            },
            "type": "scattergl"
           }
          ],
          "scattermapbox": [
           {
            "marker": {
             "colorbar": {
              "outlinewidth": 0,
              "ticks": ""
             }
            },
            "type": "scattermapbox"
           }
          ],
          "scatterpolar": [
           {
            "marker": {
             "colorbar": {
              "outlinewidth": 0,
              "ticks": ""
             }
            },
            "type": "scatterpolar"
           }
          ],
          "scatterpolargl": [
           {
            "marker": {
             "colorbar": {
              "outlinewidth": 0,
              "ticks": ""
             }
            },
            "type": "scatterpolargl"
           }
          ],
          "scatterternary": [
           {
            "marker": {
             "colorbar": {
              "outlinewidth": 0,
              "ticks": ""
             }
            },
            "type": "scatterternary"
           }
          ],
          "surface": [
           {
            "colorbar": {
             "outlinewidth": 0,
             "ticks": ""
            },
            "colorscale": [
             [
              0,
              "#0d0887"
             ],
             [
              0.1111111111111111,
              "#46039f"
             ],
             [
              0.2222222222222222,
              "#7201a8"
             ],
             [
              0.3333333333333333,
              "#9c179e"
             ],
             [
              0.4444444444444444,
              "#bd3786"
             ],
             [
              0.5555555555555556,
              "#d8576b"
             ],
             [
              0.6666666666666666,
              "#ed7953"
             ],
             [
              0.7777777777777778,
              "#fb9f3a"
             ],
             [
              0.8888888888888888,
              "#fdca26"
             ],
             [
              1,
              "#f0f921"
             ]
            ],
            "type": "surface"
           }
          ],
          "table": [
           {
            "cells": {
             "fill": {
              "color": "#EBF0F8"
             },
             "line": {
              "color": "white"
             }
            },
            "header": {
             "fill": {
              "color": "#C8D4E3"
             },
             "line": {
              "color": "white"
             }
            },
            "type": "table"
           }
          ]
         },
         "layout": {
          "annotationdefaults": {
           "arrowcolor": "#2a3f5f",
           "arrowhead": 0,
           "arrowwidth": 1
          },
          "autotypenumbers": "strict",
          "coloraxis": {
           "colorbar": {
            "outlinewidth": 0,
            "ticks": ""
           }
          },
          "colorscale": {
           "diverging": [
            [
             0,
             "#8e0152"
            ],
            [
             0.1,
             "#c51b7d"
            ],
            [
             0.2,
             "#de77ae"
            ],
            [
             0.3,
             "#f1b6da"
            ],
            [
             0.4,
             "#fde0ef"
            ],
            [
             0.5,
             "#f7f7f7"
            ],
            [
             0.6,
             "#e6f5d0"
            ],
            [
             0.7,
             "#b8e186"
            ],
            [
             0.8,
             "#7fbc41"
            ],
            [
             0.9,
             "#4d9221"
            ],
            [
             1,
             "#276419"
            ]
           ],
           "sequential": [
            [
             0,
             "#0d0887"
            ],
            [
             0.1111111111111111,
             "#46039f"
            ],
            [
             0.2222222222222222,
             "#7201a8"
            ],
            [
             0.3333333333333333,
             "#9c179e"
            ],
            [
             0.4444444444444444,
             "#bd3786"
            ],
            [
             0.5555555555555556,
             "#d8576b"
            ],
            [
             0.6666666666666666,
             "#ed7953"
            ],
            [
             0.7777777777777778,
             "#fb9f3a"
            ],
            [
             0.8888888888888888,
             "#fdca26"
            ],
            [
             1,
             "#f0f921"
            ]
           ],
           "sequentialminus": [
            [
             0,
             "#0d0887"
            ],
            [
             0.1111111111111111,
             "#46039f"
            ],
            [
             0.2222222222222222,
             "#7201a8"
            ],
            [
             0.3333333333333333,
             "#9c179e"
            ],
            [
             0.4444444444444444,
             "#bd3786"
            ],
            [
             0.5555555555555556,
             "#d8576b"
            ],
            [
             0.6666666666666666,
             "#ed7953"
            ],
            [
             0.7777777777777778,
             "#fb9f3a"
            ],
            [
             0.8888888888888888,
             "#fdca26"
            ],
            [
             1,
             "#f0f921"
            ]
           ]
          },
          "colorway": [
           "#636efa",
           "#EF553B",
           "#00cc96",
           "#ab63fa",
           "#FFA15A",
           "#19d3f3",
           "#FF6692",
           "#B6E880",
           "#FF97FF",
           "#FECB52"
          ],
          "font": {
           "color": "#2a3f5f"
          },
          "geo": {
           "bgcolor": "white",
           "lakecolor": "white",
           "landcolor": "#E5ECF6",
           "showlakes": true,
           "showland": true,
           "subunitcolor": "white"
          },
          "hoverlabel": {
           "align": "left"
          },
          "hovermode": "closest",
          "mapbox": {
           "style": "light"
          },
          "paper_bgcolor": "white",
          "plot_bgcolor": "#E5ECF6",
          "polar": {
           "angularaxis": {
            "gridcolor": "white",
            "linecolor": "white",
            "ticks": ""
           },
           "bgcolor": "#E5ECF6",
           "radialaxis": {
            "gridcolor": "white",
            "linecolor": "white",
            "ticks": ""
           }
          },
          "scene": {
           "xaxis": {
            "backgroundcolor": "#E5ECF6",
            "gridcolor": "white",
            "gridwidth": 2,
            "linecolor": "white",
            "showbackground": true,
            "ticks": "",
            "zerolinecolor": "white"
           },
           "yaxis": {
            "backgroundcolor": "#E5ECF6",
            "gridcolor": "white",
            "gridwidth": 2,
            "linecolor": "white",
            "showbackground": true,
            "ticks": "",
            "zerolinecolor": "white"
           },
           "zaxis": {
            "backgroundcolor": "#E5ECF6",
            "gridcolor": "white",
            "gridwidth": 2,
            "linecolor": "white",
            "showbackground": true,
            "ticks": "",
            "zerolinecolor": "white"
           }
          },
          "shapedefaults": {
           "line": {
            "color": "#2a3f5f"
           }
          },
          "ternary": {
           "aaxis": {
            "gridcolor": "white",
            "linecolor": "white",
            "ticks": ""
           },
           "baxis": {
            "gridcolor": "white",
            "linecolor": "white",
            "ticks": ""
           },
           "bgcolor": "#E5ECF6",
           "caxis": {
            "gridcolor": "white",
            "linecolor": "white",
            "ticks": ""
           }
          },
          "title": {
           "x": 0.05
          },
          "xaxis": {
           "automargin": true,
           "gridcolor": "white",
           "linecolor": "white",
           "ticks": "",
           "title": {
            "standoff": 15
           },
           "zerolinecolor": "white",
           "zerolinewidth": 2
          },
          "yaxis": {
           "automargin": true,
           "gridcolor": "white",
           "linecolor": "white",
           "ticks": "",
           "title": {
            "standoff": 15
           },
           "zerolinecolor": "white",
           "zerolinewidth": 2
          }
         }
        },
        "xaxis": {
         "anchor": "y",
         "domain": [
          0,
          1
         ],
         "title": {
          "text": "model"
         }
        },
        "yaxis": {
         "anchor": "x",
         "domain": [
          0,
          1
         ],
         "title": {
          "text": "mape"
         }
        }
       }
      }
     },
     "metadata": {},
     "output_type": "display_data"
    }
   ],
   "source": [
    "fig = px.box(df, x=\"model\", y=\"mape\", color=\"group\")\n",
    "fig.update_traces(quartilemethod=\"exclusive\") # or \"inclusive\", or \"linear\" by default\n",
    "fig.show()"
   ]
  },
  {
   "cell_type": "code",
   "execution_count": 7,
   "metadata": {},
   "outputs": [
    {
     "data": {
      "text/html": [
       "<div>\n",
       "<style scoped>\n",
       "    .dataframe tbody tr th:only-of-type {\n",
       "        vertical-align: middle;\n",
       "    }\n",
       "\n",
       "    .dataframe tbody tr th {\n",
       "        vertical-align: top;\n",
       "    }\n",
       "\n",
       "    .dataframe thead th {\n",
       "        text-align: right;\n",
       "    }\n",
       "</style>\n",
       "<table border=\"1\" class=\"dataframe\">\n",
       "  <thead>\n",
       "    <tr style=\"text-align: right;\">\n",
       "      <th></th>\n",
       "      <th>store_level</th>\n",
       "      <th>store</th>\n",
       "      <th>mape</th>\n",
       "    </tr>\n",
       "  </thead>\n",
       "  <tbody>\n",
       "    <tr>\n",
       "      <th>0</th>\n",
       "      <td>A</td>\n",
       "      <td>307222</td>\n",
       "      <td>0.08625</td>\n",
       "    </tr>\n",
       "    <tr>\n",
       "      <th>1</th>\n",
       "      <td>A</td>\n",
       "      <td>307244</td>\n",
       "      <td>0.14225</td>\n",
       "    </tr>\n",
       "    <tr>\n",
       "      <th>2</th>\n",
       "      <td>A</td>\n",
       "      <td>328165</td>\n",
       "      <td>0.174</td>\n",
       "    </tr>\n",
       "    <tr>\n",
       "      <th>3</th>\n",
       "      <td>A</td>\n",
       "      <td>349920</td>\n",
       "      <td>0.129</td>\n",
       "    </tr>\n",
       "    <tr>\n",
       "      <th>4</th>\n",
       "      <td>A</td>\n",
       "      <td>349924</td>\n",
       "      <td>0.1205</td>\n",
       "    </tr>\n",
       "    <tr>\n",
       "      <th>5</th>\n",
       "      <td>A</td>\n",
       "      <td>349958</td>\n",
       "      <td>0.125</td>\n",
       "    </tr>\n",
       "    <tr>\n",
       "      <th>6</th>\n",
       "      <td>A</td>\n",
       "      <td>349980</td>\n",
       "      <td>0.0895</td>\n",
       "    </tr>\n",
       "    <tr>\n",
       "      <th>7</th>\n",
       "      <td>A</td>\n",
       "      <td>350018</td>\n",
       "      <td>0.204</td>\n",
       "    </tr>\n",
       "    <tr>\n",
       "      <th>8</th>\n",
       "      <td>A</td>\n",
       "      <td>350040</td>\n",
       "      <td>0.16275</td>\n",
       "    </tr>\n",
       "    <tr>\n",
       "      <th>9</th>\n",
       "      <td>A</td>\n",
       "      <td>350060</td>\n",
       "      <td>0.095</td>\n",
       "    </tr>\n",
       "    <tr>\n",
       "      <th>10</th>\n",
       "      <td>A</td>\n",
       "      <td>528854</td>\n",
       "      <td>0.10875</td>\n",
       "    </tr>\n",
       "    <tr>\n",
       "      <th>11</th>\n",
       "      <td>A</td>\n",
       "      <td>566790</td>\n",
       "      <td>0.207</td>\n",
       "    </tr>\n",
       "    <tr>\n",
       "      <th>0</th>\n",
       "      <td>B</td>\n",
       "      <td>307248</td>\n",
       "      <td>0.06925</td>\n",
       "    </tr>\n",
       "    <tr>\n",
       "      <th>1</th>\n",
       "      <td>B</td>\n",
       "      <td>320264</td>\n",
       "      <td>0.2215</td>\n",
       "    </tr>\n",
       "    <tr>\n",
       "      <th>2</th>\n",
       "      <td>B</td>\n",
       "      <td>349952</td>\n",
       "      <td>0.126</td>\n",
       "    </tr>\n",
       "    <tr>\n",
       "      <th>3</th>\n",
       "      <td>B</td>\n",
       "      <td>349972</td>\n",
       "      <td>0.1335</td>\n",
       "    </tr>\n",
       "    <tr>\n",
       "      <th>4</th>\n",
       "      <td>B</td>\n",
       "      <td>349998</td>\n",
       "      <td>0.057</td>\n",
       "    </tr>\n",
       "    <tr>\n",
       "      <th>5</th>\n",
       "      <td>B</td>\n",
       "      <td>350016</td>\n",
       "      <td>0.21125</td>\n",
       "    </tr>\n",
       "    <tr>\n",
       "      <th>6</th>\n",
       "      <td>B</td>\n",
       "      <td>350026</td>\n",
       "      <td>0.122</td>\n",
       "    </tr>\n",
       "    <tr>\n",
       "      <th>7</th>\n",
       "      <td>B</td>\n",
       "      <td>350054</td>\n",
       "      <td>0.109</td>\n",
       "    </tr>\n",
       "    <tr>\n",
       "      <th>8</th>\n",
       "      <td>B</td>\n",
       "      <td>452387</td>\n",
       "      <td>0.103</td>\n",
       "    </tr>\n",
       "    <tr>\n",
       "      <th>9</th>\n",
       "      <td>B</td>\n",
       "      <td>471477</td>\n",
       "      <td>0.08775</td>\n",
       "    </tr>\n",
       "    <tr>\n",
       "      <th>10</th>\n",
       "      <td>B</td>\n",
       "      <td>480733</td>\n",
       "      <td>0.10375</td>\n",
       "    </tr>\n",
       "    <tr>\n",
       "      <th>0</th>\n",
       "      <td>C</td>\n",
       "      <td>349962</td>\n",
       "      <td>0.127</td>\n",
       "    </tr>\n",
       "    <tr>\n",
       "      <th>1</th>\n",
       "      <td>C</td>\n",
       "      <td>349978</td>\n",
       "      <td>0.3435</td>\n",
       "    </tr>\n",
       "    <tr>\n",
       "      <th>2</th>\n",
       "      <td>C</td>\n",
       "      <td>350028</td>\n",
       "      <td>0.101</td>\n",
       "    </tr>\n",
       "    <tr>\n",
       "      <th>3</th>\n",
       "      <td>C</td>\n",
       "      <td>350046</td>\n",
       "      <td>0.1335</td>\n",
       "    </tr>\n",
       "    <tr>\n",
       "      <th>4</th>\n",
       "      <td>C</td>\n",
       "      <td>350056</td>\n",
       "      <td>0.1855</td>\n",
       "    </tr>\n",
       "    <tr>\n",
       "      <th>5</th>\n",
       "      <td>C</td>\n",
       "      <td>354468</td>\n",
       "      <td>0.16675</td>\n",
       "    </tr>\n",
       "    <tr>\n",
       "      <th>6</th>\n",
       "      <td>C</td>\n",
       "      <td>387240</td>\n",
       "      <td>0.119</td>\n",
       "    </tr>\n",
       "    <tr>\n",
       "      <th>7</th>\n",
       "      <td>C</td>\n",
       "      <td>412585</td>\n",
       "      <td>0.28725</td>\n",
       "    </tr>\n",
       "    <tr>\n",
       "      <th>8</th>\n",
       "      <td>C</td>\n",
       "      <td>441997</td>\n",
       "      <td>0.16075</td>\n",
       "    </tr>\n",
       "    <tr>\n",
       "      <th>9</th>\n",
       "      <td>C</td>\n",
       "      <td>461349</td>\n",
       "      <td>0.14175</td>\n",
       "    </tr>\n",
       "    <tr>\n",
       "      <th>10</th>\n",
       "      <td>C</td>\n",
       "      <td>464495</td>\n",
       "      <td>0.15475</td>\n",
       "    </tr>\n",
       "    <tr>\n",
       "      <th>11</th>\n",
       "      <td>C</td>\n",
       "      <td>476061</td>\n",
       "      <td>0.28225</td>\n",
       "    </tr>\n",
       "    <tr>\n",
       "      <th>12</th>\n",
       "      <td>C</td>\n",
       "      <td>536898</td>\n",
       "      <td>0.18125</td>\n",
       "    </tr>\n",
       "    <tr>\n",
       "      <th>13</th>\n",
       "      <td>C</td>\n",
       "      <td>536902</td>\n",
       "      <td>0.13825</td>\n",
       "    </tr>\n",
       "    <tr>\n",
       "      <th>14</th>\n",
       "      <td>C</td>\n",
       "      <td>566792</td>\n",
       "      <td>0.194</td>\n",
       "    </tr>\n",
       "  </tbody>\n",
       "</table>\n",
       "</div>"
      ],
      "text/plain": [
       "   store_level   store     mape\n",
       "0            A  307222  0.08625\n",
       "1            A  307244  0.14225\n",
       "2            A  328165    0.174\n",
       "3            A  349920    0.129\n",
       "4            A  349924   0.1205\n",
       "5            A  349958    0.125\n",
       "6            A  349980   0.0895\n",
       "7            A  350018    0.204\n",
       "8            A  350040  0.16275\n",
       "9            A  350060    0.095\n",
       "10           A  528854  0.10875\n",
       "11           A  566790    0.207\n",
       "0            B  307248  0.06925\n",
       "1            B  320264   0.2215\n",
       "2            B  349952    0.126\n",
       "3            B  349972   0.1335\n",
       "4            B  349998    0.057\n",
       "5            B  350016  0.21125\n",
       "6            B  350026    0.122\n",
       "7            B  350054    0.109\n",
       "8            B  452387    0.103\n",
       "9            B  471477  0.08775\n",
       "10           B  480733  0.10375\n",
       "0            C  349962    0.127\n",
       "1            C  349978   0.3435\n",
       "2            C  350028    0.101\n",
       "3            C  350046   0.1335\n",
       "4            C  350056   0.1855\n",
       "5            C  354468  0.16675\n",
       "6            C  387240    0.119\n",
       "7            C  412585  0.28725\n",
       "8            C  441997  0.16075\n",
       "9            C  461349  0.14175\n",
       "10           C  464495  0.15475\n",
       "11           C  476061  0.28225\n",
       "12           C  536898  0.18125\n",
       "13           C  536902  0.13825\n",
       "14           C  566792    0.194"
      ]
     },
     "execution_count": 7,
     "metadata": {},
     "output_type": "execute_result"
    }
   ],
   "source": [
    "data['RF_store_level']"
   ]
  }
 ],
 "metadata": {
  "interpreter": {
   "hash": "dc1c8500d1c7d68ad4fe3470dd61d80ea8045d933e624a9aa39b7580cf077167"
  },
  "kernelspec": {
   "display_name": "Python 3.8.5 ('DataMining_Lab')",
   "language": "python",
   "name": "python3"
  },
  "language_info": {
   "codemirror_mode": {
    "name": "ipython",
    "version": 3
   },
   "file_extension": ".py",
   "mimetype": "text/x-python",
   "name": "python",
   "nbconvert_exporter": "python",
   "pygments_lexer": "ipython3",
   "version": "3.8.5"
  },
  "orig_nbformat": 4
 },
 "nbformat": 4,
 "nbformat_minor": 2
}
