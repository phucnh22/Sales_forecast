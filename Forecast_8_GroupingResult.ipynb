{
 "cells": [
  {
   "cell_type": "code",
   "execution_count": 21,
   "metadata": {},
   "outputs": [],
   "source": [
    "# imports\n",
    "import pandas as pd\n",
    "import numpy as np\n",
    "import plotly.express as px\n",
    "import plotly.graph_objects as go\n",
    "\n",
    "import warnings\n",
    "warnings.filterwarnings('ignore')\n",
    "pd.options.plotting.backend = 'plotly'"
   ]
  },
  {
   "cell_type": "code",
   "execution_count": 2,
   "metadata": {},
   "outputs": [
    {
     "data": {
      "text/html": [
       "<div>\n",
       "<style scoped>\n",
       "    .dataframe tbody tr th:only-of-type {\n",
       "        vertical-align: middle;\n",
       "    }\n",
       "\n",
       "    .dataframe tbody tr th {\n",
       "        vertical-align: top;\n",
       "    }\n",
       "\n",
       "    .dataframe thead th {\n",
       "        text-align: right;\n",
       "    }\n",
       "</style>\n",
       "<table border=\"1\" class=\"dataframe\">\n",
       "  <thead>\n",
       "    <tr style=\"text-align: right;\">\n",
       "      <th></th>\n",
       "      <th>store</th>\n",
       "      <th>mape_ARIMA</th>\n",
       "      <th>mape_PROPHET</th>\n",
       "      <th>mape_RF</th>\n",
       "      <th>mape_XGB</th>\n",
       "    </tr>\n",
       "  </thead>\n",
       "  <tbody>\n",
       "    <tr>\n",
       "      <th>0</th>\n",
       "      <td>307222</td>\n",
       "      <td>0.2810</td>\n",
       "      <td>0.234</td>\n",
       "      <td>0.0480</td>\n",
       "      <td>0.19050</td>\n",
       "    </tr>\n",
       "    <tr>\n",
       "      <th>1</th>\n",
       "      <td>307244</td>\n",
       "      <td>0.3455</td>\n",
       "      <td>0.309</td>\n",
       "      <td>0.0625</td>\n",
       "      <td>0.20525</td>\n",
       "    </tr>\n",
       "    <tr>\n",
       "      <th>2</th>\n",
       "      <td>307248</td>\n",
       "      <td>0.3630</td>\n",
       "      <td>0.239</td>\n",
       "      <td>0.0585</td>\n",
       "      <td>0.18500</td>\n",
       "    </tr>\n",
       "  </tbody>\n",
       "</table>\n",
       "</div>"
      ],
      "text/plain": [
       "    store  mape_ARIMA  mape_PROPHET  mape_RF  mape_XGB\n",
       "0  307222      0.2810         0.234   0.0480   0.19050\n",
       "1  307244      0.3455         0.309   0.0625   0.20525\n",
       "2  307248      0.3630         0.239   0.0585   0.18500"
      ]
     },
     "execution_count": 2,
     "metadata": {},
     "output_type": "execute_result"
    }
   ],
   "source": [
    "# load data\n",
    "score_ARIMA_7 = pd.read_pickle(\"results/f8/ARIMA_result_7.pkl\").set_index(\"store\")\n",
    "score_PROPHET_7 = pd.read_pickle(\"results/f8/PROPHET_result_7.pkl\").set_index(\"store\")\n",
    "score_RF_7 = pd.read_pickle('results/grouping/result_RF_base.pkl').set_index(\"store\")\n",
    "score_XGB_7 = pd.read_pickle(\"results/f8/XGB_result_7.pkl\").set_index(\"store\")\n",
    "\n",
    "\n",
    "score_ALL_7 = score_ARIMA_7.join(score_PROPHET_7).join(score_RF_7).join(score_XGB_7)[['mape_ARIMA','mape_PROPHET','mape_RF','mape_XGB']].reset_index()\n",
    "#score_ALL_7 = score_ARIMA_7.join(score_PROPHET_7).join(score_RF_7)[['mape_ARIMA','mape_PROPHET','mape_RF']].reset_index()\n",
    "score_ALL_7['store'] = score_ALL_7['store'].map(lambda x:x[6:])\n",
    "score_ALL_7.head(3)\n",
    "\n"
   ]
  },
  {
   "cell_type": "code",
   "execution_count": 3,
   "metadata": {},
   "outputs": [],
   "source": [
    "data = {}\n",
    "models = [\"ARIMA\", \"PROPHET\", \"RF\",\"XGB\"]\n",
    "groups = [\"base\",\"store_level\", \"province\", \"cluster\"] \n",
    "for model in models:\n",
    "    for group in groups:\n",
    "        if group == \"base\":\n",
    "            data[model+\"_\"+group]= score_ALL_7[['store','mape_'+model]].rename({'mape_'+model:'mape'},axis=1)\n",
    "        else:\n",
    "            data[model+\"_\"+group] = pd.read_pickle(\"results/grouping/result_\"+model+\"_\"+group+\".pkl\")\n",
    "\n"
   ]
  },
  {
   "cell_type": "code",
   "execution_count": 4,
   "metadata": {},
   "outputs": [],
   "source": [
    "df = pd.DataFrame(columns=['store','mape','group','model'])\n",
    "for model in models:    \n",
    "    for group in groups:\n",
    "        df=pd.concat([\n",
    "                    df,\n",
    "                    pd.DataFrame({\n",
    "                        'store':data[model+\"_\"+group]['store'],\n",
    "                        'mape':data[model+\"_\"+group]['mape'],\n",
    "                        'group':group,\n",
    "                        'model':model\n",
    "                    })\n",
    "        ])"
   ]
  },
  {
   "cell_type": "code",
   "execution_count": 5,
   "metadata": {},
   "outputs": [
    {
     "data": {
      "application/vnd.plotly.v1+json": {
       "config": {
        "plotlyServerURL": "https://plot.ly"
       },
       "data": [
        {
         "alignmentgroup": "True",
         "hovertemplate": "group=base<br>model=%{x}<br>mape=%{y}<extra></extra>",
         "legendgroup": "base",
         "marker": {
          "color": "#636efa"
         },
         "name": "base",
         "notched": false,
         "offsetgroup": "base",
         "orientation": "v",
         "quartilemethod": "exclusive",
         "showlegend": true,
         "type": "box",
         "x": [
          "ARIMA",
          "ARIMA",
          "ARIMA",
          "ARIMA",
          "ARIMA",
          "ARIMA",
          "ARIMA",
          "ARIMA",
          "ARIMA",
          "ARIMA",
          "ARIMA",
          "ARIMA",
          "ARIMA",
          "ARIMA",
          "ARIMA",
          "ARIMA",
          "ARIMA",
          "ARIMA",
          "ARIMA",
          "ARIMA",
          "ARIMA",
          "ARIMA",
          "ARIMA",
          "ARIMA",
          "ARIMA",
          "ARIMA",
          "ARIMA",
          "ARIMA",
          "ARIMA",
          "ARIMA",
          "ARIMA",
          "ARIMA",
          "ARIMA",
          "ARIMA",
          "ARIMA",
          "ARIMA",
          "ARIMA",
          "ARIMA",
          "PROPHET",
          "PROPHET",
          "PROPHET",
          "PROPHET",
          "PROPHET",
          "PROPHET",
          "PROPHET",
          "PROPHET",
          "PROPHET",
          "PROPHET",
          "PROPHET",
          "PROPHET",
          "PROPHET",
          "PROPHET",
          "PROPHET",
          "PROPHET",
          "PROPHET",
          "PROPHET",
          "PROPHET",
          "PROPHET",
          "PROPHET",
          "PROPHET",
          "PROPHET",
          "PROPHET",
          "PROPHET",
          "PROPHET",
          "PROPHET",
          "PROPHET",
          "PROPHET",
          "PROPHET",
          "PROPHET",
          "PROPHET",
          "PROPHET",
          "PROPHET",
          "PROPHET",
          "PROPHET",
          "PROPHET",
          "PROPHET",
          "RF",
          "RF",
          "RF",
          "RF",
          "RF",
          "RF",
          "RF",
          "RF",
          "RF",
          "RF",
          "RF",
          "RF",
          "RF",
          "RF",
          "RF",
          "RF",
          "RF",
          "RF",
          "RF",
          "RF",
          "RF",
          "RF",
          "RF",
          "RF",
          "RF",
          "RF",
          "RF",
          "RF",
          "RF",
          "RF",
          "RF",
          "RF",
          "RF",
          "RF",
          "RF",
          "RF",
          "RF",
          "RF",
          "XGB",
          "XGB",
          "XGB",
          "XGB",
          "XGB",
          "XGB",
          "XGB",
          "XGB",
          "XGB",
          "XGB",
          "XGB",
          "XGB",
          "XGB",
          "XGB",
          "XGB",
          "XGB",
          "XGB",
          "XGB",
          "XGB",
          "XGB",
          "XGB",
          "XGB",
          "XGB",
          "XGB",
          "XGB",
          "XGB",
          "XGB",
          "XGB",
          "XGB",
          "XGB",
          "XGB",
          "XGB",
          "XGB",
          "XGB",
          "XGB",
          "XGB",
          "XGB",
          "XGB"
         ],
         "x0": " ",
         "xaxis": "x",
         "y": [
          0.281,
          0.3455,
          0.363,
          0.39099999999999996,
          0.33325000000000005,
          0.33125,
          0.27575,
          0.39275,
          0.31375,
          0.3405,
          0.34324999999999994,
          0.39649999999999996,
          0.308,
          0.32249999999999995,
          0.35475,
          0.3095,
          0.35000000000000003,
          0.317,
          0.394,
          0.29425,
          0.29175,
          0.5005,
          0.27275,
          0.47525,
          0.37350000000000005,
          0.50525,
          0.27925,
          0.38125,
          0.51725,
          0.45999999999999996,
          0.40349999999999997,
          0.5865,
          0.3865,
          0.3625,
          0.40774999999999995,
          0.3525,
          0.46549999999999997,
          0.581,
          0.23399999999999999,
          0.30899999999999994,
          0.239,
          0.26875,
          0.357,
          0.272,
          0.25625000000000003,
          0.2645,
          0.3135,
          0.258,
          0.30675,
          0.40399999999999997,
          0.26,
          0.3555,
          0.25025,
          0.31425,
          0.277,
          0.35175,
          0.41125,
          0.296,
          0.29500000000000004,
          0.38625,
          0.2615,
          0.53225,
          0.39375000000000004,
          0.4625,
          0.263,
          0.317,
          0.34225000000000005,
          0.4575,
          0.25325000000000003,
          0.6469999999999999,
          0.2895,
          0.2485,
          0.365,
          0.31000000000000005,
          0.43525,
          0.6000000000000001,
          0.048,
          0.06249999999999999,
          0.058499999999999996,
          0.098,
          0.13875,
          0.0755,
          0.07975,
          0.10825,
          0.053500000000000006,
          0.033499999999999995,
          0.07400000000000001,
          0.07525,
          0.0785,
          0.08049999999999999,
          0.1505,
          0.16549999999999998,
          0.0455,
          0.07975,
          0.11375,
          0.0845,
          0.133,
          0.14225,
          0.08825,
          0.17225000000000001,
          0.17300000000000001,
          0.17625000000000002,
          0.09574999999999999,
          0.08425,
          0.08025,
          0.09775,
          0.06475,
          0.16649999999999998,
          0.09275,
          0.10225000000000001,
          0.13075,
          0.1115,
          0.174,
          0.17825,
          0.1905,
          0.20525,
          0.185,
          0.1965,
          0.25275,
          0.22725,
          0.19225,
          0.16875,
          0.14600000000000002,
          0.18875,
          0.1565,
          0.24875000000000003,
          0.19675,
          0.2,
          0.251,
          0.18475,
          0.17925000000000002,
          0.2405,
          0.2595,
          0.37274999999999997,
          0.198,
          0.30799999999999994,
          0.17900000000000002,
          0.39025,
          0.20224999999999999,
          0.3705,
          0.2345,
          0.17975000000000002,
          0.23800000000000002,
          0.30825,
          0.18475,
          0.5429999999999999,
          0.21574999999999997,
          0.1475,
          0.2865,
          0.28350000000000003,
          0.3855,
          0.3475
         ],
         "y0": " ",
         "yaxis": "y"
        },
        {
         "alignmentgroup": "True",
         "hovertemplate": "group=store_level<br>model=%{x}<br>mape=%{y}<extra></extra>",
         "legendgroup": "store_level",
         "marker": {
          "color": "#EF553B"
         },
         "name": "store_level",
         "notched": false,
         "offsetgroup": "store_level",
         "orientation": "v",
         "quartilemethod": "exclusive",
         "showlegend": true,
         "type": "box",
         "x": [
          "ARIMA",
          "ARIMA",
          "ARIMA",
          "ARIMA",
          "ARIMA",
          "ARIMA",
          "ARIMA",
          "ARIMA",
          "ARIMA",
          "ARIMA",
          "ARIMA",
          "ARIMA",
          "ARIMA",
          "ARIMA",
          "ARIMA",
          "ARIMA",
          "ARIMA",
          "ARIMA",
          "ARIMA",
          "ARIMA",
          "ARIMA",
          "ARIMA",
          "ARIMA",
          "ARIMA",
          "ARIMA",
          "ARIMA",
          "ARIMA",
          "ARIMA",
          "ARIMA",
          "ARIMA",
          "ARIMA",
          "ARIMA",
          "ARIMA",
          "ARIMA",
          "ARIMA",
          "ARIMA",
          "ARIMA",
          "ARIMA",
          "PROPHET",
          "PROPHET",
          "PROPHET",
          "PROPHET",
          "PROPHET",
          "PROPHET",
          "PROPHET",
          "PROPHET",
          "PROPHET",
          "PROPHET",
          "PROPHET",
          "PROPHET",
          "PROPHET",
          "PROPHET",
          "PROPHET",
          "PROPHET",
          "PROPHET",
          "PROPHET",
          "PROPHET",
          "PROPHET",
          "PROPHET",
          "PROPHET",
          "PROPHET",
          "PROPHET",
          "PROPHET",
          "PROPHET",
          "PROPHET",
          "PROPHET",
          "PROPHET",
          "PROPHET",
          "PROPHET",
          "PROPHET",
          "PROPHET",
          "PROPHET",
          "PROPHET",
          "PROPHET",
          "PROPHET",
          "PROPHET",
          "RF",
          "RF",
          "RF",
          "RF",
          "RF",
          "RF",
          "RF",
          "RF",
          "RF",
          "RF",
          "RF",
          "RF",
          "RF",
          "RF",
          "RF",
          "RF",
          "RF",
          "RF",
          "RF",
          "RF",
          "RF",
          "RF",
          "RF",
          "RF",
          "RF",
          "RF",
          "RF",
          "RF",
          "RF",
          "RF",
          "RF",
          "RF",
          "RF",
          "RF",
          "RF",
          "RF",
          "RF",
          "RF",
          "XGB",
          "XGB",
          "XGB",
          "XGB",
          "XGB",
          "XGB",
          "XGB",
          "XGB",
          "XGB",
          "XGB",
          "XGB",
          "XGB",
          "XGB",
          "XGB",
          "XGB",
          "XGB",
          "XGB",
          "XGB",
          "XGB",
          "XGB",
          "XGB",
          "XGB",
          "XGB",
          "XGB",
          "XGB",
          "XGB",
          "XGB",
          "XGB",
          "XGB",
          "XGB",
          "XGB",
          "XGB",
          "XGB",
          "XGB",
          "XGB",
          "XGB",
          "XGB",
          "XGB"
         ],
         "x0": " ",
         "xaxis": "x",
         "y": [
          0.29675,
          0.35875,
          0.29525,
          0.232,
          0.38575,
          0.31775,
          0.269,
          0.29575,
          0.4065,
          0.26,
          0.30374999999999996,
          0.44775000000000004,
          0.27525,
          0.34725,
          0.3775,
          0.308,
          0.3435,
          0.26375,
          0.28875,
          0.2755,
          0.2595,
          0.4265,
          0.26125,
          0.304,
          0.485,
          0.3985,
          0.32225,
          0.40449999999999997,
          0.5277499999999999,
          0.44125,
          0.46599999999999997,
          0.28150000000000003,
          0.34575,
          0.44725000000000004,
          0.7112500000000002,
          0.3615,
          0.30325,
          0.5972500000000001,
          0.2155,
          0.28075,
          0.3105,
          0.25675000000000003,
          0.27649999999999997,
          0.287,
          0.24075,
          0.30974999999999997,
          0.40049999999999997,
          0.23149999999999998,
          0.252,
          0.33125,
          0.23350000000000004,
          0.26325,
          0.26525,
          0.29275,
          0.34225,
          0.2795,
          0.26375,
          0.29000000000000004,
          0.4325,
          0.2735,
          0.2995,
          0.23425,
          0.35924999999999996,
          0.3375,
          0.276,
          0.38625,
          0.49024999999999996,
          0.38875000000000004,
          0.46249999999999997,
          0.289,
          0.31625000000000003,
          0.42000000000000004,
          0.6205,
          0.32425,
          0.2995,
          0.5415,
          0.08625,
          0.14225,
          0.174,
          0.129,
          0.1205,
          0.125,
          0.0895,
          0.20400000000000001,
          0.16275,
          0.095,
          0.10875000000000001,
          0.207,
          0.06924999999999999,
          0.2215,
          0.126,
          0.13349999999999998,
          0.056999999999999995,
          0.21125,
          0.122,
          0.109,
          0.103,
          0.08775,
          0.10375000000000001,
          0.12699999999999997,
          0.3435,
          0.101,
          0.1335,
          0.1855,
          0.16675,
          0.119,
          0.28725,
          0.16075,
          0.14175,
          0.15475,
          0.28225,
          0.18125,
          0.13824999999999998,
          0.194,
          0.1845,
          0.20525,
          0.17875,
          0.15175,
          0.17625,
          0.15525,
          0.15275,
          0.20275,
          0.28200000000000003,
          0.15,
          0.17375000000000002,
          0.3845,
          0.2065,
          0.323,
          0.23049999999999998,
          0.20249999999999999,
          0.23575,
          0.3315,
          0.26525,
          0.22175,
          0.21550000000000002,
          0.28625,
          0.308,
          0.15050000000000002,
          0.23925,
          0.23650000000000002,
          0.242,
          0.32175,
          0.37225,
          0.274,
          0.38649999999999995,
          0.221,
          0.23375,
          0.307,
          0.424,
          0.27125,
          0.27625,
          0.38
         ],
         "y0": " ",
         "yaxis": "y"
        },
        {
         "alignmentgroup": "True",
         "hovertemplate": "group=province<br>model=%{x}<br>mape=%{y}<extra></extra>",
         "legendgroup": "province",
         "marker": {
          "color": "#00cc96"
         },
         "name": "province",
         "notched": false,
         "offsetgroup": "province",
         "orientation": "v",
         "quartilemethod": "exclusive",
         "showlegend": true,
         "type": "box",
         "x": [
          "ARIMA",
          "ARIMA",
          "ARIMA",
          "ARIMA",
          "ARIMA",
          "ARIMA",
          "ARIMA",
          "ARIMA",
          "ARIMA",
          "ARIMA",
          "ARIMA",
          "ARIMA",
          "ARIMA",
          "ARIMA",
          "ARIMA",
          "ARIMA",
          "ARIMA",
          "ARIMA",
          "ARIMA",
          "ARIMA",
          "ARIMA",
          "ARIMA",
          "ARIMA",
          "ARIMA",
          "ARIMA",
          "ARIMA",
          "ARIMA",
          "ARIMA",
          "ARIMA",
          "ARIMA",
          "ARIMA",
          "ARIMA",
          "ARIMA",
          "ARIMA",
          "ARIMA",
          "ARIMA",
          "ARIMA",
          "ARIMA",
          "PROPHET",
          "PROPHET",
          "PROPHET",
          "PROPHET",
          "PROPHET",
          "PROPHET",
          "PROPHET",
          "PROPHET",
          "PROPHET",
          "PROPHET",
          "PROPHET",
          "PROPHET",
          "PROPHET",
          "PROPHET",
          "PROPHET",
          "PROPHET",
          "PROPHET",
          "PROPHET",
          "PROPHET",
          "PROPHET",
          "PROPHET",
          "PROPHET",
          "PROPHET",
          "PROPHET",
          "PROPHET",
          "PROPHET",
          "PROPHET",
          "PROPHET",
          "PROPHET",
          "PROPHET",
          "PROPHET",
          "PROPHET",
          "PROPHET",
          "PROPHET",
          "PROPHET",
          "PROPHET",
          "PROPHET",
          "PROPHET",
          "RF",
          "RF",
          "RF",
          "RF",
          "RF",
          "RF",
          "RF",
          "RF",
          "RF",
          "RF",
          "RF",
          "RF",
          "RF",
          "RF",
          "RF",
          "RF",
          "RF",
          "RF",
          "RF",
          "RF",
          "RF",
          "RF",
          "RF",
          "RF",
          "RF",
          "RF",
          "RF",
          "RF",
          "RF",
          "RF",
          "RF",
          "RF",
          "RF",
          "RF",
          "RF",
          "RF",
          "RF",
          "RF",
          "XGB",
          "XGB",
          "XGB",
          "XGB",
          "XGB",
          "XGB",
          "XGB",
          "XGB",
          "XGB",
          "XGB",
          "XGB",
          "XGB",
          "XGB",
          "XGB",
          "XGB",
          "XGB",
          "XGB",
          "XGB",
          "XGB",
          "XGB",
          "XGB",
          "XGB",
          "XGB",
          "XGB",
          "XGB",
          "XGB",
          "XGB",
          "XGB",
          "XGB",
          "XGB",
          "XGB",
          "XGB",
          "XGB",
          "XGB",
          "XGB",
          "XGB",
          "XGB",
          "XGB"
         ],
         "x0": " ",
         "xaxis": "x",
         "y": [
          0.29675,
          0.35875,
          0.27525,
          0.34725,
          0.29525,
          0.232,
          0.38575,
          0.3775,
          0.31775,
          0.314,
          0.308,
          0.49124999999999996,
          0.269,
          0.2595,
          0.348,
          0.26125,
          0.30374999999999996,
          0.44775000000000004,
          0.34299999999999997,
          0.27775,
          0.22024999999999997,
          0.267,
          0.29100000000000004,
          0.39924999999999994,
          0.318,
          0.3105,
          0.2955,
          0.40850000000000003,
          0.259,
          0.54075,
          0.44675,
          0.46599999999999997,
          0.45024999999999993,
          0.4265,
          0.5934999999999999,
          0.7110000000000001,
          0.36575,
          0.3525,
          0.20850000000000002,
          0.2665,
          0.23350000000000004,
          0.26325,
          0.31999999999999995,
          0.2665,
          0.35025,
          0.26525,
          0.29500000000000004,
          0.2925,
          0.29275,
          0.34425,
          0.22975,
          0.4325,
          0.2965,
          0.2995,
          0.26375,
          0.35575,
          0.34225,
          0.2795,
          0.4175,
          0.32925,
          0.26375,
          0.37825,
          0.564,
          0.27425,
          0.29000000000000004,
          0.39075000000000004,
          0.23475,
          0.50325,
          0.3905,
          0.46849999999999997,
          0.425,
          0.2735,
          0.65025,
          0.58975,
          0.34825,
          0.30525,
          0.079,
          0.14100000000000001,
          0.06975,
          0.20600000000000002,
          0.1755,
          0.12425,
          0.146,
          0.11549999999999999,
          0.11525,
          0.12224999999999998,
          0.13249999999999998,
          0.32499999999999996,
          0.09075,
          0.10225000000000001,
          0.13575,
          0.12,
          0.09575,
          0.195,
          0.06375,
          0.18925,
          0.1945,
          0.18625,
          0.1315,
          0.20074999999999998,
          0.16575,
          0.1255,
          0.17225000000000001,
          0.20975,
          0.09325000000000001,
          0.161,
          0.1105,
          0.31425000000000003,
          0.15575,
          0.088,
          0.3875,
          0.3085,
          0.18375000000000002,
          0.13799999999999998,
          0.191,
          0.2335,
          0.18675,
          0.2535,
          0.20525000000000002,
          0.20274999999999999,
          0.17375,
          0.19174999999999998,
          0.16525,
          0.23075,
          0.15225,
          0.26975,
          0.163,
          0.169,
          0.22625,
          0.248,
          0.17475,
          0.44675,
          0.21000000000000002,
          0.21375,
          0.24775,
          0.216,
          0.1825,
          0.19824999999999998,
          0.2645,
          0.31425000000000003,
          0.24625,
          0.328,
          0.21725,
          0.39599999999999996,
          0.26075,
          0.37375,
          0.27649999999999997,
          0.264,
          0.534,
          0.41700000000000004,
          0.27175,
          0.28725
         ],
         "y0": " ",
         "yaxis": "y"
        },
        {
         "alignmentgroup": "True",
         "hovertemplate": "group=cluster<br>model=%{x}<br>mape=%{y}<extra></extra>",
         "legendgroup": "cluster",
         "marker": {
          "color": "#ab63fa"
         },
         "name": "cluster",
         "notched": false,
         "offsetgroup": "cluster",
         "orientation": "v",
         "quartilemethod": "exclusive",
         "showlegend": true,
         "type": "box",
         "x": [
          "ARIMA",
          "ARIMA",
          "ARIMA",
          "ARIMA",
          "ARIMA",
          "ARIMA",
          "ARIMA",
          "ARIMA",
          "ARIMA",
          "ARIMA",
          "ARIMA",
          "ARIMA",
          "ARIMA",
          "ARIMA",
          "ARIMA",
          "ARIMA",
          "ARIMA",
          "ARIMA",
          "ARIMA",
          "ARIMA",
          "ARIMA",
          "ARIMA",
          "ARIMA",
          "ARIMA",
          "ARIMA",
          "ARIMA",
          "ARIMA",
          "ARIMA",
          "ARIMA",
          "ARIMA",
          "ARIMA",
          "ARIMA",
          "ARIMA",
          "ARIMA",
          "ARIMA",
          "ARIMA",
          "ARIMA",
          "ARIMA",
          "PROPHET",
          "PROPHET",
          "PROPHET",
          "PROPHET",
          "PROPHET",
          "PROPHET",
          "PROPHET",
          "PROPHET",
          "PROPHET",
          "PROPHET",
          "PROPHET",
          "PROPHET",
          "PROPHET",
          "PROPHET",
          "PROPHET",
          "PROPHET",
          "PROPHET",
          "PROPHET",
          "PROPHET",
          "PROPHET",
          "PROPHET",
          "PROPHET",
          "PROPHET",
          "PROPHET",
          "PROPHET",
          "PROPHET",
          "PROPHET",
          "PROPHET",
          "PROPHET",
          "PROPHET",
          "PROPHET",
          "PROPHET",
          "PROPHET",
          "PROPHET",
          "PROPHET",
          "PROPHET",
          "PROPHET",
          "PROPHET",
          "RF",
          "RF",
          "RF",
          "RF",
          "RF",
          "RF",
          "RF",
          "RF",
          "RF",
          "RF",
          "RF",
          "RF",
          "RF",
          "RF",
          "RF",
          "RF",
          "RF",
          "RF",
          "RF",
          "RF",
          "RF",
          "RF",
          "RF",
          "RF",
          "RF",
          "RF",
          "RF",
          "RF",
          "RF",
          "RF",
          "RF",
          "RF",
          "RF",
          "RF",
          "RF",
          "RF",
          "RF",
          "RF",
          "XGB",
          "XGB",
          "XGB",
          "XGB",
          "XGB",
          "XGB",
          "XGB",
          "XGB",
          "XGB",
          "XGB",
          "XGB",
          "XGB",
          "XGB",
          "XGB",
          "XGB",
          "XGB",
          "XGB",
          "XGB",
          "XGB",
          "XGB",
          "XGB",
          "XGB",
          "XGB",
          "XGB",
          "XGB",
          "XGB",
          "XGB",
          "XGB",
          "XGB",
          "XGB",
          "XGB",
          "XGB",
          "XGB",
          "XGB",
          "XGB",
          "XGB",
          "XGB",
          "XGB"
         ],
         "x0": " ",
         "xaxis": "x",
         "y": [
          0.29675,
          0.34725,
          0.38575,
          0.3775,
          0.308,
          0.2755,
          0.54075,
          0.28099999999999997,
          0.2595,
          0.348,
          0.4505,
          0.7484999999999999,
          0.26125,
          0.351,
          0.27325,
          0.28775,
          0.23625000000000002,
          0.32600000000000007,
          0.308,
          0.48900000000000005,
          0.26075000000000004,
          0.331,
          0.28125,
          0.2805,
          0.28400000000000003,
          0.384,
          0.3875,
          0.32575000000000004,
          0.438,
          0.26399999999999996,
          0.38325,
          0.47500000000000003,
          0.29525,
          0.3165,
          0.35950000000000004,
          0.30375,
          0.41075,
          0.50275,
          0.20850000000000002,
          0.26325,
          0.35025,
          0.26525,
          0.29275,
          0.29000000000000004,
          0.50325,
          0.32925,
          0.4325,
          0.2965,
          0.425,
          0.65025,
          0.2995,
          0.2805,
          0.22725,
          0.311,
          0.254,
          0.28425,
          0.23425,
          0.35924999999999996,
          0.23825,
          0.3475,
          0.259,
          0.28075,
          0.27049999999999996,
          0.3375,
          0.39649999999999996,
          0.276,
          0.38625,
          0.23324999999999999,
          0.38875000000000004,
          0.46249999999999997,
          0.28875,
          0.252,
          0.32175000000000004,
          0.29925,
          0.33125,
          0.5415,
          0.15475,
          0.23425,
          0.15,
          0.16475,
          0.14875,
          0.17625000000000002,
          0.26575,
          0.17825000000000002,
          0.1595,
          0.20675000000000002,
          0.2855,
          0.3875,
          0.19775,
          0.1395,
          0.0675,
          0.1825,
          0.13025,
          0.11675,
          0.125,
          0.34349999999999997,
          0.10675000000000001,
          0.056499999999999995,
          0.224,
          0.20350000000000001,
          0.12225,
          0.10775000000000001,
          0.16875,
          0.13175,
          0.19675,
          0.09650000000000002,
          0.12425,
          0.28725,
          0.084,
          0.1015,
          0.209,
          0.13599999999999998,
          0.213,
          0.199,
          0.25125,
          0.31275000000000003,
          0.241,
          0.24874999999999997,
          0.23399999999999999,
          0.2505,
          0.39649999999999996,
          0.32125000000000004,
          0.28350000000000003,
          0.32475,
          0.36625,
          0.62425,
          0.27549999999999997,
          0.20024999999999998,
          0.19499999999999998,
          0.21650000000000003,
          0.17300000000000001,
          0.1835,
          0.1965,
          0.251,
          0.177,
          0.20675,
          0.21349999999999997,
          0.22999999999999998,
          0.18425000000000002,
          0.213,
          0.27475,
          0.24225,
          0.27675,
          0.17475,
          0.26925,
          0.38375,
          0.2595,
          0.16875,
          0.26425,
          0.26075000000000004,
          0.33399999999999996,
          0.36675
         ],
         "y0": " ",
         "yaxis": "y"
        }
       ],
       "layout": {
        "boxmode": "group",
        "height": 500,
        "legend": {
         "title": {
          "text": "group"
         },
         "tracegroupgap": 0
        },
        "margin": {
         "t": 60
        },
        "paper_bgcolor": "rgb(243, 243, 243)",
        "plot_bgcolor": "rgb(243, 243, 243)",
        "template": {
         "data": {
          "bar": [
           {
            "error_x": {
             "color": "#2a3f5f"
            },
            "error_y": {
             "color": "#2a3f5f"
            },
            "marker": {
             "line": {
              "color": "#E5ECF6",
              "width": 0.5
             }
            },
            "type": "bar"
           }
          ],
          "barpolar": [
           {
            "marker": {
             "line": {
              "color": "#E5ECF6",
              "width": 0.5
             }
            },
            "type": "barpolar"
           }
          ],
          "carpet": [
           {
            "aaxis": {
             "endlinecolor": "#2a3f5f",
             "gridcolor": "white",
             "linecolor": "white",
             "minorgridcolor": "white",
             "startlinecolor": "#2a3f5f"
            },
            "baxis": {
             "endlinecolor": "#2a3f5f",
             "gridcolor": "white",
             "linecolor": "white",
             "minorgridcolor": "white",
             "startlinecolor": "#2a3f5f"
            },
            "type": "carpet"
           }
          ],
          "choropleth": [
           {
            "colorbar": {
             "outlinewidth": 0,
             "ticks": ""
            },
            "type": "choropleth"
           }
          ],
          "contour": [
           {
            "colorbar": {
             "outlinewidth": 0,
             "ticks": ""
            },
            "colorscale": [
             [
              0,
              "#0d0887"
             ],
             [
              0.1111111111111111,
              "#46039f"
             ],
             [
              0.2222222222222222,
              "#7201a8"
             ],
             [
              0.3333333333333333,
              "#9c179e"
             ],
             [
              0.4444444444444444,
              "#bd3786"
             ],
             [
              0.5555555555555556,
              "#d8576b"
             ],
             [
              0.6666666666666666,
              "#ed7953"
             ],
             [
              0.7777777777777778,
              "#fb9f3a"
             ],
             [
              0.8888888888888888,
              "#fdca26"
             ],
             [
              1,
              "#f0f921"
             ]
            ],
            "type": "contour"
           }
          ],
          "contourcarpet": [
           {
            "colorbar": {
             "outlinewidth": 0,
             "ticks": ""
            },
            "type": "contourcarpet"
           }
          ],
          "heatmap": [
           {
            "colorbar": {
             "outlinewidth": 0,
             "ticks": ""
            },
            "colorscale": [
             [
              0,
              "#0d0887"
             ],
             [
              0.1111111111111111,
              "#46039f"
             ],
             [
              0.2222222222222222,
              "#7201a8"
             ],
             [
              0.3333333333333333,
              "#9c179e"
             ],
             [
              0.4444444444444444,
              "#bd3786"
             ],
             [
              0.5555555555555556,
              "#d8576b"
             ],
             [
              0.6666666666666666,
              "#ed7953"
             ],
             [
              0.7777777777777778,
              "#fb9f3a"
             ],
             [
              0.8888888888888888,
              "#fdca26"
             ],
             [
              1,
              "#f0f921"
             ]
            ],
            "type": "heatmap"
           }
          ],
          "heatmapgl": [
           {
            "colorbar": {
             "outlinewidth": 0,
             "ticks": ""
            },
            "colorscale": [
             [
              0,
              "#0d0887"
             ],
             [
              0.1111111111111111,
              "#46039f"
             ],
             [
              0.2222222222222222,
              "#7201a8"
             ],
             [
              0.3333333333333333,
              "#9c179e"
             ],
             [
              0.4444444444444444,
              "#bd3786"
             ],
             [
              0.5555555555555556,
              "#d8576b"
             ],
             [
              0.6666666666666666,
              "#ed7953"
             ],
             [
              0.7777777777777778,
              "#fb9f3a"
             ],
             [
              0.8888888888888888,
              "#fdca26"
             ],
             [
              1,
              "#f0f921"
             ]
            ],
            "type": "heatmapgl"
           }
          ],
          "histogram": [
           {
            "marker": {
             "colorbar": {
              "outlinewidth": 0,
              "ticks": ""
             }
            },
            "type": "histogram"
           }
          ],
          "histogram2d": [
           {
            "colorbar": {
             "outlinewidth": 0,
             "ticks": ""
            },
            "colorscale": [
             [
              0,
              "#0d0887"
             ],
             [
              0.1111111111111111,
              "#46039f"
             ],
             [
              0.2222222222222222,
              "#7201a8"
             ],
             [
              0.3333333333333333,
              "#9c179e"
             ],
             [
              0.4444444444444444,
              "#bd3786"
             ],
             [
              0.5555555555555556,
              "#d8576b"
             ],
             [
              0.6666666666666666,
              "#ed7953"
             ],
             [
              0.7777777777777778,
              "#fb9f3a"
             ],
             [
              0.8888888888888888,
              "#fdca26"
             ],
             [
              1,
              "#f0f921"
             ]
            ],
            "type": "histogram2d"
           }
          ],
          "histogram2dcontour": [
           {
            "colorbar": {
             "outlinewidth": 0,
             "ticks": ""
            },
            "colorscale": [
             [
              0,
              "#0d0887"
             ],
             [
              0.1111111111111111,
              "#46039f"
             ],
             [
              0.2222222222222222,
              "#7201a8"
             ],
             [
              0.3333333333333333,
              "#9c179e"
             ],
             [
              0.4444444444444444,
              "#bd3786"
             ],
             [
              0.5555555555555556,
              "#d8576b"
             ],
             [
              0.6666666666666666,
              "#ed7953"
             ],
             [
              0.7777777777777778,
              "#fb9f3a"
             ],
             [
              0.8888888888888888,
              "#fdca26"
             ],
             [
              1,
              "#f0f921"
             ]
            ],
            "type": "histogram2dcontour"
           }
          ],
          "mesh3d": [
           {
            "colorbar": {
             "outlinewidth": 0,
             "ticks": ""
            },
            "type": "mesh3d"
           }
          ],
          "parcoords": [
           {
            "line": {
             "colorbar": {
              "outlinewidth": 0,
              "ticks": ""
             }
            },
            "type": "parcoords"
           }
          ],
          "pie": [
           {
            "automargin": true,
            "type": "pie"
           }
          ],
          "scatter": [
           {
            "marker": {
             "colorbar": {
              "outlinewidth": 0,
              "ticks": ""
             }
            },
            "type": "scatter"
           }
          ],
          "scatter3d": [
           {
            "line": {
             "colorbar": {
              "outlinewidth": 0,
              "ticks": ""
             }
            },
            "marker": {
             "colorbar": {
              "outlinewidth": 0,
              "ticks": ""
             }
            },
            "type": "scatter3d"
           }
          ],
          "scattercarpet": [
           {
            "marker": {
             "colorbar": {
              "outlinewidth": 0,
              "ticks": ""
             }
            },
            "type": "scattercarpet"
           }
          ],
          "scattergeo": [
           {
            "marker": {
             "colorbar": {
              "outlinewidth": 0,
              "ticks": ""
             }
            },
            "type": "scattergeo"
           }
          ],
          "scattergl": [
           {
            "marker": {
             "colorbar": {
              "outlinewidth": 0,
              "ticks": ""
             }
            },
            "type": "scattergl"
           }
          ],
          "scattermapbox": [
           {
            "marker": {
             "colorbar": {
              "outlinewidth": 0,
              "ticks": ""
             }
            },
            "type": "scattermapbox"
           }
          ],
          "scatterpolar": [
           {
            "marker": {
             "colorbar": {
              "outlinewidth": 0,
              "ticks": ""
             }
            },
            "type": "scatterpolar"
           }
          ],
          "scatterpolargl": [
           {
            "marker": {
             "colorbar": {
              "outlinewidth": 0,
              "ticks": ""
             }
            },
            "type": "scatterpolargl"
           }
          ],
          "scatterternary": [
           {
            "marker": {
             "colorbar": {
              "outlinewidth": 0,
              "ticks": ""
             }
            },
            "type": "scatterternary"
           }
          ],
          "surface": [
           {
            "colorbar": {
             "outlinewidth": 0,
             "ticks": ""
            },
            "colorscale": [
             [
              0,
              "#0d0887"
             ],
             [
              0.1111111111111111,
              "#46039f"
             ],
             [
              0.2222222222222222,
              "#7201a8"
             ],
             [
              0.3333333333333333,
              "#9c179e"
             ],
             [
              0.4444444444444444,
              "#bd3786"
             ],
             [
              0.5555555555555556,
              "#d8576b"
             ],
             [
              0.6666666666666666,
              "#ed7953"
             ],
             [
              0.7777777777777778,
              "#fb9f3a"
             ],
             [
              0.8888888888888888,
              "#fdca26"
             ],
             [
              1,
              "#f0f921"
             ]
            ],
            "type": "surface"
           }
          ],
          "table": [
           {
            "cells": {
             "fill": {
              "color": "#EBF0F8"
             },
             "line": {
              "color": "white"
             }
            },
            "header": {
             "fill": {
              "color": "#C8D4E3"
             },
             "line": {
              "color": "white"
             }
            },
            "type": "table"
           }
          ]
         },
         "layout": {
          "annotationdefaults": {
           "arrowcolor": "#2a3f5f",
           "arrowhead": 0,
           "arrowwidth": 1
          },
          "autotypenumbers": "strict",
          "coloraxis": {
           "colorbar": {
            "outlinewidth": 0,
            "ticks": ""
           }
          },
          "colorscale": {
           "diverging": [
            [
             0,
             "#8e0152"
            ],
            [
             0.1,
             "#c51b7d"
            ],
            [
             0.2,
             "#de77ae"
            ],
            [
             0.3,
             "#f1b6da"
            ],
            [
             0.4,
             "#fde0ef"
            ],
            [
             0.5,
             "#f7f7f7"
            ],
            [
             0.6,
             "#e6f5d0"
            ],
            [
             0.7,
             "#b8e186"
            ],
            [
             0.8,
             "#7fbc41"
            ],
            [
             0.9,
             "#4d9221"
            ],
            [
             1,
             "#276419"
            ]
           ],
           "sequential": [
            [
             0,
             "#0d0887"
            ],
            [
             0.1111111111111111,
             "#46039f"
            ],
            [
             0.2222222222222222,
             "#7201a8"
            ],
            [
             0.3333333333333333,
             "#9c179e"
            ],
            [
             0.4444444444444444,
             "#bd3786"
            ],
            [
             0.5555555555555556,
             "#d8576b"
            ],
            [
             0.6666666666666666,
             "#ed7953"
            ],
            [
             0.7777777777777778,
             "#fb9f3a"
            ],
            [
             0.8888888888888888,
             "#fdca26"
            ],
            [
             1,
             "#f0f921"
            ]
           ],
           "sequentialminus": [
            [
             0,
             "#0d0887"
            ],
            [
             0.1111111111111111,
             "#46039f"
            ],
            [
             0.2222222222222222,
             "#7201a8"
            ],
            [
             0.3333333333333333,
             "#9c179e"
            ],
            [
             0.4444444444444444,
             "#bd3786"
            ],
            [
             0.5555555555555556,
             "#d8576b"
            ],
            [
             0.6666666666666666,
             "#ed7953"
            ],
            [
             0.7777777777777778,
             "#fb9f3a"
            ],
            [
             0.8888888888888888,
             "#fdca26"
            ],
            [
             1,
             "#f0f921"
            ]
           ]
          },
          "colorway": [
           "#636efa",
           "#EF553B",
           "#00cc96",
           "#ab63fa",
           "#FFA15A",
           "#19d3f3",
           "#FF6692",
           "#B6E880",
           "#FF97FF",
           "#FECB52"
          ],
          "font": {
           "color": "#2a3f5f"
          },
          "geo": {
           "bgcolor": "white",
           "lakecolor": "white",
           "landcolor": "#E5ECF6",
           "showlakes": true,
           "showland": true,
           "subunitcolor": "white"
          },
          "hoverlabel": {
           "align": "left"
          },
          "hovermode": "closest",
          "mapbox": {
           "style": "light"
          },
          "paper_bgcolor": "white",
          "plot_bgcolor": "#E5ECF6",
          "polar": {
           "angularaxis": {
            "gridcolor": "white",
            "linecolor": "white",
            "ticks": ""
           },
           "bgcolor": "#E5ECF6",
           "radialaxis": {
            "gridcolor": "white",
            "linecolor": "white",
            "ticks": ""
           }
          },
          "scene": {
           "xaxis": {
            "backgroundcolor": "#E5ECF6",
            "gridcolor": "white",
            "gridwidth": 2,
            "linecolor": "white",
            "showbackground": true,
            "ticks": "",
            "zerolinecolor": "white"
           },
           "yaxis": {
            "backgroundcolor": "#E5ECF6",
            "gridcolor": "white",
            "gridwidth": 2,
            "linecolor": "white",
            "showbackground": true,
            "ticks": "",
            "zerolinecolor": "white"
           },
           "zaxis": {
            "backgroundcolor": "#E5ECF6",
            "gridcolor": "white",
            "gridwidth": 2,
            "linecolor": "white",
            "showbackground": true,
            "ticks": "",
            "zerolinecolor": "white"
           }
          },
          "shapedefaults": {
           "line": {
            "color": "#2a3f5f"
           }
          },
          "ternary": {
           "aaxis": {
            "gridcolor": "white",
            "linecolor": "white",
            "ticks": ""
           },
           "baxis": {
            "gridcolor": "white",
            "linecolor": "white",
            "ticks": ""
           },
           "bgcolor": "#E5ECF6",
           "caxis": {
            "gridcolor": "white",
            "linecolor": "white",
            "ticks": ""
           }
          },
          "title": {
           "x": 0.05
          },
          "xaxis": {
           "automargin": true,
           "gridcolor": "white",
           "linecolor": "white",
           "ticks": "",
           "title": {
            "standoff": 15
           },
           "zerolinecolor": "white",
           "zerolinewidth": 2
          },
          "yaxis": {
           "automargin": true,
           "gridcolor": "white",
           "linecolor": "white",
           "ticks": "",
           "title": {
            "standoff": 15
           },
           "zerolinecolor": "white",
           "zerolinewidth": 2
          }
         }
        },
        "title": {
         "text": "Grouping Results"
        },
        "width": 800,
        "xaxis": {
         "anchor": "y",
         "domain": [
          0,
          1
         ],
         "title": {
          "text": "model"
         }
        },
        "yaxis": {
         "anchor": "x",
         "domain": [
          0,
          1
         ],
         "title": {
          "text": "Mean Absolute Percentage Error"
         }
        }
       }
      }
     },
     "metadata": {},
     "output_type": "display_data"
    }
   ],
   "source": [
    "fig = px.box(df, x=\"model\", y=\"mape\", color=\"group\")\n",
    "fig.update_traces(quartilemethod=\"exclusive\") # or \"inclusive\", or \"linear\" by default\n",
    "title_text = 'Grouping Results'\n",
    "fig.update_traces(\n",
    "    mode='lines+markers',\n",
    "    opacity=0.8, \n",
    "    selector=dict(type='scatter'),\n",
    "    ) \n",
    "fig.update_yaxes(title_text='Mean Absolute Percentage Error')\n",
    "fig.update_layout(\n",
    "    height=500, width=800,\n",
    "    title_text=title_text,\n",
    "    paper_bgcolor='rgb(243, 243, 243)',\n",
    "    plot_bgcolor='rgb(243, 243, 243)',\n",
    "    )\n",
    "fig.show()\n",
    "\n",
    "#fig.write_image(file=\"results/f8/plots/\"+title_text+\".png\")"
   ]
  },
  {
   "cell_type": "code",
   "execution_count": 7,
   "metadata": {},
   "outputs": [
    {
     "data": {
      "text/plain": [
       "model    group      \n",
       "ARIMA    base           0.377895\n",
       "         cluster        0.353553\n",
       "         province       0.358724\n",
       "         store_level    0.360336\n",
       "PROPHET  base           0.338375\n",
       "         cluster        0.328105\n",
       "         province       0.341961\n",
       "         store_level    0.325638\n",
       "RF       base           0.104414\n",
       "         cluster        0.173243\n",
       "         province       0.159770\n",
       "         store_level    0.150118\n",
       "XGB      base           0.243296\n",
       "         cluster        0.264368\n",
       "         province       0.252724\n",
       "         store_level    0.251579\n",
       "Name: mape, dtype: float64"
      ]
     },
     "execution_count": 7,
     "metadata": {},
     "output_type": "execute_result"
    }
   ],
   "source": [
    "df.groupby(['model','group'])['mape'].mean()"
   ]
  },
  {
   "cell_type": "code",
   "execution_count": 8,
   "metadata": {},
   "outputs": [],
   "source": [
    "\n",
    "SNAIVE = []\n",
    "for i in [7,14,21,28]:\n",
    "    p = \"results/f8/SNAIVE_result_\" + str(i) + \".pkl\"\n",
    "    SNAIVE.append(pd.read_pickle(p).set_index(\"store\"))\n",
    "SNAIVE = pd.concat(SNAIVE, axis=1, keys=['7','14','21','28'])\n",
    "\n",
    "ARIMA = []\n",
    "for i in [7,14,21,28]:\n",
    "    p = \"results/f8/ARIMA_result_\" + str(i) + \".pkl\"\n",
    "    ARIMA.append(pd.read_pickle(p).set_index(\"store\"))\n",
    "ARIMA = pd.concat(ARIMA, axis=1, keys=['7','14','21','28'])\n",
    "\n",
    "PROPHET = []\n",
    "for i in [7,14,21,28]:\n",
    "    p = \"results/f8/PROPHET_result_\" + str(i) + \".pkl\"\n",
    "    PROPHET.append(pd.read_pickle(p).set_index(\"store\"))\n",
    "PROPHET = pd.concat(PROPHET, axis=1, keys=['7','14','21','28'])\n",
    "\n",
    "RF = []\n",
    "for i in [7,14,21,28]:\n",
    "    p = \"results/f8/RF_result_\" + str(i) + \".pkl\"\n",
    "    RF.append(pd.read_pickle(p).set_index(\"store\"))\n",
    "RF = pd.concat(RF, axis=1, keys=['7','14','21','28'])\n",
    "\n",
    "XGB = []\n",
    "for i in [7,14,21,28]:\n",
    "    p = \"results/f8/XGB_result_\" + str(i) + \".pkl\"\n",
    "    XGB.append(pd.read_pickle(p).set_index(\"store\"))\n",
    "XGB = pd.concat(XGB, axis=1, keys=['7','14','21','28'])\n"
   ]
  },
  {
   "cell_type": "code",
   "execution_count": 23,
   "metadata": {},
   "outputs": [],
   "source": [
    "scores = pd.DataFrame(columns=['model','rmse','mae','mape'])\n",
    "for model,name in zip([SNAIVE, ARIMA, PROPHET, RF, XGB],['SNAIVE', 'ARIMA', 'PROPHET', 'RF', 'XGB']):\n",
    "    for i in [7,14,21,28]:\n",
    "        scores= pd.concat([\n",
    "            scores,\n",
    "            pd.DataFrame(\n",
    "                {'model':name,\n",
    "                'rmse':model[str(i)].mean()['rmse_'+str(name)],\n",
    "                'mae':model[str(i)].mean()['mae_'+str(name)],\n",
    "                'mape':model[str(i)].mean()['mape_'+str(name)]\n",
    "                },index=[i])])"
   ]
  },
  {
   "cell_type": "code",
   "execution_count": 25,
   "metadata": {},
   "outputs": [
    {
     "data": {
      "text/html": [
       "<div>\n",
       "<style scoped>\n",
       "    .dataframe tbody tr th:only-of-type {\n",
       "        vertical-align: middle;\n",
       "    }\n",
       "\n",
       "    .dataframe tbody tr th {\n",
       "        vertical-align: top;\n",
       "    }\n",
       "\n",
       "    .dataframe thead th {\n",
       "        text-align: right;\n",
       "    }\n",
       "</style>\n",
       "<table border=\"1\" class=\"dataframe\">\n",
       "  <thead>\n",
       "    <tr style=\"text-align: right;\">\n",
       "      <th></th>\n",
       "      <th>model</th>\n",
       "      <th>rmse</th>\n",
       "      <th>mae</th>\n",
       "      <th>mape</th>\n",
       "    </tr>\n",
       "  </thead>\n",
       "  <tbody>\n",
       "    <tr>\n",
       "      <th>7</th>\n",
       "      <td>SNAIVE</td>\n",
       "      <td>11.243112</td>\n",
       "      <td>8.907645</td>\n",
       "      <td>0.418559</td>\n",
       "    </tr>\n",
       "    <tr>\n",
       "      <th>14</th>\n",
       "      <td>SNAIVE</td>\n",
       "      <td>10.204243</td>\n",
       "      <td>7.875046</td>\n",
       "      <td>0.41377</td>\n",
       "    </tr>\n",
       "    <tr>\n",
       "      <th>21</th>\n",
       "      <td>SNAIVE</td>\n",
       "      <td>12.528967</td>\n",
       "      <td>9.523651</td>\n",
       "      <td>0.463493</td>\n",
       "    </tr>\n",
       "    <tr>\n",
       "      <th>28</th>\n",
       "      <td>SNAIVE</td>\n",
       "      <td>11.432289</td>\n",
       "      <td>8.404243</td>\n",
       "      <td>0.455599</td>\n",
       "    </tr>\n",
       "    <tr>\n",
       "      <th>7</th>\n",
       "      <td>ARIMA</td>\n",
       "      <td>9.321796</td>\n",
       "      <td>7.471224</td>\n",
       "      <td>0.377895</td>\n",
       "    </tr>\n",
       "    <tr>\n",
       "      <th>14</th>\n",
       "      <td>ARIMA</td>\n",
       "      <td>9.331454</td>\n",
       "      <td>7.297184</td>\n",
       "      <td>0.415862</td>\n",
       "    </tr>\n",
       "    <tr>\n",
       "      <th>21</th>\n",
       "      <td>ARIMA</td>\n",
       "      <td>12.4365</td>\n",
       "      <td>9.586493</td>\n",
       "      <td>0.493171</td>\n",
       "    </tr>\n",
       "    <tr>\n",
       "      <th>28</th>\n",
       "      <td>ARIMA</td>\n",
       "      <td>11.067072</td>\n",
       "      <td>8.253395</td>\n",
       "      <td>0.478355</td>\n",
       "    </tr>\n",
       "    <tr>\n",
       "      <th>7</th>\n",
       "      <td>PROPHET</td>\n",
       "      <td>8.870763</td>\n",
       "      <td>7.010829</td>\n",
       "      <td>0.338375</td>\n",
       "    </tr>\n",
       "    <tr>\n",
       "      <th>14</th>\n",
       "      <td>PROPHET</td>\n",
       "      <td>8.707921</td>\n",
       "      <td>6.64152</td>\n",
       "      <td>0.367395</td>\n",
       "    </tr>\n",
       "    <tr>\n",
       "      <th>21</th>\n",
       "      <td>PROPHET</td>\n",
       "      <td>11.378329</td>\n",
       "      <td>8.825789</td>\n",
       "      <td>0.445428</td>\n",
       "    </tr>\n",
       "    <tr>\n",
       "      <th>28</th>\n",
       "      <td>PROPHET</td>\n",
       "      <td>10.422829</td>\n",
       "      <td>7.992237</td>\n",
       "      <td>0.45898</td>\n",
       "    </tr>\n",
       "    <tr>\n",
       "      <th>7</th>\n",
       "      <td>RF</td>\n",
       "      <td>4.500388</td>\n",
       "      <td>3.64152</td>\n",
       "      <td>0.208651</td>\n",
       "    </tr>\n",
       "    <tr>\n",
       "      <th>14</th>\n",
       "      <td>RF</td>\n",
       "      <td>4.546987</td>\n",
       "      <td>3.541566</td>\n",
       "      <td>0.223099</td>\n",
       "    </tr>\n",
       "    <tr>\n",
       "      <th>21</th>\n",
       "      <td>RF</td>\n",
       "      <td>5.650868</td>\n",
       "      <td>4.152941</td>\n",
       "      <td>0.240809</td>\n",
       "    </tr>\n",
       "    <tr>\n",
       "      <th>28</th>\n",
       "      <td>RF</td>\n",
       "      <td>5.320875</td>\n",
       "      <td>3.829664</td>\n",
       "      <td>0.251355</td>\n",
       "    </tr>\n",
       "    <tr>\n",
       "      <th>7</th>\n",
       "      <td>XGB</td>\n",
       "      <td>5.38423</td>\n",
       "      <td>4.360776</td>\n",
       "      <td>0.243296</td>\n",
       "    </tr>\n",
       "    <tr>\n",
       "      <th>14</th>\n",
       "      <td>XGB</td>\n",
       "      <td>4.673059</td>\n",
       "      <td>3.648007</td>\n",
       "      <td>0.237901</td>\n",
       "    </tr>\n",
       "    <tr>\n",
       "      <th>21</th>\n",
       "      <td>XGB</td>\n",
       "      <td>5.745803</td>\n",
       "      <td>4.228276</td>\n",
       "      <td>0.253138</td>\n",
       "    </tr>\n",
       "    <tr>\n",
       "      <th>28</th>\n",
       "      <td>XGB</td>\n",
       "      <td>7.125072</td>\n",
       "      <td>5.168803</td>\n",
       "      <td>0.307612</td>\n",
       "    </tr>\n",
       "  </tbody>\n",
       "</table>\n",
       "</div>"
      ],
      "text/plain": [
       "      model       rmse       mae      mape\n",
       "7    SNAIVE  11.243112  8.907645  0.418559\n",
       "14   SNAIVE  10.204243  7.875046   0.41377\n",
       "21   SNAIVE  12.528967  9.523651  0.463493\n",
       "28   SNAIVE  11.432289  8.404243  0.455599\n",
       "7     ARIMA   9.321796  7.471224  0.377895\n",
       "14    ARIMA   9.331454  7.297184  0.415862\n",
       "21    ARIMA    12.4365  9.586493  0.493171\n",
       "28    ARIMA  11.067072  8.253395  0.478355\n",
       "7   PROPHET   8.870763  7.010829  0.338375\n",
       "14  PROPHET   8.707921   6.64152  0.367395\n",
       "21  PROPHET  11.378329  8.825789  0.445428\n",
       "28  PROPHET  10.422829  7.992237   0.45898\n",
       "7        RF   4.500388   3.64152  0.208651\n",
       "14       RF   4.546987  3.541566  0.223099\n",
       "21       RF   5.650868  4.152941  0.240809\n",
       "28       RF   5.320875  3.829664  0.251355\n",
       "7       XGB    5.38423  4.360776  0.243296\n",
       "14      XGB   4.673059  3.648007  0.237901\n",
       "21      XGB   5.745803  4.228276  0.253138\n",
       "28      XGB   7.125072  5.168803  0.307612"
      ]
     },
     "execution_count": 25,
     "metadata": {},
     "output_type": "execute_result"
    }
   ],
   "source": [
    "scores"
   ]
  }
 ],
 "metadata": {
  "interpreter": {
   "hash": "dc1c8500d1c7d68ad4fe3470dd61d80ea8045d933e624a9aa39b7580cf077167"
  },
  "kernelspec": {
   "display_name": "Python 3.8.5 ('DataMining_Lab')",
   "language": "python",
   "name": "python3"
  },
  "language_info": {
   "codemirror_mode": {
    "name": "ipython",
    "version": 3
   },
   "file_extension": ".py",
   "mimetype": "text/x-python",
   "name": "python",
   "nbconvert_exporter": "python",
   "pygments_lexer": "ipython3",
   "version": "3.8.5"
  },
  "orig_nbformat": 4
 },
 "nbformat": 4,
 "nbformat_minor": 2
}
