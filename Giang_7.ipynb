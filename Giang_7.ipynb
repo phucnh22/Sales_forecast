{
 "cells": [
  {
   "cell_type": "markdown",
   "metadata": {},
   "source": [
    "# imports"
   ]
  },
  {
   "cell_type": "code",
   "execution_count": 12,
   "metadata": {},
   "outputs": [],
   "source": [
    "# imports\n",
    "from prophet.diagnostics import cross_validation\n",
    "from prophet.diagnostics import performance_metrics\n",
    "import itertools\n",
    "from prophet import Prophet\n",
    "from sktime.performance_metrics.forecasting import mean_absolute_scaled_error, mean_absolute_error, mean_absolute_percentage_error\n",
    "import pandas as pd\n",
    "import numpy as np\n",
    "import plotly.express as px\n",
    "from pmdarima.preprocessing import FourierFeaturizer\n",
    "from pmdarima import auto_arima, ARIMA\n",
    "import matplotlib.pyplot as plt\n",
    "import holidays\n",
    "pd.options.plotting.backend = 'plotly'\n"
   ]
  },
  {
   "cell_type": "markdown",
   "metadata": {},
   "source": [
    "# data"
   ]
  },
  {
   "cell_type": "code",
   "execution_count": 14,
   "metadata": {},
   "outputs": [],
   "source": [
    "# data\n",
    "df_store = pd.read_pickle('data/df_daily.pkl')\n",
    "df_company = df_store.groupby('date').sum()\n",
    "train_data = df_company['sales']/1e6\n",
    "train_data.index.freq = 'D'\n",
    "\n",
    "# yearly seasonality\n",
    "fouri_terms = FourierFeaturizer(365.25, 2)\n",
    "y_prime, df_fouri = fouri_terms.fit_transform(train_data)\n",
    "df_fouri.index = y_prime.index\n",
    "\n",
    "# holiday\n",
    "ts_holiday = pd.read_pickle('data/holiday.pkl')\n",
    "\n",
    "# combine exog. variables\n",
    "df_exog = pd.concat([df_fouri, ts_holiday], axis=1)\n",
    "df_exog['holiday'] = df_exog['holiday'].fillna(False).astype('int')\n",
    "\n",
    "# Split the time series as well as exogenous features data into train and test splits\n",
    "steps_ahead = 92\n",
    "y_to_train = y_prime.iloc[:-steps_ahead]\n",
    "y_to_test = y_prime.iloc[-steps_ahead:]\n",
    "\n",
    "exog_to_train = df_exog.iloc[:-steps_ahead]\n",
    "exog_to_test = df_exog.iloc[-steps_ahead:]\n"
   ]
  },
  {
   "cell_type": "markdown",
   "metadata": {},
   "source": [
    "# model"
   ]
  },
  {
   "cell_type": "code",
   "execution_count": null,
   "metadata": {},
   "outputs": [],
   "source": [
    "# model\n",
    "arima_model = auto_arima(\n",
    "    y=y_to_train,\n",
    "    exogenous=exog_to_train,\n",
    "    D=1, \n",
    "    seasonal=True, m=7 # Weekly seasonality\n",
    "    )\n",
    "print(arima_model)"
   ]
  },
  {
   "cell_type": "markdown",
   "metadata": {},
   "source": [
    "# forecast"
   ]
  },
  {
   "cell_type": "code",
   "execution_count": null,
   "metadata": {},
   "outputs": [],
   "source": [
    "# forecast\n",
    "arima_y_fitted = arima_model.predict_in_sample(\n",
    "    X=exog_to_train)\n",
    "arima_y_forecast = arima_model.predict(\n",
    "    n_periods=len(y_to_test), exogenous=exog_to_test)\n",
    "arima_y_forecast = pd.Series(arima_y_forecast,\n",
    "                             name='forecast',\n",
    "                             index=y_to_test.index)\n",
    "\n",
    "\n",
    "res_raw = pd.DataFrame(arima_y_forecast)\n",
    "res_raw['test'] = y_to_test"
   ]
  },
  {
   "cell_type": "markdown",
   "metadata": {},
   "source": [
    "# metrics"
   ]
  },
  {
   "cell_type": "code",
   "execution_count": 16,
   "metadata": {},
   "outputs": [],
   "source": [
    "# metrics\n",
    "mape_OOS_raw = round(mean_absolute_percentage_error(res_raw['test'], res_raw['forecast']), 3)"
   ]
  },
  {
   "cell_type": "markdown",
   "metadata": {},
   "source": [
    "# plot"
   ]
  },
  {
   "cell_type": "code",
   "execution_count": null,
   "metadata": {},
   "outputs": [],
   "source": [
    "# plot"
   ]
  }
 ],
 "metadata": {
  "interpreter": {
   "hash": "b5e90b332c657a41009c4f428ab09c5c479fe03cf15b8231869f2b402a34cddf"
  },
  "kernelspec": {
   "display_name": "Python 3.8.5 64-bit ('ap8venv': venv)",
   "language": "python",
   "name": "python3"
  },
  "language_info": {
   "codemirror_mode": {
    "name": "ipython",
    "version": 3
   },
   "file_extension": ".py",
   "mimetype": "text/x-python",
   "name": "python",
   "nbconvert_exporter": "python",
   "pygments_lexer": "ipython3",
   "version": "3.8.5"
  },
  "orig_nbformat": 4
 },
 "nbformat": 4,
 "nbformat_minor": 2
}
